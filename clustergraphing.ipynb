{
 "cells": [
  {
   "cell_type": "code",
   "execution_count": null,
   "metadata": {},
   "outputs": [],
   "source": [
    "import yfinance as yf\n",
    "import pandas as pd\n",
    "import concurrent.futures\n",
    "import networkx as nx\n",
    "import plotly.graph_objs as go\n",
    "from sklearn.cluster import SpectralClustering\n",
    "from time import sleep\n",
    "from random import randint\n",
    "\n",
    "# Download the list of S&P 500 companies from Wikipedia\n",
    "url = 'https://en.wikipedia.org/wiki/List_of_S%26P_500_companies'\n",
    "tables = pd.read_html(url)\n",
    "sp500_table = tables[0]\n",
    "sp500_symbols = sp500_table['Symbol'].tolist()\n",
    "selected_symbols = sp500_symbols\n",
    "\n",
    "# Download Historical Data\n",
    "def fetch_data(symbol, retries=5):\n",
    "    for attempt in range(retries):\n",
    "        try:\n",
    "            data = yf.download(symbol, start='2020-01-01', end='2024-07-31')['Adj Close']\n",
    "            if data.empty:\n",
    "                raise ValueError(f\"No data found for {symbol}\")\n",
    "            return symbol, data\n",
    "        except Exception as e:\n",
    "            print(f\"Attempt {attempt+1} failed for {symbol}: {e}\")\n",
    "            sleep(randint(1, 3))\n",
    "    return symbol, None\n",
    "\n",
    "# Use threading to download data for each stock\n",
    "data_frames = {}\n",
    "with concurrent.futures.ThreadPoolExecutor(max_workers=5) as executor:\n",
    "    futures = {executor.submit(fetch_data, symbol): symbol for symbol in selected_symbols}\n",
    "    for future in concurrent.futures.as_completed(futures):\n",
    "        result = future.result()\n",
    "        if result is not None:\n",
    "            symbol, data = result\n",
    "            if data is not None:\n",
    "                data_frames[symbol] = data\n",
    "\n",
    "# Combine all data into a single DataFrame\n",
    "valid_data = {symbol: data for symbol, data in data_frames.items() if data is not None}\n",
    "data = pd.DataFrame(valid_data)\n",
    "\n",
    "data = data.dropna(axis=1, how='all')\n",
    "\n",
    "returns = data.pct_change().dropna()\n",
    "\n",
    "avg_corr = returns.corr()"
   ]
  },
  {
   "cell_type": "code",
   "execution_count": 20,
   "metadata": {},
   "outputs": [
    {
     "name": "stderr",
     "output_type": "stream",
     "text": [
      "C:\\Users\\zambi\\AppData\\Local\\Temp\\ipykernel_70520\\3514926471.py:7: FutureWarning:\n",
      "\n",
      "DataFrame.applymap has been deprecated. Use DataFrame.map instead.\n",
      "\n"
     ]
    },
    {
     "data": {
      "application/vnd.plotly.v1+json": {
       "config": {
        "plotlyServerURL": "https://plot.ly"
       },
       "data": [
        {
         "hoverinfo": "none",
         "line": {
          "color": "#888",
          "width": 7.015267941925344
         },
         "mode": "lines",
         "type": "scatter",
         "x": [
          -0.009689506233767143,
          0.017328021689655585,
          null
         ],
         "y": [
          0.06319247901098156,
          0.06523585477015666,
          null
         ]
        },
        {
         "hoverinfo": "none",
         "line": {
          "color": "#888",
          "width": 7.917431757301918
         },
         "mode": "lines",
         "type": "scatter",
         "x": [
          -0.009689506233767143,
          -0.012224861873241396,
          null
         ],
         "y": [
          0.06319247901098156,
          0.059411937578931026,
          null
         ]
        },
        {
         "hoverinfo": "none",
         "line": {
          "color": "#888",
          "width": 7.130979366231007
         },
         "mode": "lines",
         "type": "scatter",
         "x": [
          -0.009689506233767143,
          -0.0064009725527065285,
          null
         ],
         "y": [
          0.06319247901098156,
          0.08280339275165688,
          null
         ]
        },
        {
         "hoverinfo": "none",
         "line": {
          "color": "#888",
          "width": 7.673625003940082
         },
         "mode": "lines",
         "type": "scatter",
         "x": [
          -0.009689506233767143,
          0.04033819720788994,
          null
         ],
         "y": [
          0.06319247901098156,
          0.015239463395919447,
          null
         ]
        },
        {
         "hoverinfo": "none",
         "line": {
          "color": "#888",
          "width": 7.469651131957367
         },
         "mode": "lines",
         "type": "scatter",
         "x": [
          -0.009689506233767143,
          0.0789252522089133,
          null
         ],
         "y": [
          0.06319247901098156,
          0.020707607128098302,
          null
         ]
        },
        {
         "hoverinfo": "none",
         "line": {
          "color": "#888",
          "width": 7.119981958455464
         },
         "mode": "lines",
         "type": "scatter",
         "x": [
          -0.009689506233767143,
          -0.10365366952237418,
          null
         ],
         "y": [
          0.06319247901098156,
          0.11534553755356051,
          null
         ]
        },
        {
         "hoverinfo": "none",
         "line": {
          "color": "#888",
          "width": 7.176158150910405
         },
         "mode": "lines",
         "type": "scatter",
         "x": [
          -0.009689506233767143,
          0.028306223786916922,
          null
         ],
         "y": [
          0.06319247901098156,
          0.0018143033370756332,
          null
         ]
        },
        {
         "hoverinfo": "none",
         "line": {
          "color": "#888",
          "width": 7.342923990197718
         },
         "mode": "lines",
         "type": "scatter",
         "x": [
          0.017328021689655585,
          -0.012224861873241396,
          null
         ],
         "y": [
          0.06523585477015666,
          0.059411937578931026,
          null
         ]
        },
        {
         "hoverinfo": "none",
         "line": {
          "color": "#888",
          "width": 7.695959700441726
         },
         "mode": "lines",
         "type": "scatter",
         "x": [
          0.017328021689655585,
          -0.0064009725527065285,
          null
         ],
         "y": [
          0.06523585477015666,
          0.08280339275165688,
          null
         ]
        },
        {
         "hoverinfo": "none",
         "line": {
          "color": "#888",
          "width": 7.414232895350951
         },
         "mode": "lines",
         "type": "scatter",
         "x": [
          0.017328021689655585,
          0.056936006808823186,
          null
         ],
         "y": [
          0.06523585477015666,
          0.016111406497531542,
          null
         ]
        },
        {
         "hoverinfo": "none",
         "line": {
          "color": "#888",
          "width": 7.021881373184378
         },
         "mode": "lines",
         "type": "scatter",
         "x": [
          0.017328021689655585,
          0.0789252522089133,
          null
         ],
         "y": [
          0.06523585477015666,
          0.020707607128098302,
          null
         ]
        },
        {
         "hoverinfo": "none",
         "line": {
          "color": "#888",
          "width": 7.07881946168172
         },
         "mode": "lines",
         "type": "scatter",
         "x": [
          0.017328021689655585,
          0.047788858802087525,
          null
         ],
         "y": [
          0.06523585477015666,
          0.01943922284043798,
          null
         ]
        },
        {
         "hoverinfo": "none",
         "line": {
          "color": "#888",
          "width": 7.410430552707076
         },
         "mode": "lines",
         "type": "scatter",
         "x": [
          -0.012224861873241396,
          -0.12952753724586755,
          null
         ],
         "y": [
          0.059411937578931026,
          0.12968811222586454,
          null
         ]
        },
        {
         "hoverinfo": "none",
         "line": {
          "color": "#888",
          "width": 7.176057702997917
         },
         "mode": "lines",
         "type": "scatter",
         "x": [
          -0.012224861873241396,
          -0.11728740254548076,
          null
         ],
         "y": [
          0.059411937578931026,
          0.12871455085397457,
          null
         ]
        },
        {
         "hoverinfo": "none",
         "line": {
          "color": "#888",
          "width": 7.222537057562162
         },
         "mode": "lines",
         "type": "scatter",
         "x": [
          -0.012224861873241396,
          -0.0064009725527065285,
          null
         ],
         "y": [
          0.059411937578931026,
          0.08280339275165688,
          null
         ]
        },
        {
         "hoverinfo": "none",
         "line": {
          "color": "#888",
          "width": 7.530911584145722
         },
         "mode": "lines",
         "type": "scatter",
         "x": [
          -0.012224861873241396,
          0.056936006808823186,
          null
         ],
         "y": [
          0.059411937578931026,
          0.016111406497531542,
          null
         ]
        },
        {
         "hoverinfo": "none",
         "line": {
          "color": "#888",
          "width": 7.027536026381931
         },
         "mode": "lines",
         "type": "scatter",
         "x": [
          -0.012224861873241396,
          0.04033819720788994,
          null
         ],
         "y": [
          0.059411937578931026,
          0.015239463395919447,
          null
         ]
        },
        {
         "hoverinfo": "none",
         "line": {
          "color": "#888",
          "width": 7.1759180025430975
         },
         "mode": "lines",
         "type": "scatter",
         "x": [
          -0.012224861873241396,
          0.0789252522089133,
          null
         ],
         "y": [
          0.059411937578931026,
          0.020707607128098302,
          null
         ]
        },
        {
         "hoverinfo": "none",
         "line": {
          "color": "#888",
          "width": 7.3353251790511
         },
         "mode": "lines",
         "type": "scatter",
         "x": [
          -0.012224861873241396,
          0.047788858802087525,
          null
         ],
         "y": [
          0.059411937578931026,
          0.01943922284043798,
          null
         ]
        },
        {
         "hoverinfo": "none",
         "line": {
          "color": "#888",
          "width": 7.243164130178031
         },
         "mode": "lines",
         "type": "scatter",
         "x": [
          -0.012224861873241396,
          0.029012665400372162,
          null
         ],
         "y": [
          0.059411937578931026,
          0.04189826824538741,
          null
         ]
        },
        {
         "hoverinfo": "none",
         "line": {
          "color": "#888",
          "width": 7.109773689510015
         },
         "mode": "lines",
         "type": "scatter",
         "x": [
          -0.012224861873241396,
          0.04970440637929779,
          null
         ],
         "y": [
          0.059411937578931026,
          0.025486103291545235,
          null
         ]
        },
        {
         "hoverinfo": "none",
         "line": {
          "color": "#888",
          "width": 7.389124361912579
         },
         "mode": "lines",
         "type": "scatter",
         "x": [
          -0.012224861873241396,
          -0.10365366952237418,
          null
         ],
         "y": [
          0.059411937578931026,
          0.11534553755356051,
          null
         ]
        },
        {
         "hoverinfo": "none",
         "line": {
          "color": "#888",
          "width": 7.345070098449668
         },
         "mode": "lines",
         "type": "scatter",
         "x": [
          -0.012224861873241396,
          -0.0991643175331902,
          null
         ],
         "y": [
          0.059411937578931026,
          0.13843322154091828,
          null
         ]
        },
        {
         "hoverinfo": "none",
         "line": {
          "color": "#888",
          "width": 7.05641512634209
         },
         "mode": "lines",
         "type": "scatter",
         "x": [
          -0.012224861873241396,
          0.031118990225050696,
          null
         ],
         "y": [
          0.059411937578931026,
          0.016878798504403318,
          null
         ]
        },
        {
         "hoverinfo": "none",
         "line": {
          "color": "#888",
          "width": 7.518373949490263
         },
         "mode": "lines",
         "type": "scatter",
         "x": [
          -0.012224861873241396,
          -0.13198502317037067,
          null
         ],
         "y": [
          0.059411937578931026,
          0.12556233539898562,
          null
         ]
        },
        {
         "hoverinfo": "none",
         "line": {
          "color": "#888",
          "width": 7.386485425058327
         },
         "mode": "lines",
         "type": "scatter",
         "x": [
          -0.012224861873241396,
          0.028306223786916922,
          null
         ],
         "y": [
          0.059411937578931026,
          0.0018143033370756332,
          null
         ]
        },
        {
         "hoverinfo": "none",
         "line": {
          "color": "#888",
          "width": 7.554991517716894
         },
         "mode": "lines",
         "type": "scatter",
         "x": [
          -0.012224861873241396,
          0.0147182191032134,
          null
         ],
         "y": [
          0.059411937578931026,
          -0.012808506474670344,
          null
         ]
        },
        {
         "hoverinfo": "none",
         "line": {
          "color": "#888",
          "width": 7.381230603186354
         },
         "mode": "lines",
         "type": "scatter",
         "x": [
          -0.012224861873241396,
          0.039847573723061344,
          null
         ],
         "y": [
          0.059411937578931026,
          0.022597028620224235,
          null
         ]
        },
        {
         "hoverinfo": "none",
         "line": {
          "color": "#888",
          "width": 7.0289973023602865
         },
         "mode": "lines",
         "type": "scatter",
         "x": [
          -0.012224861873241396,
          0.04800116693795323,
          null
         ],
         "y": [
          0.059411937578931026,
          0.034310508589731406,
          null
         ]
        },
        {
         "hoverinfo": "none",
         "line": {
          "color": "#888",
          "width": 7.49148024234866
         },
         "mode": "lines",
         "type": "scatter",
         "x": [
          -0.012224861873241396,
          0.05178108448531763,
          null
         ],
         "y": [
          0.059411937578931026,
          0.016646922726216835,
          null
         ]
        },
        {
         "hoverinfo": "none",
         "line": {
          "color": "#888",
          "width": 7.307578833369435
         },
         "mode": "lines",
         "type": "scatter",
         "x": [
          -0.012224861873241396,
          0.04105751892921649,
          null
         ],
         "y": [
          0.059411937578931026,
          0.044797353804043524,
          null
         ]
        },
        {
         "hoverinfo": "none",
         "line": {
          "color": "#888",
          "width": 7.078515180816487
         },
         "mode": "lines",
         "type": "scatter",
         "x": [
          -0.012224861873241396,
          0.00287363361652794,
          null
         ],
         "y": [
          0.059411937578931026,
          0.019637745264321386,
          null
         ]
        },
        {
         "hoverinfo": "none",
         "line": {
          "color": "#888",
          "width": 7.24319228378025
         },
         "mode": "lines",
         "type": "scatter",
         "x": [
          -0.012224861873241396,
          0.04467832748370658,
          null
         ],
         "y": [
          0.059411937578931026,
          -0.003629286852666818,
          null
         ]
        },
        {
         "hoverinfo": "none",
         "line": {
          "color": "#888",
          "width": 7.706244741250464
         },
         "mode": "lines",
         "type": "scatter",
         "x": [
          -0.012224861873241396,
          0.12988163645410297,
          null
         ],
         "y": [
          0.059411937578931026,
          0.03675293578193367,
          null
         ]
        },
        {
         "hoverinfo": "none",
         "line": {
          "color": "#888",
          "width": 7.119781560718438
         },
         "mode": "lines",
         "type": "scatter",
         "x": [
          -0.012224861873241396,
          -0.12360927558737468,
          null
         ],
         "y": [
          0.059411937578931026,
          0.12285263473744726,
          null
         ]
        },
        {
         "hoverinfo": "none",
         "line": {
          "color": "#888",
          "width": 7.039019689685687
         },
         "mode": "lines",
         "type": "scatter",
         "x": [
          -0.012224861873241396,
          0.038942507500276856,
          null
         ],
         "y": [
          0.059411937578931026,
          0.03078782212668624,
          null
         ]
        },
        {
         "hoverinfo": "none",
         "line": {
          "color": "#888",
          "width": 7.460689708082912
         },
         "mode": "lines",
         "type": "scatter",
         "x": [
          -0.012224861873241396,
          0.035170945634905026,
          null
         ],
         "y": [
          0.059411937578931026,
          -0.01053013399832651,
          null
         ]
        },
        {
         "hoverinfo": "none",
         "line": {
          "color": "#888",
          "width": 7.312718511652045
         },
         "mode": "lines",
         "type": "scatter",
         "x": [
          -0.012224861873241396,
          0.03513349996217932,
          null
         ],
         "y": [
          0.059411937578931026,
          0.013867105482447939,
          null
         ]
        },
        {
         "hoverinfo": "none",
         "line": {
          "color": "#888",
          "width": 7.311078599827115
         },
         "mode": "lines",
         "type": "scatter",
         "x": [
          -0.0064009725527065285,
          0.047788858802087525,
          null
         ],
         "y": [
          0.08280339275165688,
          0.01943922284043798,
          null
         ]
        },
        {
         "hoverinfo": "none",
         "line": {
          "color": "#888",
          "width": 7.478820262444126
         },
         "mode": "lines",
         "type": "scatter",
         "x": [
          0.04033819720788994,
          0.057379303598770866,
          null
         ],
         "y": [
          0.015239463395919447,
          0.019579423949201365,
          null
         ]
        },
        {
         "hoverinfo": "none",
         "line": {
          "color": "#888",
          "width": 7.910006413067472
         },
         "mode": "lines",
         "type": "scatter",
         "x": [
          0.04033819720788994,
          0.052206110448011205,
          null
         ],
         "y": [
          0.015239463395919447,
          0.00015984234615206526,
          null
         ]
        },
        {
         "hoverinfo": "none",
         "line": {
          "color": "#888",
          "width": 7.145449783534801
         },
         "mode": "lines",
         "type": "scatter",
         "x": [
          0.04033819720788994,
          0.056936006808823186,
          null
         ],
         "y": [
          0.015239463395919447,
          0.016111406497531542,
          null
         ]
        },
        {
         "hoverinfo": "none",
         "line": {
          "color": "#888",
          "width": 7.367262245200142
         },
         "mode": "lines",
         "type": "scatter",
         "x": [
          0.04033819720788994,
          0.0789252522089133,
          null
         ],
         "y": [
          0.015239463395919447,
          0.020707607128098302,
          null
         ]
        },
        {
         "hoverinfo": "none",
         "line": {
          "color": "#888",
          "width": 7.064840740426054
         },
         "mode": "lines",
         "type": "scatter",
         "x": [
          0.04033819720788994,
          0.05900785634350229,
          null
         ],
         "y": [
          0.015239463395919447,
          -0.018136595586441873,
          null
         ]
        },
        {
         "hoverinfo": "none",
         "line": {
          "color": "#888",
          "width": 7.094637607572455
         },
         "mode": "lines",
         "type": "scatter",
         "x": [
          0.04033819720788994,
          0.015405938830662207,
          null
         ],
         "y": [
          0.015239463395919447,
          0.0018236666551723337,
          null
         ]
        },
        {
         "hoverinfo": "none",
         "line": {
          "color": "#888",
          "width": 7.75456706648434
         },
         "mode": "lines",
         "type": "scatter",
         "x": [
          0.04033819720788994,
          0.06372455829418262,
          null
         ],
         "y": [
          0.015239463395919447,
          0.006396233475824237,
          null
         ]
        },
        {
         "hoverinfo": "none",
         "line": {
          "color": "#888",
          "width": 7.97395335522668
         },
         "mode": "lines",
         "type": "scatter",
         "x": [
          0.04033819720788994,
          0.035520716994915845,
          null
         ],
         "y": [
          0.015239463395919447,
          0.00029598348700220147,
          null
         ]
        },
        {
         "hoverinfo": "none",
         "line": {
          "color": "#888",
          "width": 7.829230425889993
         },
         "mode": "lines",
         "type": "scatter",
         "x": [
          0.04033819720788994,
          0.047788858802087525,
          null
         ],
         "y": [
          0.015239463395919447,
          0.01943922284043798,
          null
         ]
        },
        {
         "hoverinfo": "none",
         "line": {
          "color": "#888",
          "width": 7.78208068751983
         },
         "mode": "lines",
         "type": "scatter",
         "x": [
          0.04033819720788994,
          0.04970440637929779,
          null
         ],
         "y": [
          0.015239463395919447,
          0.025486103291545235,
          null
         ]
        },
        {
         "hoverinfo": "none",
         "line": {
          "color": "#888",
          "width": 7.038885810073979
         },
         "mode": "lines",
         "type": "scatter",
         "x": [
          0.04033819720788994,
          0.05677913646293775,
          null
         ],
         "y": [
          0.015239463395919447,
          0.024691956360039784,
          null
         ]
        },
        {
         "hoverinfo": "none",
         "line": {
          "color": "#888",
          "width": 7.495095924690478
         },
         "mode": "lines",
         "type": "scatter",
         "x": [
          0.04033819720788994,
          0.06446578980483612,
          null
         ],
         "y": [
          0.015239463395919447,
          -0.010092683244049116,
          null
         ]
        },
        {
         "hoverinfo": "none",
         "line": {
          "color": "#888",
          "width": 7.677795099551025
         },
         "mode": "lines",
         "type": "scatter",
         "x": [
          0.04033819720788994,
          0.05125391663732393,
          null
         ],
         "y": [
          0.015239463395919447,
          -0.013130951491286513,
          null
         ]
        },
        {
         "hoverinfo": "none",
         "line": {
          "color": "#888",
          "width": 8.056153564229534
         },
         "mode": "lines",
         "type": "scatter",
         "x": [
          0.04033819720788994,
          0.044543130719242284,
          null
         ],
         "y": [
          0.015239463395919447,
          -0.007284453597997196,
          null
         ]
        },
        {
         "hoverinfo": "none",
         "line": {
          "color": "#888",
          "width": 7.886545201906582
         },
         "mode": "lines",
         "type": "scatter",
         "x": [
          0.04033819720788994,
          0.05296089611075171,
          null
         ],
         "y": [
          0.015239463395919447,
          0.0291410783850021,
          null
         ]
        },
        {
         "hoverinfo": "none",
         "line": {
          "color": "#888",
          "width": 7.769859205777077
         },
         "mode": "lines",
         "type": "scatter",
         "x": [
          0.04033819720788994,
          0.031118990225050696,
          null
         ],
         "y": [
          0.015239463395919447,
          0.016878798504403318,
          null
         ]
        },
        {
         "hoverinfo": "none",
         "line": {
          "color": "#888",
          "width": 8.397759597507385
         },
         "mode": "lines",
         "type": "scatter",
         "x": [
          0.04033819720788994,
          0.028306223786916922,
          null
         ],
         "y": [
          0.015239463395919447,
          0.0018143033370756332,
          null
         ]
        },
        {
         "hoverinfo": "none",
         "line": {
          "color": "#888",
          "width": 7.234508269653274
         },
         "mode": "lines",
         "type": "scatter",
         "x": [
          0.04033819720788994,
          0.05167761610956777,
          null
         ],
         "y": [
          0.015239463395919447,
          -0.025632995988194535,
          null
         ]
        },
        {
         "hoverinfo": "none",
         "line": {
          "color": "#888",
          "width": 7.94640768218446
         },
         "mode": "lines",
         "type": "scatter",
         "x": [
          0.04033819720788994,
          0.04619599653144016,
          null
         ],
         "y": [
          0.015239463395919447,
          0.027644664186740022,
          null
         ]
        },
        {
         "hoverinfo": "none",
         "line": {
          "color": "#888",
          "width": 8.107332844734943
         },
         "mode": "lines",
         "type": "scatter",
         "x": [
          0.04033819720788994,
          0.04424926983059967,
          null
         ],
         "y": [
          0.015239463395919447,
          0.009245192588423365,
          null
         ]
        },
        {
         "hoverinfo": "none",
         "line": {
          "color": "#888",
          "width": 8.485844388363141
         },
         "mode": "lines",
         "type": "scatter",
         "x": [
          0.04033819720788994,
          0.039847573723061344,
          null
         ],
         "y": [
          0.015239463395919447,
          0.022597028620224235,
          null
         ]
        },
        {
         "hoverinfo": "none",
         "line": {
          "color": "#888",
          "width": 8.483663897493308
         },
         "mode": "lines",
         "type": "scatter",
         "x": [
          0.04033819720788994,
          0.04221760964270946,
          null
         ],
         "y": [
          0.015239463395919447,
          0.003341464908629855,
          null
         ]
        },
        {
         "hoverinfo": "none",
         "line": {
          "color": "#888",
          "width": 7.237232013492704
         },
         "mode": "lines",
         "type": "scatter",
         "x": [
          0.04033819720788994,
          0.021348718231508915,
          null
         ],
         "y": [
          0.015239463395919447,
          0.012451826275459169,
          null
         ]
        },
        {
         "hoverinfo": "none",
         "line": {
          "color": "#888",
          "width": 7.525891810711948
         },
         "mode": "lines",
         "type": "scatter",
         "x": [
          0.04033819720788994,
          0.04800116693795323,
          null
         ],
         "y": [
          0.015239463395919447,
          0.034310508589731406,
          null
         ]
        },
        {
         "hoverinfo": "none",
         "line": {
          "color": "#888",
          "width": 7.084257830171725
         },
         "mode": "lines",
         "type": "scatter",
         "x": [
          0.04033819720788994,
          0.030382176030538343,
          null
         ],
         "y": [
          0.015239463395919447,
          0.030926752700534445,
          null
         ]
        },
        {
         "hoverinfo": "none",
         "line": {
          "color": "#888",
          "width": 8.137930459468087
         },
         "mode": "lines",
         "type": "scatter",
         "x": [
          0.04033819720788994,
          0.02316199970847503,
          null
         ],
         "y": [
          0.015239463395919447,
          0.008806188342982607,
          null
         ]
        },
        {
         "hoverinfo": "none",
         "line": {
          "color": "#888",
          "width": 7.118841131860587
         },
         "mode": "lines",
         "type": "scatter",
         "x": [
          0.04033819720788994,
          0.07372803158749584,
          null
         ],
         "y": [
          0.015239463395919447,
          -0.021176985729282487,
          null
         ]
        },
        {
         "hoverinfo": "none",
         "line": {
          "color": "#888",
          "width": 7.987675186623967
         },
         "mode": "lines",
         "type": "scatter",
         "x": [
          0.04033819720788994,
          0.05178108448531763,
          null
         ],
         "y": [
          0.015239463395919447,
          0.016646922726216835,
          null
         ]
        },
        {
         "hoverinfo": "none",
         "line": {
          "color": "#888",
          "width": 7.258115148816642
         },
         "mode": "lines",
         "type": "scatter",
         "x": [
          0.04033819720788994,
          0.025948658291624793,
          null
         ],
         "y": [
          0.015239463395919447,
          0.021254089073911894,
          null
         ]
        },
        {
         "hoverinfo": "none",
         "line": {
          "color": "#888",
          "width": 7.988756431723766
         },
         "mode": "lines",
         "type": "scatter",
         "x": [
          0.04033819720788994,
          0.038354719562571304,
          null
         ],
         "y": [
          0.015239463395919447,
          0.004161903113501472,
          null
         ]
        },
        {
         "hoverinfo": "none",
         "line": {
          "color": "#888",
          "width": 7.336751046494308
         },
         "mode": "lines",
         "type": "scatter",
         "x": [
          0.04033819720788994,
          0.013787095809808705,
          null
         ],
         "y": [
          0.015239463395919447,
          0.00563409428498509,
          null
         ]
        },
        {
         "hoverinfo": "none",
         "line": {
          "color": "#888",
          "width": 7.420794821778608
         },
         "mode": "lines",
         "type": "scatter",
         "x": [
          0.04033819720788994,
          0.061321053641733785,
          null
         ],
         "y": [
          0.015239463395919447,
          -0.024536057246514434,
          null
         ]
        },
        {
         "hoverinfo": "none",
         "line": {
          "color": "#888",
          "width": 7.039309679153813
         },
         "mode": "lines",
         "type": "scatter",
         "x": [
          0.04033819720788994,
          0.05559099264036801,
          null
         ],
         "y": [
          0.015239463395919447,
          0.04715001178458815,
          null
         ]
        },
        {
         "hoverinfo": "none",
         "line": {
          "color": "#888",
          "width": 7.043957912060903
         },
         "mode": "lines",
         "type": "scatter",
         "x": [
          0.04033819720788994,
          0.00287363361652794,
          null
         ],
         "y": [
          0.015239463395919447,
          0.019637745264321386,
          null
         ]
        },
        {
         "hoverinfo": "none",
         "line": {
          "color": "#888",
          "width": 7.977664949580888
         },
         "mode": "lines",
         "type": "scatter",
         "x": [
          0.04033819720788994,
          0.03219278187344018,
          null
         ],
         "y": [
          0.015239463395919447,
          0.0061149754035917,
          null
         ]
        },
        {
         "hoverinfo": "none",
         "line": {
          "color": "#888",
          "width": 7.0821732412847
         },
         "mode": "lines",
         "type": "scatter",
         "x": [
          0.04033819720788994,
          0.11932999796805098,
          null
         ],
         "y": [
          0.015239463395919447,
          0.04364284320130795,
          null
         ]
        },
        {
         "hoverinfo": "none",
         "line": {
          "color": "#888",
          "width": 7.469706382180677
         },
         "mode": "lines",
         "type": "scatter",
         "x": [
          0.04033819720788994,
          0.05167935923112888,
          null
         ],
         "y": [
          0.015239463395919447,
          0.007531767395388412,
          null
         ]
        },
        {
         "hoverinfo": "none",
         "line": {
          "color": "#888",
          "width": 7.677320086350604
         },
         "mode": "lines",
         "type": "scatter",
         "x": [
          0.04033819720788994,
          0.038942507500276856,
          null
         ],
         "y": [
          0.015239463395919447,
          0.03078782212668624,
          null
         ]
        },
        {
         "hoverinfo": "none",
         "line": {
          "color": "#888",
          "width": 7.140095827317103
         },
         "mode": "lines",
         "type": "scatter",
         "x": [
          0.04033819720788994,
          0.048041473944571596,
          null
         ],
         "y": [
          0.015239463395919447,
          0.04026545544474317,
          null
         ]
        },
        {
         "hoverinfo": "none",
         "line": {
          "color": "#888",
          "width": 7.284000754240203
         },
         "mode": "lines",
         "type": "scatter",
         "x": [
          0.04033819720788994,
          0.0640481455889888,
          null
         ],
         "y": [
          0.015239463395919447,
          -0.01616254512433649,
          null
         ]
        },
        {
         "hoverinfo": "none",
         "line": {
          "color": "#888",
          "width": 7.013083276374078
         },
         "mode": "lines",
         "type": "scatter",
         "x": [
          0.04033819720788994,
          0.030192688386252445,
          null
         ],
         "y": [
          0.015239463395919447,
          -0.030085742357227503,
          null
         ]
        },
        {
         "hoverinfo": "none",
         "line": {
          "color": "#888",
          "width": 7.620143000889485
         },
         "mode": "lines",
         "type": "scatter",
         "x": [
          0.04033819720788994,
          0.035170945634905026,
          null
         ],
         "y": [
          0.015239463395919447,
          -0.01053013399832651,
          null
         ]
        },
        {
         "hoverinfo": "none",
         "line": {
          "color": "#888",
          "width": 7.942235443645773
         },
         "mode": "lines",
         "type": "scatter",
         "x": [
          0.04033819720788994,
          0.03513349996217932,
          null
         ],
         "y": [
          0.015239463395919447,
          0.013867105482447939,
          null
         ]
        },
        {
         "hoverinfo": "none",
         "line": {
          "color": "#888",
          "width": 7.273591557578945
         },
         "mode": "lines",
         "type": "scatter",
         "x": [
          0.0789252522089133,
          0.056936006808823186,
          null
         ],
         "y": [
          0.020707607128098302,
          0.016111406497531542,
          null
         ]
        },
        {
         "hoverinfo": "none",
         "line": {
          "color": "#888",
          "width": 7.510104469415016
         },
         "mode": "lines",
         "type": "scatter",
         "x": [
          0.0789252522089133,
          0.06372455829418262,
          null
         ],
         "y": [
          0.020707607128098302,
          0.006396233475824237,
          null
         ]
        },
        {
         "hoverinfo": "none",
         "line": {
          "color": "#888",
          "width": 7.654553939333949
         },
         "mode": "lines",
         "type": "scatter",
         "x": [
          0.0789252522089133,
          0.035520716994915845,
          null
         ],
         "y": [
          0.020707607128098302,
          0.00029598348700220147,
          null
         ]
        },
        {
         "hoverinfo": "none",
         "line": {
          "color": "#888",
          "width": 7.467627761140236
         },
         "mode": "lines",
         "type": "scatter",
         "x": [
          0.0789252522089133,
          0.047788858802087525,
          null
         ],
         "y": [
          0.020707607128098302,
          0.01943922284043798,
          null
         ]
        },
        {
         "hoverinfo": "none",
         "line": {
          "color": "#888",
          "width": 7.019773200919046
         },
         "mode": "lines",
         "type": "scatter",
         "x": [
          0.0789252522089133,
          0.04970440637929779,
          null
         ],
         "y": [
          0.020707607128098302,
          0.025486103291545235,
          null
         ]
        },
        {
         "hoverinfo": "none",
         "line": {
          "color": "#888",
          "width": 7.171059635052142
         },
         "mode": "lines",
         "type": "scatter",
         "x": [
          0.0789252522089133,
          0.08332396253443919,
          null
         ],
         "y": [
          0.020707607128098302,
          0.01232482248712961,
          null
         ]
        },
        {
         "hoverinfo": "none",
         "line": {
          "color": "#888",
          "width": 7.061858497230661
         },
         "mode": "lines",
         "type": "scatter",
         "x": [
          0.0789252522089133,
          0.11194464052597483,
          null
         ],
         "y": [
          0.020707607128098302,
          0.02925174787337331,
          null
         ]
        },
        {
         "hoverinfo": "none",
         "line": {
          "color": "#888",
          "width": 7.074549827646556
         },
         "mode": "lines",
         "type": "scatter",
         "x": [
          0.0789252522089133,
          0.05125391663732393,
          null
         ],
         "y": [
          0.020707607128098302,
          -0.013130951491286513,
          null
         ]
        },
        {
         "hoverinfo": "none",
         "line": {
          "color": "#888",
          "width": 7.1225676844643
         },
         "mode": "lines",
         "type": "scatter",
         "x": [
          0.0789252522089133,
          0.1473676009386884,
          null
         ],
         "y": [
          0.020707607128098302,
          0.016997304923182657,
          null
         ]
        },
        {
         "hoverinfo": "none",
         "line": {
          "color": "#888",
          "width": 7.412638562504805
         },
         "mode": "lines",
         "type": "scatter",
         "x": [
          0.0789252522089133,
          0.16680531094134884,
          null
         ],
         "y": [
          0.020707607128098302,
          -0.002154692345919679,
          null
         ]
        },
        {
         "hoverinfo": "none",
         "line": {
          "color": "#888",
          "width": 7.214520691685568
         },
         "mode": "lines",
         "type": "scatter",
         "x": [
          0.0789252522089133,
          0.02906045571634478,
          null
         ],
         "y": [
          0.020707607128098302,
          0.025702062157286484,
          null
         ]
        },
        {
         "hoverinfo": "none",
         "line": {
          "color": "#888",
          "width": 7.204506087886902
         },
         "mode": "lines",
         "type": "scatter",
         "x": [
          0.0789252522089133,
          0.07386306390893059,
          null
         ],
         "y": [
          0.020707607128098302,
          -0.027114739899880624,
          null
         ]
        },
        {
         "hoverinfo": "none",
         "line": {
          "color": "#888",
          "width": 7.229623487156274
         },
         "mode": "lines",
         "type": "scatter",
         "x": [
          0.0789252522089133,
          0.06882186507966723,
          null
         ],
         "y": [
          0.020707607128098302,
          0.004141447594331741,
          null
         ]
        },
        {
         "hoverinfo": "none",
         "line": {
          "color": "#888",
          "width": 7.365051459165263
         },
         "mode": "lines",
         "type": "scatter",
         "x": [
          0.0789252522089133,
          0.04424926983059967,
          null
         ],
         "y": [
          0.020707607128098302,
          0.009245192588423365,
          null
         ]
        },
        {
         "hoverinfo": "none",
         "line": {
          "color": "#888",
          "width": 7.113957999281223
         },
         "mode": "lines",
         "type": "scatter",
         "x": [
          0.0789252522089133,
          0.0147182191032134,
          null
         ],
         "y": [
          0.020707607128098302,
          -0.012808506474670344,
          null
         ]
        },
        {
         "hoverinfo": "none",
         "line": {
          "color": "#888",
          "width": 7.1228181064973795
         },
         "mode": "lines",
         "type": "scatter",
         "x": [
          0.0789252522089133,
          0.035123113123913655,
          null
         ],
         "y": [
          0.020707607128098302,
          -0.015184046650287686,
          null
         ]
        },
        {
         "hoverinfo": "none",
         "line": {
          "color": "#888",
          "width": 7.795183610835046
         },
         "mode": "lines",
         "type": "scatter",
         "x": [
          0.0789252522089133,
          0.15920229919148163,
          null
         ],
         "y": [
          0.020707607128098302,
          0.12907592132500653,
          null
         ]
        },
        {
         "hoverinfo": "none",
         "line": {
          "color": "#888",
          "width": 7.051606060808853
         },
         "mode": "lines",
         "type": "scatter",
         "x": [
          0.0789252522089133,
          0.06337133714875767,
          null
         ],
         "y": [
          0.020707607128098302,
          -0.04631437006244878,
          null
         ]
        },
        {
         "hoverinfo": "none",
         "line": {
          "color": "#888",
          "width": 7.0178841684648665
         },
         "mode": "lines",
         "type": "scatter",
         "x": [
          0.0789252522089133,
          0.17841163453662576,
          null
         ],
         "y": [
          0.020707607128098302,
          -0.04872837995224801,
          null
         ]
        },
        {
         "hoverinfo": "none",
         "line": {
          "color": "#888",
          "width": 7.367020397529637
         },
         "mode": "lines",
         "type": "scatter",
         "x": [
          0.0789252522089133,
          0.07372803158749584,
          null
         ],
         "y": [
          0.020707607128098302,
          -0.021176985729282487,
          null
         ]
        },
        {
         "hoverinfo": "none",
         "line": {
          "color": "#888",
          "width": 7.236955727159556
         },
         "mode": "lines",
         "type": "scatter",
         "x": [
          0.0789252522089133,
          0.07716961454395974,
          null
         ],
         "y": [
          0.020707607128098302,
          0.04516494341131238,
          null
         ]
        },
        {
         "hoverinfo": "none",
         "line": {
          "color": "#888",
          "width": 7.046425576264061
         },
         "mode": "lines",
         "type": "scatter",
         "x": [
          0.0789252522089133,
          0.05178108448531763,
          null
         ],
         "y": [
          0.020707607128098302,
          0.016646922726216835,
          null
         ]
        },
        {
         "hoverinfo": "none",
         "line": {
          "color": "#888",
          "width": 7.421542374897639
         },
         "mode": "lines",
         "type": "scatter",
         "x": [
          0.0789252522089133,
          0.038354719562571304,
          null
         ],
         "y": [
          0.020707607128098302,
          0.004161903113501472,
          null
         ]
        },
        {
         "hoverinfo": "none",
         "line": {
          "color": "#888",
          "width": 7.193931610662999
         },
         "mode": "lines",
         "type": "scatter",
         "x": [
          0.0789252522089133,
          0.04467832748370658,
          null
         ],
         "y": [
          0.020707607128098302,
          -0.003629286852666818,
          null
         ]
        },
        {
         "hoverinfo": "none",
         "line": {
          "color": "#888",
          "width": 7.301599458492344
         },
         "mode": "lines",
         "type": "scatter",
         "x": [
          0.0789252522089133,
          0.11932999796805098,
          null
         ],
         "y": [
          0.020707607128098302,
          0.04364284320130795,
          null
         ]
        },
        {
         "hoverinfo": "none",
         "line": {
          "color": "#888",
          "width": 7.292880313287262
         },
         "mode": "lines",
         "type": "scatter",
         "x": [
          0.0789252522089133,
          0.03513349996217932,
          null
         ],
         "y": [
          0.020707607128098302,
          0.013867105482447939,
          null
         ]
        },
        {
         "hoverinfo": "none",
         "line": {
          "color": "#888",
          "width": 7.207287991844209
         },
         "mode": "lines",
         "type": "scatter",
         "x": [
          -0.10365366952237418,
          -0.12952753724586755,
          null
         ],
         "y": [
          0.11534553755356051,
          0.12968811222586454,
          null
         ]
        },
        {
         "hoverinfo": "none",
         "line": {
          "color": "#888",
          "width": 7.829620441276219
         },
         "mode": "lines",
         "type": "scatter",
         "x": [
          -0.10365366952237418,
          -0.11728740254548076,
          null
         ],
         "y": [
          0.11534553755356051,
          0.12871455085397457,
          null
         ]
        },
        {
         "hoverinfo": "none",
         "line": {
          "color": "#888",
          "width": 7.342068823327141
         },
         "mode": "lines",
         "type": "scatter",
         "x": [
          -0.10365366952237418,
          -0.1523380517300346,
          null
         ],
         "y": [
          0.11534553755356051,
          0.1421055486768911,
          null
         ]
        },
        {
         "hoverinfo": "none",
         "line": {
          "color": "#888",
          "width": 8.38950723218266
         },
         "mode": "lines",
         "type": "scatter",
         "x": [
          -0.10365366952237418,
          -0.14428112039746577,
          null
         ],
         "y": [
          0.11534553755356051,
          0.15194122784034825,
          null
         ]
        },
        {
         "hoverinfo": "none",
         "line": {
          "color": "#888",
          "width": 7.007948919583027
         },
         "mode": "lines",
         "type": "scatter",
         "x": [
          -0.10365366952237418,
          -0.15533172520498428,
          null
         ],
         "y": [
          0.11534553755356051,
          0.1314163151783485,
          null
         ]
        },
        {
         "hoverinfo": "none",
         "line": {
          "color": "#888",
          "width": 7.242865324546001
         },
         "mode": "lines",
         "type": "scatter",
         "x": [
          -0.10365366952237418,
          -0.13689780944050867,
          null
         ],
         "y": [
          0.11534553755356051,
          0.14381112618235226,
          null
         ]
        },
        {
         "hoverinfo": "none",
         "line": {
          "color": "#888",
          "width": 7.24711836599198
         },
         "mode": "lines",
         "type": "scatter",
         "x": [
          -0.10365366952237418,
          -0.0991643175331902,
          null
         ],
         "y": [
          0.11534553755356051,
          0.13843322154091828,
          null
         ]
        },
        {
         "hoverinfo": "none",
         "line": {
          "color": "#888",
          "width": 7.031537419096836
         },
         "mode": "lines",
         "type": "scatter",
         "x": [
          -0.10365366952237418,
          -0.13987314061963524,
          null
         ],
         "y": [
          0.11534553755356051,
          0.13597998017091042,
          null
         ]
        },
        {
         "hoverinfo": "none",
         "line": {
          "color": "#888",
          "width": 7.181275712311689
         },
         "mode": "lines",
         "type": "scatter",
         "x": [
          -0.10365366952237418,
          -0.13198502317037067,
          null
         ],
         "y": [
          0.11534553755356051,
          0.12556233539898562,
          null
         ]
        },
        {
         "hoverinfo": "none",
         "line": {
          "color": "#888",
          "width": 7.729437521838555
         },
         "mode": "lines",
         "type": "scatter",
         "x": [
          -0.10365366952237418,
          -0.14327665976696743,
          null
         ],
         "y": [
          0.11534553755356051,
          0.1457092303249512,
          null
         ]
        },
        {
         "hoverinfo": "none",
         "line": {
          "color": "#888",
          "width": 7.057736500989664
         },
         "mode": "lines",
         "type": "scatter",
         "x": [
          -0.10365366952237418,
          -0.14612759544688866,
          null
         ],
         "y": [
          0.11534553755356051,
          0.1365571409183694,
          null
         ]
        },
        {
         "hoverinfo": "none",
         "line": {
          "color": "#888",
          "width": 7.135594295605658
         },
         "mode": "lines",
         "type": "scatter",
         "x": [
          -0.10365366952237418,
          -0.1528544167912979,
          null
         ],
         "y": [
          0.11534553755356051,
          0.13616586845651688,
          null
         ]
        },
        {
         "hoverinfo": "none",
         "line": {
          "color": "#888",
          "width": 7.586477895480415
         },
         "mode": "lines",
         "type": "scatter",
         "x": [
          0.028306223786916922,
          0.052206110448011205,
          null
         ],
         "y": [
          0.0018143033370756332,
          0.00015984234615206526,
          null
         ]
        },
        {
         "hoverinfo": "none",
         "line": {
          "color": "#888",
          "width": 7.023681306229513
         },
         "mode": "lines",
         "type": "scatter",
         "x": [
          0.028306223786916922,
          0.05900785634350229,
          null
         ],
         "y": [
          0.0018143033370756332,
          -0.018136595586441873,
          null
         ]
        },
        {
         "hoverinfo": "none",
         "line": {
          "color": "#888",
          "width": 7.116093923401994
         },
         "mode": "lines",
         "type": "scatter",
         "x": [
          0.028306223786916922,
          0.06372455829418262,
          null
         ],
         "y": [
          0.0018143033370756332,
          0.006396233475824237,
          null
         ]
        },
        {
         "hoverinfo": "none",
         "line": {
          "color": "#888",
          "width": 7.697006986034594
         },
         "mode": "lines",
         "type": "scatter",
         "x": [
          0.028306223786916922,
          0.047788858802087525,
          null
         ],
         "y": [
          0.0018143033370756332,
          0.01943922284043798,
          null
         ]
        },
        {
         "hoverinfo": "none",
         "line": {
          "color": "#888",
          "width": 7.139163847647928
         },
         "mode": "lines",
         "type": "scatter",
         "x": [
          0.028306223786916922,
          0.04970440637929779,
          null
         ],
         "y": [
          0.0018143033370756332,
          0.025486103291545235,
          null
         ]
        },
        {
         "hoverinfo": "none",
         "line": {
          "color": "#888",
          "width": 7.016996817392149
         },
         "mode": "lines",
         "type": "scatter",
         "x": [
          0.028306223786916922,
          0.06446578980483612,
          null
         ],
         "y": [
          0.0018143033370756332,
          -0.010092683244049116,
          null
         ]
        },
        {
         "hoverinfo": "none",
         "line": {
          "color": "#888",
          "width": 7.02552428167721
         },
         "mode": "lines",
         "type": "scatter",
         "x": [
          0.028306223786916922,
          0.05125391663732393,
          null
         ],
         "y": [
          0.0018143033370756332,
          -0.013130951491286513,
          null
         ]
        },
        {
         "hoverinfo": "none",
         "line": {
          "color": "#888",
          "width": 7.215152274787531
         },
         "mode": "lines",
         "type": "scatter",
         "x": [
          0.028306223786916922,
          0.044543130719242284,
          null
         ],
         "y": [
          0.0018143033370756332,
          -0.007284453597997196,
          null
         ]
        },
        {
         "hoverinfo": "none",
         "line": {
          "color": "#888",
          "width": 7.411377005104731
         },
         "mode": "lines",
         "type": "scatter",
         "x": [
          0.028306223786916922,
          0.031118990225050696,
          null
         ],
         "y": [
          0.0018143033370756332,
          0.016878798504403318,
          null
         ]
        },
        {
         "hoverinfo": "none",
         "line": {
          "color": "#888",
          "width": 7.268274472844594
         },
         "mode": "lines",
         "type": "scatter",
         "x": [
          0.028306223786916922,
          0.05167761610956777,
          null
         ],
         "y": [
          0.0018143033370756332,
          -0.025632995988194535,
          null
         ]
        },
        {
         "hoverinfo": "none",
         "line": {
          "color": "#888",
          "width": 7.659029009048862
         },
         "mode": "lines",
         "type": "scatter",
         "x": [
          0.028306223786916922,
          0.04619599653144016,
          null
         ],
         "y": [
          0.0018143033370756332,
          0.027644664186740022,
          null
         ]
        },
        {
         "hoverinfo": "none",
         "line": {
          "color": "#888",
          "width": 7.912833431337502
         },
         "mode": "lines",
         "type": "scatter",
         "x": [
          0.028306223786916922,
          0.04424926983059967,
          null
         ],
         "y": [
          0.0018143033370756332,
          0.009245192588423365,
          null
         ]
        },
        {
         "hoverinfo": "none",
         "line": {
          "color": "#888",
          "width": 7.366881517724801
         },
         "mode": "lines",
         "type": "scatter",
         "x": [
          0.028306223786916922,
          0.0147182191032134,
          null
         ],
         "y": [
          0.0018143033370756332,
          -0.012808506474670344,
          null
         ]
        },
        {
         "hoverinfo": "none",
         "line": {
          "color": "#888",
          "width": 7.606986122137148
         },
         "mode": "lines",
         "type": "scatter",
         "x": [
          0.028306223786916922,
          0.039847573723061344,
          null
         ],
         "y": [
          0.0018143033370756332,
          0.022597028620224235,
          null
         ]
        },
        {
         "hoverinfo": "none",
         "line": {
          "color": "#888",
          "width": 7.488673463081971
         },
         "mode": "lines",
         "type": "scatter",
         "x": [
          0.028306223786916922,
          0.04221760964270946,
          null
         ],
         "y": [
          0.0018143033370756332,
          0.003341464908629855,
          null
         ]
        },
        {
         "hoverinfo": "none",
         "line": {
          "color": "#888",
          "width": 7.139769700626328
         },
         "mode": "lines",
         "type": "scatter",
         "x": [
          0.028306223786916922,
          0.02316199970847503,
          null
         ],
         "y": [
          0.0018143033370756332,
          0.008806188342982607,
          null
         ]
        },
        {
         "hoverinfo": "none",
         "line": {
          "color": "#888",
          "width": 7.0930028544815364
         },
         "mode": "lines",
         "type": "scatter",
         "x": [
          0.028306223786916922,
          0.07372803158749584,
          null
         ],
         "y": [
          0.0018143033370756332,
          -0.021176985729282487,
          null
         ]
        },
        {
         "hoverinfo": "none",
         "line": {
          "color": "#888",
          "width": 7.632759233401755
         },
         "mode": "lines",
         "type": "scatter",
         "x": [
          0.028306223786916922,
          0.05178108448531763,
          null
         ],
         "y": [
          0.0018143033370756332,
          0.016646922726216835,
          null
         ]
        },
        {
         "hoverinfo": "none",
         "line": {
          "color": "#888",
          "width": 7.974961484699347
         },
         "mode": "lines",
         "type": "scatter",
         "x": [
          0.028306223786916922,
          0.038354719562571304,
          null
         ],
         "y": [
          0.0018143033370756332,
          0.004161903113501472,
          null
         ]
        },
        {
         "hoverinfo": "none",
         "line": {
          "color": "#888",
          "width": 7.024011892929908
         },
         "mode": "lines",
         "type": "scatter",
         "x": [
          0.028306223786916922,
          0.013787095809808705,
          null
         ],
         "y": [
          0.0018143033370756332,
          0.00563409428498509,
          null
         ]
        },
        {
         "hoverinfo": "none",
         "line": {
          "color": "#888",
          "width": 7.231991077504341
         },
         "mode": "lines",
         "type": "scatter",
         "x": [
          0.028306223786916922,
          0.00287363361652794,
          null
         ],
         "y": [
          0.0018143033370756332,
          0.019637745264321386,
          null
         ]
        },
        {
         "hoverinfo": "none",
         "line": {
          "color": "#888",
          "width": 7.161102643969338
         },
         "mode": "lines",
         "type": "scatter",
         "x": [
          0.028306223786916922,
          0.03219278187344018,
          null
         ],
         "y": [
          0.0018143033370756332,
          0.0061149754035917,
          null
         ]
        },
        {
         "hoverinfo": "none",
         "line": {
          "color": "#888",
          "width": 7.111186210627403
         },
         "mode": "lines",
         "type": "scatter",
         "x": [
          0.028306223786916922,
          0.047591032020469465,
          null
         ],
         "y": [
          0.0018143033370756332,
          -0.03311958601746846,
          null
         ]
        },
        {
         "hoverinfo": "none",
         "line": {
          "color": "#888",
          "width": 7.364092237265095
         },
         "mode": "lines",
         "type": "scatter",
         "x": [
          0.028306223786916922,
          0.05167935923112888,
          null
         ],
         "y": [
          0.0018143033370756332,
          0.007531767395388412,
          null
         ]
        },
        {
         "hoverinfo": "none",
         "line": {
          "color": "#888",
          "width": 7.21291727918641
         },
         "mode": "lines",
         "type": "scatter",
         "x": [
          0.028306223786916922,
          0.043365958100558266,
          null
         ],
         "y": [
          0.0018143033370756332,
          -0.01113046894597532,
          null
         ]
        },
        {
         "hoverinfo": "none",
         "line": {
          "color": "#888",
          "width": 7.355291250172358
         },
         "mode": "lines",
         "type": "scatter",
         "x": [
          0.028306223786916922,
          0.038942507500276856,
          null
         ],
         "y": [
          0.0018143033370756332,
          0.03078782212668624,
          null
         ]
        },
        {
         "hoverinfo": "none",
         "line": {
          "color": "#888",
          "width": 7.282421933218549
         },
         "mode": "lines",
         "type": "scatter",
         "x": [
          0.028306223786916922,
          0.0640481455889888,
          null
         ],
         "y": [
          0.0018143033370756332,
          -0.01616254512433649,
          null
         ]
        },
        {
         "hoverinfo": "none",
         "line": {
          "color": "#888",
          "width": 7.508715536215835
         },
         "mode": "lines",
         "type": "scatter",
         "x": [
          0.028306223786916922,
          0.030192688386252445,
          null
         ],
         "y": [
          0.0018143033370756332,
          -0.030085742357227503,
          null
         ]
        },
        {
         "hoverinfo": "none",
         "line": {
          "color": "#888",
          "width": 7.639561867759669
         },
         "mode": "lines",
         "type": "scatter",
         "x": [
          0.028306223786916922,
          0.035170945634905026,
          null
         ],
         "y": [
          0.0018143033370756332,
          -0.01053013399832651,
          null
         ]
        },
        {
         "hoverinfo": "none",
         "line": {
          "color": "#888",
          "width": 8.327170814325186
         },
         "mode": "lines",
         "type": "scatter",
         "x": [
          0.028306223786916922,
          0.03513349996217932,
          null
         ],
         "y": [
          0.0018143033370756332,
          0.013867105482447939,
          null
         ]
        },
        {
         "hoverinfo": "none",
         "line": {
          "color": "#888",
          "width": 8.056710882443452
         },
         "mode": "lines",
         "type": "scatter",
         "x": [
          -0.047232836772141046,
          -0.09051085886133893,
          null
         ],
         "y": [
          0.5832405844439728,
          0.5870068815831102,
          null
         ]
        },
        {
         "hoverinfo": "none",
         "line": {
          "color": "#888",
          "width": 7.464069804187567
         },
         "mode": "lines",
         "type": "scatter",
         "x": [
          -0.047232836772141046,
          -0.0018871780350066011,
          null
         ],
         "y": [
          0.5832405844439728,
          0.6150109532216335,
          null
         ]
        },
        {
         "hoverinfo": "none",
         "line": {
          "color": "#888",
          "width": 7.005257777823866
         },
         "mode": "lines",
         "type": "scatter",
         "x": [
          -0.047232836772141046,
          -0.11103000679656516,
          null
         ],
         "y": [
          0.5832405844439728,
          0.5496760026080553,
          null
         ]
        },
        {
         "hoverinfo": "none",
         "line": {
          "color": "#888",
          "width": 7.127076566756298
         },
         "mode": "lines",
         "type": "scatter",
         "x": [
          -0.047232836772141046,
          -0.008618226023924883,
          null
         ],
         "y": [
          0.5832405844439728,
          0.622596700969547,
          null
         ]
        },
        {
         "hoverinfo": "none",
         "line": {
          "color": "#888",
          "width": 7.384741457890428
         },
         "mode": "lines",
         "type": "scatter",
         "x": [
          -0.09051085886133893,
          -0.13404681277047256,
          null
         ],
         "y": [
          0.5870068815831102,
          0.5547953828331511,
          null
         ]
        },
        {
         "hoverinfo": "none",
         "line": {
          "color": "#888",
          "width": 7.288680843601139
         },
         "mode": "lines",
         "type": "scatter",
         "x": [
          -0.0018871780350066011,
          0.007284319727723009,
          null
         ],
         "y": [
          0.6150109532216335,
          0.6490983986947488,
          null
         ]
        },
        {
         "hoverinfo": "none",
         "line": {
          "color": "#888",
          "width": 8.458697912614824
         },
         "mode": "lines",
         "type": "scatter",
         "x": [
          -0.0018871780350066011,
          0.01579635659009846,
          null
         ],
         "y": [
          0.6150109532216335,
          0.6398935735082664,
          null
         ]
        },
        {
         "hoverinfo": "none",
         "line": {
          "color": "#888",
          "width": 9.185264591009757
         },
         "mode": "lines",
         "type": "scatter",
         "x": [
          -0.0018871780350066011,
          -0.008618226023924883,
          null
         ],
         "y": [
          0.6150109532216335,
          0.622596700969547,
          null
         ]
        },
        {
         "hoverinfo": "none",
         "line": {
          "color": "#888",
          "width": 7.2711846001930045
         },
         "mode": "lines",
         "type": "scatter",
         "x": [
          -0.11103000679656516,
          -0.16242499982893083,
          null
         ],
         "y": [
          0.5496760026080553,
          0.5146292654398777,
          null
         ]
        },
        {
         "hoverinfo": "none",
         "line": {
          "color": "#888",
          "width": 7.267484424109113
         },
         "mode": "lines",
         "type": "scatter",
         "x": [
          -0.11103000679656516,
          -0.10461718036947543,
          null
         ],
         "y": [
          0.5496760026080553,
          0.5761497949867245,
          null
         ]
        },
        {
         "hoverinfo": "none",
         "line": {
          "color": "#888",
          "width": 7.435181687254008
         },
         "mode": "lines",
         "type": "scatter",
         "x": [
          -0.11103000679656516,
          -0.13404681277047256,
          null
         ],
         "y": [
          0.5496760026080553,
          0.5547953828331511,
          null
         ]
        },
        {
         "hoverinfo": "none",
         "line": {
          "color": "#888",
          "width": 7.3686487690442135
         },
         "mode": "lines",
         "type": "scatter",
         "x": [
          -0.11103000679656516,
          -0.15175405359831404,
          null
         ],
         "y": [
          0.5496760026080553,
          0.5564618730426264,
          null
         ]
        },
        {
         "hoverinfo": "none",
         "line": {
          "color": "#888",
          "width": 7.488177591334679
         },
         "mode": "lines",
         "type": "scatter",
         "x": [
          -0.008618226023924883,
          0.007284319727723009,
          null
         ],
         "y": [
          0.622596700969547,
          0.6490983986947488,
          null
         ]
        },
        {
         "hoverinfo": "none",
         "line": {
          "color": "#888",
          "width": 8.762944040527085
         },
         "mode": "lines",
         "type": "scatter",
         "x": [
          -0.008618226023924883,
          0.01579635659009846,
          null
         ],
         "y": [
          0.622596700969547,
          0.6398935735082664,
          null
         ]
        },
        {
         "hoverinfo": "none",
         "line": {
          "color": "#888",
          "width": 7.4963569767835105
         },
         "mode": "lines",
         "type": "scatter",
         "x": [
          0.27582989841243116,
          0.20845668645883203,
          null
         ],
         "y": [
          -0.07981822043970664,
          -0.04006562423413929,
          null
         ]
        },
        {
         "hoverinfo": "none",
         "line": {
          "color": "#888",
          "width": 7.26026155095518
         },
         "mode": "lines",
         "type": "scatter",
         "x": [
          0.20845668645883203,
          0.10516663722559727,
          null
         ],
         "y": [
          -0.04006562423413929,
          0.012898367385214769,
          null
         ]
        },
        {
         "hoverinfo": "none",
         "line": {
          "color": "#888",
          "width": 7.0305530323396415
         },
         "mode": "lines",
         "type": "scatter",
         "x": [
          0.9392225079123361,
          0.9475142995723532,
          null
         ],
         "y": [
          0.05478655383698464,
          0.07289258617181163,
          null
         ]
        },
        {
         "hoverinfo": "none",
         "line": {
          "color": "#888",
          "width": 7.677383598240151
         },
         "mode": "lines",
         "type": "scatter",
         "x": [
          0.12025639736135385,
          0.10502243549373935,
          null
         ],
         "y": [
          0.6428001974573394,
          0.5684133354313915,
          null
         ]
        },
        {
         "hoverinfo": "none",
         "line": {
          "color": "#888",
          "width": 7.343928936797752
         },
         "mode": "lines",
         "type": "scatter",
         "x": [
          0.12025639736135385,
          0.1253226553253225,
          null
         ],
         "y": [
          0.6428001974573394,
          0.6935421047969366,
          null
         ]
        },
        {
         "hoverinfo": "none",
         "line": {
          "color": "#888",
          "width": 7.554828799581255
         },
         "mode": "lines",
         "type": "scatter",
         "x": [
          0.12025639736135385,
          0.13721549382083134,
          null
         ],
         "y": [
          0.6428001974573394,
          0.6803454392082379,
          null
         ]
        },
        {
         "hoverinfo": "none",
         "line": {
          "color": "#888",
          "width": 7.091609384719147
         },
         "mode": "lines",
         "type": "scatter",
         "x": [
          0.12025639736135385,
          0.1184057720089342,
          null
         ],
         "y": [
          0.6428001974573394,
          0.6749068569802253,
          null
         ]
        },
        {
         "hoverinfo": "none",
         "line": {
          "color": "#888",
          "width": 7.23838433538533
         },
         "mode": "lines",
         "type": "scatter",
         "x": [
          0.1253226553253225,
          0.1184057720089342,
          null
         ],
         "y": [
          0.6935421047969366,
          0.6749068569802253,
          null
         ]
        },
        {
         "hoverinfo": "none",
         "line": {
          "color": "#888",
          "width": 7.295860076316114
         },
         "mode": "lines",
         "type": "scatter",
         "x": [
          0.13721549382083134,
          0.1184057720089342,
          null
         ],
         "y": [
          0.6803454392082379,
          0.6749068569802253,
          null
         ]
        },
        {
         "hoverinfo": "none",
         "line": {
          "color": "#888",
          "width": 7.7446222134961875
         },
         "mode": "lines",
         "type": "scatter",
         "x": [
          0.08489292788234773,
          0.04077202203689936,
          null
         ],
         "y": [
          0.07694962231902117,
          0.051360161624448536,
          null
         ]
        },
        {
         "hoverinfo": "none",
         "line": {
          "color": "#888",
          "width": 7.1863931964447
         },
         "mode": "lines",
         "type": "scatter",
         "x": [
          0.08489292788234773,
          0.10516663722559727,
          null
         ],
         "y": [
          0.07694962231902117,
          0.012898367385214769,
          null
         ]
        },
        {
         "hoverinfo": "none",
         "line": {
          "color": "#888",
          "width": 7.741324896718027
         },
         "mode": "lines",
         "type": "scatter",
         "x": [
          0.08489292788234773,
          0.06219444586665617,
          null
         ],
         "y": [
          0.07694962231902117,
          0.032125151958667275,
          null
         ]
        },
        {
         "hoverinfo": "none",
         "line": {
          "color": "#888",
          "width": 7.117848687598249
         },
         "mode": "lines",
         "type": "scatter",
         "x": [
          0.08489292788234773,
          0.05408129257163386,
          null
         ],
         "y": [
          0.07694962231902117,
          0.04753925674074756,
          null
         ]
        },
        {
         "hoverinfo": "none",
         "line": {
          "color": "#888",
          "width": 7.591598818121851
         },
         "mode": "lines",
         "type": "scatter",
         "x": [
          0.04077202203689936,
          0.12294680046022576,
          null
         ],
         "y": [
          0.051360161624448536,
          0.09037289945844768,
          null
         ]
        },
        {
         "hoverinfo": "none",
         "line": {
          "color": "#888",
          "width": 7.446827771184284
         },
         "mode": "lines",
         "type": "scatter",
         "x": [
          0.04077202203689936,
          0.09775289659785226,
          null
         ],
         "y": [
          0.051360161624448536,
          0.02686448843901793,
          null
         ]
        },
        {
         "hoverinfo": "none",
         "line": {
          "color": "#888",
          "width": 7.151256947923312
         },
         "mode": "lines",
         "type": "scatter",
         "x": [
          0.04077202203689936,
          -0.015159286895460984,
          null
         ],
         "y": [
          0.051360161624448536,
          0.022380869498685244,
          null
         ]
        },
        {
         "hoverinfo": "none",
         "line": {
          "color": "#888",
          "width": 7.159739941154618
         },
         "mode": "lines",
         "type": "scatter",
         "x": [
          0.04077202203689936,
          -0.006214060919075264,
          null
         ],
         "y": [
          0.051360161624448536,
          0.024114674815726177,
          null
         ]
        },
        {
         "hoverinfo": "none",
         "line": {
          "color": "#888",
          "width": 7.538353716909754
         },
         "mode": "lines",
         "type": "scatter",
         "x": [
          0.04077202203689936,
          -0.0036638285830947353,
          null
         ],
         "y": [
          0.051360161624448536,
          0.01820132804210753,
          null
         ]
        },
        {
         "hoverinfo": "none",
         "line": {
          "color": "#888",
          "width": 7.017481849544678
         },
         "mode": "lines",
         "type": "scatter",
         "x": [
          0.04077202203689936,
          0.07716961454395974,
          null
         ],
         "y": [
          0.051360161624448536,
          0.04516494341131238,
          null
         ]
        },
        {
         "hoverinfo": "none",
         "line": {
          "color": "#888",
          "width": 7.207012158898919
         },
         "mode": "lines",
         "type": "scatter",
         "x": [
          0.04077202203689936,
          0.00287363361652794,
          null
         ],
         "y": [
          0.051360161624448536,
          0.019637745264321386,
          null
         ]
        },
        {
         "hoverinfo": "none",
         "line": {
          "color": "#888",
          "width": 7.444441854690145
         },
         "mode": "lines",
         "type": "scatter",
         "x": [
          0.04077202203689936,
          0.03819669390069439,
          null
         ],
         "y": [
          0.051360161624448536,
          -0.025877116906488973,
          null
         ]
        },
        {
         "hoverinfo": "none",
         "line": {
          "color": "#888",
          "width": 7.160766695097545
         },
         "mode": "lines",
         "type": "scatter",
         "x": [
          0.10516663722559727,
          0.04970440637929779,
          null
         ],
         "y": [
          0.012898367385214769,
          0.025486103291545235,
          null
         ]
        },
        {
         "hoverinfo": "none",
         "line": {
          "color": "#888",
          "width": 7.62981347731829
         },
         "mode": "lines",
         "type": "scatter",
         "x": [
          0.10516663722559727,
          0.08332396253443919,
          null
         ],
         "y": [
          0.012898367385214769,
          0.01232482248712961,
          null
         ]
        },
        {
         "hoverinfo": "none",
         "line": {
          "color": "#888",
          "width": 7.226556052316636
         },
         "mode": "lines",
         "type": "scatter",
         "x": [
          0.10516663722559727,
          0.05296089611075171,
          null
         ],
         "y": [
          0.012898367385214769,
          0.0291410783850021,
          null
         ]
        },
        {
         "hoverinfo": "none",
         "line": {
          "color": "#888",
          "width": 7.49115063386359
         },
         "mode": "lines",
         "type": "scatter",
         "x": [
          0.10516663722559727,
          0.04619599653144016,
          null
         ],
         "y": [
          0.012898367385214769,
          0.027644664186740022,
          null
         ]
        },
        {
         "hoverinfo": "none",
         "line": {
          "color": "#888",
          "width": 7.037842133247944
         },
         "mode": "lines",
         "type": "scatter",
         "x": [
          0.10516663722559727,
          0.04424926983059967,
          null
         ],
         "y": [
          0.012898367385214769,
          0.009245192588423365,
          null
         ]
        },
        {
         "hoverinfo": "none",
         "line": {
          "color": "#888",
          "width": 7.057523193484809
         },
         "mode": "lines",
         "type": "scatter",
         "x": [
          0.10516663722559727,
          0.05178108448531763,
          null
         ],
         "y": [
          0.012898367385214769,
          0.016646922726216835,
          null
         ]
        },
        {
         "hoverinfo": "none",
         "line": {
          "color": "#888",
          "width": 7.06575899314095
         },
         "mode": "lines",
         "type": "scatter",
         "x": [
          0.10516663722559727,
          0.038942507500276856,
          null
         ],
         "y": [
          0.012898367385214769,
          0.03078782212668624,
          null
         ]
        },
        {
         "hoverinfo": "none",
         "line": {
          "color": "#888",
          "width": 7.625886216717882
         },
         "mode": "lines",
         "type": "scatter",
         "x": [
          0.06219444586665617,
          0.0737795776743241,
          null
         ],
         "y": [
          0.032125151958667275,
          0.055869186232856936,
          null
         ]
        },
        {
         "hoverinfo": "none",
         "line": {
          "color": "#888",
          "width": 7.204589484556094
         },
         "mode": "lines",
         "type": "scatter",
         "x": [
          0.06219444586665617,
          0.09775289659785226,
          null
         ],
         "y": [
          0.032125151958667275,
          0.02686448843901793,
          null
         ]
        },
        {
         "hoverinfo": "none",
         "line": {
          "color": "#888",
          "width": 7.683053981949541
         },
         "mode": "lines",
         "type": "scatter",
         "x": [
          0.06219444586665617,
          0.057379303598770866,
          null
         ],
         "y": [
          0.032125151958667275,
          0.019579423949201365,
          null
         ]
        },
        {
         "hoverinfo": "none",
         "line": {
          "color": "#888",
          "width": 7.677266729412146
         },
         "mode": "lines",
         "type": "scatter",
         "x": [
          0.06219444586665617,
          0.06468537251505271,
          null
         ],
         "y": [
          0.032125151958667275,
          0.023662195868131664,
          null
         ]
        },
        {
         "hoverinfo": "none",
         "line": {
          "color": "#888",
          "width": 7.45393149086993
         },
         "mode": "lines",
         "type": "scatter",
         "x": [
          0.06219444586665617,
          0.015405938830662207,
          null
         ],
         "y": [
          0.032125151958667275,
          0.0018236666551723337,
          null
         ]
        },
        {
         "hoverinfo": "none",
         "line": {
          "color": "#888",
          "width": 7.425849049570321
         },
         "mode": "lines",
         "type": "scatter",
         "x": [
          0.06219444586665617,
          0.035520716994915845,
          null
         ],
         "y": [
          0.032125151958667275,
          0.00029598348700220147,
          null
         ]
        },
        {
         "hoverinfo": "none",
         "line": {
          "color": "#888",
          "width": 7.400751824403171
         },
         "mode": "lines",
         "type": "scatter",
         "x": [
          0.06219444586665617,
          0.047788858802087525,
          null
         ],
         "y": [
          0.032125151958667275,
          0.01943922284043798,
          null
         ]
        },
        {
         "hoverinfo": "none",
         "line": {
          "color": "#888",
          "width": 7.283108689033727
         },
         "mode": "lines",
         "type": "scatter",
         "x": [
          0.06219444586665617,
          0.051668100730155764,
          null
         ],
         "y": [
          0.032125151958667275,
          0.055343590458516626,
          null
         ]
        },
        {
         "hoverinfo": "none",
         "line": {
          "color": "#888",
          "width": 7.078260233362022
         },
         "mode": "lines",
         "type": "scatter",
         "x": [
          0.06219444586665617,
          0.029012665400372162,
          null
         ],
         "y": [
          0.032125151958667275,
          0.04189826824538741,
          null
         ]
        },
        {
         "hoverinfo": "none",
         "line": {
          "color": "#888",
          "width": 8.262434292534286
         },
         "mode": "lines",
         "type": "scatter",
         "x": [
          0.06219444586665617,
          0.04970440637929779,
          null
         ],
         "y": [
          0.032125151958667275,
          0.025486103291545235,
          null
         ]
        },
        {
         "hoverinfo": "none",
         "line": {
          "color": "#888",
          "width": 7.659747663050794
         },
         "mode": "lines",
         "type": "scatter",
         "x": [
          0.06219444586665617,
          0.05631391082707372,
          null
         ],
         "y": [
          0.032125151958667275,
          0.011326749686911029,
          null
         ]
        },
        {
         "hoverinfo": "none",
         "line": {
          "color": "#888",
          "width": 7.512413435668601
         },
         "mode": "lines",
         "type": "scatter",
         "x": [
          0.06219444586665617,
          0.05677913646293775,
          null
         ],
         "y": [
          0.032125151958667275,
          0.024691956360039784,
          null
         ]
        },
        {
         "hoverinfo": "none",
         "line": {
          "color": "#888",
          "width": 7.292854463598842
         },
         "mode": "lines",
         "type": "scatter",
         "x": [
          0.06219444586665617,
          0.05296089611075171,
          null
         ],
         "y": [
          0.032125151958667275,
          0.0291410783850021,
          null
         ]
        },
        {
         "hoverinfo": "none",
         "line": {
          "color": "#888",
          "width": 7.777998152366019
         },
         "mode": "lines",
         "type": "scatter",
         "x": [
          0.06219444586665617,
          0.031118990225050696,
          null
         ],
         "y": [
          0.032125151958667275,
          0.016878798504403318,
          null
         ]
        },
        {
         "hoverinfo": "none",
         "line": {
          "color": "#888",
          "width": 8.167269289625535
         },
         "mode": "lines",
         "type": "scatter",
         "x": [
          0.06219444586665617,
          0.02906045571634478,
          null
         ],
         "y": [
          0.032125151958667275,
          0.025702062157286484,
          null
         ]
        },
        {
         "hoverinfo": "none",
         "line": {
          "color": "#888",
          "width": 7.883308996853047
         },
         "mode": "lines",
         "type": "scatter",
         "x": [
          0.06219444586665617,
          0.04619599653144016,
          null
         ],
         "y": [
          0.032125151958667275,
          0.027644664186740022,
          null
         ]
        },
        {
         "hoverinfo": "none",
         "line": {
          "color": "#888",
          "width": 7.476909849543124
         },
         "mode": "lines",
         "type": "scatter",
         "x": [
          0.06219444586665617,
          0.08201774277260196,
          null
         ],
         "y": [
          0.032125151958667275,
          0.031007177049165956,
          null
         ]
        },
        {
         "hoverinfo": "none",
         "line": {
          "color": "#888",
          "width": 7.440161926955681
         },
         "mode": "lines",
         "type": "scatter",
         "x": [
          0.06219444586665617,
          0.08778325327448383,
          null
         ],
         "y": [
          0.032125151958667275,
          0.060562243849421854,
          null
         ]
        },
        {
         "hoverinfo": "none",
         "line": {
          "color": "#888",
          "width": 7.679234107282563
         },
         "mode": "lines",
         "type": "scatter",
         "x": [
          0.06219444586665617,
          0.04424926983059967,
          null
         ],
         "y": [
          0.032125151958667275,
          0.009245192588423365,
          null
         ]
        },
        {
         "hoverinfo": "none",
         "line": {
          "color": "#888",
          "width": 7.112537058706644
         },
         "mode": "lines",
         "type": "scatter",
         "x": [
          0.06219444586665617,
          0.039847573723061344,
          null
         ],
         "y": [
          0.032125151958667275,
          0.022597028620224235,
          null
         ]
        },
        {
         "hoverinfo": "none",
         "line": {
          "color": "#888",
          "width": 7.069809280740943
         },
         "mode": "lines",
         "type": "scatter",
         "x": [
          0.06219444586665617,
          0.035123113123913655,
          null
         ],
         "y": [
          0.032125151958667275,
          -0.015184046650287686,
          null
         ]
        },
        {
         "hoverinfo": "none",
         "line": {
          "color": "#888",
          "width": 7.15921683948064
         },
         "mode": "lines",
         "type": "scatter",
         "x": [
          0.06219444586665617,
          0.021348718231508915,
          null
         ],
         "y": [
          0.032125151958667275,
          0.012451826275459169,
          null
         ]
        },
        {
         "hoverinfo": "none",
         "line": {
          "color": "#888",
          "width": 7.372633234798965
         },
         "mode": "lines",
         "type": "scatter",
         "x": [
          0.06219444586665617,
          0.04800116693795323,
          null
         ],
         "y": [
          0.032125151958667275,
          0.034310508589731406,
          null
         ]
        },
        {
         "hoverinfo": "none",
         "line": {
          "color": "#888",
          "width": 8.038530958784378
         },
         "mode": "lines",
         "type": "scatter",
         "x": [
          0.06219444586665617,
          0.06082795141898182,
          null
         ],
         "y": [
          0.032125151958667275,
          0.03833200467566781,
          null
         ]
        },
        {
         "hoverinfo": "none",
         "line": {
          "color": "#888",
          "width": 7.233437670342737
         },
         "mode": "lines",
         "type": "scatter",
         "x": [
          0.06219444586665617,
          0.07240371276515907,
          null
         ],
         "y": [
          0.032125151958667275,
          0.010354016717386371,
          null
         ]
        },
        {
         "hoverinfo": "none",
         "line": {
          "color": "#888",
          "width": 7.60419483200383
         },
         "mode": "lines",
         "type": "scatter",
         "x": [
          0.06219444586665617,
          0.05178108448531763,
          null
         ],
         "y": [
          0.032125151958667275,
          0.016646922726216835,
          null
         ]
        },
        {
         "hoverinfo": "none",
         "line": {
          "color": "#888",
          "width": 7.109346679521441
         },
         "mode": "lines",
         "type": "scatter",
         "x": [
          0.06219444586665617,
          0.025948658291624793,
          null
         ],
         "y": [
          0.032125151958667275,
          0.021254089073911894,
          null
         ]
        },
        {
         "hoverinfo": "none",
         "line": {
          "color": "#888",
          "width": 7.359613778840437
         },
         "mode": "lines",
         "type": "scatter",
         "x": [
          0.06219444586665617,
          0.04105751892921649,
          null
         ],
         "y": [
          0.032125151958667275,
          0.044797353804043524,
          null
         ]
        },
        {
         "hoverinfo": "none",
         "line": {
          "color": "#888",
          "width": 7.250873015214573
         },
         "mode": "lines",
         "type": "scatter",
         "x": [
          0.06219444586665617,
          0.038354719562571304,
          null
         ],
         "y": [
          0.032125151958667275,
          0.004161903113501472,
          null
         ]
        },
        {
         "hoverinfo": "none",
         "line": {
          "color": "#888",
          "width": 7.1062722786366415
         },
         "mode": "lines",
         "type": "scatter",
         "x": [
          0.06219444586665617,
          0.09843232497908064,
          null
         ],
         "y": [
          0.032125151958667275,
          0.061162624672075366,
          null
         ]
        },
        {
         "hoverinfo": "none",
         "line": {
          "color": "#888",
          "width": 7.08564612139365
         },
         "mode": "lines",
         "type": "scatter",
         "x": [
          0.06219444586665617,
          0.05167935923112888,
          null
         ],
         "y": [
          0.032125151958667275,
          0.007531767395388412,
          null
         ]
        },
        {
         "hoverinfo": "none",
         "line": {
          "color": "#888",
          "width": 7.554446543780995
         },
         "mode": "lines",
         "type": "scatter",
         "x": [
          0.06219444586665617,
          0.038942507500276856,
          null
         ],
         "y": [
          0.032125151958667275,
          0.03078782212668624,
          null
         ]
        },
        {
         "hoverinfo": "none",
         "line": {
          "color": "#888",
          "width": 7.749494888702965
         },
         "mode": "lines",
         "type": "scatter",
         "x": [
          0.06219444586665617,
          0.048041473944571596,
          null
         ],
         "y": [
          0.032125151958667275,
          0.04026545544474317,
          null
         ]
        },
        {
         "hoverinfo": "none",
         "line": {
          "color": "#888",
          "width": 8.03178870280626
         },
         "mode": "lines",
         "type": "scatter",
         "x": [
          0.06219444586665617,
          0.05408129257163386,
          null
         ],
         "y": [
          0.032125151958667275,
          0.04753925674074756,
          null
         ]
        },
        {
         "hoverinfo": "none",
         "line": {
          "color": "#888",
          "width": 7.489307302772926
         },
         "mode": "lines",
         "type": "scatter",
         "x": [
          0.06219444586665617,
          0.1382099068108629,
          null
         ],
         "y": [
          0.032125151958667275,
          0.034361954867391006,
          null
         ]
        },
        {
         "hoverinfo": "none",
         "line": {
          "color": "#888",
          "width": 7.732294391444167
         },
         "mode": "lines",
         "type": "scatter",
         "x": [
          0.06219444586665617,
          0.06387396726476834,
          null
         ],
         "y": [
          0.032125151958667275,
          0.042945063738044145,
          null
         ]
        },
        {
         "hoverinfo": "none",
         "line": {
          "color": "#888",
          "width": 7.635098056640544
         },
         "mode": "lines",
         "type": "scatter",
         "x": [
          0.05408129257163386,
          0.0737795776743241,
          null
         ],
         "y": [
          0.04753925674074756,
          0.055869186232856936,
          null
         ]
        },
        {
         "hoverinfo": "none",
         "line": {
          "color": "#888",
          "width": 7.595704381312187
         },
         "mode": "lines",
         "type": "scatter",
         "x": [
          0.05408129257163386,
          0.09775289659785226,
          null
         ],
         "y": [
          0.04753925674074756,
          0.02686448843901793,
          null
         ]
        },
        {
         "hoverinfo": "none",
         "line": {
          "color": "#888",
          "width": 7.117734578626347
         },
         "mode": "lines",
         "type": "scatter",
         "x": [
          0.05408129257163386,
          0.057379303598770866,
          null
         ],
         "y": [
          0.04753925674074756,
          0.019579423949201365,
          null
         ]
        },
        {
         "hoverinfo": "none",
         "line": {
          "color": "#888",
          "width": 7.24387603737196
         },
         "mode": "lines",
         "type": "scatter",
         "x": [
          0.05408129257163386,
          0.015405938830662207,
          null
         ],
         "y": [
          0.04753925674074756,
          0.0018236666551723337,
          null
         ]
        },
        {
         "hoverinfo": "none",
         "line": {
          "color": "#888",
          "width": 7.515596091670332
         },
         "mode": "lines",
         "type": "scatter",
         "x": [
          0.05408129257163386,
          0.06477890867944801,
          null
         ],
         "y": [
          0.04753925674074756,
          0.1362360799424783,
          null
         ]
        },
        {
         "hoverinfo": "none",
         "line": {
          "color": "#888",
          "width": 7.099391536474253
         },
         "mode": "lines",
         "type": "scatter",
         "x": [
          0.05408129257163386,
          0.029012665400372162,
          null
         ],
         "y": [
          0.04753925674074756,
          0.04189826824538741,
          null
         ]
        },
        {
         "hoverinfo": "none",
         "line": {
          "color": "#888",
          "width": 7.868552171979938
         },
         "mode": "lines",
         "type": "scatter",
         "x": [
          0.05408129257163386,
          0.04970440637929779,
          null
         ],
         "y": [
          0.04753925674074756,
          0.025486103291545235,
          null
         ]
        },
        {
         "hoverinfo": "none",
         "line": {
          "color": "#888",
          "width": 7.476553061119665
         },
         "mode": "lines",
         "type": "scatter",
         "x": [
          0.05408129257163386,
          0.05631391082707372,
          null
         ],
         "y": [
          0.04753925674074756,
          0.011326749686911029,
          null
         ]
        },
        {
         "hoverinfo": "none",
         "line": {
          "color": "#888",
          "width": 7.334636949136296
         },
         "mode": "lines",
         "type": "scatter",
         "x": [
          0.05408129257163386,
          0.05677913646293775,
          null
         ],
         "y": [
          0.04753925674074756,
          0.024691956360039784,
          null
         ]
        },
        {
         "hoverinfo": "none",
         "line": {
          "color": "#888",
          "width": 7.387965899019694
         },
         "mode": "lines",
         "type": "scatter",
         "x": [
          0.05408129257163386,
          0.05296089611075171,
          null
         ],
         "y": [
          0.04753925674074756,
          0.0291410783850021,
          null
         ]
        },
        {
         "hoverinfo": "none",
         "line": {
          "color": "#888",
          "width": 7.623879879297064
         },
         "mode": "lines",
         "type": "scatter",
         "x": [
          0.05408129257163386,
          0.02906045571634478,
          null
         ],
         "y": [
          0.04753925674074756,
          0.025702062157286484,
          null
         ]
        },
        {
         "hoverinfo": "none",
         "line": {
          "color": "#888",
          "width": 7.758394870376261
         },
         "mode": "lines",
         "type": "scatter",
         "x": [
          0.05408129257163386,
          0.04619599653144016,
          null
         ],
         "y": [
          0.04753925674074756,
          0.027644664186740022,
          null
         ]
        },
        {
         "hoverinfo": "none",
         "line": {
          "color": "#888",
          "width": 7.459500967526629
         },
         "mode": "lines",
         "type": "scatter",
         "x": [
          0.05408129257163386,
          0.08201774277260196,
          null
         ],
         "y": [
          0.04753925674074756,
          0.031007177049165956,
          null
         ]
        },
        {
         "hoverinfo": "none",
         "line": {
          "color": "#888",
          "width": 7.631561067781934
         },
         "mode": "lines",
         "type": "scatter",
         "x": [
          0.05408129257163386,
          0.04424926983059967,
          null
         ],
         "y": [
          0.04753925674074756,
          0.009245192588423365,
          null
         ]
        },
        {
         "hoverinfo": "none",
         "line": {
          "color": "#888",
          "width": 7.0861125019424245
         },
         "mode": "lines",
         "type": "scatter",
         "x": [
          0.05408129257163386,
          0.039847573723061344,
          null
         ],
         "y": [
          0.04753925674074756,
          0.022597028620224235,
          null
         ]
        },
        {
         "hoverinfo": "none",
         "line": {
          "color": "#888",
          "width": 7.401266213429518
         },
         "mode": "lines",
         "type": "scatter",
         "x": [
          0.05408129257163386,
          0.04800116693795323,
          null
         ],
         "y": [
          0.04753925674074756,
          0.034310508589731406,
          null
         ]
        },
        {
         "hoverinfo": "none",
         "line": {
          "color": "#888",
          "width": 7.528727473097918
         },
         "mode": "lines",
         "type": "scatter",
         "x": [
          0.05408129257163386,
          0.06082795141898182,
          null
         ],
         "y": [
          0.04753925674074756,
          0.03833200467566781,
          null
         ]
        },
        {
         "hoverinfo": "none",
         "line": {
          "color": "#888",
          "width": 7.030747935011772
         },
         "mode": "lines",
         "type": "scatter",
         "x": [
          0.05408129257163386,
          0.07716961454395974,
          null
         ],
         "y": [
          0.04753925674074756,
          0.04516494341131238,
          null
         ]
        },
        {
         "hoverinfo": "none",
         "line": {
          "color": "#888",
          "width": 7.326002062546742
         },
         "mode": "lines",
         "type": "scatter",
         "x": [
          0.05408129257163386,
          0.05178108448531763,
          null
         ],
         "y": [
          0.04753925674074756,
          0.016646922726216835,
          null
         ]
        },
        {
         "hoverinfo": "none",
         "line": {
          "color": "#888",
          "width": 7.04216417850701
         },
         "mode": "lines",
         "type": "scatter",
         "x": [
          0.05408129257163386,
          0.025948658291624793,
          null
         ],
         "y": [
          0.04753925674074756,
          0.021254089073911894,
          null
         ]
        },
        {
         "hoverinfo": "none",
         "line": {
          "color": "#888",
          "width": 7.431585415803859
         },
         "mode": "lines",
         "type": "scatter",
         "x": [
          0.05408129257163386,
          0.04105751892921649,
          null
         ],
         "y": [
          0.04753925674074756,
          0.044797353804043524,
          null
         ]
        },
        {
         "hoverinfo": "none",
         "line": {
          "color": "#888",
          "width": 7.206401867562734
         },
         "mode": "lines",
         "type": "scatter",
         "x": [
          0.05408129257163386,
          0.05797524860978553,
          null
         ],
         "y": [
          0.04753925674074756,
          -0.02918817069244344,
          null
         ]
        },
        {
         "hoverinfo": "none",
         "line": {
          "color": "#888",
          "width": 7.66686429777746
         },
         "mode": "lines",
         "type": "scatter",
         "x": [
          0.05408129257163386,
          0.038942507500276856,
          null
         ],
         "y": [
          0.04753925674074756,
          0.03078782212668624,
          null
         ]
        },
        {
         "hoverinfo": "none",
         "line": {
          "color": "#888",
          "width": 7.381511802241344
         },
         "mode": "lines",
         "type": "scatter",
         "x": [
          0.05408129257163386,
          0.048041473944571596,
          null
         ],
         "y": [
          0.04753925674074756,
          0.04026545544474317,
          null
         ]
        },
        {
         "hoverinfo": "none",
         "line": {
          "color": "#888",
          "width": 7.0269066828005915
         },
         "mode": "lines",
         "type": "scatter",
         "x": [
          0.12244964705766018,
          0.0737795776743241,
          null
         ],
         "y": [
          0.06624050008423835,
          0.055869186232856936,
          null
         ]
        },
        {
         "hoverinfo": "none",
         "line": {
          "color": "#888",
          "width": 7.122750080868718
         },
         "mode": "lines",
         "type": "scatter",
         "x": [
          0.12244964705766018,
          0.189959709684559,
          null
         ],
         "y": [
          0.06624050008423835,
          0.050798291719111294,
          null
         ]
        },
        {
         "hoverinfo": "none",
         "line": {
          "color": "#888",
          "width": 7.482689872192182
         },
         "mode": "lines",
         "type": "scatter",
         "x": [
          0.12244964705766018,
          0.030382176030538343,
          null
         ],
         "y": [
          0.06624050008423835,
          0.030926752700534445,
          null
         ]
        },
        {
         "hoverinfo": "none",
         "line": {
          "color": "#888",
          "width": 7.485446441430562
         },
         "mode": "lines",
         "type": "scatter",
         "x": [
          0.12244964705766018,
          0.09843232497908064,
          null
         ],
         "y": [
          0.06624050008423835,
          0.061162624672075366,
          null
         ]
        },
        {
         "hoverinfo": "none",
         "line": {
          "color": "#888",
          "width": 7.018960916436294
         },
         "mode": "lines",
         "type": "scatter",
         "x": [
          0.0737795776743241,
          0.09775289659785226,
          null
         ],
         "y": [
          0.055869186232856936,
          0.02686448843901793,
          null
         ]
        },
        {
         "hoverinfo": "none",
         "line": {
          "color": "#888",
          "width": 7.822967224555378
         },
         "mode": "lines",
         "type": "scatter",
         "x": [
          0.0737795776743241,
          0.04435818424278147,
          null
         ],
         "y": [
          0.055869186232856936,
          0.07208164124493636,
          null
         ]
        },
        {
         "hoverinfo": "none",
         "line": {
          "color": "#888",
          "width": 7.213132027880734
         },
         "mode": "lines",
         "type": "scatter",
         "x": [
          0.0737795776743241,
          0.04970440637929779,
          null
         ],
         "y": [
          0.055869186232856936,
          0.025486103291545235,
          null
         ]
        },
        {
         "hoverinfo": "none",
         "line": {
          "color": "#888",
          "width": 7.409693736338375
         },
         "mode": "lines",
         "type": "scatter",
         "x": [
          0.0737795776743241,
          0.04619599653144016,
          null
         ],
         "y": [
          0.055869186232856936,
          0.027644664186740022,
          null
         ]
        },
        {
         "hoverinfo": "none",
         "line": {
          "color": "#888",
          "width": 7.624958835103039
         },
         "mode": "lines",
         "type": "scatter",
         "x": [
          0.0737795776743241,
          0.09864440142373938,
          null
         ],
         "y": [
          0.055869186232856936,
          0.10133529571902784,
          null
         ]
        },
        {
         "hoverinfo": "none",
         "line": {
          "color": "#888",
          "width": 7.0760536635052675
         },
         "mode": "lines",
         "type": "scatter",
         "x": [
          0.0737795776743241,
          0.04800116693795323,
          null
         ],
         "y": [
          0.055869186232856936,
          0.034310508589731406,
          null
         ]
        },
        {
         "hoverinfo": "none",
         "line": {
          "color": "#888",
          "width": 8.248957569774317
         },
         "mode": "lines",
         "type": "scatter",
         "x": [
          0.0737795776743241,
          0.06082795141898182,
          null
         ],
         "y": [
          0.055869186232856936,
          0.03833200467566781,
          null
         ]
        },
        {
         "hoverinfo": "none",
         "line": {
          "color": "#888",
          "width": 7.333047627746437
         },
         "mode": "lines",
         "type": "scatter",
         "x": [
          0.0737795776743241,
          0.05978222685416067,
          null
         ],
         "y": [
          0.055869186232856936,
          0.12396345172219234,
          null
         ]
        },
        {
         "hoverinfo": "none",
         "line": {
          "color": "#888",
          "width": 7.186328157900549
         },
         "mode": "lines",
         "type": "scatter",
         "x": [
          0.0737795776743241,
          0.05178108448531763,
          null
         ],
         "y": [
          0.055869186232856936,
          0.016646922726216835,
          null
         ]
        },
        {
         "hoverinfo": "none",
         "line": {
          "color": "#888",
          "width": 8.199790465361469
         },
         "mode": "lines",
         "type": "scatter",
         "x": [
          0.0737795776743241,
          0.04105751892921649,
          null
         ],
         "y": [
          0.055869186232856936,
          0.044797353804043524,
          null
         ]
        },
        {
         "hoverinfo": "none",
         "line": {
          "color": "#888",
          "width": 7.3136965348435545
         },
         "mode": "lines",
         "type": "scatter",
         "x": [
          0.0737795776743241,
          0.06190168719275233,
          null
         ],
         "y": [
          0.055869186232856936,
          0.058304571013040554,
          null
         ]
        },
        {
         "hoverinfo": "none",
         "line": {
          "color": "#888",
          "width": 8.767095175036783
         },
         "mode": "lines",
         "type": "scatter",
         "x": [
          0.0737795776743241,
          0.09843232497908064,
          null
         ],
         "y": [
          0.055869186232856936,
          0.061162624672075366,
          null
         ]
        },
        {
         "hoverinfo": "none",
         "line": {
          "color": "#888",
          "width": 7.087718664174453
         },
         "mode": "lines",
         "type": "scatter",
         "x": [
          0.0737795776743241,
          0.05729585053501123,
          null
         ],
         "y": [
          0.055869186232856936,
          -0.04313670291908785,
          null
         ]
        },
        {
         "hoverinfo": "none",
         "line": {
          "color": "#888",
          "width": 7.392213027380161
         },
         "mode": "lines",
         "type": "scatter",
         "x": [
          0.0737795776743241,
          0.048041473944571596,
          null
         ],
         "y": [
          0.055869186232856936,
          0.04026545544474317,
          null
         ]
        },
        {
         "hoverinfo": "none",
         "line": {
          "color": "#888",
          "width": 8.056351643333294
         },
         "mode": "lines",
         "type": "scatter",
         "x": [
          0.189959709684559,
          0.20338237806096396,
          null
         ],
         "y": [
          0.050798291719111294,
          0.03485325845381019,
          null
         ]
        },
        {
         "hoverinfo": "none",
         "line": {
          "color": "#888",
          "width": 7.55500135278052
         },
         "mode": "lines",
         "type": "scatter",
         "x": [
          0.189959709684559,
          0.20862690521711022,
          null
         ],
         "y": [
          0.050798291719111294,
          0.02449080547974953,
          null
         ]
        },
        {
         "hoverinfo": "none",
         "line": {
          "color": "#888",
          "width": 8.190627423707518
         },
         "mode": "lines",
         "type": "scatter",
         "x": [
          0.189959709684559,
          0.21383540443192287,
          null
         ],
         "y": [
          0.050798291719111294,
          0.03547019880769442,
          null
         ]
        },
        {
         "hoverinfo": "none",
         "line": {
          "color": "#888",
          "width": 7.66660595841362
         },
         "mode": "lines",
         "type": "scatter",
         "x": [
          0.189959709684559,
          0.12988163645410297,
          null
         ],
         "y": [
          0.050798291719111294,
          0.03675293578193367,
          null
         ]
        },
        {
         "hoverinfo": "none",
         "line": {
          "color": "#888",
          "width": 7.004005625229899
         },
         "mode": "lines",
         "type": "scatter",
         "x": [
          0.030382176030538343,
          0.056936006808823186,
          null
         ],
         "y": [
          0.030926752700534445,
          0.016111406497531542,
          null
         ]
        },
        {
         "hoverinfo": "none",
         "line": {
          "color": "#888",
          "width": 7.154961415673343
         },
         "mode": "lines",
         "type": "scatter",
         "x": [
          0.030382176030538343,
          -0.015159286895460984,
          null
         ],
         "y": [
          0.030926752700534445,
          0.022380869498685244,
          null
         ]
        },
        {
         "hoverinfo": "none",
         "line": {
          "color": "#888",
          "width": 7.239022504669542
         },
         "mode": "lines",
         "type": "scatter",
         "x": [
          0.030382176030538343,
          0.035520716994915845,
          null
         ],
         "y": [
          0.030926752700534445,
          0.00029598348700220147,
          null
         ]
        },
        {
         "hoverinfo": "none",
         "line": {
          "color": "#888",
          "width": 7.50197651454024
         },
         "mode": "lines",
         "type": "scatter",
         "x": [
          0.030382176030538343,
          0.047788858802087525,
          null
         ],
         "y": [
          0.030926752700534445,
          0.01943922284043798,
          null
         ]
        },
        {
         "hoverinfo": "none",
         "line": {
          "color": "#888",
          "width": 7.482371469171426
         },
         "mode": "lines",
         "type": "scatter",
         "x": [
          0.030382176030538343,
          -0.006214060919075264,
          null
         ],
         "y": [
          0.030926752700534445,
          0.024114674815726177,
          null
         ]
        },
        {
         "hoverinfo": "none",
         "line": {
          "color": "#888",
          "width": 7.258002859777309
         },
         "mode": "lines",
         "type": "scatter",
         "x": [
          0.030382176030538343,
          -0.02610107639278104,
          null
         ],
         "y": [
          0.030926752700534445,
          0.025977183162380305,
          null
         ]
        },
        {
         "hoverinfo": "none",
         "line": {
          "color": "#888",
          "width": 7.300565067521113
         },
         "mode": "lines",
         "type": "scatter",
         "x": [
          0.030382176030538343,
          0.044543130719242284,
          null
         ],
         "y": [
          0.030926752700534445,
          -0.007284453597997196,
          null
         ]
        },
        {
         "hoverinfo": "none",
         "line": {
          "color": "#888",
          "width": 7.179078414722138
         },
         "mode": "lines",
         "type": "scatter",
         "x": [
          0.030382176030538343,
          0.031118990225050696,
          null
         ],
         "y": [
          0.030926752700534445,
          0.016878798504403318,
          null
         ]
        },
        {
         "hoverinfo": "none",
         "line": {
          "color": "#888",
          "width": 7.299915431076584
         },
         "mode": "lines",
         "type": "scatter",
         "x": [
          0.030382176030538343,
          0.04619599653144016,
          null
         ],
         "y": [
          0.030926752700534445,
          0.027644664186740022,
          null
         ]
        },
        {
         "hoverinfo": "none",
         "line": {
          "color": "#888",
          "width": 7.489074329380511
         },
         "mode": "lines",
         "type": "scatter",
         "x": [
          0.030382176030538343,
          0.04424926983059967,
          null
         ],
         "y": [
          0.030926752700534445,
          0.009245192588423365,
          null
         ]
        },
        {
         "hoverinfo": "none",
         "line": {
          "color": "#888",
          "width": 7.308950312904209
         },
         "mode": "lines",
         "type": "scatter",
         "x": [
          0.030382176030538343,
          0.039847573723061344,
          null
         ],
         "y": [
          0.030926752700534445,
          0.022597028620224235,
          null
         ]
        },
        {
         "hoverinfo": "none",
         "line": {
          "color": "#888",
          "width": 7.8011614983890585
         },
         "mode": "lines",
         "type": "scatter",
         "x": [
          0.030382176030538343,
          0.04221760964270946,
          null
         ],
         "y": [
          0.030926752700534445,
          0.003341464908629855,
          null
         ]
        },
        {
         "hoverinfo": "none",
         "line": {
          "color": "#888",
          "width": 7.528796341784133
         },
         "mode": "lines",
         "type": "scatter",
         "x": [
          0.030382176030538343,
          -0.0036638285830947353,
          null
         ],
         "y": [
          0.030926752700534445,
          0.01820132804210753,
          null
         ]
        },
        {
         "hoverinfo": "none",
         "line": {
          "color": "#888",
          "width": 7.236351643491556
         },
         "mode": "lines",
         "type": "scatter",
         "x": [
          0.030382176030538343,
          0.021348718231508915,
          null
         ],
         "y": [
          0.030926752700534445,
          0.012451826275459169,
          null
         ]
        },
        {
         "hoverinfo": "none",
         "line": {
          "color": "#888",
          "width": 7.572059558274205
         },
         "mode": "lines",
         "type": "scatter",
         "x": [
          0.030382176030538343,
          0.02316199970847503,
          null
         ],
         "y": [
          0.030926752700534445,
          0.008806188342982607,
          null
         ]
        },
        {
         "hoverinfo": "none",
         "line": {
          "color": "#888",
          "width": 7.509912306755772
         },
         "mode": "lines",
         "type": "scatter",
         "x": [
          0.030382176030538343,
          0.06082795141898182,
          null
         ],
         "y": [
          0.030926752700534445,
          0.03833200467566781,
          null
         ]
        },
        {
         "hoverinfo": "none",
         "line": {
          "color": "#888",
          "width": 7.658490230574958
         },
         "mode": "lines",
         "type": "scatter",
         "x": [
          0.030382176030538343,
          0.07716961454395974,
          null
         ],
         "y": [
          0.030926752700534445,
          0.04516494341131238,
          null
         ]
        },
        {
         "hoverinfo": "none",
         "line": {
          "color": "#888",
          "width": 7.415777431048408
         },
         "mode": "lines",
         "type": "scatter",
         "x": [
          0.030382176030538343,
          0.05178108448531763,
          null
         ],
         "y": [
          0.030926752700534445,
          0.016646922726216835,
          null
         ]
        },
        {
         "hoverinfo": "none",
         "line": {
          "color": "#888",
          "width": 7.656550317851255
         },
         "mode": "lines",
         "type": "scatter",
         "x": [
          0.030382176030538343,
          0.038354719562571304,
          null
         ],
         "y": [
          0.030926752700534445,
          0.004161903113501472,
          null
         ]
        },
        {
         "hoverinfo": "none",
         "line": {
          "color": "#888",
          "width": 7.5529071354835615
         },
         "mode": "lines",
         "type": "scatter",
         "x": [
          0.030382176030538343,
          0.00287363361652794,
          null
         ],
         "y": [
          0.030926752700534445,
          0.019637745264321386,
          null
         ]
        },
        {
         "hoverinfo": "none",
         "line": {
          "color": "#888",
          "width": 7.020772418633856
         },
         "mode": "lines",
         "type": "scatter",
         "x": [
          0.030382176030538343,
          0.04467832748370658,
          null
         ],
         "y": [
          0.030926752700534445,
          -0.003629286852666818,
          null
         ]
        },
        {
         "hoverinfo": "none",
         "line": {
          "color": "#888",
          "width": 7.072647423667328
         },
         "mode": "lines",
         "type": "scatter",
         "x": [
          0.030382176030538343,
          0.03513349996217932,
          null
         ],
         "y": [
          0.030926752700534445,
          0.013867105482447939,
          null
         ]
        },
        {
         "hoverinfo": "none",
         "line": {
          "color": "#888",
          "width": 7.16943873421087
         },
         "mode": "lines",
         "type": "scatter",
         "x": [
          0.09843232497908064,
          0.09723806063632065,
          null
         ],
         "y": [
          0.061162624672075366,
          0.013264870685033976,
          null
         ]
        },
        {
         "hoverinfo": "none",
         "line": {
          "color": "#888",
          "width": 7.40003893563072
         },
         "mode": "lines",
         "type": "scatter",
         "x": [
          0.09843232497908064,
          0.06082795141898182,
          null
         ],
         "y": [
          0.061162624672075366,
          0.03833200467566781,
          null
         ]
        },
        {
         "hoverinfo": "none",
         "line": {
          "color": "#888",
          "width": 7.204728599173206
         },
         "mode": "lines",
         "type": "scatter",
         "x": [
          0.09843232497908064,
          0.04105751892921649,
          null
         ],
         "y": [
          0.061162624672075366,
          0.044797353804043524,
          null
         ]
        },
        {
         "hoverinfo": "none",
         "line": {
          "color": "#888",
          "width": 7.117613639853058
         },
         "mode": "lines",
         "type": "scatter",
         "x": [
          -0.9049029663318878,
          -0.8849665700385562,
          null
         ],
         "y": [
          0.17991915152867063,
          0.17503076147380572,
          null
         ]
        },
        {
         "hoverinfo": "none",
         "line": {
          "color": "#888",
          "width": 8.41437738931196
         },
         "mode": "lines",
         "type": "scatter",
         "x": [
          -0.12952753724586755,
          -0.1742328278152644,
          null
         ],
         "y": [
          0.12968811222586454,
          0.14716499419886614,
          null
         ]
        },
        {
         "hoverinfo": "none",
         "line": {
          "color": "#888",
          "width": 7.6798820908259655
         },
         "mode": "lines",
         "type": "scatter",
         "x": [
          -0.12952753724586755,
          -0.11728740254548076,
          null
         ],
         "y": [
          0.12968811222586454,
          0.12871455085397457,
          null
         ]
        },
        {
         "hoverinfo": "none",
         "line": {
          "color": "#888",
          "width": 8.53510527534253
         },
         "mode": "lines",
         "type": "scatter",
         "x": [
          -0.12952753724586755,
          -0.1523380517300346,
          null
         ],
         "y": [
          0.12968811222586454,
          0.1421055486768911,
          null
         ]
        },
        {
         "hoverinfo": "none",
         "line": {
          "color": "#888",
          "width": 8.190386037723945
         },
         "mode": "lines",
         "type": "scatter",
         "x": [
          -0.12952753724586755,
          -0.14428112039746577,
          null
         ],
         "y": [
          0.12968811222586454,
          0.15194122784034825,
          null
         ]
        },
        {
         "hoverinfo": "none",
         "line": {
          "color": "#888",
          "width": 8.120565643834363
         },
         "mode": "lines",
         "type": "scatter",
         "x": [
          -0.12952753724586755,
          -0.15533172520498428,
          null
         ],
         "y": [
          0.12968811222586454,
          0.1314163151783485,
          null
         ]
        },
        {
         "hoverinfo": "none",
         "line": {
          "color": "#888",
          "width": 7.443739713966222
         },
         "mode": "lines",
         "type": "scatter",
         "x": [
          -0.12952753724586755,
          -0.1638887339897438,
          null
         ],
         "y": [
          0.12968811222586454,
          0.13121110058704255,
          null
         ]
        },
        {
         "hoverinfo": "none",
         "line": {
          "color": "#888",
          "width": 8.121037713668471
         },
         "mode": "lines",
         "type": "scatter",
         "x": [
          -0.12952753724586755,
          -0.13689780944050867,
          null
         ],
         "y": [
          0.12968811222586454,
          0.14381112618235226,
          null
         ]
        },
        {
         "hoverinfo": "none",
         "line": {
          "color": "#888",
          "width": 7.330576653326844
         },
         "mode": "lines",
         "type": "scatter",
         "x": [
          -0.12952753724586755,
          -0.16500634709913684,
          null
         ],
         "y": [
          0.12968811222586454,
          0.1567765324688131,
          null
         ]
        },
        {
         "hoverinfo": "none",
         "line": {
          "color": "#888",
          "width": 8.156611640025076
         },
         "mode": "lines",
         "type": "scatter",
         "x": [
          -0.12952753724586755,
          -0.13987314061963524,
          null
         ],
         "y": [
          0.12968811222586454,
          0.13597998017091042,
          null
         ]
        },
        {
         "hoverinfo": "none",
         "line": {
          "color": "#888",
          "width": 7.943113177368958
         },
         "mode": "lines",
         "type": "scatter",
         "x": [
          -0.12952753724586755,
          -0.1789666199487809,
          null
         ],
         "y": [
          0.12968811222586454,
          0.13391487928818036,
          null
         ]
        },
        {
         "hoverinfo": "none",
         "line": {
          "color": "#888",
          "width": 8.71600776771189
         },
         "mode": "lines",
         "type": "scatter",
         "x": [
          -0.12952753724586755,
          -0.13198502317037067,
          null
         ],
         "y": [
          0.12968811222586454,
          0.12556233539898562,
          null
         ]
        },
        {
         "hoverinfo": "none",
         "line": {
          "color": "#888",
          "width": 7.13401903087231
         },
         "mode": "lines",
         "type": "scatter",
         "x": [
          -0.12952753724586755,
          -0.1605197915208082,
          null
         ],
         "y": [
          0.12968811222586454,
          0.16910459129874333,
          null
         ]
        },
        {
         "hoverinfo": "none",
         "line": {
          "color": "#888",
          "width": 7.700829645650219
         },
         "mode": "lines",
         "type": "scatter",
         "x": [
          -0.12952753724586755,
          -0.14327665976696743,
          null
         ],
         "y": [
          0.12968811222586454,
          0.1457092303249512,
          null
         ]
        },
        {
         "hoverinfo": "none",
         "line": {
          "color": "#888",
          "width": 7.856133566990637
         },
         "mode": "lines",
         "type": "scatter",
         "x": [
          -0.12952753724586755,
          -0.16588389974663478,
          null
         ],
         "y": [
          0.12968811222586454,
          0.14014337333941168,
          null
         ]
        },
        {
         "hoverinfo": "none",
         "line": {
          "color": "#888",
          "width": 7.646681402839889
         },
         "mode": "lines",
         "type": "scatter",
         "x": [
          -0.12952753724586755,
          -0.13667925265261593,
          null
         ],
         "y": [
          0.12968811222586454,
          0.15533931394300962,
          null
         ]
        },
        {
         "hoverinfo": "none",
         "line": {
          "color": "#888",
          "width": 7.939445236056356
         },
         "mode": "lines",
         "type": "scatter",
         "x": [
          -0.12952753724586755,
          -0.1605583208526066,
          null
         ],
         "y": [
          0.12968811222586454,
          0.14670999288989472,
          null
         ]
        },
        {
         "hoverinfo": "none",
         "line": {
          "color": "#888",
          "width": 7.91080431190781
         },
         "mode": "lines",
         "type": "scatter",
         "x": [
          -0.12952753724586755,
          -0.14612759544688866,
          null
         ],
         "y": [
          0.12968811222586454,
          0.1365571409183694,
          null
         ]
        },
        {
         "hoverinfo": "none",
         "line": {
          "color": "#888",
          "width": 8.389411706142969
         },
         "mode": "lines",
         "type": "scatter",
         "x": [
          -0.12952753724586755,
          -0.12360927558737468,
          null
         ],
         "y": [
          0.12968811222586454,
          0.12285263473744726,
          null
         ]
        },
        {
         "hoverinfo": "none",
         "line": {
          "color": "#888",
          "width": 8.944554523774414
         },
         "mode": "lines",
         "type": "scatter",
         "x": [
          -0.12952753724586755,
          -0.1528544167912979,
          null
         ],
         "y": [
          0.12968811222586454,
          0.13616586845651688,
          null
         ]
        },
        {
         "hoverinfo": "none",
         "line": {
          "color": "#888",
          "width": 8.774058551011874
         },
         "mode": "lines",
         "type": "scatter",
         "x": [
          -0.12952753724586755,
          -0.15365576487651394,
          null
         ],
         "y": [
          0.12968811222586454,
          0.14954794863941687,
          null
         ]
        },
        {
         "hoverinfo": "none",
         "line": {
          "color": "#888",
          "width": 7.678757585515882
         },
         "mode": "lines",
         "type": "scatter",
         "x": [
          -0.1742328278152644,
          -0.1523380517300346,
          null
         ],
         "y": [
          0.14716499419886614,
          0.1421055486768911,
          null
         ]
        },
        {
         "hoverinfo": "none",
         "line": {
          "color": "#888",
          "width": 7.170130905964445
         },
         "mode": "lines",
         "type": "scatter",
         "x": [
          -0.1742328278152644,
          -0.14428112039746577,
          null
         ],
         "y": [
          0.14716499419886614,
          0.15194122784034825,
          null
         ]
        },
        {
         "hoverinfo": "none",
         "line": {
          "color": "#888",
          "width": 7.848133393604339
         },
         "mode": "lines",
         "type": "scatter",
         "x": [
          -0.1742328278152644,
          -0.15533172520498428,
          null
         ],
         "y": [
          0.14716499419886614,
          0.1314163151783485,
          null
         ]
        },
        {
         "hoverinfo": "none",
         "line": {
          "color": "#888",
          "width": 9.167524567936209
         },
         "mode": "lines",
         "type": "scatter",
         "x": [
          -0.1742328278152644,
          -0.1789666199487809,
          null
         ],
         "y": [
          0.14716499419886614,
          0.13391487928818036,
          null
         ]
        },
        {
         "hoverinfo": "none",
         "line": {
          "color": "#888",
          "width": 7.676938902907601
         },
         "mode": "lines",
         "type": "scatter",
         "x": [
          -0.1742328278152644,
          -0.13198502317037067,
          null
         ],
         "y": [
          0.14716499419886614,
          0.12556233539898562,
          null
         ]
        },
        {
         "hoverinfo": "none",
         "line": {
          "color": "#888",
          "width": 7.209989505001894
         },
         "mode": "lines",
         "type": "scatter",
         "x": [
          -0.1742328278152644,
          -0.16588389974663478,
          null
         ],
         "y": [
          0.14716499419886614,
          0.14014337333941168,
          null
         ]
        },
        {
         "hoverinfo": "none",
         "line": {
          "color": "#888",
          "width": 7.457925218674234
         },
         "mode": "lines",
         "type": "scatter",
         "x": [
          -0.1742328278152644,
          -0.1605583208526066,
          null
         ],
         "y": [
          0.14716499419886614,
          0.14670999288989472,
          null
         ]
        },
        {
         "hoverinfo": "none",
         "line": {
          "color": "#888",
          "width": 7.9987425597238
         },
         "mode": "lines",
         "type": "scatter",
         "x": [
          -0.1742328278152644,
          -0.1528544167912979,
          null
         ],
         "y": [
          0.14716499419886614,
          0.13616586845651688,
          null
         ]
        },
        {
         "hoverinfo": "none",
         "line": {
          "color": "#888",
          "width": 7.084101210616463
         },
         "mode": "lines",
         "type": "scatter",
         "x": [
          -0.1742328278152644,
          -0.15365576487651394,
          null
         ],
         "y": [
          0.14716499419886614,
          0.14954794863941687,
          null
         ]
        },
        {
         "hoverinfo": "none",
         "line": {
          "color": "#888",
          "width": 7.608472544004094
         },
         "mode": "lines",
         "type": "scatter",
         "x": [
          -0.11728740254548076,
          -0.1523380517300346,
          null
         ],
         "y": [
          0.12871455085397457,
          0.1421055486768911,
          null
         ]
        },
        {
         "hoverinfo": "none",
         "line": {
          "color": "#888",
          "width": 7.743600137493717
         },
         "mode": "lines",
         "type": "scatter",
         "x": [
          -0.11728740254548076,
          -0.14428112039746577,
          null
         ],
         "y": [
          0.12871455085397457,
          0.15194122784034825,
          null
         ]
        },
        {
         "hoverinfo": "none",
         "line": {
          "color": "#888",
          "width": 7.165240571872262
         },
         "mode": "lines",
         "type": "scatter",
         "x": [
          -0.11728740254548076,
          -0.15533172520498428,
          null
         ],
         "y": [
          0.12871455085397457,
          0.1314163151783485,
          null
         ]
        },
        {
         "hoverinfo": "none",
         "line": {
          "color": "#888",
          "width": 8.04569122902106
         },
         "mode": "lines",
         "type": "scatter",
         "x": [
          -0.11728740254548076,
          -0.13689780944050867,
          null
         ],
         "y": [
          0.12871455085397457,
          0.14381112618235226,
          null
         ]
        },
        {
         "hoverinfo": "none",
         "line": {
          "color": "#888",
          "width": 7.200805173526455
         },
         "mode": "lines",
         "type": "scatter",
         "x": [
          -0.11728740254548076,
          -0.16500634709913684,
          null
         ],
         "y": [
          0.12871455085397457,
          0.1567765324688131,
          null
         ]
        },
        {
         "hoverinfo": "none",
         "line": {
          "color": "#888",
          "width": 7.38173978527143
         },
         "mode": "lines",
         "type": "scatter",
         "x": [
          -0.11728740254548076,
          -0.0991643175331902,
          null
         ],
         "y": [
          0.12871455085397457,
          0.13843322154091828,
          null
         ]
        },
        {
         "hoverinfo": "none",
         "line": {
          "color": "#888",
          "width": 8.296929101685794
         },
         "mode": "lines",
         "type": "scatter",
         "x": [
          -0.11728740254548076,
          -0.13987314061963524,
          null
         ],
         "y": [
          0.12871455085397457,
          0.13597998017091042,
          null
         ]
        },
        {
         "hoverinfo": "none",
         "line": {
          "color": "#888",
          "width": 7.562279354185498
         },
         "mode": "lines",
         "type": "scatter",
         "x": [
          -0.11728740254548076,
          -0.13198502317037067,
          null
         ],
         "y": [
          0.12871455085397457,
          0.12556233539898562,
          null
         ]
        },
        {
         "hoverinfo": "none",
         "line": {
          "color": "#888",
          "width": 7.7832379807030625
         },
         "mode": "lines",
         "type": "scatter",
         "x": [
          -0.11728740254548076,
          -0.14327665976696743,
          null
         ],
         "y": [
          0.12871455085397457,
          0.1457092303249512,
          null
         ]
        },
        {
         "hoverinfo": "none",
         "line": {
          "color": "#888",
          "width": 7.752384547112009
         },
         "mode": "lines",
         "type": "scatter",
         "x": [
          -0.11728740254548076,
          -0.13667925265261593,
          null
         ],
         "y": [
          0.12871455085397457,
          0.15533931394300962,
          null
         ]
        },
        {
         "hoverinfo": "none",
         "line": {
          "color": "#888",
          "width": 8.281012860807941
         },
         "mode": "lines",
         "type": "scatter",
         "x": [
          -0.11728740254548076,
          -0.14612759544688866,
          null
         ],
         "y": [
          0.12871455085397457,
          0.1365571409183694,
          null
         ]
        },
        {
         "hoverinfo": "none",
         "line": {
          "color": "#888",
          "width": 8.30850258422071
         },
         "mode": "lines",
         "type": "scatter",
         "x": [
          -0.11728740254548076,
          -0.12360927558737468,
          null
         ],
         "y": [
          0.12871455085397457,
          0.12285263473744726,
          null
         ]
        },
        {
         "hoverinfo": "none",
         "line": {
          "color": "#888",
          "width": 7.777234246535867
         },
         "mode": "lines",
         "type": "scatter",
         "x": [
          -0.11728740254548076,
          -0.1528544167912979,
          null
         ],
         "y": [
          0.12871455085397457,
          0.13616586845651688,
          null
         ]
        },
        {
         "hoverinfo": "none",
         "line": {
          "color": "#888",
          "width": 8.059963139046907
         },
         "mode": "lines",
         "type": "scatter",
         "x": [
          -0.11728740254548076,
          -0.15365576487651394,
          null
         ],
         "y": [
          0.12871455085397457,
          0.14954794863941687,
          null
         ]
        },
        {
         "hoverinfo": "none",
         "line": {
          "color": "#888",
          "width": 7.6392138270240775
         },
         "mode": "lines",
         "type": "scatter",
         "x": [
          -0.1523380517300346,
          -0.183437472578963,
          null
         ],
         "y": [
          0.1421055486768911,
          0.1602029555449687,
          null
         ]
        },
        {
         "hoverinfo": "none",
         "line": {
          "color": "#888",
          "width": 8.245161004467619
         },
         "mode": "lines",
         "type": "scatter",
         "x": [
          -0.1523380517300346,
          -0.14428112039746577,
          null
         ],
         "y": [
          0.1421055486768911,
          0.15194122784034825,
          null
         ]
        },
        {
         "hoverinfo": "none",
         "line": {
          "color": "#888",
          "width": 8.762605564871249
         },
         "mode": "lines",
         "type": "scatter",
         "x": [
          -0.1523380517300346,
          -0.15533172520498428,
          null
         ],
         "y": [
          0.1421055486768911,
          0.1314163151783485,
          null
         ]
        },
        {
         "hoverinfo": "none",
         "line": {
          "color": "#888",
          "width": 8.15332220102733
         },
         "mode": "lines",
         "type": "scatter",
         "x": [
          -0.1523380517300346,
          -0.1638887339897438,
          null
         ],
         "y": [
          0.1421055486768911,
          0.13121110058704255,
          null
         ]
        },
        {
         "hoverinfo": "none",
         "line": {
          "color": "#888",
          "width": 8.327618852915222
         },
         "mode": "lines",
         "type": "scatter",
         "x": [
          -0.1523380517300346,
          -0.13689780944050867,
          null
         ],
         "y": [
          0.1421055486768911,
          0.14381112618235226,
          null
         ]
        },
        {
         "hoverinfo": "none",
         "line": {
          "color": "#888",
          "width": 8.184086627134233
         },
         "mode": "lines",
         "type": "scatter",
         "x": [
          -0.1523380517300346,
          -0.16500634709913684,
          null
         ],
         "y": [
          0.1421055486768911,
          0.1567765324688131,
          null
         ]
        },
        {
         "hoverinfo": "none",
         "line": {
          "color": "#888",
          "width": 7.610308849394718
         },
         "mode": "lines",
         "type": "scatter",
         "x": [
          -0.1523380517300346,
          -0.13987314061963524,
          null
         ],
         "y": [
          0.1421055486768911,
          0.13597998017091042,
          null
         ]
        },
        {
         "hoverinfo": "none",
         "line": {
          "color": "#888",
          "width": 7.431805644232291
         },
         "mode": "lines",
         "type": "scatter",
         "x": [
          -0.1523380517300346,
          -0.1789666199487809,
          null
         ],
         "y": [
          0.1421055486768911,
          0.13391487928818036,
          null
         ]
        },
        {
         "hoverinfo": "none",
         "line": {
          "color": "#888",
          "width": 8.696765204012003
         },
         "mode": "lines",
         "type": "scatter",
         "x": [
          -0.1523380517300346,
          -0.13198502317037067,
          null
         ],
         "y": [
          0.1421055486768911,
          0.12556233539898562,
          null
         ]
        },
        {
         "hoverinfo": "none",
         "line": {
          "color": "#888",
          "width": 8.14304657693527
         },
         "mode": "lines",
         "type": "scatter",
         "x": [
          -0.1523380517300346,
          -0.14327665976696743,
          null
         ],
         "y": [
          0.1421055486768911,
          0.1457092303249512,
          null
         ]
        },
        {
         "hoverinfo": "none",
         "line": {
          "color": "#888",
          "width": 8.12516373179293
         },
         "mode": "lines",
         "type": "scatter",
         "x": [
          -0.1523380517300346,
          -0.16588389974663478,
          null
         ],
         "y": [
          0.1421055486768911,
          0.14014337333941168,
          null
         ]
        },
        {
         "hoverinfo": "none",
         "line": {
          "color": "#888",
          "width": 7.717877598869146
         },
         "mode": "lines",
         "type": "scatter",
         "x": [
          -0.1523380517300346,
          -0.13667925265261593,
          null
         ],
         "y": [
          0.1421055486768911,
          0.15533931394300962,
          null
         ]
        },
        {
         "hoverinfo": "none",
         "line": {
          "color": "#888",
          "width": 8.08544562930731
         },
         "mode": "lines",
         "type": "scatter",
         "x": [
          -0.1523380517300346,
          -0.1605583208526066,
          null
         ],
         "y": [
          0.1421055486768911,
          0.14670999288989472,
          null
         ]
        },
        {
         "hoverinfo": "none",
         "line": {
          "color": "#888",
          "width": 7.933225217866533
         },
         "mode": "lines",
         "type": "scatter",
         "x": [
          -0.1523380517300346,
          -0.14612759544688866,
          null
         ],
         "y": [
          0.1421055486768911,
          0.1365571409183694,
          null
         ]
        },
        {
         "hoverinfo": "none",
         "line": {
          "color": "#888",
          "width": 7.735558406073567
         },
         "mode": "lines",
         "type": "scatter",
         "x": [
          -0.1523380517300346,
          -0.12360927558737468,
          null
         ],
         "y": [
          0.1421055486768911,
          0.12285263473744726,
          null
         ]
        },
        {
         "hoverinfo": "none",
         "line": {
          "color": "#888",
          "width": 8.610623457389567
         },
         "mode": "lines",
         "type": "scatter",
         "x": [
          -0.1523380517300346,
          -0.1528544167912979,
          null
         ],
         "y": [
          0.1421055486768911,
          0.13616586845651688,
          null
         ]
        },
        {
         "hoverinfo": "none",
         "line": {
          "color": "#888",
          "width": 8.856872541665414
         },
         "mode": "lines",
         "type": "scatter",
         "x": [
          -0.1523380517300346,
          -0.15365576487651394,
          null
         ],
         "y": [
          0.1421055486768911,
          0.14954794863941687,
          null
         ]
        },
        {
         "hoverinfo": "none",
         "line": {
          "color": "#888",
          "width": 8.119002165334312
         },
         "mode": "lines",
         "type": "scatter",
         "x": [
          -0.14428112039746577,
          -0.15533172520498428,
          null
         ],
         "y": [
          0.15194122784034825,
          0.1314163151783485,
          null
         ]
        },
        {
         "hoverinfo": "none",
         "line": {
          "color": "#888",
          "width": 7.527012469985474
         },
         "mode": "lines",
         "type": "scatter",
         "x": [
          -0.14428112039746577,
          -0.13689780944050867,
          null
         ],
         "y": [
          0.15194122784034825,
          0.14381112618235226,
          null
         ]
        },
        {
         "hoverinfo": "none",
         "line": {
          "color": "#888",
          "width": 7.063835489340974
         },
         "mode": "lines",
         "type": "scatter",
         "x": [
          -0.14428112039746577,
          -0.16500634709913684,
          null
         ],
         "y": [
          0.15194122784034825,
          0.1567765324688131,
          null
         ]
        },
        {
         "hoverinfo": "none",
         "line": {
          "color": "#888",
          "width": 8.073228221789119
         },
         "mode": "lines",
         "type": "scatter",
         "x": [
          -0.14428112039746577,
          -0.13198502317037067,
          null
         ],
         "y": [
          0.15194122784034825,
          0.12556233539898562,
          null
         ]
        },
        {
         "hoverinfo": "none",
         "line": {
          "color": "#888",
          "width": 7.053463599732986
         },
         "mode": "lines",
         "type": "scatter",
         "x": [
          -0.14428112039746577,
          -0.1605197915208082,
          null
         ],
         "y": [
          0.15194122784034825,
          0.16910459129874333,
          null
         ]
        },
        {
         "hoverinfo": "none",
         "line": {
          "color": "#888",
          "width": 8.576205999520498
         },
         "mode": "lines",
         "type": "scatter",
         "x": [
          -0.14428112039746577,
          -0.14327665976696743,
          null
         ],
         "y": [
          0.15194122784034825,
          0.1457092303249512,
          null
         ]
        },
        {
         "hoverinfo": "none",
         "line": {
          "color": "#888",
          "width": 8.26837217611219
         },
         "mode": "lines",
         "type": "scatter",
         "x": [
          -0.14428112039746577,
          -0.13667925265261593,
          null
         ],
         "y": [
          0.15194122784034825,
          0.15533931394300962,
          null
         ]
        },
        {
         "hoverinfo": "none",
         "line": {
          "color": "#888",
          "width": 8.163885344992432
         },
         "mode": "lines",
         "type": "scatter",
         "x": [
          -0.14428112039746577,
          -0.1605583208526066,
          null
         ],
         "y": [
          0.15194122784034825,
          0.14670999288989472,
          null
         ]
        },
        {
         "hoverinfo": "none",
         "line": {
          "color": "#888",
          "width": 7.921879787990123
         },
         "mode": "lines",
         "type": "scatter",
         "x": [
          -0.14428112039746577,
          -0.14612759544688866,
          null
         ],
         "y": [
          0.15194122784034825,
          0.1365571409183694,
          null
         ]
        },
        {
         "hoverinfo": "none",
         "line": {
          "color": "#888",
          "width": 7.832757304662469
         },
         "mode": "lines",
         "type": "scatter",
         "x": [
          -0.14428112039746577,
          -0.12360927558737468,
          null
         ],
         "y": [
          0.15194122784034825,
          0.12285263473744726,
          null
         ]
        },
        {
         "hoverinfo": "none",
         "line": {
          "color": "#888",
          "width": 8.457780132501588
         },
         "mode": "lines",
         "type": "scatter",
         "x": [
          -0.14428112039746577,
          -0.1528544167912979,
          null
         ],
         "y": [
          0.15194122784034825,
          0.13616586845651688,
          null
         ]
        },
        {
         "hoverinfo": "none",
         "line": {
          "color": "#888",
          "width": 8.041893474331642
         },
         "mode": "lines",
         "type": "scatter",
         "x": [
          -0.14428112039746577,
          -0.15365576487651394,
          null
         ],
         "y": [
          0.15194122784034825,
          0.14954794863941687,
          null
         ]
        },
        {
         "hoverinfo": "none",
         "line": {
          "color": "#888",
          "width": 7.602180034025297
         },
         "mode": "lines",
         "type": "scatter",
         "x": [
          -0.15533172520498428,
          -0.183437472578963,
          null
         ],
         "y": [
          0.1314163151783485,
          0.1602029555449687,
          null
         ]
        },
        {
         "hoverinfo": "none",
         "line": {
          "color": "#888",
          "width": 7.473752551659654
         },
         "mode": "lines",
         "type": "scatter",
         "x": [
          -0.15533172520498428,
          -0.1638887339897438,
          null
         ],
         "y": [
          0.1314163151783485,
          0.13121110058704255,
          null
         ]
        },
        {
         "hoverinfo": "none",
         "line": {
          "color": "#888",
          "width": 7.750604195144804
         },
         "mode": "lines",
         "type": "scatter",
         "x": [
          -0.15533172520498428,
          -0.13689780944050867,
          null
         ],
         "y": [
          0.1314163151783485,
          0.14381112618235226,
          null
         ]
        },
        {
         "hoverinfo": "none",
         "line": {
          "color": "#888",
          "width": 7.433091972256253
         },
         "mode": "lines",
         "type": "scatter",
         "x": [
          -0.15533172520498428,
          -0.16500634709913684,
          null
         ],
         "y": [
          0.1314163151783485,
          0.1567765324688131,
          null
         ]
        },
        {
         "hoverinfo": "none",
         "line": {
          "color": "#888",
          "width": 7.232523527757831
         },
         "mode": "lines",
         "type": "scatter",
         "x": [
          -0.15533172520498428,
          -0.13987314061963524,
          null
         ],
         "y": [
          0.1314163151783485,
          0.13597998017091042,
          null
         ]
        },
        {
         "hoverinfo": "none",
         "line": {
          "color": "#888",
          "width": 7.58224017930024
         },
         "mode": "lines",
         "type": "scatter",
         "x": [
          -0.15533172520498428,
          -0.1789666199487809,
          null
         ],
         "y": [
          0.1314163151783485,
          0.13391487928818036,
          null
         ]
        },
        {
         "hoverinfo": "none",
         "line": {
          "color": "#888",
          "width": 8.336626386266651
         },
         "mode": "lines",
         "type": "scatter",
         "x": [
          -0.15533172520498428,
          -0.13198502317037067,
          null
         ],
         "y": [
          0.1314163151783485,
          0.12556233539898562,
          null
         ]
        },
        {
         "hoverinfo": "none",
         "line": {
          "color": "#888",
          "width": 8.274541349980963
         },
         "mode": "lines",
         "type": "scatter",
         "x": [
          -0.15533172520498428,
          -0.14327665976696743,
          null
         ],
         "y": [
          0.1314163151783485,
          0.1457092303249512,
          null
         ]
        },
        {
         "hoverinfo": "none",
         "line": {
          "color": "#888",
          "width": 7.553647768984455
         },
         "mode": "lines",
         "type": "scatter",
         "x": [
          -0.15533172520498428,
          -0.16588389974663478,
          null
         ],
         "y": [
          0.1314163151783485,
          0.14014337333941168,
          null
         ]
        },
        {
         "hoverinfo": "none",
         "line": {
          "color": "#888",
          "width": 8.017553006972893
         },
         "mode": "lines",
         "type": "scatter",
         "x": [
          -0.15533172520498428,
          -0.1605583208526066,
          null
         ],
         "y": [
          0.1314163151783485,
          0.14670999288989472,
          null
         ]
        },
        {
         "hoverinfo": "none",
         "line": {
          "color": "#888",
          "width": 7.514009151186337
         },
         "mode": "lines",
         "type": "scatter",
         "x": [
          -0.15533172520498428,
          -0.14612759544688866,
          null
         ],
         "y": [
          0.1314163151783485,
          0.1365571409183694,
          null
         ]
        },
        {
         "hoverinfo": "none",
         "line": {
          "color": "#888",
          "width": 7.4219399456404735
         },
         "mode": "lines",
         "type": "scatter",
         "x": [
          -0.15533172520498428,
          -0.12360927558737468,
          null
         ],
         "y": [
          0.1314163151783485,
          0.12285263473744726,
          null
         ]
        },
        {
         "hoverinfo": "none",
         "line": {
          "color": "#888",
          "width": 8.30601430673369
         },
         "mode": "lines",
         "type": "scatter",
         "x": [
          -0.15533172520498428,
          -0.1528544167912979,
          null
         ],
         "y": [
          0.1314163151783485,
          0.13616586845651688,
          null
         ]
        },
        {
         "hoverinfo": "none",
         "line": {
          "color": "#888",
          "width": 8.39785648107111
         },
         "mode": "lines",
         "type": "scatter",
         "x": [
          -0.15533172520498428,
          -0.15365576487651394,
          null
         ],
         "y": [
          0.1314163151783485,
          0.14954794863941687,
          null
         ]
        },
        {
         "hoverinfo": "none",
         "line": {
          "color": "#888",
          "width": 7.435205269870186
         },
         "mode": "lines",
         "type": "scatter",
         "x": [
          -0.1638887339897438,
          -0.13689780944050867,
          null
         ],
         "y": [
          0.13121110058704255,
          0.14381112618235226,
          null
         ]
        },
        {
         "hoverinfo": "none",
         "line": {
          "color": "#888",
          "width": 7.107547537199579
         },
         "mode": "lines",
         "type": "scatter",
         "x": [
          -0.1638887339897438,
          -0.16500634709913684,
          null
         ],
         "y": [
          0.13121110058704255,
          0.1567765324688131,
          null
         ]
        },
        {
         "hoverinfo": "none",
         "line": {
          "color": "#888",
          "width": 7.039172073314975
         },
         "mode": "lines",
         "type": "scatter",
         "x": [
          -0.1638887339897438,
          -0.13987314061963524,
          null
         ],
         "y": [
          0.13121110058704255,
          0.13597998017091042,
          null
         ]
        },
        {
         "hoverinfo": "none",
         "line": {
          "color": "#888",
          "width": 8.226487510360908
         },
         "mode": "lines",
         "type": "scatter",
         "x": [
          -0.1638887339897438,
          -0.13198502317037067,
          null
         ],
         "y": [
          0.13121110058704255,
          0.12556233539898562,
          null
         ]
        },
        {
         "hoverinfo": "none",
         "line": {
          "color": "#888",
          "width": 7.390822518833687
         },
         "mode": "lines",
         "type": "scatter",
         "x": [
          -0.1638887339897438,
          -0.14327665976696743,
          null
         ],
         "y": [
          0.13121110058704255,
          0.1457092303249512,
          null
         ]
        },
        {
         "hoverinfo": "none",
         "line": {
          "color": "#888",
          "width": 7.8346183060559005
         },
         "mode": "lines",
         "type": "scatter",
         "x": [
          -0.1638887339897438,
          -0.16588389974663478,
          null
         ],
         "y": [
          0.13121110058704255,
          0.14014337333941168,
          null
         ]
        },
        {
         "hoverinfo": "none",
         "line": {
          "color": "#888",
          "width": 7.239683318712816
         },
         "mode": "lines",
         "type": "scatter",
         "x": [
          -0.1638887339897438,
          -0.1605583208526066,
          null
         ],
         "y": [
          0.13121110058704255,
          0.14670999288989472,
          null
         ]
        },
        {
         "hoverinfo": "none",
         "line": {
          "color": "#888",
          "width": 7.008996978061991
         },
         "mode": "lines",
         "type": "scatter",
         "x": [
          -0.1638887339897438,
          -0.14612759544688866,
          null
         ],
         "y": [
          0.13121110058704255,
          0.1365571409183694,
          null
         ]
        },
        {
         "hoverinfo": "none",
         "line": {
          "color": "#888",
          "width": 7.624846493031948
         },
         "mode": "lines",
         "type": "scatter",
         "x": [
          -0.1638887339897438,
          -0.12360927558737468,
          null
         ],
         "y": [
          0.13121110058704255,
          0.12285263473744726,
          null
         ]
        },
        {
         "hoverinfo": "none",
         "line": {
          "color": "#888",
          "width": 7.36024890240683
         },
         "mode": "lines",
         "type": "scatter",
         "x": [
          -0.1638887339897438,
          -0.1528544167912979,
          null
         ],
         "y": [
          0.13121110058704255,
          0.13616586845651688,
          null
         ]
        },
        {
         "hoverinfo": "none",
         "line": {
          "color": "#888",
          "width": 7.772685358503861
         },
         "mode": "lines",
         "type": "scatter",
         "x": [
          -0.1638887339897438,
          -0.15365576487651394,
          null
         ],
         "y": [
          0.13121110058704255,
          0.14954794863941687,
          null
         ]
        },
        {
         "hoverinfo": "none",
         "line": {
          "color": "#888",
          "width": 7.817211738160531
         },
         "mode": "lines",
         "type": "scatter",
         "x": [
          -0.13689780944050867,
          -0.16500634709913684,
          null
         ],
         "y": [
          0.14381112618235226,
          0.1567765324688131,
          null
         ]
        },
        {
         "hoverinfo": "none",
         "line": {
          "color": "#888",
          "width": 7.4579289424252995
         },
         "mode": "lines",
         "type": "scatter",
         "x": [
          -0.13689780944050867,
          -0.0991643175331902,
          null
         ],
         "y": [
          0.14381112618235226,
          0.13843322154091828,
          null
         ]
        },
        {
         "hoverinfo": "none",
         "line": {
          "color": "#888",
          "width": 7.883485025466678
         },
         "mode": "lines",
         "type": "scatter",
         "x": [
          -0.13689780944050867,
          -0.13987314061963524,
          null
         ],
         "y": [
          0.14381112618235226,
          0.13597998017091042,
          null
         ]
        },
        {
         "hoverinfo": "none",
         "line": {
          "color": "#888",
          "width": 7.9326923915887395
         },
         "mode": "lines",
         "type": "scatter",
         "x": [
          -0.13689780944050867,
          -0.13198502317037067,
          null
         ],
         "y": [
          0.14381112618235226,
          0.12556233539898562,
          null
         ]
        },
        {
         "hoverinfo": "none",
         "line": {
          "color": "#888",
          "width": 7.88004473167839
         },
         "mode": "lines",
         "type": "scatter",
         "x": [
          -0.13689780944050867,
          -0.14327665976696743,
          null
         ],
         "y": [
          0.14381112618235226,
          0.1457092303249512,
          null
         ]
        },
        {
         "hoverinfo": "none",
         "line": {
          "color": "#888",
          "width": 7.474209182223387
         },
         "mode": "lines",
         "type": "scatter",
         "x": [
          -0.13689780944050867,
          -0.16588389974663478,
          null
         ],
         "y": [
          0.14381112618235226,
          0.14014337333941168,
          null
         ]
        },
        {
         "hoverinfo": "none",
         "line": {
          "color": "#888",
          "width": 7.596299034508711
         },
         "mode": "lines",
         "type": "scatter",
         "x": [
          -0.13689780944050867,
          -0.13667925265261593,
          null
         ],
         "y": [
          0.14381112618235226,
          0.15533931394300962,
          null
         ]
        },
        {
         "hoverinfo": "none",
         "line": {
          "color": "#888",
          "width": 7.057820385789208
         },
         "mode": "lines",
         "type": "scatter",
         "x": [
          -0.13689780944050867,
          -0.1605583208526066,
          null
         ],
         "y": [
          0.14381112618235226,
          0.14670999288989472,
          null
         ]
        },
        {
         "hoverinfo": "none",
         "line": {
          "color": "#888",
          "width": 8.154925513963036
         },
         "mode": "lines",
         "type": "scatter",
         "x": [
          -0.13689780944050867,
          -0.14612759544688866,
          null
         ],
         "y": [
          0.14381112618235226,
          0.1365571409183694,
          null
         ]
        },
        {
         "hoverinfo": "none",
         "line": {
          "color": "#888",
          "width": 8.054420526681113
         },
         "mode": "lines",
         "type": "scatter",
         "x": [
          -0.13689780944050867,
          -0.12360927558737468,
          null
         ],
         "y": [
          0.14381112618235226,
          0.12285263473744726,
          null
         ]
        },
        {
         "hoverinfo": "none",
         "line": {
          "color": "#888",
          "width": 7.8395286175842385
         },
         "mode": "lines",
         "type": "scatter",
         "x": [
          -0.13689780944050867,
          -0.1528544167912979,
          null
         ],
         "y": [
          0.14381112618235226,
          0.13616586845651688,
          null
         ]
        },
        {
         "hoverinfo": "none",
         "line": {
          "color": "#888",
          "width": 8.812415065885213
         },
         "mode": "lines",
         "type": "scatter",
         "x": [
          -0.13689780944050867,
          -0.15365576487651394,
          null
         ],
         "y": [
          0.14381112618235226,
          0.14954794863941687,
          null
         ]
        },
        {
         "hoverinfo": "none",
         "line": {
          "color": "#888",
          "width": 7.404768450025311
         },
         "mode": "lines",
         "type": "scatter",
         "x": [
          -0.16500634709913684,
          -0.183437472578963,
          null
         ],
         "y": [
          0.1567765324688131,
          0.1602029555449687,
          null
         ]
        },
        {
         "hoverinfo": "none",
         "line": {
          "color": "#888",
          "width": 7.138470301005738
         },
         "mode": "lines",
         "type": "scatter",
         "x": [
          -0.16500634709913684,
          -0.13987314061963524,
          null
         ],
         "y": [
          0.1567765324688131,
          0.13597998017091042,
          null
         ]
        },
        {
         "hoverinfo": "none",
         "line": {
          "color": "#888",
          "width": 7.694451350633567
         },
         "mode": "lines",
         "type": "scatter",
         "x": [
          -0.16500634709913684,
          -0.13198502317037067,
          null
         ],
         "y": [
          0.1567765324688131,
          0.12556233539898562,
          null
         ]
        },
        {
         "hoverinfo": "none",
         "line": {
          "color": "#888",
          "width": 7.953704086269829
         },
         "mode": "lines",
         "type": "scatter",
         "x": [
          -0.16500634709913684,
          -0.14327665976696743,
          null
         ],
         "y": [
          0.1567765324688131,
          0.1457092303249512,
          null
         ]
        },
        {
         "hoverinfo": "none",
         "line": {
          "color": "#888",
          "width": 7.7810293949321485
         },
         "mode": "lines",
         "type": "scatter",
         "x": [
          -0.16500634709913684,
          -0.16588389974663478,
          null
         ],
         "y": [
          0.1567765324688131,
          0.14014337333941168,
          null
         ]
        },
        {
         "hoverinfo": "none",
         "line": {
          "color": "#888",
          "width": 7.113298615586288
         },
         "mode": "lines",
         "type": "scatter",
         "x": [
          -0.16500634709913684,
          -0.13667925265261593,
          null
         ],
         "y": [
          0.1567765324688131,
          0.15533931394300962,
          null
         ]
        },
        {
         "hoverinfo": "none",
         "line": {
          "color": "#888",
          "width": 7.241175049482616
         },
         "mode": "lines",
         "type": "scatter",
         "x": [
          -0.16500634709913684,
          -0.2260851943644587,
          null
         ],
         "y": [
          0.1567765324688131,
          0.19827159334734804,
          null
         ]
        },
        {
         "hoverinfo": "none",
         "line": {
          "color": "#888",
          "width": 7.396902120393865
         },
         "mode": "lines",
         "type": "scatter",
         "x": [
          -0.16500634709913684,
          -0.14612759544688866,
          null
         ],
         "y": [
          0.1567765324688131,
          0.1365571409183694,
          null
         ]
        },
        {
         "hoverinfo": "none",
         "line": {
          "color": "#888",
          "width": 7.051787196271157
         },
         "mode": "lines",
         "type": "scatter",
         "x": [
          -0.16500634709913684,
          -0.1528544167912979,
          null
         ],
         "y": [
          0.1567765324688131,
          0.13616586845651688,
          null
         ]
        },
        {
         "hoverinfo": "none",
         "line": {
          "color": "#888",
          "width": 8.128787127918505
         },
         "mode": "lines",
         "type": "scatter",
         "x": [
          -0.16500634709913684,
          -0.15365576487651394,
          null
         ],
         "y": [
          0.1567765324688131,
          0.14954794863941687,
          null
         ]
        },
        {
         "hoverinfo": "none",
         "line": {
          "color": "#888",
          "width": 7.295919943235357
         },
         "mode": "lines",
         "type": "scatter",
         "x": [
          -0.13987314061963524,
          -0.0991643175331902,
          null
         ],
         "y": [
          0.13597998017091042,
          0.13843322154091828,
          null
         ]
        },
        {
         "hoverinfo": "none",
         "line": {
          "color": "#888",
          "width": 7.926163276224649
         },
         "mode": "lines",
         "type": "scatter",
         "x": [
          -0.13987314061963524,
          -0.13198502317037067,
          null
         ],
         "y": [
          0.13597998017091042,
          0.12556233539898562,
          null
         ]
        },
        {
         "hoverinfo": "none",
         "line": {
          "color": "#888",
          "width": 7.0815810402646
         },
         "mode": "lines",
         "type": "scatter",
         "x": [
          -0.13987314061963524,
          -0.14327665976696743,
          null
         ],
         "y": [
          0.13597998017091042,
          0.1457092303249512,
          null
         ]
        },
        {
         "hoverinfo": "none",
         "line": {
          "color": "#888",
          "width": 7.333294834542089
         },
         "mode": "lines",
         "type": "scatter",
         "x": [
          -0.13987314061963524,
          -0.16588389974663478,
          null
         ],
         "y": [
          0.13597998017091042,
          0.14014337333941168,
          null
         ]
        },
        {
         "hoverinfo": "none",
         "line": {
          "color": "#888",
          "width": 7.101760269590187
         },
         "mode": "lines",
         "type": "scatter",
         "x": [
          -0.13987314061963524,
          -0.13667925265261593,
          null
         ],
         "y": [
          0.13597998017091042,
          0.15533931394300962,
          null
         ]
        },
        {
         "hoverinfo": "none",
         "line": {
          "color": "#888",
          "width": 7.149282116156944
         },
         "mode": "lines",
         "type": "scatter",
         "x": [
          -0.13987314061963524,
          -0.1605583208526066,
          null
         ],
         "y": [
          0.13597998017091042,
          0.14670999288989472,
          null
         ]
        },
        {
         "hoverinfo": "none",
         "line": {
          "color": "#888",
          "width": 7.496993913759219
         },
         "mode": "lines",
         "type": "scatter",
         "x": [
          -0.13987314061963524,
          -0.14612759544688866,
          null
         ],
         "y": [
          0.13597998017091042,
          0.1365571409183694,
          null
         ]
        },
        {
         "hoverinfo": "none",
         "line": {
          "color": "#888",
          "width": 7.572340989274176
         },
         "mode": "lines",
         "type": "scatter",
         "x": [
          -0.13987314061963524,
          -0.12360927558737468,
          null
         ],
         "y": [
          0.13597998017091042,
          0.12285263473744726,
          null
         ]
        },
        {
         "hoverinfo": "none",
         "line": {
          "color": "#888",
          "width": 7.3763331725958015
         },
         "mode": "lines",
         "type": "scatter",
         "x": [
          -0.13987314061963524,
          -0.1528544167912979,
          null
         ],
         "y": [
          0.13597998017091042,
          0.13616586845651688,
          null
         ]
        },
        {
         "hoverinfo": "none",
         "line": {
          "color": "#888",
          "width": 7.883857054404556
         },
         "mode": "lines",
         "type": "scatter",
         "x": [
          -0.13987314061963524,
          -0.15365576487651394,
          null
         ],
         "y": [
          0.13597998017091042,
          0.14954794863941687,
          null
         ]
        },
        {
         "hoverinfo": "none",
         "line": {
          "color": "#888",
          "width": 7.590166487758396
         },
         "mode": "lines",
         "type": "scatter",
         "x": [
          -0.1789666199487809,
          -0.13198502317037067,
          null
         ],
         "y": [
          0.13391487928818036,
          0.12556233539898562,
          null
         ]
        },
        {
         "hoverinfo": "none",
         "line": {
          "color": "#888",
          "width": 7.015926543386383
         },
         "mode": "lines",
         "type": "scatter",
         "x": [
          -0.1789666199487809,
          -0.16588389974663478,
          null
         ],
         "y": [
          0.13391487928818036,
          0.14014337333941168,
          null
         ]
        },
        {
         "hoverinfo": "none",
         "line": {
          "color": "#888",
          "width": 7.595033743482528
         },
         "mode": "lines",
         "type": "scatter",
         "x": [
          -0.1789666199487809,
          -0.1605583208526066,
          null
         ],
         "y": [
          0.13391487928818036,
          0.14670999288989472,
          null
         ]
        },
        {
         "hoverinfo": "none",
         "line": {
          "color": "#888",
          "width": 7.809873843175101
         },
         "mode": "lines",
         "type": "scatter",
         "x": [
          -0.1789666199487809,
          -0.1528544167912979,
          null
         ],
         "y": [
          0.13391487928818036,
          0.13616586845651688,
          null
         ]
        },
        {
         "hoverinfo": "none",
         "line": {
          "color": "#888",
          "width": 7.003173369275415
         },
         "mode": "lines",
         "type": "scatter",
         "x": [
          -0.13198502317037067,
          -0.1605197915208082,
          null
         ],
         "y": [
          0.12556233539898562,
          0.16910459129874333,
          null
         ]
        },
        {
         "hoverinfo": "none",
         "line": {
          "color": "#888",
          "width": 8.277328207708646
         },
         "mode": "lines",
         "type": "scatter",
         "x": [
          -0.13198502317037067,
          -0.14327665976696743,
          null
         ],
         "y": [
          0.12556233539898562,
          0.1457092303249512,
          null
         ]
        },
        {
         "hoverinfo": "none",
         "line": {
          "color": "#888",
          "width": 7.959453730265019
         },
         "mode": "lines",
         "type": "scatter",
         "x": [
          -0.13198502317037067,
          -0.16588389974663478,
          null
         ],
         "y": [
          0.12556233539898562,
          0.14014337333941168,
          null
         ]
        },
        {
         "hoverinfo": "none",
         "line": {
          "color": "#888",
          "width": 8.322802378163807
         },
         "mode": "lines",
         "type": "scatter",
         "x": [
          -0.13198502317037067,
          -0.13667925265261593,
          null
         ],
         "y": [
          0.12556233539898562,
          0.15533931394300962,
          null
         ]
        },
        {
         "hoverinfo": "none",
         "line": {
          "color": "#888",
          "width": 8.487196491359898
         },
         "mode": "lines",
         "type": "scatter",
         "x": [
          -0.13198502317037067,
          -0.1605583208526066,
          null
         ],
         "y": [
          0.12556233539898562,
          0.14670999288989472,
          null
         ]
        },
        {
         "hoverinfo": "none",
         "line": {
          "color": "#888",
          "width": 8.409300104223291
         },
         "mode": "lines",
         "type": "scatter",
         "x": [
          -0.13198502317037067,
          -0.14612759544688866,
          null
         ],
         "y": [
          0.12556233539898562,
          0.1365571409183694,
          null
         ]
        },
        {
         "hoverinfo": "none",
         "line": {
          "color": "#888",
          "width": 8.183820844349142
         },
         "mode": "lines",
         "type": "scatter",
         "x": [
          -0.13198502317037067,
          -0.12360927558737468,
          null
         ],
         "y": [
          0.12556233539898562,
          0.12285263473744726,
          null
         ]
        },
        {
         "hoverinfo": "none",
         "line": {
          "color": "#888",
          "width": 8.368787605365581
         },
         "mode": "lines",
         "type": "scatter",
         "x": [
          -0.13198502317037067,
          -0.1528544167912979,
          null
         ],
         "y": [
          0.12556233539898562,
          0.13616586845651688,
          null
         ]
        },
        {
         "hoverinfo": "none",
         "line": {
          "color": "#888",
          "width": 8.308575303718778
         },
         "mode": "lines",
         "type": "scatter",
         "x": [
          -0.13198502317037067,
          -0.15365576487651394,
          null
         ],
         "y": [
          0.12556233539898562,
          0.14954794863941687,
          null
         ]
        },
        {
         "hoverinfo": "none",
         "line": {
          "color": "#888",
          "width": 7.0601920278255035
         },
         "mode": "lines",
         "type": "scatter",
         "x": [
          -0.1605197915208082,
          -0.14327665976696743,
          null
         ],
         "y": [
          0.16910459129874333,
          0.1457092303249512,
          null
         ]
        },
        {
         "hoverinfo": "none",
         "line": {
          "color": "#888",
          "width": 7.232163352671874
         },
         "mode": "lines",
         "type": "scatter",
         "x": [
          -0.1605197915208082,
          -0.14612759544688866,
          null
         ],
         "y": [
          0.16910459129874333,
          0.1365571409183694,
          null
         ]
        },
        {
         "hoverinfo": "none",
         "line": {
          "color": "#888",
          "width": 7.281939416147631
         },
         "mode": "lines",
         "type": "scatter",
         "x": [
          -0.14327665976696743,
          -0.183437472578963,
          null
         ],
         "y": [
          0.1457092303249512,
          0.1602029555449687,
          null
         ]
        },
        {
         "hoverinfo": "none",
         "line": {
          "color": "#888",
          "width": 7.207062472898623
         },
         "mode": "lines",
         "type": "scatter",
         "x": [
          -0.14327665976696743,
          -0.0991643175331902,
          null
         ],
         "y": [
          0.1457092303249512,
          0.13843322154091828,
          null
         ]
        },
        {
         "hoverinfo": "none",
         "line": {
          "color": "#888",
          "width": 7.574044658376047
         },
         "mode": "lines",
         "type": "scatter",
         "x": [
          -0.14327665976696743,
          -0.16588389974663478,
          null
         ],
         "y": [
          0.1457092303249512,
          0.14014337333941168,
          null
         ]
        },
        {
         "hoverinfo": "none",
         "line": {
          "color": "#888",
          "width": 7.721203055282459
         },
         "mode": "lines",
         "type": "scatter",
         "x": [
          -0.14327665976696743,
          -0.13667925265261593,
          null
         ],
         "y": [
          0.1457092303249512,
          0.15533931394300962,
          null
         ]
        },
        {
         "hoverinfo": "none",
         "line": {
          "color": "#888",
          "width": 8.011598474650842
         },
         "mode": "lines",
         "type": "scatter",
         "x": [
          -0.14327665976696743,
          -0.1605583208526066,
          null
         ],
         "y": [
          0.1457092303249512,
          0.14670999288989472,
          null
         ]
        },
        {
         "hoverinfo": "none",
         "line": {
          "color": "#888",
          "width": 8.130077594579587
         },
         "mode": "lines",
         "type": "scatter",
         "x": [
          -0.14327665976696743,
          -0.14612759544688866,
          null
         ],
         "y": [
          0.1457092303249512,
          0.1365571409183694,
          null
         ]
        },
        {
         "hoverinfo": "none",
         "line": {
          "color": "#888",
          "width": 7.805921475320825
         },
         "mode": "lines",
         "type": "scatter",
         "x": [
          -0.14327665976696743,
          -0.12360927558737468,
          null
         ],
         "y": [
          0.1457092303249512,
          0.12285263473744726,
          null
         ]
        },
        {
         "hoverinfo": "none",
         "line": {
          "color": "#888",
          "width": 8.138511679702525
         },
         "mode": "lines",
         "type": "scatter",
         "x": [
          -0.14327665976696743,
          -0.1528544167912979,
          null
         ],
         "y": [
          0.1457092303249512,
          0.13616586845651688,
          null
         ]
        },
        {
         "hoverinfo": "none",
         "line": {
          "color": "#888",
          "width": 8.055324634071168
         },
         "mode": "lines",
         "type": "scatter",
         "x": [
          -0.14327665976696743,
          -0.15365576487651394,
          null
         ],
         "y": [
          0.1457092303249512,
          0.14954794863941687,
          null
         ]
        },
        {
         "hoverinfo": "none",
         "line": {
          "color": "#888",
          "width": 7.296235254929764
         },
         "mode": "lines",
         "type": "scatter",
         "x": [
          -0.16588389974663478,
          -0.183437472578963,
          null
         ],
         "y": [
          0.14014337333941168,
          0.1602029555449687,
          null
         ]
        },
        {
         "hoverinfo": "none",
         "line": {
          "color": "#888",
          "width": 7.155297064263134
         },
         "mode": "lines",
         "type": "scatter",
         "x": [
          -0.16588389974663478,
          -0.1605583208526066,
          null
         ],
         "y": [
          0.14014337333941168,
          0.14670999288989472,
          null
         ]
        },
        {
         "hoverinfo": "none",
         "line": {
          "color": "#888",
          "width": 7.155993462409662
         },
         "mode": "lines",
         "type": "scatter",
         "x": [
          -0.16588389974663478,
          -0.14612759544688866,
          null
         ],
         "y": [
          0.14014337333941168,
          0.1365571409183694,
          null
         ]
        },
        {
         "hoverinfo": "none",
         "line": {
          "color": "#888",
          "width": 7.62787581077413
         },
         "mode": "lines",
         "type": "scatter",
         "x": [
          -0.16588389974663478,
          -0.12360927558737468,
          null
         ],
         "y": [
          0.14014337333941168,
          0.12285263473744726,
          null
         ]
        },
        {
         "hoverinfo": "none",
         "line": {
          "color": "#888",
          "width": 7.853900881058157
         },
         "mode": "lines",
         "type": "scatter",
         "x": [
          -0.16588389974663478,
          -0.1528544167912979,
          null
         ],
         "y": [
          0.14014337333941168,
          0.13616586845651688,
          null
         ]
        },
        {
         "hoverinfo": "none",
         "line": {
          "color": "#888",
          "width": 8.083470069134316
         },
         "mode": "lines",
         "type": "scatter",
         "x": [
          -0.16588389974663478,
          -0.15365576487651394,
          null
         ],
         "y": [
          0.14014337333941168,
          0.14954794863941687,
          null
         ]
        },
        {
         "hoverinfo": "none",
         "line": {
          "color": "#888",
          "width": 7.130699328870509
         },
         "mode": "lines",
         "type": "scatter",
         "x": [
          -0.13667925265261593,
          -0.0991643175331902,
          null
         ],
         "y": [
          0.15533931394300962,
          0.13843322154091828,
          null
         ]
        },
        {
         "hoverinfo": "none",
         "line": {
          "color": "#888",
          "width": 7.234885548287179
         },
         "mode": "lines",
         "type": "scatter",
         "x": [
          -0.13667925265261593,
          -0.1605583208526066,
          null
         ],
         "y": [
          0.15533931394300962,
          0.14670999288989472,
          null
         ]
        },
        {
         "hoverinfo": "none",
         "line": {
          "color": "#888",
          "width": 7.948338799050818
         },
         "mode": "lines",
         "type": "scatter",
         "x": [
          -0.13667925265261593,
          -0.14612759544688866,
          null
         ],
         "y": [
          0.15533931394300962,
          0.1365571409183694,
          null
         ]
        },
        {
         "hoverinfo": "none",
         "line": {
          "color": "#888",
          "width": 7.4422745620348945
         },
         "mode": "lines",
         "type": "scatter",
         "x": [
          -0.13667925265261593,
          -0.12360927558737468,
          null
         ],
         "y": [
          0.15533931394300962,
          0.12285263473744726,
          null
         ]
        },
        {
         "hoverinfo": "none",
         "line": {
          "color": "#888",
          "width": 7.743032451703435
         },
         "mode": "lines",
         "type": "scatter",
         "x": [
          -0.13667925265261593,
          -0.1528544167912979,
          null
         ],
         "y": [
          0.15533931394300962,
          0.13616586845651688,
          null
         ]
        },
        {
         "hoverinfo": "none",
         "line": {
          "color": "#888",
          "width": 7.53955009824116
         },
         "mode": "lines",
         "type": "scatter",
         "x": [
          -0.13667925265261593,
          -0.15365576487651394,
          null
         ],
         "y": [
          0.15533931394300962,
          0.14954794863941687,
          null
         ]
        },
        {
         "hoverinfo": "none",
         "line": {
          "color": "#888",
          "width": 7.863627790548514
         },
         "mode": "lines",
         "type": "scatter",
         "x": [
          -0.1605583208526066,
          -0.14612759544688866,
          null
         ],
         "y": [
          0.14670999288989472,
          0.1365571409183694,
          null
         ]
        },
        {
         "hoverinfo": "none",
         "line": {
          "color": "#888",
          "width": 7.625879050413681
         },
         "mode": "lines",
         "type": "scatter",
         "x": [
          -0.1605583208526066,
          -0.12360927558737468,
          null
         ],
         "y": [
          0.14670999288989472,
          0.12285263473744726,
          null
         ]
        },
        {
         "hoverinfo": "none",
         "line": {
          "color": "#888",
          "width": 7.704340416464767
         },
         "mode": "lines",
         "type": "scatter",
         "x": [
          -0.1605583208526066,
          -0.1528544167912979,
          null
         ],
         "y": [
          0.14670999288989472,
          0.13616586845651688,
          null
         ]
        },
        {
         "hoverinfo": "none",
         "line": {
          "color": "#888",
          "width": 7.86835827076111
         },
         "mode": "lines",
         "type": "scatter",
         "x": [
          -0.1605583208526066,
          -0.15365576487651394,
          null
         ],
         "y": [
          0.14670999288989472,
          0.14954794863941687,
          null
         ]
        },
        {
         "hoverinfo": "none",
         "line": {
          "color": "#888",
          "width": 7.801410865464788
         },
         "mode": "lines",
         "type": "scatter",
         "x": [
          -0.14612759544688866,
          -0.12360927558737468,
          null
         ],
         "y": [
          0.1365571409183694,
          0.12285263473744726,
          null
         ]
        },
        {
         "hoverinfo": "none",
         "line": {
          "color": "#888",
          "width": 8.15648886779871
         },
         "mode": "lines",
         "type": "scatter",
         "x": [
          -0.14612759544688866,
          -0.1528544167912979,
          null
         ],
         "y": [
          0.1365571409183694,
          0.13616586845651688,
          null
         ]
        },
        {
         "hoverinfo": "none",
         "line": {
          "color": "#888",
          "width": 8.223191397601127
         },
         "mode": "lines",
         "type": "scatter",
         "x": [
          -0.14612759544688866,
          -0.15365576487651394,
          null
         ],
         "y": [
          0.1365571409183694,
          0.14954794863941687,
          null
         ]
        },
        {
         "hoverinfo": "none",
         "line": {
          "color": "#888",
          "width": 8.594159931919277
         },
         "mode": "lines",
         "type": "scatter",
         "x": [
          -0.12360927558737468,
          -0.1528544167912979,
          null
         ],
         "y": [
          0.12285263473744726,
          0.13616586845651688,
          null
         ]
        },
        {
         "hoverinfo": "none",
         "line": {
          "color": "#888",
          "width": 8.417889612356728
         },
         "mode": "lines",
         "type": "scatter",
         "x": [
          -0.12360927558737468,
          -0.15365576487651394,
          null
         ],
         "y": [
          0.12285263473744726,
          0.14954794863941687,
          null
         ]
        },
        {
         "hoverinfo": "none",
         "line": {
          "color": "#888",
          "width": 7.189709444758819
         },
         "mode": "lines",
         "type": "scatter",
         "x": [
          -0.1528544167912979,
          -0.183437472578963,
          null
         ],
         "y": [
          0.13616586845651688,
          0.1602029555449687,
          null
         ]
        },
        {
         "hoverinfo": "none",
         "line": {
          "color": "#888",
          "width": 8.578877926785111
         },
         "mode": "lines",
         "type": "scatter",
         "x": [
          -0.1528544167912979,
          -0.15365576487651394,
          null
         ],
         "y": [
          0.13616586845651688,
          0.14954794863941687,
          null
         ]
        },
        {
         "hoverinfo": "none",
         "line": {
          "color": "#888",
          "width": 7.365669879160349
         },
         "mode": "lines",
         "type": "scatter",
         "x": [
          -0.15365576487651394,
          -0.183437472578963,
          null
         ],
         "y": [
          0.14954794863941687,
          0.1602029555449687,
          null
         ]
        },
        {
         "hoverinfo": "none",
         "line": {
          "color": "#888",
          "width": 7.488291576855416
         },
         "mode": "lines",
         "type": "scatter",
         "x": [
          -0.8387696260189463,
          -0.8607331723690358,
          null
         ],
         "y": [
          0.4826825516171786,
          0.4960554859944147,
          null
         ]
        },
        {
         "hoverinfo": "none",
         "line": {
          "color": "#888",
          "width": 7.376061623607532
         },
         "mode": "lines",
         "type": "scatter",
         "x": [
          0.056936006808823186,
          0.052206110448011205,
          null
         ],
         "y": [
          0.016111406497531542,
          0.00015984234615206526,
          null
         ]
        },
        {
         "hoverinfo": "none",
         "line": {
          "color": "#888",
          "width": 7.030862678275442
         },
         "mode": "lines",
         "type": "scatter",
         "x": [
          0.056936006808823186,
          0.015405938830662207,
          null
         ],
         "y": [
          0.016111406497531542,
          0.0018236666551723337,
          null
         ]
        },
        {
         "hoverinfo": "none",
         "line": {
          "color": "#888",
          "width": 7.622851856963601
         },
         "mode": "lines",
         "type": "scatter",
         "x": [
          0.056936006808823186,
          0.035520716994915845,
          null
         ],
         "y": [
          0.016111406497531542,
          0.00029598348700220147,
          null
         ]
        },
        {
         "hoverinfo": "none",
         "line": {
          "color": "#888",
          "width": 8.5674063409671
         },
         "mode": "lines",
         "type": "scatter",
         "x": [
          0.056936006808823186,
          0.047788858802087525,
          null
         ],
         "y": [
          0.016111406497531542,
          0.01943922284043798,
          null
         ]
        },
        {
         "hoverinfo": "none",
         "line": {
          "color": "#888",
          "width": 7.770752035114942
         },
         "mode": "lines",
         "type": "scatter",
         "x": [
          0.056936006808823186,
          0.08332396253443919,
          null
         ],
         "y": [
          0.016111406497531542,
          0.01232482248712961,
          null
         ]
        },
        {
         "hoverinfo": "none",
         "line": {
          "color": "#888",
          "width": 7.215530703705926
         },
         "mode": "lines",
         "type": "scatter",
         "x": [
          0.056936006808823186,
          0.11194464052597483,
          null
         ],
         "y": [
          0.016111406497531542,
          0.02925174787337331,
          null
         ]
        },
        {
         "hoverinfo": "none",
         "line": {
          "color": "#888",
          "width": 7.205459843465347
         },
         "mode": "lines",
         "type": "scatter",
         "x": [
          0.056936006808823186,
          0.06446578980483612,
          null
         ],
         "y": [
          0.016111406497531542,
          -0.010092683244049116,
          null
         ]
        },
        {
         "hoverinfo": "none",
         "line": {
          "color": "#888",
          "width": 7.5332125380661665
         },
         "mode": "lines",
         "type": "scatter",
         "x": [
          0.056936006808823186,
          0.044543130719242284,
          null
         ],
         "y": [
          0.016111406497531542,
          -0.007284453597997196,
          null
         ]
        },
        {
         "hoverinfo": "none",
         "line": {
          "color": "#888",
          "width": 7.142349099176867
         },
         "mode": "lines",
         "type": "scatter",
         "x": [
          0.056936006808823186,
          0.09723806063632065,
          null
         ],
         "y": [
          0.016111406497531542,
          0.013264870685033976,
          null
         ]
        },
        {
         "hoverinfo": "none",
         "line": {
          "color": "#888",
          "width": 7.5791922799611156
         },
         "mode": "lines",
         "type": "scatter",
         "x": [
          0.056936006808823186,
          0.06882186507966723,
          null
         ],
         "y": [
          0.016111406497531542,
          0.004141447594331741,
          null
         ]
        },
        {
         "hoverinfo": "none",
         "line": {
          "color": "#888",
          "width": 7.212601899673061
         },
         "mode": "lines",
         "type": "scatter",
         "x": [
          0.056936006808823186,
          0.04424926983059967,
          null
         ],
         "y": [
          0.016111406497531542,
          0.009245192588423365,
          null
         ]
        },
        {
         "hoverinfo": "none",
         "line": {
          "color": "#888",
          "width": 7.100475766855863
         },
         "mode": "lines",
         "type": "scatter",
         "x": [
          0.056936006808823186,
          0.0147182191032134,
          null
         ],
         "y": [
          0.016111406497531542,
          -0.012808506474670344,
          null
         ]
        },
        {
         "hoverinfo": "none",
         "line": {
          "color": "#888",
          "width": 7.347125371761273
         },
         "mode": "lines",
         "type": "scatter",
         "x": [
          0.056936006808823186,
          0.04221760964270946,
          null
         ],
         "y": [
          0.016111406497531542,
          0.003341464908629855,
          null
         ]
        },
        {
         "hoverinfo": "none",
         "line": {
          "color": "#888",
          "width": 7.135911587331602
         },
         "mode": "lines",
         "type": "scatter",
         "x": [
          0.056936006808823186,
          0.06082795141898182,
          null
         ],
         "y": [
          0.016111406497531542,
          0.03833200467566781,
          null
         ]
        },
        {
         "hoverinfo": "none",
         "line": {
          "color": "#888",
          "width": 7.2453611714822
         },
         "mode": "lines",
         "type": "scatter",
         "x": [
          0.056936006808823186,
          0.07240371276515907,
          null
         ],
         "y": [
          0.016111406497531542,
          0.010354016717386371,
          null
         ]
        },
        {
         "hoverinfo": "none",
         "line": {
          "color": "#888",
          "width": 7.195357968799437
         },
         "mode": "lines",
         "type": "scatter",
         "x": [
          0.056936006808823186,
          0.05178108448531763,
          null
         ],
         "y": [
          0.016111406497531542,
          0.016646922726216835,
          null
         ]
        },
        {
         "hoverinfo": "none",
         "line": {
          "color": "#888",
          "width": 7.445481935820347
         },
         "mode": "lines",
         "type": "scatter",
         "x": [
          0.056936006808823186,
          0.038354719562571304,
          null
         ],
         "y": [
          0.016111406497531542,
          0.004161903113501472,
          null
         ]
        },
        {
         "hoverinfo": "none",
         "line": {
          "color": "#888",
          "width": 7.177638071876982
         },
         "mode": "lines",
         "type": "scatter",
         "x": [
          0.056936006808823186,
          0.013787095809808705,
          null
         ],
         "y": [
          0.016111406497531542,
          0.00563409428498509,
          null
         ]
        },
        {
         "hoverinfo": "none",
         "line": {
          "color": "#888",
          "width": 7.379712669151557
         },
         "mode": "lines",
         "type": "scatter",
         "x": [
          0.056936006808823186,
          0.06190168719275233,
          null
         ],
         "y": [
          0.016111406497531542,
          0.058304571013040554,
          null
         ]
        },
        {
         "hoverinfo": "none",
         "line": {
          "color": "#888",
          "width": 7.377645924253021
         },
         "mode": "lines",
         "type": "scatter",
         "x": [
          0.056936006808823186,
          0.061321053641733785,
          null
         ],
         "y": [
          0.016111406497531542,
          -0.024536057246514434,
          null
         ]
        },
        {
         "hoverinfo": "none",
         "line": {
          "color": "#888",
          "width": 7.719292831585399
         },
         "mode": "lines",
         "type": "scatter",
         "x": [
          0.056936006808823186,
          0.04467832748370658,
          null
         ],
         "y": [
          0.016111406497531542,
          -0.003629286852666818,
          null
         ]
        },
        {
         "hoverinfo": "none",
         "line": {
          "color": "#888",
          "width": 7.323360799373014
         },
         "mode": "lines",
         "type": "scatter",
         "x": [
          0.056936006808823186,
          0.12988163645410297,
          null
         ],
         "y": [
          0.016111406497531542,
          0.03675293578193367,
          null
         ]
        },
        {
         "hoverinfo": "none",
         "line": {
          "color": "#888",
          "width": 7.305905275353453
         },
         "mode": "lines",
         "type": "scatter",
         "x": [
          0.056936006808823186,
          0.035170945634905026,
          null
         ],
         "y": [
          0.016111406497531542,
          -0.01053013399832651,
          null
         ]
        },
        {
         "hoverinfo": "none",
         "line": {
          "color": "#888",
          "width": 7.222563471233148
         },
         "mode": "lines",
         "type": "scatter",
         "x": [
          0.056936006808823186,
          0.03513349996217932,
          null
         ],
         "y": [
          0.016111406497531542,
          0.013867105482447939,
          null
         ]
        },
        {
         "hoverinfo": "none",
         "line": {
          "color": "#888",
          "width": 7.667298267529318
         },
         "mode": "lines",
         "type": "scatter",
         "x": [
          0.047788858802087525,
          0.057379303598770866,
          null
         ],
         "y": [
          0.01943922284043798,
          0.019579423949201365,
          null
         ]
        },
        {
         "hoverinfo": "none",
         "line": {
          "color": "#888",
          "width": 7.328305208984115
         },
         "mode": "lines",
         "type": "scatter",
         "x": [
          0.047788858802087525,
          0.052206110448011205,
          null
         ],
         "y": [
          0.01943922284043798,
          0.00015984234615206526,
          null
         ]
        },
        {
         "hoverinfo": "none",
         "line": {
          "color": "#888",
          "width": 7.0527516029170965
         },
         "mode": "lines",
         "type": "scatter",
         "x": [
          0.047788858802087525,
          0.06468537251505271,
          null
         ],
         "y": [
          0.01943922284043798,
          0.023662195868131664,
          null
         ]
        },
        {
         "hoverinfo": "none",
         "line": {
          "color": "#888",
          "width": 7.500407178058149
         },
         "mode": "lines",
         "type": "scatter",
         "x": [
          0.047788858802087525,
          0.015405938830662207,
          null
         ],
         "y": [
          0.01943922284043798,
          0.0018236666551723337,
          null
         ]
        },
        {
         "hoverinfo": "none",
         "line": {
          "color": "#888",
          "width": 7.005685542189916
         },
         "mode": "lines",
         "type": "scatter",
         "x": [
          0.047788858802087525,
          0.06372455829418262,
          null
         ],
         "y": [
          0.01943922284043798,
          0.006396233475824237,
          null
         ]
        },
        {
         "hoverinfo": "none",
         "line": {
          "color": "#888",
          "width": 7.7959313154653405
         },
         "mode": "lines",
         "type": "scatter",
         "x": [
          0.047788858802087525,
          0.035520716994915845,
          null
         ],
         "y": [
          0.01943922284043798,
          0.00029598348700220147,
          null
         ]
        },
        {
         "hoverinfo": "none",
         "line": {
          "color": "#888",
          "width": 7.142230302328157
         },
         "mode": "lines",
         "type": "scatter",
         "x": [
          0.047788858802087525,
          0.029012665400372162,
          null
         ],
         "y": [
          0.01943922284043798,
          0.04189826824538741,
          null
         ]
        },
        {
         "hoverinfo": "none",
         "line": {
          "color": "#888",
          "width": 7.483905225412735
         },
         "mode": "lines",
         "type": "scatter",
         "x": [
          0.047788858802087525,
          0.04970440637929779,
          null
         ],
         "y": [
          0.01943922284043798,
          0.025486103291545235,
          null
         ]
        },
        {
         "hoverinfo": "none",
         "line": {
          "color": "#888",
          "width": 7.48279015879147
         },
         "mode": "lines",
         "type": "scatter",
         "x": [
          0.047788858802087525,
          0.05631391082707372,
          null
         ],
         "y": [
          0.01943922284043798,
          0.011326749686911029,
          null
         ]
        },
        {
         "hoverinfo": "none",
         "line": {
          "color": "#888",
          "width": 7.323335634172265
         },
         "mode": "lines",
         "type": "scatter",
         "x": [
          0.047788858802087525,
          0.05677913646293775,
          null
         ],
         "y": [
          0.01943922284043798,
          0.024691956360039784,
          null
         ]
        },
        {
         "hoverinfo": "none",
         "line": {
          "color": "#888",
          "width": 8.356934890297879
         },
         "mode": "lines",
         "type": "scatter",
         "x": [
          0.047788858802087525,
          0.08332396253443919,
          null
         ],
         "y": [
          0.01943922284043798,
          0.01232482248712961,
          null
         ]
        },
        {
         "hoverinfo": "none",
         "line": {
          "color": "#888",
          "width": 7.260957992065261
         },
         "mode": "lines",
         "type": "scatter",
         "x": [
          0.047788858802087525,
          0.11194464052597483,
          null
         ],
         "y": [
          0.01943922284043798,
          0.02925174787337331,
          null
         ]
        },
        {
         "hoverinfo": "none",
         "line": {
          "color": "#888",
          "width": 7.179988277532937
         },
         "mode": "lines",
         "type": "scatter",
         "x": [
          0.047788858802087525,
          0.06446578980483612,
          null
         ],
         "y": [
          0.01943922284043798,
          -0.010092683244049116,
          null
         ]
        },
        {
         "hoverinfo": "none",
         "line": {
          "color": "#888",
          "width": 7.638958714174495
         },
         "mode": "lines",
         "type": "scatter",
         "x": [
          0.047788858802087525,
          0.044543130719242284,
          null
         ],
         "y": [
          0.01943922284043798,
          -0.007284453597997196,
          null
         ]
        },
        {
         "hoverinfo": "none",
         "line": {
          "color": "#888",
          "width": 7.237073964017391
         },
         "mode": "lines",
         "type": "scatter",
         "x": [
          0.047788858802087525,
          0.05296089611075171,
          null
         ],
         "y": [
          0.01943922284043798,
          0.0291410783850021,
          null
         ]
        },
        {
         "hoverinfo": "none",
         "line": {
          "color": "#888",
          "width": 7.847482609137928
         },
         "mode": "lines",
         "type": "scatter",
         "x": [
          0.047788858802087525,
          0.031118990225050696,
          null
         ],
         "y": [
          0.01943922284043798,
          0.016878798504403318,
          null
         ]
        },
        {
         "hoverinfo": "none",
         "line": {
          "color": "#888",
          "width": 7.393337896701427
         },
         "mode": "lines",
         "type": "scatter",
         "x": [
          0.047788858802087525,
          0.09723806063632065,
          null
         ],
         "y": [
          0.01943922284043798,
          0.013264870685033976,
          null
         ]
        },
        {
         "hoverinfo": "none",
         "line": {
          "color": "#888",
          "width": 7.481723289790036
         },
         "mode": "lines",
         "type": "scatter",
         "x": [
          0.047788858802087525,
          0.04619599653144016,
          null
         ],
         "y": [
          0.01943922284043798,
          0.027644664186740022,
          null
         ]
        },
        {
         "hoverinfo": "none",
         "line": {
          "color": "#888",
          "width": 7.48237208219949
         },
         "mode": "lines",
         "type": "scatter",
         "x": [
          0.047788858802087525,
          0.06882186507966723,
          null
         ],
         "y": [
          0.01943922284043798,
          0.004141447594331741,
          null
         ]
        },
        {
         "hoverinfo": "none",
         "line": {
          "color": "#888",
          "width": 8.485625393688176
         },
         "mode": "lines",
         "type": "scatter",
         "x": [
          0.047788858802087525,
          0.04424926983059967,
          null
         ],
         "y": [
          0.01943922284043798,
          0.009245192588423365,
          null
         ]
        },
        {
         "hoverinfo": "none",
         "line": {
          "color": "#888",
          "width": 7.145381764461298
         },
         "mode": "lines",
         "type": "scatter",
         "x": [
          0.047788858802087525,
          0.0147182191032134,
          null
         ],
         "y": [
          0.01943922284043798,
          -0.012808506474670344,
          null
         ]
        },
        {
         "hoverinfo": "none",
         "line": {
          "color": "#888",
          "width": 7.275450128210715
         },
         "mode": "lines",
         "type": "scatter",
         "x": [
          0.047788858802087525,
          0.039847573723061344,
          null
         ],
         "y": [
          0.01943922284043798,
          0.022597028620224235,
          null
         ]
        },
        {
         "hoverinfo": "none",
         "line": {
          "color": "#888",
          "width": 7.880120913025511
         },
         "mode": "lines",
         "type": "scatter",
         "x": [
          0.047788858802087525,
          0.04221760964270946,
          null
         ],
         "y": [
          0.01943922284043798,
          0.003341464908629855,
          null
         ]
        },
        {
         "hoverinfo": "none",
         "line": {
          "color": "#888",
          "width": 7.297820695117322
         },
         "mode": "lines",
         "type": "scatter",
         "x": [
          0.047788858802087525,
          0.04800116693795323,
          null
         ],
         "y": [
          0.01943922284043798,
          0.034310508589731406,
          null
         ]
        },
        {
         "hoverinfo": "none",
         "line": {
          "color": "#888",
          "width": 7.4502404538499825
         },
         "mode": "lines",
         "type": "scatter",
         "x": [
          0.047788858802087525,
          0.06337133714875767,
          null
         ],
         "y": [
          0.01943922284043798,
          -0.04631437006244878,
          null
         ]
        },
        {
         "hoverinfo": "none",
         "line": {
          "color": "#888",
          "width": 7.112376870052262
         },
         "mode": "lines",
         "type": "scatter",
         "x": [
          0.047788858802087525,
          0.02316199970847503,
          null
         ],
         "y": [
          0.01943922284043798,
          0.008806188342982607,
          null
         ]
        },
        {
         "hoverinfo": "none",
         "line": {
          "color": "#888",
          "width": 7.766669818317803
         },
         "mode": "lines",
         "type": "scatter",
         "x": [
          0.047788858802087525,
          0.07240371276515907,
          null
         ],
         "y": [
          0.01943922284043798,
          0.010354016717386371,
          null
         ]
        },
        {
         "hoverinfo": "none",
         "line": {
          "color": "#888",
          "width": 8.052595669889502
         },
         "mode": "lines",
         "type": "scatter",
         "x": [
          0.047788858802087525,
          0.05178108448531763,
          null
         ],
         "y": [
          0.01943922284043798,
          0.016646922726216835,
          null
         ]
        },
        {
         "hoverinfo": "none",
         "line": {
          "color": "#888",
          "width": 7.052872967187996
         },
         "mode": "lines",
         "type": "scatter",
         "x": [
          0.047788858802087525,
          0.025948658291624793,
          null
         ],
         "y": [
          0.01943922284043798,
          0.021254089073911894,
          null
         ]
        },
        {
         "hoverinfo": "none",
         "line": {
          "color": "#888",
          "width": 7.238349952075876
         },
         "mode": "lines",
         "type": "scatter",
         "x": [
          0.047788858802087525,
          0.04105751892921649,
          null
         ],
         "y": [
          0.01943922284043798,
          0.044797353804043524,
          null
         ]
        },
        {
         "hoverinfo": "none",
         "line": {
          "color": "#888",
          "width": 7.731339156564205
         },
         "mode": "lines",
         "type": "scatter",
         "x": [
          0.047788858802087525,
          0.038354719562571304,
          null
         ],
         "y": [
          0.01943922284043798,
          0.004161903113501472,
          null
         ]
        },
        {
         "hoverinfo": "none",
         "line": {
          "color": "#888",
          "width": 7.101840374486624
         },
         "mode": "lines",
         "type": "scatter",
         "x": [
          0.047788858802087525,
          0.06190168719275233,
          null
         ],
         "y": [
          0.01943922284043798,
          0.058304571013040554,
          null
         ]
        },
        {
         "hoverinfo": "none",
         "line": {
          "color": "#888",
          "width": 7.04862197195827
         },
         "mode": "lines",
         "type": "scatter",
         "x": [
          0.047788858802087525,
          0.061321053641733785,
          null
         ],
         "y": [
          0.01943922284043798,
          -0.024536057246514434,
          null
         ]
        },
        {
         "hoverinfo": "none",
         "line": {
          "color": "#888",
          "width": 7.0200403505131606
         },
         "mode": "lines",
         "type": "scatter",
         "x": [
          0.047788858802087525,
          0.03219278187344018,
          null
         ],
         "y": [
          0.01943922284043798,
          0.0061149754035917,
          null
         ]
        },
        {
         "hoverinfo": "none",
         "line": {
          "color": "#888",
          "width": 7.3257416204496355
         },
         "mode": "lines",
         "type": "scatter",
         "x": [
          0.047788858802087525,
          0.047591032020469465,
          null
         ],
         "y": [
          0.01943922284043798,
          -0.03311958601746846,
          null
         ]
        },
        {
         "hoverinfo": "none",
         "line": {
          "color": "#888",
          "width": 7.378440983537694
         },
         "mode": "lines",
         "type": "scatter",
         "x": [
          0.047788858802087525,
          0.04467832748370658,
          null
         ],
         "y": [
          0.01943922284043798,
          -0.003629286852666818,
          null
         ]
        },
        {
         "hoverinfo": "none",
         "line": {
          "color": "#888",
          "width": 7.08720336598967
         },
         "mode": "lines",
         "type": "scatter",
         "x": [
          0.047788858802087525,
          0.12988163645410297,
          null
         ],
         "y": [
          0.01943922284043798,
          0.03675293578193367,
          null
         ]
        },
        {
         "hoverinfo": "none",
         "line": {
          "color": "#888",
          "width": 7.273577517890811
         },
         "mode": "lines",
         "type": "scatter",
         "x": [
          0.047788858802087525,
          0.05167935923112888,
          null
         ],
         "y": [
          0.01943922284043798,
          0.007531767395388412,
          null
         ]
        },
        {
         "hoverinfo": "none",
         "line": {
          "color": "#888",
          "width": 7.611475677999026
         },
         "mode": "lines",
         "type": "scatter",
         "x": [
          0.047788858802087525,
          0.043365958100558266,
          null
         ],
         "y": [
          0.01943922284043798,
          -0.01113046894597532,
          null
         ]
        },
        {
         "hoverinfo": "none",
         "line": {
          "color": "#888",
          "width": 7.662382475352368
         },
         "mode": "lines",
         "type": "scatter",
         "x": [
          0.047788858802087525,
          0.038942507500276856,
          null
         ],
         "y": [
          0.01943922284043798,
          0.03078782212668624,
          null
         ]
        },
        {
         "hoverinfo": "none",
         "line": {
          "color": "#888",
          "width": 7.135406843498306
         },
         "mode": "lines",
         "type": "scatter",
         "x": [
          0.047788858802087525,
          0.035170945634905026,
          null
         ],
         "y": [
          0.01943922284043798,
          -0.01053013399832651,
          null
         ]
        },
        {
         "hoverinfo": "none",
         "line": {
          "color": "#888",
          "width": 7.287776976073095
         },
         "mode": "lines",
         "type": "scatter",
         "x": [
          0.047788858802087525,
          0.04047227523908738,
          null
         ],
         "y": [
          0.01943922284043798,
          0.061441597952245686,
          null
         ]
        },
        {
         "hoverinfo": "none",
         "line": {
          "color": "#888",
          "width": 7.802679374451326
         },
         "mode": "lines",
         "type": "scatter",
         "x": [
          0.047788858802087525,
          0.03513349996217932,
          null
         ],
         "y": [
          0.01943922284043798,
          0.013867105482447939,
          null
         ]
        },
        {
         "hoverinfo": "none",
         "line": {
          "color": "#888",
          "width": 7.980180976416834
         },
         "mode": "lines",
         "type": "scatter",
         "x": [
          0.22817491310662766,
          0.2284570490582576,
          null
         ],
         "y": [
          0.041844500596673564,
          0.05170308749973495,
          null
         ]
        },
        {
         "hoverinfo": "none",
         "line": {
          "color": "#888",
          "width": 8.92102065999036
         },
         "mode": "lines",
         "type": "scatter",
         "x": [
          0.22817491310662766,
          0.19379772571483223,
          null
         ],
         "y": [
          0.041844500596673564,
          0.02785887501779817,
          null
         ]
        },
        {
         "hoverinfo": "none",
         "line": {
          "color": "#888",
          "width": 7.167193140832055
         },
         "mode": "lines",
         "type": "scatter",
         "x": [
          0.22817491310662766,
          0.2809715675903671,
          null
         ],
         "y": [
          0.041844500596673564,
          0.05844849269653355,
          null
         ]
        },
        {
         "hoverinfo": "none",
         "line": {
          "color": "#888",
          "width": 7.32901141020855
         },
         "mode": "lines",
         "type": "scatter",
         "x": [
          0.22817491310662766,
          0.21463353076224484,
          null
         ],
         "y": [
          0.041844500596673564,
          0.05380542920059269,
          null
         ]
        },
        {
         "hoverinfo": "none",
         "line": {
          "color": "#888",
          "width": 7.740506976632396
         },
         "mode": "lines",
         "type": "scatter",
         "x": [
          0.22817491310662766,
          0.2646786867450003,
          null
         ],
         "y": [
          0.041844500596673564,
          0.03376971547160917,
          null
         ]
        },
        {
         "hoverinfo": "none",
         "line": {
          "color": "#888",
          "width": 8.87512943725396
         },
         "mode": "lines",
         "type": "scatter",
         "x": [
          0.22817491310662766,
          0.1382099068108629,
          null
         ],
         "y": [
          0.041844500596673564,
          0.034361954867391006,
          null
         ]
        },
        {
         "hoverinfo": "none",
         "line": {
          "color": "#888",
          "width": 7.925915697001048
         },
         "mode": "lines",
         "type": "scatter",
         "x": [
          0.2284570490582576,
          0.19379772571483223,
          null
         ],
         "y": [
          0.05170308749973495,
          0.02785887501779817,
          null
         ]
        },
        {
         "hoverinfo": "none",
         "line": {
          "color": "#888",
          "width": 8.404811549020918
         },
         "mode": "lines",
         "type": "scatter",
         "x": [
          0.2284570490582576,
          0.2809715675903671,
          null
         ],
         "y": [
          0.05170308749973495,
          0.05844849269653355,
          null
         ]
        },
        {
         "hoverinfo": "none",
         "line": {
          "color": "#888",
          "width": 8.143087457750935
         },
         "mode": "lines",
         "type": "scatter",
         "x": [
          0.2284570490582576,
          0.21463353076224484,
          null
         ],
         "y": [
          0.05170308749973495,
          0.05380542920059269,
          null
         ]
        },
        {
         "hoverinfo": "none",
         "line": {
          "color": "#888",
          "width": 7.934502896601323
         },
         "mode": "lines",
         "type": "scatter",
         "x": [
          0.2284570490582576,
          0.1382099068108629,
          null
         ],
         "y": [
          0.05170308749973495,
          0.034361954867391006,
          null
         ]
        },
        {
         "hoverinfo": "none",
         "line": {
          "color": "#888",
          "width": 7.084713185688736
         },
         "mode": "lines",
         "type": "scatter",
         "x": [
          0.19379772571483223,
          0.09775289659785226,
          null
         ],
         "y": [
          0.02785887501779817,
          0.02686448843901793,
          null
         ]
        },
        {
         "hoverinfo": "none",
         "line": {
          "color": "#888",
          "width": 7.344284152686738
         },
         "mode": "lines",
         "type": "scatter",
         "x": [
          0.19379772571483223,
          0.1597792388995273,
          null
         ],
         "y": [
          0.02785887501779817,
          -0.018399572795810327,
          null
         ]
        },
        {
         "hoverinfo": "none",
         "line": {
          "color": "#888",
          "width": 7.443127518635009
         },
         "mode": "lines",
         "type": "scatter",
         "x": [
          0.19379772571483223,
          0.21463353076224484,
          null
         ],
         "y": [
          0.02785887501779817,
          0.05380542920059269,
          null
         ]
        },
        {
         "hoverinfo": "none",
         "line": {
          "color": "#888",
          "width": 7.774312642705411
         },
         "mode": "lines",
         "type": "scatter",
         "x": [
          0.19379772571483223,
          0.2646786867450003,
          null
         ],
         "y": [
          0.02785887501779817,
          0.03376971547160917,
          null
         ]
        },
        {
         "hoverinfo": "none",
         "line": {
          "color": "#888",
          "width": 9.008809827093915
         },
         "mode": "lines",
         "type": "scatter",
         "x": [
          0.19379772571483223,
          0.1382099068108629,
          null
         ],
         "y": [
          0.02785887501779817,
          0.034361954867391006,
          null
         ]
        },
        {
         "hoverinfo": "none",
         "line": {
          "color": "#888",
          "width": 7.518980110218098
         },
         "mode": "lines",
         "type": "scatter",
         "x": [
          0.21463353076224484,
          0.1382099068108629,
          null
         ],
         "y": [
          0.05380542920059269,
          0.034361954867391006,
          null
         ]
        },
        {
         "hoverinfo": "none",
         "line": {
          "color": "#888",
          "width": 7.515226748537012
         },
         "mode": "lines",
         "type": "scatter",
         "x": [
          0.1382099068108629,
          0.09775289659785226,
          null
         ],
         "y": [
          0.034361954867391006,
          0.02686448843901793,
          null
         ]
        },
        {
         "hoverinfo": "none",
         "line": {
          "color": "#888",
          "width": 7.1902546231759015
         },
         "mode": "lines",
         "type": "scatter",
         "x": [
          0.1382099068108629,
          0.06468537251505271,
          null
         ],
         "y": [
          0.034361954867391006,
          0.023662195868131664,
          null
         ]
        },
        {
         "hoverinfo": "none",
         "line": {
          "color": "#888",
          "width": 7.02314460311228
         },
         "mode": "lines",
         "type": "scatter",
         "x": [
          0.1382099068108629,
          0.04970440637929779,
          null
         ],
         "y": [
          0.034361954867391006,
          0.025486103291545235,
          null
         ]
        },
        {
         "hoverinfo": "none",
         "line": {
          "color": "#888",
          "width": 7.009901120100032
         },
         "mode": "lines",
         "type": "scatter",
         "x": [
          0.1382099068108629,
          0.05631391082707372,
          null
         ],
         "y": [
          0.034361954867391006,
          0.011326749686911029,
          null
         ]
        },
        {
         "hoverinfo": "none",
         "line": {
          "color": "#888",
          "width": 7.123387450539534
         },
         "mode": "lines",
         "type": "scatter",
         "x": [
          0.1382099068108629,
          0.08201774277260196,
          null
         ],
         "y": [
          0.034361954867391006,
          0.031007177049165956,
          null
         ]
        },
        {
         "hoverinfo": "none",
         "line": {
          "color": "#888",
          "width": 7.379753518934708
         },
         "mode": "lines",
         "type": "scatter",
         "x": [
          0.1382099068108629,
          0.08778325327448383,
          null
         ],
         "y": [
          0.034361954867391006,
          0.060562243849421854,
          null
         ]
        },
        {
         "hoverinfo": "none",
         "line": {
          "color": "#888",
          "width": 7.630296372736165
         },
         "mode": "lines",
         "type": "scatter",
         "x": [
          0.1382099068108629,
          0.06082795141898182,
          null
         ],
         "y": [
          0.034361954867391006,
          0.03833200467566781,
          null
         ]
        },
        {
         "hoverinfo": "none",
         "line": {
          "color": "#888",
          "width": 7.110278769039652
         },
         "mode": "lines",
         "type": "scatter",
         "x": [
          0.1382099068108629,
          0.1597792388995273,
          null
         ],
         "y": [
          0.034361954867391006,
          -0.018399572795810327,
          null
         ]
        },
        {
         "hoverinfo": "none",
         "line": {
          "color": "#888",
          "width": 7.757407833020816
         },
         "mode": "lines",
         "type": "scatter",
         "x": [
          -0.0991643175331902,
          -0.12908507553413642,
          null
         ],
         "y": [
          0.13843322154091828,
          0.20640505451562616,
          null
         ]
        },
        {
         "hoverinfo": "none",
         "line": {
          "color": "#888",
          "width": 7.162412203797622
         },
         "mode": "lines",
         "type": "scatter",
         "x": [
          0.0660964933931117,
          0.04970440637929779,
          null
         ],
         "y": [
          0.08024250352854398,
          0.025486103291545235,
          null
         ]
        },
        {
         "hoverinfo": "none",
         "line": {
          "color": "#888",
          "width": 7.167069018834296
         },
         "mode": "lines",
         "type": "scatter",
         "x": [
          0.0660964933931117,
          0.08201774277260196,
          null
         ],
         "y": [
          0.08024250352854398,
          0.031007177049165956,
          null
         ]
        },
        {
         "hoverinfo": "none",
         "line": {
          "color": "#888",
          "width": 7.0738866134738965
         },
         "mode": "lines",
         "type": "scatter",
         "x": [
          0.0660964933931117,
          0.04800116693795323,
          null
         ],
         "y": [
          0.08024250352854398,
          0.034310508589731406,
          null
         ]
        },
        {
         "hoverinfo": "none",
         "line": {
          "color": "#888",
          "width": 7.544741110475388
         },
         "mode": "lines",
         "type": "scatter",
         "x": [
          0.0660964933931117,
          0.05559099264036801,
          null
         ],
         "y": [
          0.08024250352854398,
          0.04715001178458815,
          null
         ]
        },
        {
         "hoverinfo": "none",
         "line": {
          "color": "#888",
          "width": 7.395105051409365
         },
         "mode": "lines",
         "type": "scatter",
         "x": [
          0.0660964933931117,
          0.048041473944571596,
          null
         ],
         "y": [
          0.08024250352854398,
          0.04026545544474317,
          null
         ]
        },
        {
         "hoverinfo": "none",
         "line": {
          "color": "#888",
          "width": 7.097693926408341
         },
         "mode": "lines",
         "type": "scatter",
         "x": [
          0.04970440637929779,
          0.09775289659785226,
          null
         ],
         "y": [
          0.025486103291545235,
          0.02686448843901793,
          null
         ]
        },
        {
         "hoverinfo": "none",
         "line": {
          "color": "#888",
          "width": 8.778938965553195
         },
         "mode": "lines",
         "type": "scatter",
         "x": [
          0.04970440637929779,
          0.057379303598770866,
          null
         ],
         "y": [
          0.025486103291545235,
          0.019579423949201365,
          null
         ]
        },
        {
         "hoverinfo": "none",
         "line": {
          "color": "#888",
          "width": 7.142026751662291
         },
         "mode": "lines",
         "type": "scatter",
         "x": [
          0.04970440637929779,
          0.04435818424278147,
          null
         ],
         "y": [
          0.025486103291545235,
          0.07208164124493636,
          null
         ]
        },
        {
         "hoverinfo": "none",
         "line": {
          "color": "#888",
          "width": 7.620772250276802
         },
         "mode": "lines",
         "type": "scatter",
         "x": [
          0.04970440637929779,
          0.052206110448011205,
          null
         ],
         "y": [
          0.025486103291545235,
          0.00015984234615206526,
          null
         ]
        },
        {
         "hoverinfo": "none",
         "line": {
          "color": "#888",
          "width": 7.820804848303503
         },
         "mode": "lines",
         "type": "scatter",
         "x": [
          0.04970440637929779,
          0.06468537251505271,
          null
         ],
         "y": [
          0.025486103291545235,
          0.023662195868131664,
          null
         ]
        },
        {
         "hoverinfo": "none",
         "line": {
          "color": "#888",
          "width": 7.10280680510534
         },
         "mode": "lines",
         "type": "scatter",
         "x": [
          0.04970440637929779,
          0.05900785634350229,
          null
         ],
         "y": [
          0.025486103291545235,
          -0.018136595586441873,
          null
         ]
        },
        {
         "hoverinfo": "none",
         "line": {
          "color": "#888",
          "width": 7.514295629452211
         },
         "mode": "lines",
         "type": "scatter",
         "x": [
          0.04970440637929779,
          0.015405938830662207,
          null
         ],
         "y": [
          0.025486103291545235,
          0.0018236666551723337,
          null
         ]
        },
        {
         "hoverinfo": "none",
         "line": {
          "color": "#888",
          "width": 7.068173600112879
         },
         "mode": "lines",
         "type": "scatter",
         "x": [
          0.04970440637929779,
          0.06372455829418262,
          null
         ],
         "y": [
          0.025486103291545235,
          0.006396233475824237,
          null
         ]
        },
        {
         "hoverinfo": "none",
         "line": {
          "color": "#888",
          "width": 7.839789865910198
         },
         "mode": "lines",
         "type": "scatter",
         "x": [
          0.04970440637929779,
          0.035520716994915845,
          null
         ],
         "y": [
          0.025486103291545235,
          0.00029598348700220147,
          null
         ]
        },
        {
         "hoverinfo": "none",
         "line": {
          "color": "#888",
          "width": 7.472263676227838
         },
         "mode": "lines",
         "type": "scatter",
         "x": [
          0.04970440637929779,
          0.051668100730155764,
          null
         ],
         "y": [
          0.025486103291545235,
          0.055343590458516626,
          null
         ]
        },
        {
         "hoverinfo": "none",
         "line": {
          "color": "#888",
          "width": 7.781435869741754
         },
         "mode": "lines",
         "type": "scatter",
         "x": [
          0.04970440637929779,
          0.029012665400372162,
          null
         ],
         "y": [
          0.025486103291545235,
          0.04189826824538741,
          null
         ]
        },
        {
         "hoverinfo": "none",
         "line": {
          "color": "#888",
          "width": 7.476606809154972
         },
         "mode": "lines",
         "type": "scatter",
         "x": [
          0.04970440637929779,
          0.05631391082707372,
          null
         ],
         "y": [
          0.025486103291545235,
          0.011326749686911029,
          null
         ]
        },
        {
         "hoverinfo": "none",
         "line": {
          "color": "#888",
          "width": 7.474531088147688
         },
         "mode": "lines",
         "type": "scatter",
         "x": [
          0.04970440637929779,
          0.05677913646293775,
          null
         ],
         "y": [
          0.025486103291545235,
          0.024691956360039784,
          null
         ]
        },
        {
         "hoverinfo": "none",
         "line": {
          "color": "#888",
          "width": 7.37741576093342
         },
         "mode": "lines",
         "type": "scatter",
         "x": [
          0.04970440637929779,
          0.0617178479758501,
          null
         ],
         "y": [
          0.025486103291545235,
          0.06797352635427499,
          null
         ]
        },
        {
         "hoverinfo": "none",
         "line": {
          "color": "#888",
          "width": 7.121303834167288
         },
         "mode": "lines",
         "type": "scatter",
         "x": [
          0.04970440637929779,
          0.06446578980483612,
          null
         ],
         "y": [
          0.025486103291545235,
          -0.010092683244049116,
          null
         ]
        },
        {
         "hoverinfo": "none",
         "line": {
          "color": "#888",
          "width": 7.1600087595319835
         },
         "mode": "lines",
         "type": "scatter",
         "x": [
          0.04970440637929779,
          0.044543130719242284,
          null
         ],
         "y": [
          0.025486103291545235,
          -0.007284453597997196,
          null
         ]
        },
        {
         "hoverinfo": "none",
         "line": {
          "color": "#888",
          "width": 8.90879078800136
         },
         "mode": "lines",
         "type": "scatter",
         "x": [
          0.04970440637929779,
          0.05296089611075171,
          null
         ],
         "y": [
          0.025486103291545235,
          0.0291410783850021,
          null
         ]
        },
        {
         "hoverinfo": "none",
         "line": {
          "color": "#888",
          "width": 7.901386534967565
         },
         "mode": "lines",
         "type": "scatter",
         "x": [
          0.04970440637929779,
          0.031118990225050696,
          null
         ],
         "y": [
          0.025486103291545235,
          0.016878798504403318,
          null
         ]
        },
        {
         "hoverinfo": "none",
         "line": {
          "color": "#888",
          "width": 7.639070294867382
         },
         "mode": "lines",
         "type": "scatter",
         "x": [
          0.04970440637929779,
          0.02906045571634478,
          null
         ],
         "y": [
          0.025486103291545235,
          0.025702062157286484,
          null
         ]
        },
        {
         "hoverinfo": "none",
         "line": {
          "color": "#888",
          "width": 7.501975256068966
         },
         "mode": "lines",
         "type": "scatter",
         "x": [
          0.04970440637929779,
          0.05167761610956777,
          null
         ],
         "y": [
          0.025486103291545235,
          -0.025632995988194535,
          null
         ]
        },
        {
         "hoverinfo": "none",
         "line": {
          "color": "#888",
          "width": 9.290252214293613
         },
         "mode": "lines",
         "type": "scatter",
         "x": [
          0.04970440637929779,
          0.04619599653144016,
          null
         ],
         "y": [
          0.025486103291545235,
          0.027644664186740022,
          null
         ]
        },
        {
         "hoverinfo": "none",
         "line": {
          "color": "#888",
          "width": 7.742779579432106
         },
         "mode": "lines",
         "type": "scatter",
         "x": [
          0.04970440637929779,
          0.08201774277260196,
          null
         ],
         "y": [
          0.025486103291545235,
          0.031007177049165956,
          null
         ]
        },
        {
         "hoverinfo": "none",
         "line": {
          "color": "#888",
          "width": 8.028536915345349
         },
         "mode": "lines",
         "type": "scatter",
         "x": [
          0.04970440637929779,
          0.04424926983059967,
          null
         ],
         "y": [
          0.025486103291545235,
          0.009245192588423365,
          null
         ]
        },
        {
         "hoverinfo": "none",
         "line": {
          "color": "#888",
          "width": 7.4172328213154115
         },
         "mode": "lines",
         "type": "scatter",
         "x": [
          0.04970440637929779,
          0.0147182191032134,
          null
         ],
         "y": [
          0.025486103291545235,
          -0.012808506474670344,
          null
         ]
        },
        {
         "hoverinfo": "none",
         "line": {
          "color": "#888",
          "width": 8.89789795581455
         },
         "mode": "lines",
         "type": "scatter",
         "x": [
          0.04970440637929779,
          0.039847573723061344,
          null
         ],
         "y": [
          0.025486103291545235,
          0.022597028620224235,
          null
         ]
        },
        {
         "hoverinfo": "none",
         "line": {
          "color": "#888",
          "width": 7.195120792962422
         },
         "mode": "lines",
         "type": "scatter",
         "x": [
          0.04970440637929779,
          0.035123113123913655,
          null
         ],
         "y": [
          0.025486103291545235,
          -0.015184046650287686,
          null
         ]
        },
        {
         "hoverinfo": "none",
         "line": {
          "color": "#888",
          "width": 7.414332898085538
         },
         "mode": "lines",
         "type": "scatter",
         "x": [
          0.04970440637929779,
          0.04221760964270946,
          null
         ],
         "y": [
          0.025486103291545235,
          0.003341464908629855,
          null
         ]
        },
        {
         "hoverinfo": "none",
         "line": {
          "color": "#888",
          "width": 7.374470767761165
         },
         "mode": "lines",
         "type": "scatter",
         "x": [
          0.04970440637929779,
          0.021348718231508915,
          null
         ],
         "y": [
          0.025486103291545235,
          0.012451826275459169,
          null
         ]
        },
        {
         "hoverinfo": "none",
         "line": {
          "color": "#888",
          "width": 9.240233372002095
         },
         "mode": "lines",
         "type": "scatter",
         "x": [
          0.04970440637929779,
          0.04800116693795323,
          null
         ],
         "y": [
          0.025486103291545235,
          0.034310508589731406,
          null
         ]
        },
        {
         "hoverinfo": "none",
         "line": {
          "color": "#888",
          "width": 7.239407049240601
         },
         "mode": "lines",
         "type": "scatter",
         "x": [
          0.04970440637929779,
          0.02316199970847503,
          null
         ],
         "y": [
          0.025486103291545235,
          0.008806188342982607,
          null
         ]
        },
        {
         "hoverinfo": "none",
         "line": {
          "color": "#888",
          "width": 8.241059700501998
         },
         "mode": "lines",
         "type": "scatter",
         "x": [
          0.04970440637929779,
          0.06082795141898182,
          null
         ],
         "y": [
          0.025486103291545235,
          0.03833200467566781,
          null
         ]
        },
        {
         "hoverinfo": "none",
         "line": {
          "color": "#888",
          "width": 7.029376104297902
         },
         "mode": "lines",
         "type": "scatter",
         "x": [
          0.04970440637929779,
          0.07240371276515907,
          null
         ],
         "y": [
          0.025486103291545235,
          0.010354016717386371,
          null
         ]
        },
        {
         "hoverinfo": "none",
         "line": {
          "color": "#888",
          "width": 9.036903805991912
         },
         "mode": "lines",
         "type": "scatter",
         "x": [
          0.04970440637929779,
          0.05178108448531763,
          null
         ],
         "y": [
          0.025486103291545235,
          0.016646922726216835,
          null
         ]
        },
        {
         "hoverinfo": "none",
         "line": {
          "color": "#888",
          "width": 7.337717684099733
         },
         "mode": "lines",
         "type": "scatter",
         "x": [
          0.04970440637929779,
          0.025948658291624793,
          null
         ],
         "y": [
          0.025486103291545235,
          0.021254089073911894,
          null
         ]
        },
        {
         "hoverinfo": "none",
         "line": {
          "color": "#888",
          "width": 8.310924790532383
         },
         "mode": "lines",
         "type": "scatter",
         "x": [
          0.04970440637929779,
          0.04105751892921649,
          null
         ],
         "y": [
          0.025486103291545235,
          0.044797353804043524,
          null
         ]
        },
        {
         "hoverinfo": "none",
         "line": {
          "color": "#888",
          "width": 7.68294250509503
         },
         "mode": "lines",
         "type": "scatter",
         "x": [
          0.04970440637929779,
          0.038354719562571304,
          null
         ],
         "y": [
          0.025486103291545235,
          0.004161903113501472,
          null
         ]
        },
        {
         "hoverinfo": "none",
         "line": {
          "color": "#888",
          "width": 7.284340117392201
         },
         "mode": "lines",
         "type": "scatter",
         "x": [
          0.04970440637929779,
          0.013787095809808705,
          null
         ],
         "y": [
          0.025486103291545235,
          0.00563409428498509,
          null
         ]
        },
        {
         "hoverinfo": "none",
         "line": {
          "color": "#888",
          "width": 7.187679619294915
         },
         "mode": "lines",
         "type": "scatter",
         "x": [
          0.04970440637929779,
          0.06190168719275233,
          null
         ],
         "y": [
          0.025486103291545235,
          0.058304571013040554,
          null
         ]
        },
        {
         "hoverinfo": "none",
         "line": {
          "color": "#888",
          "width": 8.207075997731126
         },
         "mode": "lines",
         "type": "scatter",
         "x": [
          0.04970440637929779,
          0.05559099264036801,
          null
         ],
         "y": [
          0.025486103291545235,
          0.04715001178458815,
          null
         ]
        },
        {
         "hoverinfo": "none",
         "line": {
          "color": "#888",
          "width": 7.0217604023988205
         },
         "mode": "lines",
         "type": "scatter",
         "x": [
          0.04970440637929779,
          0.017232177533891113,
          null
         ],
         "y": [
          0.025486103291545235,
          0.09131991431884356,
          null
         ]
        },
        {
         "hoverinfo": "none",
         "line": {
          "color": "#888",
          "width": 7.43098169193649
         },
         "mode": "lines",
         "type": "scatter",
         "x": [
          0.04970440637929779,
          0.03219278187344018,
          null
         ],
         "y": [
          0.025486103291545235,
          0.0061149754035917,
          null
         ]
        },
        {
         "hoverinfo": "none",
         "line": {
          "color": "#888",
          "width": 7.039428355691674
         },
         "mode": "lines",
         "type": "scatter",
         "x": [
          0.04970440637929779,
          0.030030690307780602,
          null
         ],
         "y": [
          0.025486103291545235,
          0.056510679734903424,
          null
         ]
        },
        {
         "hoverinfo": "none",
         "line": {
          "color": "#888",
          "width": 8.058619809210564
         },
         "mode": "lines",
         "type": "scatter",
         "x": [
          0.04970440637929779,
          0.05167935923112888,
          null
         ],
         "y": [
          0.025486103291545235,
          0.007531767395388412,
          null
         ]
        },
        {
         "hoverinfo": "none",
         "line": {
          "color": "#888",
          "width": 7.667991831753685
         },
         "mode": "lines",
         "type": "scatter",
         "x": [
          0.04970440637929779,
          0.043365958100558266,
          null
         ],
         "y": [
          0.025486103291545235,
          -0.01113046894597532,
          null
         ]
        },
        {
         "hoverinfo": "none",
         "line": {
          "color": "#888",
          "width": 8.887965756141424
         },
         "mode": "lines",
         "type": "scatter",
         "x": [
          0.04970440637929779,
          0.038942507500276856,
          null
         ],
         "y": [
          0.025486103291545235,
          0.03078782212668624,
          null
         ]
        },
        {
         "hoverinfo": "none",
         "line": {
          "color": "#888",
          "width": 9.113705595892396
         },
         "mode": "lines",
         "type": "scatter",
         "x": [
          0.04970440637929779,
          0.048041473944571596,
          null
         ],
         "y": [
          0.025486103291545235,
          0.04026545544474317,
          null
         ]
        },
        {
         "hoverinfo": "none",
         "line": {
          "color": "#888",
          "width": 7.097004319025913
         },
         "mode": "lines",
         "type": "scatter",
         "x": [
          0.04970440637929779,
          0.0640481455889888,
          null
         ],
         "y": [
          0.025486103291545235,
          -0.01616254512433649,
          null
         ]
        },
        {
         "hoverinfo": "none",
         "line": {
          "color": "#888",
          "width": 7.085965420301228
         },
         "mode": "lines",
         "type": "scatter",
         "x": [
          0.04970440637929779,
          0.035170945634905026,
          null
         ],
         "y": [
          0.025486103291545235,
          -0.01053013399832651,
          null
         ]
        },
        {
         "hoverinfo": "none",
         "line": {
          "color": "#888",
          "width": 7.711964819725852
         },
         "mode": "lines",
         "type": "scatter",
         "x": [
          0.04970440637929779,
          0.06387396726476834,
          null
         ],
         "y": [
          0.025486103291545235,
          0.042945063738044145,
          null
         ]
        },
        {
         "hoverinfo": "none",
         "line": {
          "color": "#888",
          "width": 7.735718273067718
         },
         "mode": "lines",
         "type": "scatter",
         "x": [
          0.04970440637929779,
          0.03513349996217932,
          null
         ],
         "y": [
          0.025486103291545235,
          0.013867105482447939,
          null
         ]
        },
        {
         "hoverinfo": "none",
         "line": {
          "color": "#888",
          "width": 7.322773878363829
         },
         "mode": "lines",
         "type": "scatter",
         "x": [
          0.08201774277260196,
          0.09775289659785226,
          null
         ],
         "y": [
          0.031007177049165956,
          0.02686448843901793,
          null
         ]
        },
        {
         "hoverinfo": "none",
         "line": {
          "color": "#888",
          "width": 7.076943823643771
         },
         "mode": "lines",
         "type": "scatter",
         "x": [
          0.08201774277260196,
          0.06468537251505271,
          null
         ],
         "y": [
          0.031007177049165956,
          0.023662195868131664,
          null
         ]
        },
        {
         "hoverinfo": "none",
         "line": {
          "color": "#888",
          "width": 7.286196072588237
         },
         "mode": "lines",
         "type": "scatter",
         "x": [
          0.08201774277260196,
          0.05631391082707372,
          null
         ],
         "y": [
          0.031007177049165956,
          0.011326749686911029,
          null
         ]
        },
        {
         "hoverinfo": "none",
         "line": {
          "color": "#888",
          "width": 7.5420159657042865
         },
         "mode": "lines",
         "type": "scatter",
         "x": [
          0.08201774277260196,
          0.05677913646293775,
          null
         ],
         "y": [
          0.031007177049165956,
          0.024691956360039784,
          null
         ]
        },
        {
         "hoverinfo": "none",
         "line": {
          "color": "#888",
          "width": 7.200701059391907
         },
         "mode": "lines",
         "type": "scatter",
         "x": [
          0.08201774277260196,
          0.05296089611075171,
          null
         ],
         "y": [
          0.031007177049165956,
          0.0291410783850021,
          null
         ]
        },
        {
         "hoverinfo": "none",
         "line": {
          "color": "#888",
          "width": 7.018875400984008
         },
         "mode": "lines",
         "type": "scatter",
         "x": [
          0.08201774277260196,
          0.1473676009386884,
          null
         ],
         "y": [
          0.031007177049165956,
          0.016997304923182657,
          null
         ]
        },
        {
         "hoverinfo": "none",
         "line": {
          "color": "#888",
          "width": 7.097802938064778
         },
         "mode": "lines",
         "type": "scatter",
         "x": [
          0.08201774277260196,
          0.02906045571634478,
          null
         ],
         "y": [
          0.031007177049165956,
          0.025702062157286484,
          null
         ]
        },
        {
         "hoverinfo": "none",
         "line": {
          "color": "#888",
          "width": 7.037791316822506
         },
         "mode": "lines",
         "type": "scatter",
         "x": [
          0.08201774277260196,
          0.07496641350674887,
          null
         ],
         "y": [
          0.031007177049165956,
          0.02975290141076397,
          null
         ]
        },
        {
         "hoverinfo": "none",
         "line": {
          "color": "#888",
          "width": 7.831110391042611
         },
         "mode": "lines",
         "type": "scatter",
         "x": [
          0.08201774277260196,
          0.04619599653144016,
          null
         ],
         "y": [
          0.031007177049165956,
          0.027644664186740022,
          null
         ]
        },
        {
         "hoverinfo": "none",
         "line": {
          "color": "#888",
          "width": 7.321771575327092
         },
         "mode": "lines",
         "type": "scatter",
         "x": [
          0.08201774277260196,
          0.039847573723061344,
          null
         ],
         "y": [
          0.031007177049165956,
          0.022597028620224235,
          null
         ]
        },
        {
         "hoverinfo": "none",
         "line": {
          "color": "#888",
          "width": 7.615702381121707
         },
         "mode": "lines",
         "type": "scatter",
         "x": [
          0.08201774277260196,
          0.04800116693795323,
          null
         ],
         "y": [
          0.031007177049165956,
          0.034310508589731406,
          null
         ]
        },
        {
         "hoverinfo": "none",
         "line": {
          "color": "#888",
          "width": 7.611279716759734
         },
         "mode": "lines",
         "type": "scatter",
         "x": [
          0.08201774277260196,
          0.06082795141898182,
          null
         ],
         "y": [
          0.031007177049165956,
          0.03833200467566781,
          null
         ]
        },
        {
         "hoverinfo": "none",
         "line": {
          "color": "#888",
          "width": 7.08861773209536
         },
         "mode": "lines",
         "type": "scatter",
         "x": [
          0.08201774277260196,
          0.07240371276515907,
          null
         ],
         "y": [
          0.031007177049165956,
          0.010354016717386371,
          null
         ]
        },
        {
         "hoverinfo": "none",
         "line": {
          "color": "#888",
          "width": 8.717139390441528
         },
         "mode": "lines",
         "type": "scatter",
         "x": [
          0.08201774277260196,
          0.12128451975148544,
          null
         ],
         "y": [
          0.031007177049165956,
          -0.029416386135104795,
          null
         ]
        },
        {
         "hoverinfo": "none",
         "line": {
          "color": "#888",
          "width": 7.008724618077373
         },
         "mode": "lines",
         "type": "scatter",
         "x": [
          0.08201774277260196,
          0.07716961454395974,
          null
         ],
         "y": [
          0.031007177049165956,
          0.04516494341131238,
          null
         ]
        },
        {
         "hoverinfo": "none",
         "line": {
          "color": "#888",
          "width": 7.347079882076169
         },
         "mode": "lines",
         "type": "scatter",
         "x": [
          0.08201774277260196,
          0.05178108448531763,
          null
         ],
         "y": [
          0.031007177049165956,
          0.016646922726216835,
          null
         ]
        },
        {
         "hoverinfo": "none",
         "line": {
          "color": "#888",
          "width": 7.4600735362981645
         },
         "mode": "lines",
         "type": "scatter",
         "x": [
          0.08201774277260196,
          0.04105751892921649,
          null
         ],
         "y": [
          0.031007177049165956,
          0.044797353804043524,
          null
         ]
        },
        {
         "hoverinfo": "none",
         "line": {
          "color": "#888",
          "width": 7.384170852171016
         },
         "mode": "lines",
         "type": "scatter",
         "x": [
          0.08201774277260196,
          0.05559099264036801,
          null
         ],
         "y": [
          0.031007177049165956,
          0.04715001178458815,
          null
         ]
        },
        {
         "hoverinfo": "none",
         "line": {
          "color": "#888",
          "width": 7.433717160622059
         },
         "mode": "lines",
         "type": "scatter",
         "x": [
          0.08201774277260196,
          0.048041473944571596,
          null
         ],
         "y": [
          0.031007177049165956,
          0.04026545544474317,
          null
         ]
        },
        {
         "hoverinfo": "none",
         "line": {
          "color": "#888",
          "width": 7.031144830960692
         },
         "mode": "lines",
         "type": "scatter",
         "x": [
          0.04800116693795323,
          0.09775289659785226,
          null
         ],
         "y": [
          0.034310508589731406,
          0.02686448843901793,
          null
         ]
        },
        {
         "hoverinfo": "none",
         "line": {
          "color": "#888",
          "width": 8.792526201425812
         },
         "mode": "lines",
         "type": "scatter",
         "x": [
          0.04800116693795323,
          0.057379303598770866,
          null
         ],
         "y": [
          0.034310508589731406,
          0.019579423949201365,
          null
         ]
        },
        {
         "hoverinfo": "none",
         "line": {
          "color": "#888",
          "width": 7.361497130684374
         },
         "mode": "lines",
         "type": "scatter",
         "x": [
          0.04800116693795323,
          0.04435818424278147,
          null
         ],
         "y": [
          0.034310508589731406,
          0.07208164124493636,
          null
         ]
        },
        {
         "hoverinfo": "none",
         "line": {
          "color": "#888",
          "width": 7.121805226416697
         },
         "mode": "lines",
         "type": "scatter",
         "x": [
          0.04800116693795323,
          0.052206110448011205,
          null
         ],
         "y": [
          0.034310508589731406,
          0.00015984234615206526,
          null
         ]
        },
        {
         "hoverinfo": "none",
         "line": {
          "color": "#888",
          "width": 7.777346552227
         },
         "mode": "lines",
         "type": "scatter",
         "x": [
          0.04800116693795323,
          0.06468537251505271,
          null
         ],
         "y": [
          0.034310508589731406,
          0.023662195868131664,
          null
         ]
        },
        {
         "hoverinfo": "none",
         "line": {
          "color": "#888",
          "width": 7.14001843755807
         },
         "mode": "lines",
         "type": "scatter",
         "x": [
          0.04800116693795323,
          0.015405938830662207,
          null
         ],
         "y": [
          0.034310508589731406,
          0.0018236666551723337,
          null
         ]
        },
        {
         "hoverinfo": "none",
         "line": {
          "color": "#888",
          "width": 7.29851407032887
         },
         "mode": "lines",
         "type": "scatter",
         "x": [
          0.04800116693795323,
          0.035520716994915845,
          null
         ],
         "y": [
          0.034310508589731406,
          0.00029598348700220147,
          null
         ]
        },
        {
         "hoverinfo": "none",
         "line": {
          "color": "#888",
          "width": 7.470487381193215
         },
         "mode": "lines",
         "type": "scatter",
         "x": [
          0.04800116693795323,
          0.051668100730155764,
          null
         ],
         "y": [
          0.034310508589731406,
          0.055343590458516626,
          null
         ]
        },
        {
         "hoverinfo": "none",
         "line": {
          "color": "#888",
          "width": 7.894257978340572
         },
         "mode": "lines",
         "type": "scatter",
         "x": [
          0.04800116693795323,
          0.029012665400372162,
          null
         ],
         "y": [
          0.034310508589731406,
          0.04189826824538741,
          null
         ]
        },
        {
         "hoverinfo": "none",
         "line": {
          "color": "#888",
          "width": 7.676904045240938
         },
         "mode": "lines",
         "type": "scatter",
         "x": [
          0.04800116693795323,
          0.05631391082707372,
          null
         ],
         "y": [
          0.034310508589731406,
          0.011326749686911029,
          null
         ]
        },
        {
         "hoverinfo": "none",
         "line": {
          "color": "#888",
          "width": 7.194054894205987
         },
         "mode": "lines",
         "type": "scatter",
         "x": [
          0.04800116693795323,
          0.05677913646293775,
          null
         ],
         "y": [
          0.034310508589731406,
          0.024691956360039784,
          null
         ]
        },
        {
         "hoverinfo": "none",
         "line": {
          "color": "#888",
          "width": 7.4218909972301255
         },
         "mode": "lines",
         "type": "scatter",
         "x": [
          0.04800116693795323,
          0.0617178479758501,
          null
         ],
         "y": [
          0.034310508589731406,
          0.06797352635427499,
          null
         ]
        },
        {
         "hoverinfo": "none",
         "line": {
          "color": "#888",
          "width": 8.920390556895677
         },
         "mode": "lines",
         "type": "scatter",
         "x": [
          0.04800116693795323,
          0.05296089611075171,
          null
         ],
         "y": [
          0.034310508589731406,
          0.0291410783850021,
          null
         ]
        },
        {
         "hoverinfo": "none",
         "line": {
          "color": "#888",
          "width": 7.433113586447093
         },
         "mode": "lines",
         "type": "scatter",
         "x": [
          0.04800116693795323,
          0.031118990225050696,
          null
         ],
         "y": [
          0.034310508589731406,
          0.016878798504403318,
          null
         ]
        },
        {
         "hoverinfo": "none",
         "line": {
          "color": "#888",
          "width": 7.551594931985946
         },
         "mode": "lines",
         "type": "scatter",
         "x": [
          0.04800116693795323,
          0.02906045571634478,
          null
         ],
         "y": [
          0.034310508589731406,
          0.025702062157286484,
          null
         ]
        },
        {
         "hoverinfo": "none",
         "line": {
          "color": "#888",
          "width": 7.333321737946154
         },
         "mode": "lines",
         "type": "scatter",
         "x": [
          0.04800116693795323,
          0.07496641350674887,
          null
         ],
         "y": [
          0.034310508589731406,
          0.02975290141076397,
          null
         ]
        },
        {
         "hoverinfo": "none",
         "line": {
          "color": "#888",
          "width": 7.201320013732676
         },
         "mode": "lines",
         "type": "scatter",
         "x": [
          0.04800116693795323,
          0.05167761610956777,
          null
         ],
         "y": [
          0.034310508589731406,
          -0.025632995988194535,
          null
         ]
        },
        {
         "hoverinfo": "none",
         "line": {
          "color": "#888",
          "width": 9.25945688764922
         },
         "mode": "lines",
         "type": "scatter",
         "x": [
          0.04800116693795323,
          0.04619599653144016,
          null
         ],
         "y": [
          0.034310508589731406,
          0.027644664186740022,
          null
         ]
        },
        {
         "hoverinfo": "none",
         "line": {
          "color": "#888",
          "width": 7.646124538487916
         },
         "mode": "lines",
         "type": "scatter",
         "x": [
          0.04800116693795323,
          0.04424926983059967,
          null
         ],
         "y": [
          0.034310508589731406,
          0.009245192588423365,
          null
         ]
        },
        {
         "hoverinfo": "none",
         "line": {
          "color": "#888",
          "width": 8.861187532457409
         },
         "mode": "lines",
         "type": "scatter",
         "x": [
          0.04800116693795323,
          0.039847573723061344,
          null
         ],
         "y": [
          0.034310508589731406,
          0.022597028620224235,
          null
         ]
        },
        {
         "hoverinfo": "none",
         "line": {
          "color": "#888",
          "width": 7.245111045827813
         },
         "mode": "lines",
         "type": "scatter",
         "x": [
          0.04800116693795323,
          0.04221760964270946,
          null
         ],
         "y": [
          0.034310508589731406,
          0.003341464908629855,
          null
         ]
        },
        {
         "hoverinfo": "none",
         "line": {
          "color": "#888",
          "width": 7.205212746234025
         },
         "mode": "lines",
         "type": "scatter",
         "x": [
          0.04800116693795323,
          0.09216181759457787,
          null
         ],
         "y": [
          0.034310508589731406,
          0.07357703255562317,
          null
         ]
        },
        {
         "hoverinfo": "none",
         "line": {
          "color": "#888",
          "width": 7.698442294486075
         },
         "mode": "lines",
         "type": "scatter",
         "x": [
          0.04800116693795323,
          0.06082795141898182,
          null
         ],
         "y": [
          0.034310508589731406,
          0.03833200467566781,
          null
         ]
        },
        {
         "hoverinfo": "none",
         "line": {
          "color": "#888",
          "width": 9.155789971499916
         },
         "mode": "lines",
         "type": "scatter",
         "x": [
          0.04800116693795323,
          0.05178108448531763,
          null
         ],
         "y": [
          0.034310508589731406,
          0.016646922726216835,
          null
         ]
        },
        {
         "hoverinfo": "none",
         "line": {
          "color": "#888",
          "width": 8.324005586430708
         },
         "mode": "lines",
         "type": "scatter",
         "x": [
          0.04800116693795323,
          0.04105751892921649,
          null
         ],
         "y": [
          0.034310508589731406,
          0.044797353804043524,
          null
         ]
        },
        {
         "hoverinfo": "none",
         "line": {
          "color": "#888",
          "width": 7.467994470766835
         },
         "mode": "lines",
         "type": "scatter",
         "x": [
          0.04800116693795323,
          0.038354719562571304,
          null
         ],
         "y": [
          0.034310508589731406,
          0.004161903113501472,
          null
         ]
        },
        {
         "hoverinfo": "none",
         "line": {
          "color": "#888",
          "width": 7.497820595443274
         },
         "mode": "lines",
         "type": "scatter",
         "x": [
          0.04800116693795323,
          0.06190168719275233,
          null
         ],
         "y": [
          0.034310508589731406,
          0.058304571013040554,
          null
         ]
        },
        {
         "hoverinfo": "none",
         "line": {
          "color": "#888",
          "width": 8.674120726609662
         },
         "mode": "lines",
         "type": "scatter",
         "x": [
          0.04800116693795323,
          0.05559099264036801,
          null
         ],
         "y": [
          0.034310508589731406,
          0.04715001178458815,
          null
         ]
        },
        {
         "hoverinfo": "none",
         "line": {
          "color": "#888",
          "width": 7.118623583565414
         },
         "mode": "lines",
         "type": "scatter",
         "x": [
          0.04800116693795323,
          0.03219278187344018,
          null
         ],
         "y": [
          0.034310508589731406,
          0.0061149754035917,
          null
         ]
        },
        {
         "hoverinfo": "none",
         "line": {
          "color": "#888",
          "width": 7.581392107954202
         },
         "mode": "lines",
         "type": "scatter",
         "x": [
          0.04800116693795323,
          0.030030690307780602,
          null
         ],
         "y": [
          0.034310508589731406,
          0.056510679734903424,
          null
         ]
        },
        {
         "hoverinfo": "none",
         "line": {
          "color": "#888",
          "width": 7.828600389075813
         },
         "mode": "lines",
         "type": "scatter",
         "x": [
          0.04800116693795323,
          0.05167935923112888,
          null
         ],
         "y": [
          0.034310508589731406,
          0.007531767395388412,
          null
         ]
        },
        {
         "hoverinfo": "none",
         "line": {
          "color": "#888",
          "width": 7.500728426876346
         },
         "mode": "lines",
         "type": "scatter",
         "x": [
          0.04800116693795323,
          0.043365958100558266,
          null
         ],
         "y": [
          0.034310508589731406,
          -0.01113046894597532,
          null
         ]
        },
        {
         "hoverinfo": "none",
         "line": {
          "color": "#888",
          "width": 8.65078436938093
         },
         "mode": "lines",
         "type": "scatter",
         "x": [
          0.04800116693795323,
          0.038942507500276856,
          null
         ],
         "y": [
          0.034310508589731406,
          0.03078782212668624,
          null
         ]
        },
        {
         "hoverinfo": "none",
         "line": {
          "color": "#888",
          "width": 8.763221707587523
         },
         "mode": "lines",
         "type": "scatter",
         "x": [
          0.04800116693795323,
          0.048041473944571596,
          null
         ],
         "y": [
          0.034310508589731406,
          0.04026545544474317,
          null
         ]
        },
        {
         "hoverinfo": "none",
         "line": {
          "color": "#888",
          "width": 7.884279434403845
         },
         "mode": "lines",
         "type": "scatter",
         "x": [
          0.04800116693795323,
          0.06387396726476834,
          null
         ],
         "y": [
          0.034310508589731406,
          0.042945063738044145,
          null
         ]
        },
        {
         "hoverinfo": "none",
         "line": {
          "color": "#888",
          "width": 7.27731201427593
         },
         "mode": "lines",
         "type": "scatter",
         "x": [
          0.04800116693795323,
          0.03513349996217932,
          null
         ],
         "y": [
          0.034310508589731406,
          0.013867105482447939,
          null
         ]
        },
        {
         "hoverinfo": "none",
         "line": {
          "color": "#888",
          "width": 8.223864103516364
         },
         "mode": "lines",
         "type": "scatter",
         "x": [
          0.05559099264036801,
          0.057379303598770866,
          null
         ],
         "y": [
          0.04715001178458815,
          0.019579423949201365,
          null
         ]
        },
        {
         "hoverinfo": "none",
         "line": {
          "color": "#888",
          "width": 7.323082984724301
         },
         "mode": "lines",
         "type": "scatter",
         "x": [
          0.05559099264036801,
          0.051668100730155764,
          null
         ],
         "y": [
          0.04715001178458815,
          0.055343590458516626,
          null
         ]
        },
        {
         "hoverinfo": "none",
         "line": {
          "color": "#888",
          "width": 7.365251219686866
         },
         "mode": "lines",
         "type": "scatter",
         "x": [
          0.05559099264036801,
          0.0617178479758501,
          null
         ],
         "y": [
          0.04715001178458815,
          0.06797352635427499,
          null
         ]
        },
        {
         "hoverinfo": "none",
         "line": {
          "color": "#888",
          "width": 9.05566900061094
         },
         "mode": "lines",
         "type": "scatter",
         "x": [
          0.05559099264036801,
          0.05296089611075171,
          null
         ],
         "y": [
          0.04715001178458815,
          0.0291410783850021,
          null
         ]
        },
        {
         "hoverinfo": "none",
         "line": {
          "color": "#888",
          "width": 8.981664132345466
         },
         "mode": "lines",
         "type": "scatter",
         "x": [
          0.05559099264036801,
          0.04619599653144016,
          null
         ],
         "y": [
          0.04715001178458815,
          0.027644664186740022,
          null
         ]
        },
        {
         "hoverinfo": "none",
         "line": {
          "color": "#888",
          "width": 7.037604327215915
         },
         "mode": "lines",
         "type": "scatter",
         "x": [
          0.05559099264036801,
          0.04424926983059967,
          null
         ],
         "y": [
          0.04715001178458815,
          0.009245192588423365,
          null
         ]
        },
        {
         "hoverinfo": "none",
         "line": {
          "color": "#888",
          "width": 8.810563243933094
         },
         "mode": "lines",
         "type": "scatter",
         "x": [
          0.05559099264036801,
          0.039847573723061344,
          null
         ],
         "y": [
          0.04715001178458815,
          0.022597028620224235,
          null
         ]
        },
        {
         "hoverinfo": "none",
         "line": {
          "color": "#888",
          "width": 8.606989976172105
         },
         "mode": "lines",
         "type": "scatter",
         "x": [
          0.05559099264036801,
          0.05178108448531763,
          null
         ],
         "y": [
          0.04715001178458815,
          0.016646922726216835,
          null
         ]
        },
        {
         "hoverinfo": "none",
         "line": {
          "color": "#888",
          "width": 7.4708033850406075
         },
         "mode": "lines",
         "type": "scatter",
         "x": [
          0.05559099264036801,
          0.04105751892921649,
          null
         ],
         "y": [
          0.04715001178458815,
          0.044797353804043524,
          null
         ]
        },
        {
         "hoverinfo": "none",
         "line": {
          "color": "#888",
          "width": 7.038627325635377
         },
         "mode": "lines",
         "type": "scatter",
         "x": [
          0.05559099264036801,
          0.030030690307780602,
          null
         ],
         "y": [
          0.04715001178458815,
          0.056510679734903424,
          null
         ]
        },
        {
         "hoverinfo": "none",
         "line": {
          "color": "#888",
          "width": 7.161937463510553
         },
         "mode": "lines",
         "type": "scatter",
         "x": [
          0.05559099264036801,
          0.043365958100558266,
          null
         ],
         "y": [
          0.04715001178458815,
          -0.01113046894597532,
          null
         ]
        },
        {
         "hoverinfo": "none",
         "line": {
          "color": "#888",
          "width": 7.702417150131313
         },
         "mode": "lines",
         "type": "scatter",
         "x": [
          0.05559099264036801,
          0.038942507500276856,
          null
         ],
         "y": [
          0.04715001178458815,
          0.03078782212668624,
          null
         ]
        },
        {
         "hoverinfo": "none",
         "line": {
          "color": "#888",
          "width": 8.314092807943126
         },
         "mode": "lines",
         "type": "scatter",
         "x": [
          0.05559099264036801,
          0.048041473944571596,
          null
         ],
         "y": [
          0.04715001178458815,
          0.04026545544474317,
          null
         ]
        },
        {
         "hoverinfo": "none",
         "line": {
          "color": "#888",
          "width": 7.810008867490087
         },
         "mode": "lines",
         "type": "scatter",
         "x": [
          0.05559099264036801,
          0.06387396726476834,
          null
         ],
         "y": [
          0.04715001178458815,
          0.042945063738044145,
          null
         ]
        },
        {
         "hoverinfo": "none",
         "line": {
          "color": "#888",
          "width": 8.698105940357436
         },
         "mode": "lines",
         "type": "scatter",
         "x": [
          0.048041473944571596,
          0.057379303598770866,
          null
         ],
         "y": [
          0.04026545544474317,
          0.019579423949201365,
          null
         ]
        },
        {
         "hoverinfo": "none",
         "line": {
          "color": "#888",
          "width": 7.702518425891186
         },
         "mode": "lines",
         "type": "scatter",
         "x": [
          0.048041473944571596,
          0.04435818424278147,
          null
         ],
         "y": [
          0.04026545544474317,
          0.07208164124493636,
          null
         ]
        },
        {
         "hoverinfo": "none",
         "line": {
          "color": "#888",
          "width": 7.114665565103222
         },
         "mode": "lines",
         "type": "scatter",
         "x": [
          0.048041473944571596,
          0.052206110448011205,
          null
         ],
         "y": [
          0.04026545544474317,
          0.00015984234615206526,
          null
         ]
        },
        {
         "hoverinfo": "none",
         "line": {
          "color": "#888",
          "width": 7.590764980502116
         },
         "mode": "lines",
         "type": "scatter",
         "x": [
          0.048041473944571596,
          0.06468537251505271,
          null
         ],
         "y": [
          0.04026545544474317,
          0.023662195868131664,
          null
         ]
        },
        {
         "hoverinfo": "none",
         "line": {
          "color": "#888",
          "width": 7.163358494498918
         },
         "mode": "lines",
         "type": "scatter",
         "x": [
          0.048041473944571596,
          0.029012665400372162,
          null
         ],
         "y": [
          0.04026545544474317,
          0.04189826824538741,
          null
         ]
        },
        {
         "hoverinfo": "none",
         "line": {
          "color": "#888",
          "width": 7.2267763266283325
         },
         "mode": "lines",
         "type": "scatter",
         "x": [
          0.048041473944571596,
          0.05677913646293775,
          null
         ],
         "y": [
          0.04026545544474317,
          0.024691956360039784,
          null
         ]
        },
        {
         "hoverinfo": "none",
         "line": {
          "color": "#888",
          "width": 8.815987807320262
         },
         "mode": "lines",
         "type": "scatter",
         "x": [
          0.048041473944571596,
          0.05296089611075171,
          null
         ],
         "y": [
          0.04026545544474317,
          0.0291410783850021,
          null
         ]
        },
        {
         "hoverinfo": "none",
         "line": {
          "color": "#888",
          "width": 7.547151271314831
         },
         "mode": "lines",
         "type": "scatter",
         "x": [
          0.048041473944571596,
          0.031118990225050696,
          null
         ],
         "y": [
          0.04026545544474317,
          0.016878798504403318,
          null
         ]
        },
        {
         "hoverinfo": "none",
         "line": {
          "color": "#888",
          "width": 7.089745517951062
         },
         "mode": "lines",
         "type": "scatter",
         "x": [
          0.048041473944571596,
          0.07496641350674887,
          null
         ],
         "y": [
          0.04026545544474317,
          0.02975290141076397,
          null
         ]
        },
        {
         "hoverinfo": "none",
         "line": {
          "color": "#888",
          "width": 9.208523034998265
         },
         "mode": "lines",
         "type": "scatter",
         "x": [
          0.048041473944571596,
          0.04619599653144016,
          null
         ],
         "y": [
          0.04026545544474317,
          0.027644664186740022,
          null
         ]
        },
        {
         "hoverinfo": "none",
         "line": {
          "color": "#888",
          "width": 7.41833156031343
         },
         "mode": "lines",
         "type": "scatter",
         "x": [
          0.048041473944571596,
          0.04424926983059967,
          null
         ],
         "y": [
          0.04026545544474317,
          0.009245192588423365,
          null
         ]
        },
        {
         "hoverinfo": "none",
         "line": {
          "color": "#888",
          "width": 8.79523047862607
         },
         "mode": "lines",
         "type": "scatter",
         "x": [
          0.048041473944571596,
          0.039847573723061344,
          null
         ],
         "y": [
          0.04026545544474317,
          0.022597028620224235,
          null
         ]
        },
        {
         "hoverinfo": "none",
         "line": {
          "color": "#888",
          "width": 7.286300962662606
         },
         "mode": "lines",
         "type": "scatter",
         "x": [
          0.048041473944571596,
          0.04221760964270946,
          null
         ],
         "y": [
          0.04026545544474317,
          0.003341464908629855,
          null
         ]
        },
        {
         "hoverinfo": "none",
         "line": {
          "color": "#888",
          "width": 8.339725188705259
         },
         "mode": "lines",
         "type": "scatter",
         "x": [
          0.048041473944571596,
          0.06082795141898182,
          null
         ],
         "y": [
          0.04026545544474317,
          0.03833200467566781,
          null
         ]
        },
        {
         "hoverinfo": "none",
         "line": {
          "color": "#888",
          "width": 8.589046304393534
         },
         "mode": "lines",
         "type": "scatter",
         "x": [
          0.048041473944571596,
          0.05178108448531763,
          null
         ],
         "y": [
          0.04026545544474317,
          0.016646922726216835,
          null
         ]
        },
        {
         "hoverinfo": "none",
         "line": {
          "color": "#888",
          "width": 8.14938184995614
         },
         "mode": "lines",
         "type": "scatter",
         "x": [
          0.048041473944571596,
          0.04105751892921649,
          null
         ],
         "y": [
          0.04026545544474317,
          0.044797353804043524,
          null
         ]
        },
        {
         "hoverinfo": "none",
         "line": {
          "color": "#888",
          "width": 7.180022987111579
         },
         "mode": "lines",
         "type": "scatter",
         "x": [
          0.048041473944571596,
          0.03219278187344018,
          null
         ],
         "y": [
          0.04026545544474317,
          0.0061149754035917,
          null
         ]
        },
        {
         "hoverinfo": "none",
         "line": {
          "color": "#888",
          "width": 7.293374243645876
         },
         "mode": "lines",
         "type": "scatter",
         "x": [
          0.048041473944571596,
          0.030030690307780602,
          null
         ],
         "y": [
          0.04026545544474317,
          0.056510679734903424,
          null
         ]
        },
        {
         "hoverinfo": "none",
         "line": {
          "color": "#888",
          "width": 7.602262452128529
         },
         "mode": "lines",
         "type": "scatter",
         "x": [
          0.048041473944571596,
          0.05167935923112888,
          null
         ],
         "y": [
          0.04026545544474317,
          0.007531767395388412,
          null
         ]
        },
        {
         "hoverinfo": "none",
         "line": {
          "color": "#888",
          "width": 8.658018298846683
         },
         "mode": "lines",
         "type": "scatter",
         "x": [
          0.048041473944571596,
          0.038942507500276856,
          null
         ],
         "y": [
          0.04026545544474317,
          0.03078782212668624,
          null
         ]
        },
        {
         "hoverinfo": "none",
         "line": {
          "color": "#888",
          "width": 7.802405300626064
         },
         "mode": "lines",
         "type": "scatter",
         "x": [
          0.048041473944571596,
          0.06387396726476834,
          null
         ],
         "y": [
          0.04026545544474317,
          0.042945063738044145,
          null
         ]
        },
        {
         "hoverinfo": "none",
         "line": {
          "color": "#888",
          "width": 7.064269992926853
         },
         "mode": "lines",
         "type": "scatter",
         "x": [
          0.048041473944571596,
          0.03513349996217932,
          null
         ],
         "y": [
          0.04026545544474317,
          0.013867105482447939,
          null
         ]
        },
        {
         "hoverinfo": "none",
         "line": {
          "color": "#888",
          "width": 7.485795204914028
         },
         "mode": "lines",
         "type": "scatter",
         "x": [
          -0.13404681277047256,
          -0.16242499982893083,
          null
         ],
         "y": [
          0.5547953828331511,
          0.5146292654398777,
          null
         ]
        },
        {
         "hoverinfo": "none",
         "line": {
          "color": "#888",
          "width": 7.8873342827920485
         },
         "mode": "lines",
         "type": "scatter",
         "x": [
          -0.13404681277047256,
          -0.1702733722211188,
          null
         ],
         "y": [
          0.5547953828331511,
          0.5581264073055443,
          null
         ]
        },
        {
         "hoverinfo": "none",
         "line": {
          "color": "#888",
          "width": 7.834099143003936
         },
         "mode": "lines",
         "type": "scatter",
         "x": [
          0.20338237806096396,
          0.20862690521711022,
          null
         ],
         "y": [
          0.03485325845381019,
          0.02449080547974953,
          null
         ]
        },
        {
         "hoverinfo": "none",
         "line": {
          "color": "#888",
          "width": 7.197944112830692
         },
         "mode": "lines",
         "type": "scatter",
         "x": [
          0.20338237806096396,
          0.21383540443192287,
          null
         ],
         "y": [
          0.03485325845381019,
          0.03547019880769442,
          null
         ]
        },
        {
         "hoverinfo": "none",
         "line": {
          "color": "#888",
          "width": 9.19790336614936
         },
         "mode": "lines",
         "type": "scatter",
         "x": [
          0.20338237806096396,
          0.12988163645410297,
          null
         ],
         "y": [
          0.03485325845381019,
          0.03675293578193367,
          null
         ]
        },
        {
         "hoverinfo": "none",
         "line": {
          "color": "#888",
          "width": 7.092779617325078
         },
         "mode": "lines",
         "type": "scatter",
         "x": [
          0.20862690521711022,
          0.21383540443192287,
          null
         ],
         "y": [
          0.02449080547974953,
          0.03547019880769442,
          null
         ]
        },
        {
         "hoverinfo": "none",
         "line": {
          "color": "#888",
          "width": 8.255812649982438
         },
         "mode": "lines",
         "type": "scatter",
         "x": [
          0.20862690521711022,
          0.12988163645410297,
          null
         ],
         "y": [
          0.02449080547974953,
          0.03675293578193367,
          null
         ]
        },
        {
         "hoverinfo": "none",
         "line": {
          "color": "#888",
          "width": 7.526068131974972
         },
         "mode": "lines",
         "type": "scatter",
         "x": [
          0.21383540443192287,
          0.12988163645410297,
          null
         ],
         "y": [
          0.03547019880769442,
          0.03675293578193367,
          null
         ]
        },
        {
         "hoverinfo": "none",
         "line": {
          "color": "#888",
          "width": 8.172371860774831
         },
         "mode": "lines",
         "type": "scatter",
         "x": [
          0.029012665400372162,
          0.057379303598770866,
          null
         ],
         "y": [
          0.04189826824538741,
          0.019579423949201365,
          null
         ]
        },
        {
         "hoverinfo": "none",
         "line": {
          "color": "#888",
          "width": 7.697675160178181
         },
         "mode": "lines",
         "type": "scatter",
         "x": [
          0.029012665400372162,
          0.05296089611075171,
          null
         ],
         "y": [
          0.04189826824538741,
          0.0291410783850021,
          null
         ]
        },
        {
         "hoverinfo": "none",
         "line": {
          "color": "#888",
          "width": 7.223646169318795
         },
         "mode": "lines",
         "type": "scatter",
         "x": [
          0.029012665400372162,
          0.02906045571634478,
          null
         ],
         "y": [
          0.04189826824538741,
          0.025702062157286484,
          null
         ]
        },
        {
         "hoverinfo": "none",
         "line": {
          "color": "#888",
          "width": 8.002993419539134
         },
         "mode": "lines",
         "type": "scatter",
         "x": [
          0.029012665400372162,
          0.04619599653144016,
          null
         ],
         "y": [
          0.04189826824538741,
          0.027644664186740022,
          null
         ]
        },
        {
         "hoverinfo": "none",
         "line": {
          "color": "#888",
          "width": 7.085465937828253
         },
         "mode": "lines",
         "type": "scatter",
         "x": [
          0.029012665400372162,
          0.0147182191032134,
          null
         ],
         "y": [
          0.04189826824538741,
          -0.012808506474670344,
          null
         ]
        },
        {
         "hoverinfo": "none",
         "line": {
          "color": "#888",
          "width": 7.751234133226733
         },
         "mode": "lines",
         "type": "scatter",
         "x": [
          0.029012665400372162,
          0.039847573723061344,
          null
         ],
         "y": [
          0.04189826824538741,
          0.022597028620224235,
          null
         ]
        },
        {
         "hoverinfo": "none",
         "line": {
          "color": "#888",
          "width": 7.060382606367039
         },
         "mode": "lines",
         "type": "scatter",
         "x": [
          0.029012665400372162,
          0.06082795141898182,
          null
         ],
         "y": [
          0.04189826824538741,
          0.03833200467566781,
          null
         ]
        },
        {
         "hoverinfo": "none",
         "line": {
          "color": "#888",
          "width": 8.196536789505727
         },
         "mode": "lines",
         "type": "scatter",
         "x": [
          0.029012665400372162,
          0.05178108448531763,
          null
         ],
         "y": [
          0.04189826824538741,
          0.016646922726216835,
          null
         ]
        },
        {
         "hoverinfo": "none",
         "line": {
          "color": "#888",
          "width": 7.459564511758004
         },
         "mode": "lines",
         "type": "scatter",
         "x": [
          0.029012665400372162,
          0.04105751892921649,
          null
         ],
         "y": [
          0.04189826824538741,
          0.044797353804043524,
          null
         ]
        },
        {
         "hoverinfo": "none",
         "line": {
          "color": "#888",
          "width": 7.09104677093202
         },
         "mode": "lines",
         "type": "scatter",
         "x": [
          0.029012665400372162,
          0.05167935923112888,
          null
         ],
         "y": [
          0.04189826824538741,
          0.007531767395388412,
          null
         ]
        },
        {
         "hoverinfo": "none",
         "line": {
          "color": "#888",
          "width": 7.538411752012228
         },
         "mode": "lines",
         "type": "scatter",
         "x": [
          0.029012665400372162,
          0.038942507500276856,
          null
         ],
         "y": [
          0.04189826824538741,
          0.03078782212668624,
          null
         ]
        },
        {
         "hoverinfo": "none",
         "line": {
          "color": "#888",
          "width": 7.133734559551122
         },
         "mode": "lines",
         "type": "scatter",
         "x": [
          0.029012665400372162,
          0.06387396726476834,
          null
         ],
         "y": [
          0.04189826824538741,
          0.042945063738044145,
          null
         ]
        },
        {
         "hoverinfo": "none",
         "line": {
          "color": "#888",
          "width": 7.775314016241358
         },
         "mode": "lines",
         "type": "scatter",
         "x": [
          0.031118990225050696,
          0.057379303598770866,
          null
         ],
         "y": [
          0.016878798504403318,
          0.019579423949201365,
          null
         ]
        },
        {
         "hoverinfo": "none",
         "line": {
          "color": "#888",
          "width": 7.0803772636334426
         },
         "mode": "lines",
         "type": "scatter",
         "x": [
          0.031118990225050696,
          0.052206110448011205,
          null
         ],
         "y": [
          0.016878798504403318,
          0.00015984234615206526,
          null
         ]
        },
        {
         "hoverinfo": "none",
         "line": {
          "color": "#888",
          "width": 7.395733159073597
         },
         "mode": "lines",
         "type": "scatter",
         "x": [
          0.031118990225050696,
          0.06468537251505271,
          null
         ],
         "y": [
          0.016878798504403318,
          0.023662195868131664,
          null
         ]
        },
        {
         "hoverinfo": "none",
         "line": {
          "color": "#888",
          "width": 7.113685544056261
         },
         "mode": "lines",
         "type": "scatter",
         "x": [
          0.031118990225050696,
          0.015405938830662207,
          null
         ],
         "y": [
          0.016878798504403318,
          0.0018236666551723337,
          null
         ]
        },
        {
         "hoverinfo": "none",
         "line": {
          "color": "#888",
          "width": 7.638308473508344
         },
         "mode": "lines",
         "type": "scatter",
         "x": [
          0.031118990225050696,
          0.035520716994915845,
          null
         ],
         "y": [
          0.016878798504403318,
          0.00029598348700220147,
          null
         ]
        },
        {
         "hoverinfo": "none",
         "line": {
          "color": "#888",
          "width": 7.384690446756771
         },
         "mode": "lines",
         "type": "scatter",
         "x": [
          0.031118990225050696,
          0.0028299264442905783,
          null
         ],
         "y": [
          0.016878798504403318,
          -0.04951886302089961,
          null
         ]
        },
        {
         "hoverinfo": "none",
         "line": {
          "color": "#888",
          "width": 7.437247160163956
         },
         "mode": "lines",
         "type": "scatter",
         "x": [
          0.031118990225050696,
          0.05631391082707372,
          null
         ],
         "y": [
          0.016878798504403318,
          0.011326749686911029,
          null
         ]
        },
        {
         "hoverinfo": "none",
         "line": {
          "color": "#888",
          "width": 7.4301480842487155
         },
         "mode": "lines",
         "type": "scatter",
         "x": [
          0.031118990225050696,
          0.05677913646293775,
          null
         ],
         "y": [
          0.016878798504403318,
          0.024691956360039784,
          null
         ]
        },
        {
         "hoverinfo": "none",
         "line": {
          "color": "#888",
          "width": 7.042088410333559
         },
         "mode": "lines",
         "type": "scatter",
         "x": [
          0.031118990225050696,
          0.044543130719242284,
          null
         ],
         "y": [
          0.016878798504403318,
          -0.007284453597997196,
          null
         ]
        },
        {
         "hoverinfo": "none",
         "line": {
          "color": "#888",
          "width": 7.748401245167958
         },
         "mode": "lines",
         "type": "scatter",
         "x": [
          0.031118990225050696,
          0.05296089611075171,
          null
         ],
         "y": [
          0.016878798504403318,
          0.0291410783850021,
          null
         ]
        },
        {
         "hoverinfo": "none",
         "line": {
          "color": "#888",
          "width": 7.122154342514818
         },
         "mode": "lines",
         "type": "scatter",
         "x": [
          0.031118990225050696,
          0.02906045571634478,
          null
         ],
         "y": [
          0.016878798504403318,
          0.025702062157286484,
          null
         ]
        },
        {
         "hoverinfo": "none",
         "line": {
          "color": "#888",
          "width": 7.4107611122584425
         },
         "mode": "lines",
         "type": "scatter",
         "x": [
          0.031118990225050696,
          0.05167761610956777,
          null
         ],
         "y": [
          0.016878798504403318,
          -0.025632995988194535,
          null
         ]
        },
        {
         "hoverinfo": "none",
         "line": {
          "color": "#888",
          "width": 8.223711183678127
         },
         "mode": "lines",
         "type": "scatter",
         "x": [
          0.031118990225050696,
          0.04619599653144016,
          null
         ],
         "y": [
          0.016878798504403318,
          0.027644664186740022,
          null
         ]
        },
        {
         "hoverinfo": "none",
         "line": {
          "color": "#888",
          "width": 8.734889573515677
         },
         "mode": "lines",
         "type": "scatter",
         "x": [
          0.031118990225050696,
          0.04424926983059967,
          null
         ],
         "y": [
          0.016878798504403318,
          0.009245192588423365,
          null
         ]
        },
        {
         "hoverinfo": "none",
         "line": {
          "color": "#888",
          "width": 7.072899539786422
         },
         "mode": "lines",
         "type": "scatter",
         "x": [
          0.031118990225050696,
          0.0147182191032134,
          null
         ],
         "y": [
          0.016878798504403318,
          -0.012808506474670344,
          null
         ]
        },
        {
         "hoverinfo": "none",
         "line": {
          "color": "#888",
          "width": 7.759578402063218
         },
         "mode": "lines",
         "type": "scatter",
         "x": [
          0.031118990225050696,
          0.039847573723061344,
          null
         ],
         "y": [
          0.016878798504403318,
          0.022597028620224235,
          null
         ]
        },
        {
         "hoverinfo": "none",
         "line": {
          "color": "#888",
          "width": 7.396693620511304
         },
         "mode": "lines",
         "type": "scatter",
         "x": [
          0.031118990225050696,
          0.035123113123913655,
          null
         ],
         "y": [
          0.016878798504403318,
          -0.015184046650287686,
          null
         ]
        },
        {
         "hoverinfo": "none",
         "line": {
          "color": "#888",
          "width": 7.390290324865645
         },
         "mode": "lines",
         "type": "scatter",
         "x": [
          0.031118990225050696,
          0.04221760964270946,
          null
         ],
         "y": [
          0.016878798504403318,
          0.003341464908629855,
          null
         ]
        },
        {
         "hoverinfo": "none",
         "line": {
          "color": "#888",
          "width": 7.58962594629084
         },
         "mode": "lines",
         "type": "scatter",
         "x": [
          0.031118990225050696,
          0.021348718231508915,
          null
         ],
         "y": [
          0.016878798504403318,
          0.012451826275459169,
          null
         ]
        },
        {
         "hoverinfo": "none",
         "line": {
          "color": "#888",
          "width": 7.623293424604396
         },
         "mode": "lines",
         "type": "scatter",
         "x": [
          0.031118990225050696,
          0.02316199970847503,
          null
         ],
         "y": [
          0.016878798504403318,
          0.008806188342982607,
          null
         ]
        },
        {
         "hoverinfo": "none",
         "line": {
          "color": "#888",
          "width": 8.373902214653533
         },
         "mode": "lines",
         "type": "scatter",
         "x": [
          0.031118990225050696,
          0.05178108448531763,
          null
         ],
         "y": [
          0.016878798504403318,
          0.016646922726216835,
          null
         ]
        },
        {
         "hoverinfo": "none",
         "line": {
          "color": "#888",
          "width": 7.294908733772569
         },
         "mode": "lines",
         "type": "scatter",
         "x": [
          0.031118990225050696,
          0.04105751892921649,
          null
         ],
         "y": [
          0.016878798504403318,
          0.044797353804043524,
          null
         ]
        },
        {
         "hoverinfo": "none",
         "line": {
          "color": "#888",
          "width": 7.787308419771053
         },
         "mode": "lines",
         "type": "scatter",
         "x": [
          0.031118990225050696,
          0.038354719562571304,
          null
         ],
         "y": [
          0.016878798504403318,
          0.004161903113501472,
          null
         ]
        },
        {
         "hoverinfo": "none",
         "line": {
          "color": "#888",
          "width": 7.998244415282266
         },
         "mode": "lines",
         "type": "scatter",
         "x": [
          0.031118990225050696,
          0.05167935923112888,
          null
         ],
         "y": [
          0.016878798504403318,
          0.007531767395388412,
          null
         ]
        },
        {
         "hoverinfo": "none",
         "line": {
          "color": "#888",
          "width": 7.437013447418273
         },
         "mode": "lines",
         "type": "scatter",
         "x": [
          0.031118990225050696,
          0.038942507500276856,
          null
         ],
         "y": [
          0.016878798504403318,
          0.03078782212668624,
          null
         ]
        },
        {
         "hoverinfo": "none",
         "line": {
          "color": "#888",
          "width": 7.418843485477557
         },
         "mode": "lines",
         "type": "scatter",
         "x": [
          0.031118990225050696,
          0.06387396726476834,
          null
         ],
         "y": [
          0.016878798504403318,
          0.042945063738044145,
          null
         ]
        },
        {
         "hoverinfo": "none",
         "line": {
          "color": "#888",
          "width": 7.268942246019243
         },
         "mode": "lines",
         "type": "scatter",
         "x": [
          0.031118990225050696,
          0.04047227523908738,
          null
         ],
         "y": [
          0.016878798504403318,
          0.061441597952245686,
          null
         ]
        },
        {
         "hoverinfo": "none",
         "line": {
          "color": "#888",
          "width": 7.665003055291791
         },
         "mode": "lines",
         "type": "scatter",
         "x": [
          0.031118990225050696,
          0.03513349996217932,
          null
         ],
         "y": [
          0.016878798504403318,
          0.013867105482447939,
          null
         ]
        },
        {
         "hoverinfo": "none",
         "line": {
          "color": "#888",
          "width": 7.3308530000758605
         },
         "mode": "lines",
         "type": "scatter",
         "x": [
          0.0147182191032134,
          0.052206110448011205,
          null
         ],
         "y": [
          -0.012808506474670344,
          0.00015984234615206526,
          null
         ]
        },
        {
         "hoverinfo": "none",
         "line": {
          "color": "#888",
          "width": 7.080631600586152
         },
         "mode": "lines",
         "type": "scatter",
         "x": [
          0.0147182191032134,
          -0.02896348654522598,
          null
         ],
         "y": [
          -0.012808506474670344,
          -0.0784650568211268,
          null
         ]
        },
        {
         "hoverinfo": "none",
         "line": {
          "color": "#888",
          "width": 8.375374300381651
         },
         "mode": "lines",
         "type": "scatter",
         "x": [
          0.0147182191032134,
          0.0028299264442905783,
          null
         ],
         "y": [
          -0.012808506474670344,
          -0.04951886302089961,
          null
         ]
        },
        {
         "hoverinfo": "none",
         "line": {
          "color": "#888",
          "width": 7.120672509961858
         },
         "mode": "lines",
         "type": "scatter",
         "x": [
          0.0147182191032134,
          0.05631391082707372,
          null
         ],
         "y": [
          -0.012808506474670344,
          0.011326749686911029,
          null
         ]
        },
        {
         "hoverinfo": "none",
         "line": {
          "color": "#888",
          "width": 7.07641851440304
         },
         "mode": "lines",
         "type": "scatter",
         "x": [
          0.0147182191032134,
          -0.056591317597199514,
          null
         ],
         "y": [
          -0.012808506474670344,
          -0.03387513185051456,
          null
         ]
        },
        {
         "hoverinfo": "none",
         "line": {
          "color": "#888",
          "width": 7.247057644463037
         },
         "mode": "lines",
         "type": "scatter",
         "x": [
          0.0147182191032134,
          -0.01863485886815755,
          null
         ],
         "y": [
          -0.012808506474670344,
          -0.05730809112513908,
          null
         ]
        },
        {
         "hoverinfo": "none",
         "line": {
          "color": "#888",
          "width": 7.151476662804958
         },
         "mode": "lines",
         "type": "scatter",
         "x": [
          0.0147182191032134,
          0.04619599653144016,
          null
         ],
         "y": [
          -0.012808506474670344,
          0.027644664186740022,
          null
         ]
        },
        {
         "hoverinfo": "none",
         "line": {
          "color": "#888",
          "width": 7.060841952422324
         },
         "mode": "lines",
         "type": "scatter",
         "x": [
          0.0147182191032134,
          0.04424926983059967,
          null
         ],
         "y": [
          -0.012808506474670344,
          0.009245192588423365,
          null
         ]
        },
        {
         "hoverinfo": "none",
         "line": {
          "color": "#888",
          "width": 7.065812606113175
         },
         "mode": "lines",
         "type": "scatter",
         "x": [
          0.0147182191032134,
          0.039847573723061344,
          null
         ],
         "y": [
          -0.012808506474670344,
          0.022597028620224235,
          null
         ]
        },
        {
         "hoverinfo": "none",
         "line": {
          "color": "#888",
          "width": 7.240432716425032
         },
         "mode": "lines",
         "type": "scatter",
         "x": [
          0.0147182191032134,
          0.035123113123913655,
          null
         ],
         "y": [
          -0.012808506474670344,
          -0.015184046650287686,
          null
         ]
        },
        {
         "hoverinfo": "none",
         "line": {
          "color": "#888",
          "width": 7.595998149010892
         },
         "mode": "lines",
         "type": "scatter",
         "x": [
          0.0147182191032134,
          -0.00895086760387737,
          null
         ],
         "y": [
          -0.012808506474670344,
          -0.031482307904742456,
          null
         ]
        },
        {
         "hoverinfo": "none",
         "line": {
          "color": "#888",
          "width": 7.232004453414613
         },
         "mode": "lines",
         "type": "scatter",
         "x": [
          0.0147182191032134,
          0.06082795141898182,
          null
         ],
         "y": [
          -0.012808506474670344,
          0.03833200467566781,
          null
         ]
        },
        {
         "hoverinfo": "none",
         "line": {
          "color": "#888",
          "width": 7.018647851370368
         },
         "mode": "lines",
         "type": "scatter",
         "x": [
          0.0147182191032134,
          0.07372803158749584,
          null
         ],
         "y": [
          -0.012808506474670344,
          -0.021176985729282487,
          null
         ]
        },
        {
         "hoverinfo": "none",
         "line": {
          "color": "#888",
          "width": 7.259830035778302
         },
         "mode": "lines",
         "type": "scatter",
         "x": [
          0.0147182191032134,
          0.05178108448531763,
          null
         ],
         "y": [
          -0.012808506474670344,
          0.016646922726216835,
          null
         ]
        },
        {
         "hoverinfo": "none",
         "line": {
          "color": "#888",
          "width": 7.000399643211562
         },
         "mode": "lines",
         "type": "scatter",
         "x": [
          0.0147182191032134,
          0.04105751892921649,
          null
         ],
         "y": [
          -0.012808506474670344,
          0.044797353804043524,
          null
         ]
        },
        {
         "hoverinfo": "none",
         "line": {
          "color": "#888",
          "width": 7.503350309811144
         },
         "mode": "lines",
         "type": "scatter",
         "x": [
          0.0147182191032134,
          0.038354719562571304,
          null
         ],
         "y": [
          -0.012808506474670344,
          0.004161903113501472,
          null
         ]
        },
        {
         "hoverinfo": "none",
         "line": {
          "color": "#888",
          "width": 7.307766003736752
         },
         "mode": "lines",
         "type": "scatter",
         "x": [
          0.0147182191032134,
          -0.025414372932127945,
          null
         ],
         "y": [
          -0.012808506474670344,
          -0.1046952069326291,
          null
         ]
        },
        {
         "hoverinfo": "none",
         "line": {
          "color": "#888",
          "width": 7.026321627969315
         },
         "mode": "lines",
         "type": "scatter",
         "x": [
          0.0147182191032134,
          0.04467832748370658,
          null
         ],
         "y": [
          -0.012808506474670344,
          -0.003629286852666818,
          null
         ]
        },
        {
         "hoverinfo": "none",
         "line": {
          "color": "#888",
          "width": 7.790375238429151
         },
         "mode": "lines",
         "type": "scatter",
         "x": [
          0.0147182191032134,
          -0.04653307409866465,
          null
         ],
         "y": [
          -0.012808506474670344,
          -0.07160478533476916,
          null
         ]
        },
        {
         "hoverinfo": "none",
         "line": {
          "color": "#888",
          "width": 7.030057460982315
         },
         "mode": "lines",
         "type": "scatter",
         "x": [
          0.0147182191032134,
          0.038942507500276856,
          null
         ],
         "y": [
          -0.012808506474670344,
          0.03078782212668624,
          null
         ]
        },
        {
         "hoverinfo": "none",
         "line": {
          "color": "#888",
          "width": 7.414745081133663
         },
         "mode": "lines",
         "type": "scatter",
         "x": [
          0.0147182191032134,
          0.035170945634905026,
          null
         ],
         "y": [
          -0.012808506474670344,
          -0.01053013399832651,
          null
         ]
        },
        {
         "hoverinfo": "none",
         "line": {
          "color": "#888",
          "width": 7.333187207854825
         },
         "mode": "lines",
         "type": "scatter",
         "x": [
          0.0147182191032134,
          0.03513349996217932,
          null
         ],
         "y": [
          -0.012808506474670344,
          0.013867105482447939,
          null
         ]
        },
        {
         "hoverinfo": "none",
         "line": {
          "color": "#888",
          "width": 8.616580401632099
         },
         "mode": "lines",
         "type": "scatter",
         "x": [
          0.039847573723061344,
          0.057379303598770866,
          null
         ],
         "y": [
          0.022597028620224235,
          0.019579423949201365,
          null
         ]
        },
        {
         "hoverinfo": "none",
         "line": {
          "color": "#888",
          "width": 7.388262851699171
         },
         "mode": "lines",
         "type": "scatter",
         "x": [
          0.039847573723061344,
          0.052206110448011205,
          null
         ],
         "y": [
          0.022597028620224235,
          0.00015984234615206526,
          null
         ]
        },
        {
         "hoverinfo": "none",
         "line": {
          "color": "#888",
          "width": 7.01936803592448
         },
         "mode": "lines",
         "type": "scatter",
         "x": [
          0.039847573723061344,
          0.06468537251505271,
          null
         ],
         "y": [
          0.022597028620224235,
          0.023662195868131664,
          null
         ]
        },
        {
         "hoverinfo": "none",
         "line": {
          "color": "#888",
          "width": 7.10046955524536
         },
         "mode": "lines",
         "type": "scatter",
         "x": [
          0.039847573723061344,
          0.06372455829418262,
          null
         ],
         "y": [
          0.022597028620224235,
          0.006396233475824237,
          null
         ]
        },
        {
         "hoverinfo": "none",
         "line": {
          "color": "#888",
          "width": 7.3752427236457585
         },
         "mode": "lines",
         "type": "scatter",
         "x": [
          0.039847573723061344,
          0.035520716994915845,
          null
         ],
         "y": [
          0.022597028620224235,
          0.00029598348700220147,
          null
         ]
        },
        {
         "hoverinfo": "none",
         "line": {
          "color": "#888",
          "width": 7.154223285973176
         },
         "mode": "lines",
         "type": "scatter",
         "x": [
          0.039847573723061344,
          0.05677913646293775,
          null
         ],
         "y": [
          0.022597028620224235,
          0.024691956360039784,
          null
         ]
        },
        {
         "hoverinfo": "none",
         "line": {
          "color": "#888",
          "width": 7.085241684602935
         },
         "mode": "lines",
         "type": "scatter",
         "x": [
          0.039847573723061344,
          0.0617178479758501,
          null
         ],
         "y": [
          0.022597028620224235,
          0.06797352635427499,
          null
         ]
        },
        {
         "hoverinfo": "none",
         "line": {
          "color": "#888",
          "width": 7.061386401213799
         },
         "mode": "lines",
         "type": "scatter",
         "x": [
          0.039847573723061344,
          0.044543130719242284,
          null
         ],
         "y": [
          0.022597028620224235,
          -0.007284453597997196,
          null
         ]
        },
        {
         "hoverinfo": "none",
         "line": {
          "color": "#888",
          "width": 9.049858230289225
         },
         "mode": "lines",
         "type": "scatter",
         "x": [
          0.039847573723061344,
          0.05296089611075171,
          null
         ],
         "y": [
          0.022597028620224235,
          0.0291410783850021,
          null
         ]
        },
        {
         "hoverinfo": "none",
         "line": {
          "color": "#888",
          "width": 7.0338305065119595
         },
         "mode": "lines",
         "type": "scatter",
         "x": [
          0.039847573723061344,
          0.05167761610956777,
          null
         ],
         "y": [
          0.022597028620224235,
          -0.025632995988194535,
          null
         ]
        },
        {
         "hoverinfo": "none",
         "line": {
          "color": "#888",
          "width": 9.315996333167476
         },
         "mode": "lines",
         "type": "scatter",
         "x": [
          0.039847573723061344,
          0.04619599653144016,
          null
         ],
         "y": [
          0.022597028620224235,
          0.027644664186740022,
          null
         ]
        },
        {
         "hoverinfo": "none",
         "line": {
          "color": "#888",
          "width": 7.517881524602132
         },
         "mode": "lines",
         "type": "scatter",
         "x": [
          0.039847573723061344,
          0.04424926983059967,
          null
         ],
         "y": [
          0.022597028620224235,
          0.009245192588423365,
          null
         ]
        },
        {
         "hoverinfo": "none",
         "line": {
          "color": "#888",
          "width": 7.775915115830516
         },
         "mode": "lines",
         "type": "scatter",
         "x": [
          0.039847573723061344,
          0.04221760964270946,
          null
         ],
         "y": [
          0.022597028620224235,
          0.003341464908629855,
          null
         ]
        },
        {
         "hoverinfo": "none",
         "line": {
          "color": "#888",
          "width": 7.131469091315883
         },
         "mode": "lines",
         "type": "scatter",
         "x": [
          0.039847573723061344,
          0.02316199970847503,
          null
         ],
         "y": [
          0.022597028620224235,
          0.008806188342982607,
          null
         ]
        },
        {
         "hoverinfo": "none",
         "line": {
          "color": "#888",
          "width": 7.6889705335712835
         },
         "mode": "lines",
         "type": "scatter",
         "x": [
          0.039847573723061344,
          0.06082795141898182,
          null
         ],
         "y": [
          0.022597028620224235,
          0.03833200467566781,
          null
         ]
        },
        {
         "hoverinfo": "none",
         "line": {
          "color": "#888",
          "width": 7.019357477228599
         },
         "mode": "lines",
         "type": "scatter",
         "x": [
          0.039847573723061344,
          0.07372803158749584,
          null
         ],
         "y": [
          0.022597028620224235,
          -0.021176985729282487,
          null
         ]
        },
        {
         "hoverinfo": "none",
         "line": {
          "color": "#888",
          "width": 9.045646825437487
         },
         "mode": "lines",
         "type": "scatter",
         "x": [
          0.039847573723061344,
          0.05178108448531763,
          null
         ],
         "y": [
          0.022597028620224235,
          0.016646922726216835,
          null
         ]
        },
        {
         "hoverinfo": "none",
         "line": {
          "color": "#888",
          "width": 8.368565737118494
         },
         "mode": "lines",
         "type": "scatter",
         "x": [
          0.039847573723061344,
          0.04105751892921649,
          null
         ],
         "y": [
          0.022597028620224235,
          0.044797353804043524,
          null
         ]
        },
        {
         "hoverinfo": "none",
         "line": {
          "color": "#888",
          "width": 7.393220891188022
         },
         "mode": "lines",
         "type": "scatter",
         "x": [
          0.039847573723061344,
          0.038354719562571304,
          null
         ],
         "y": [
          0.022597028620224235,
          0.004161903113501472,
          null
         ]
        },
        {
         "hoverinfo": "none",
         "line": {
          "color": "#888",
          "width": 7.1609923889064
         },
         "mode": "lines",
         "type": "scatter",
         "x": [
          0.039847573723061344,
          0.013787095809808705,
          null
         ],
         "y": [
          0.022597028620224235,
          0.00563409428498509,
          null
         ]
        },
        {
         "hoverinfo": "none",
         "line": {
          "color": "#888",
          "width": 7.2836773632875795
         },
         "mode": "lines",
         "type": "scatter",
         "x": [
          0.039847573723061344,
          0.03219278187344018,
          null
         ],
         "y": [
          0.022597028620224235,
          0.0061149754035917,
          null
         ]
        },
        {
         "hoverinfo": "none",
         "line": {
          "color": "#888",
          "width": 7.505096330767586
         },
         "mode": "lines",
         "type": "scatter",
         "x": [
          0.039847573723061344,
          0.05167935923112888,
          null
         ],
         "y": [
          0.022597028620224235,
          0.007531767395388412,
          null
         ]
        },
        {
         "hoverinfo": "none",
         "line": {
          "color": "#888",
          "width": 8.52371025384145
         },
         "mode": "lines",
         "type": "scatter",
         "x": [
          0.039847573723061344,
          0.038942507500276856,
          null
         ],
         "y": [
          0.022597028620224235,
          0.03078782212668624,
          null
         ]
        },
        {
         "hoverinfo": "none",
         "line": {
          "color": "#888",
          "width": 7.01377848633242
         },
         "mode": "lines",
         "type": "scatter",
         "x": [
          0.039847573723061344,
          0.035170945634905026,
          null
         ],
         "y": [
          0.022597028620224235,
          -0.01053013399832651,
          null
         ]
        },
        {
         "hoverinfo": "none",
         "line": {
          "color": "#888",
          "width": 7.522117272406733
         },
         "mode": "lines",
         "type": "scatter",
         "x": [
          0.039847573723061344,
          0.06387396726476834,
          null
         ],
         "y": [
          0.022597028620224235,
          0.042945063738044145,
          null
         ]
        },
        {
         "hoverinfo": "none",
         "line": {
          "color": "#888",
          "width": 7.7702131015302225
         },
         "mode": "lines",
         "type": "scatter",
         "x": [
          0.039847573723061344,
          0.03513349996217932,
          null
         ],
         "y": [
          0.022597028620224235,
          0.013867105482447939,
          null
         ]
        },
        {
         "hoverinfo": "none",
         "line": {
          "color": "#888",
          "width": 7.445123835155426
         },
         "mode": "lines",
         "type": "scatter",
         "x": [
          0.05178108448531763,
          0.09775289659785226,
          null
         ],
         "y": [
          0.016646922726216835,
          0.02686448843901793,
          null
         ]
        },
        {
         "hoverinfo": "none",
         "line": {
          "color": "#888",
          "width": 8.812078152580478
         },
         "mode": "lines",
         "type": "scatter",
         "x": [
          0.05178108448531763,
          0.057379303598770866,
          null
         ],
         "y": [
          0.016646922726216835,
          0.019579423949201365,
          null
         ]
        },
        {
         "hoverinfo": "none",
         "line": {
          "color": "#888",
          "width": 7.799329934709172
         },
         "mode": "lines",
         "type": "scatter",
         "x": [
          0.05178108448531763,
          0.052206110448011205,
          null
         ],
         "y": [
          0.016646922726216835,
          0.00015984234615206526,
          null
         ]
        },
        {
         "hoverinfo": "none",
         "line": {
          "color": "#888",
          "width": 7.8612077189629215
         },
         "mode": "lines",
         "type": "scatter",
         "x": [
          0.05178108448531763,
          0.06468537251505271,
          null
         ],
         "y": [
          0.016646922726216835,
          0.023662195868131664,
          null
         ]
        },
        {
         "hoverinfo": "none",
         "line": {
          "color": "#888",
          "width": 7.0042341957743846
         },
         "mode": "lines",
         "type": "scatter",
         "x": [
          0.05178108448531763,
          0.05900785634350229,
          null
         ],
         "y": [
          0.016646922726216835,
          -0.018136595586441873,
          null
         ]
        },
        {
         "hoverinfo": "none",
         "line": {
          "color": "#888",
          "width": 7.029858186296024
         },
         "mode": "lines",
         "type": "scatter",
         "x": [
          0.05178108448531763,
          0.06372455829418262,
          null
         ],
         "y": [
          0.016646922726216835,
          0.006396233475824237,
          null
         ]
        },
        {
         "hoverinfo": "none",
         "line": {
          "color": "#888",
          "width": 7.557352022049199
         },
         "mode": "lines",
         "type": "scatter",
         "x": [
          0.05178108448531763,
          0.035520716994915845,
          null
         ],
         "y": [
          0.016646922726216835,
          0.00029598348700220147,
          null
         ]
        },
        {
         "hoverinfo": "none",
         "line": {
          "color": "#888",
          "width": 7.682656286728272
         },
         "mode": "lines",
         "type": "scatter",
         "x": [
          0.05178108448531763,
          0.051668100730155764,
          null
         ],
         "y": [
          0.016646922726216835,
          0.055343590458516626,
          null
         ]
        },
        {
         "hoverinfo": "none",
         "line": {
          "color": "#888",
          "width": 7.9555019253922366
         },
         "mode": "lines",
         "type": "scatter",
         "x": [
          0.05178108448531763,
          0.05631391082707372,
          null
         ],
         "y": [
          0.016646922726216835,
          0.011326749686911029,
          null
         ]
        },
        {
         "hoverinfo": "none",
         "line": {
          "color": "#888",
          "width": 7.843555788486185
         },
         "mode": "lines",
         "type": "scatter",
         "x": [
          0.05178108448531763,
          0.05677913646293775,
          null
         ],
         "y": [
          0.016646922726216835,
          0.024691956360039784,
          null
         ]
        },
        {
         "hoverinfo": "none",
         "line": {
          "color": "#888",
          "width": 7.105979080468416
         },
         "mode": "lines",
         "type": "scatter",
         "x": [
          0.05178108448531763,
          0.08332396253443919,
          null
         ],
         "y": [
          0.016646922726216835,
          0.01232482248712961,
          null
         ]
        },
        {
         "hoverinfo": "none",
         "line": {
          "color": "#888",
          "width": 7.361183760161191
         },
         "mode": "lines",
         "type": "scatter",
         "x": [
          0.05178108448531763,
          0.0617178479758501,
          null
         ],
         "y": [
          0.016646922726216835,
          0.06797352635427499,
          null
         ]
        },
        {
         "hoverinfo": "none",
         "line": {
          "color": "#888",
          "width": 7.214914726991385
         },
         "mode": "lines",
         "type": "scatter",
         "x": [
          0.05178108448531763,
          0.06446578980483612,
          null
         ],
         "y": [
          0.016646922726216835,
          -0.010092683244049116,
          null
         ]
        },
        {
         "hoverinfo": "none",
         "line": {
          "color": "#888",
          "width": 7.250563396528057
         },
         "mode": "lines",
         "type": "scatter",
         "x": [
          0.05178108448531763,
          0.05125391663732393,
          null
         ],
         "y": [
          0.016646922726216835,
          -0.013130951491286513,
          null
         ]
        },
        {
         "hoverinfo": "none",
         "line": {
          "color": "#888",
          "width": 7.560583476229167
         },
         "mode": "lines",
         "type": "scatter",
         "x": [
          0.05178108448531763,
          0.044543130719242284,
          null
         ],
         "y": [
          0.016646922726216835,
          -0.007284453597997196,
          null
         ]
        },
        {
         "hoverinfo": "none",
         "line": {
          "color": "#888",
          "width": 9.03197659540481
         },
         "mode": "lines",
         "type": "scatter",
         "x": [
          0.05178108448531763,
          0.05296089611075171,
          null
         ],
         "y": [
          0.016646922726216835,
          0.0291410783850021,
          null
         ]
        },
        {
         "hoverinfo": "none",
         "line": {
          "color": "#888",
          "width": 7.478314307057858
         },
         "mode": "lines",
         "type": "scatter",
         "x": [
          0.05178108448531763,
          0.02906045571634478,
          null
         ],
         "y": [
          0.016646922726216835,
          0.025702062157286484,
          null
         ]
        },
        {
         "hoverinfo": "none",
         "line": {
          "color": "#888",
          "width": 7.088208423341916
         },
         "mode": "lines",
         "type": "scatter",
         "x": [
          0.05178108448531763,
          0.07496641350674887,
          null
         ],
         "y": [
          0.016646922726216835,
          0.02975290141076397,
          null
         ]
        },
        {
         "hoverinfo": "none",
         "line": {
          "color": "#888",
          "width": 7.123224530439579
         },
         "mode": "lines",
         "type": "scatter",
         "x": [
          0.05178108448531763,
          0.05167761610956777,
          null
         ],
         "y": [
          0.016646922726216835,
          -0.025632995988194535,
          null
         ]
        },
        {
         "hoverinfo": "none",
         "line": {
          "color": "#888",
          "width": 7.118673024612836
         },
         "mode": "lines",
         "type": "scatter",
         "x": [
          0.05178108448531763,
          0.09723806063632065,
          null
         ],
         "y": [
          0.016646922726216835,
          0.013264870685033976,
          null
         ]
        },
        {
         "hoverinfo": "none",
         "line": {
          "color": "#888",
          "width": 9.268399651203428
         },
         "mode": "lines",
         "type": "scatter",
         "x": [
          0.05178108448531763,
          0.04619599653144016,
          null
         ],
         "y": [
          0.016646922726216835,
          0.027644664186740022,
          null
         ]
        },
        {
         "hoverinfo": "none",
         "line": {
          "color": "#888",
          "width": 8.352746240335918
         },
         "mode": "lines",
         "type": "scatter",
         "x": [
          0.05178108448531763,
          0.04424926983059967,
          null
         ],
         "y": [
          0.016646922726216835,
          0.009245192588423365,
          null
         ]
        },
        {
         "hoverinfo": "none",
         "line": {
          "color": "#888",
          "width": 7.936816898739427
         },
         "mode": "lines",
         "type": "scatter",
         "x": [
          0.05178108448531763,
          0.04221760964270946,
          null
         ],
         "y": [
          0.016646922726216835,
          0.003341464908629855,
          null
         ]
        },
        {
         "hoverinfo": "none",
         "line": {
          "color": "#888",
          "width": 7.277022933052911
         },
         "mode": "lines",
         "type": "scatter",
         "x": [
          0.05178108448531763,
          0.021348718231508915,
          null
         ],
         "y": [
          0.016646922726216835,
          0.012451826275459169,
          null
         ]
        },
        {
         "hoverinfo": "none",
         "line": {
          "color": "#888",
          "width": 7.101380330221177
         },
         "mode": "lines",
         "type": "scatter",
         "x": [
          0.05178108448531763,
          0.02316199970847503,
          null
         ],
         "y": [
          0.016646922726216835,
          0.008806188342982607,
          null
         ]
        },
        {
         "hoverinfo": "none",
         "line": {
          "color": "#888",
          "width": 8.058153163304418
         },
         "mode": "lines",
         "type": "scatter",
         "x": [
          0.05178108448531763,
          0.06082795141898182,
          null
         ],
         "y": [
          0.016646922726216835,
          0.03833200467566781,
          null
         ]
        },
        {
         "hoverinfo": "none",
         "line": {
          "color": "#888",
          "width": 7.681571453921165
         },
         "mode": "lines",
         "type": "scatter",
         "x": [
          0.05178108448531763,
          0.07240371276515907,
          null
         ],
         "y": [
          0.016646922726216835,
          0.010354016717386371,
          null
         ]
        },
        {
         "hoverinfo": "none",
         "line": {
          "color": "#888",
          "width": 7.198779927409632
         },
         "mode": "lines",
         "type": "scatter",
         "x": [
          0.05178108448531763,
          0.07372803158749584,
          null
         ],
         "y": [
          0.016646922726216835,
          -0.021176985729282487,
          null
         ]
        },
        {
         "hoverinfo": "none",
         "line": {
          "color": "#888",
          "width": 8.388285492197996
         },
         "mode": "lines",
         "type": "scatter",
         "x": [
          0.05178108448531763,
          0.04105751892921649,
          null
         ],
         "y": [
          0.016646922726216835,
          0.044797353804043524,
          null
         ]
        },
        {
         "hoverinfo": "none",
         "line": {
          "color": "#888",
          "width": 8.065343876726631
         },
         "mode": "lines",
         "type": "scatter",
         "x": [
          0.05178108448531763,
          0.038354719562571304,
          null
         ],
         "y": [
          0.016646922726216835,
          0.004161903113501472,
          null
         ]
        },
        {
         "hoverinfo": "none",
         "line": {
          "color": "#888",
          "width": 7.1508359155643895
         },
         "mode": "lines",
         "type": "scatter",
         "x": [
          0.05178108448531763,
          0.06190168719275233,
          null
         ],
         "y": [
          0.016646922726216835,
          0.058304571013040554,
          null
         ]
        },
        {
         "hoverinfo": "none",
         "line": {
          "color": "#888",
          "width": 7.188315356923648
         },
         "mode": "lines",
         "type": "scatter",
         "x": [
          0.05178108448531763,
          0.061321053641733785,
          null
         ],
         "y": [
          0.016646922726216835,
          -0.024536057246514434,
          null
         ]
        },
        {
         "hoverinfo": "none",
         "line": {
          "color": "#888",
          "width": 7.515918181040881
         },
         "mode": "lines",
         "type": "scatter",
         "x": [
          0.05178108448531763,
          0.03219278187344018,
          null
         ],
         "y": [
          0.016646922726216835,
          0.0061149754035917,
          null
         ]
        },
        {
         "hoverinfo": "none",
         "line": {
          "color": "#888",
          "width": 7.121445926037425
         },
         "mode": "lines",
         "type": "scatter",
         "x": [
          0.05178108448531763,
          0.047591032020469465,
          null
         ],
         "y": [
          0.016646922726216835,
          -0.03311958601746846,
          null
         ]
        },
        {
         "hoverinfo": "none",
         "line": {
          "color": "#888",
          "width": 7.1671853835497545
         },
         "mode": "lines",
         "type": "scatter",
         "x": [
          0.05178108448531763,
          0.04467832748370658,
          null
         ],
         "y": [
          0.016646922726216835,
          -0.003629286852666818,
          null
         ]
        },
        {
         "hoverinfo": "none",
         "line": {
          "color": "#888",
          "width": 8.227178803678418
         },
         "mode": "lines",
         "type": "scatter",
         "x": [
          0.05178108448531763,
          0.05167935923112888,
          null
         ],
         "y": [
          0.016646922726216835,
          0.007531767395388412,
          null
         ]
        },
        {
         "hoverinfo": "none",
         "line": {
          "color": "#888",
          "width": 7.656995604266062
         },
         "mode": "lines",
         "type": "scatter",
         "x": [
          0.05178108448531763,
          0.043365958100558266,
          null
         ],
         "y": [
          0.016646922726216835,
          -0.01113046894597532,
          null
         ]
        },
        {
         "hoverinfo": "none",
         "line": {
          "color": "#888",
          "width": 8.516137181176171
         },
         "mode": "lines",
         "type": "scatter",
         "x": [
          0.05178108448531763,
          0.038942507500276856,
          null
         ],
         "y": [
          0.016646922726216835,
          0.03078782212668624,
          null
         ]
        },
        {
         "hoverinfo": "none",
         "line": {
          "color": "#888",
          "width": 7.068182736549432
         },
         "mode": "lines",
         "type": "scatter",
         "x": [
          0.05178108448531763,
          0.0640481455889888,
          null
         ],
         "y": [
          0.016646922726216835,
          -0.01616254512433649,
          null
         ]
        },
        {
         "hoverinfo": "none",
         "line": {
          "color": "#888",
          "width": 7.317541415427541
         },
         "mode": "lines",
         "type": "scatter",
         "x": [
          0.05178108448531763,
          0.035170945634905026,
          null
         ],
         "y": [
          0.016646922726216835,
          -0.01053013399832651,
          null
         ]
        },
        {
         "hoverinfo": "none",
         "line": {
          "color": "#888",
          "width": 7.487294913937404
         },
         "mode": "lines",
         "type": "scatter",
         "x": [
          0.05178108448531763,
          0.06387396726476834,
          null
         ],
         "y": [
          0.016646922726216835,
          0.042945063738044145,
          null
         ]
        },
        {
         "hoverinfo": "none",
         "line": {
          "color": "#888",
          "width": 8.113178627262096
         },
         "mode": "lines",
         "type": "scatter",
         "x": [
          0.05178108448531763,
          0.03513349996217932,
          null
         ],
         "y": [
          0.016646922726216835,
          0.013867105482447939,
          null
         ]
        },
        {
         "hoverinfo": "none",
         "line": {
          "color": "#888",
          "width": 7.847840442758071
         },
         "mode": "lines",
         "type": "scatter",
         "x": [
          0.04105751892921649,
          0.057379303598770866,
          null
         ],
         "y": [
          0.044797353804043524,
          0.019579423949201365,
          null
         ]
        },
        {
         "hoverinfo": "none",
         "line": {
          "color": "#888",
          "width": 7.446269512685806
         },
         "mode": "lines",
         "type": "scatter",
         "x": [
          0.04105751892921649,
          0.04435818424278147,
          null
         ],
         "y": [
          0.044797353804043524,
          0.07208164124493636,
          null
         ]
        },
        {
         "hoverinfo": "none",
         "line": {
          "color": "#888",
          "width": 7.122236756184725
         },
         "mode": "lines",
         "type": "scatter",
         "x": [
          0.04105751892921649,
          0.06468537251505271,
          null
         ],
         "y": [
          0.044797353804043524,
          0.023662195868131664,
          null
         ]
        },
        {
         "hoverinfo": "none",
         "line": {
          "color": "#888",
          "width": 7.05860224701559
         },
         "mode": "lines",
         "type": "scatter",
         "x": [
          0.04105751892921649,
          0.051668100730155764,
          null
         ],
         "y": [
          0.044797353804043524,
          0.055343590458516626,
          null
         ]
        },
        {
         "hoverinfo": "none",
         "line": {
          "color": "#888",
          "width": 7.340793958137829
         },
         "mode": "lines",
         "type": "scatter",
         "x": [
          0.04105751892921649,
          0.05631391082707372,
          null
         ],
         "y": [
          0.044797353804043524,
          0.011326749686911029,
          null
         ]
        },
        {
         "hoverinfo": "none",
         "line": {
          "color": "#888",
          "width": 7.61670826607872
         },
         "mode": "lines",
         "type": "scatter",
         "x": [
          0.04105751892921649,
          0.05677913646293775,
          null
         ],
         "y": [
          0.044797353804043524,
          0.024691956360039784,
          null
         ]
        },
        {
         "hoverinfo": "none",
         "line": {
          "color": "#888",
          "width": 7.5021879191931635
         },
         "mode": "lines",
         "type": "scatter",
         "x": [
          0.04105751892921649,
          0.05296089611075171,
          null
         ],
         "y": [
          0.044797353804043524,
          0.0291410783850021,
          null
         ]
        },
        {
         "hoverinfo": "none",
         "line": {
          "color": "#888",
          "width": 8.592921010143002
         },
         "mode": "lines",
         "type": "scatter",
         "x": [
          0.04105751892921649,
          0.04619599653144016,
          null
         ],
         "y": [
          0.044797353804043524,
          0.027644664186740022,
          null
         ]
        },
        {
         "hoverinfo": "none",
         "line": {
          "color": "#888",
          "width": 7.312323267903413
         },
         "mode": "lines",
         "type": "scatter",
         "x": [
          0.04105751892921649,
          0.04424926983059967,
          null
         ],
         "y": [
          0.044797353804043524,
          0.009245192588423365,
          null
         ]
        },
        {
         "hoverinfo": "none",
         "line": {
          "color": "#888",
          "width": 8.360228500767185
         },
         "mode": "lines",
         "type": "scatter",
         "x": [
          0.04105751892921649,
          0.06082795141898182,
          null
         ],
         "y": [
          0.044797353804043524,
          0.03833200467566781,
          null
         ]
        },
        {
         "hoverinfo": "none",
         "line": {
          "color": "#888",
          "width": 7.539951380628928
         },
         "mode": "lines",
         "type": "scatter",
         "x": [
          0.04105751892921649,
          0.06190168719275233,
          null
         ],
         "y": [
          0.044797353804043524,
          0.058304571013040554,
          null
         ]
        },
        {
         "hoverinfo": "none",
         "line": {
          "color": "#888",
          "width": 7.222919430959889
         },
         "mode": "lines",
         "type": "scatter",
         "x": [
          0.04105751892921649,
          0.017232177533891113,
          null
         ],
         "y": [
          0.044797353804043524,
          0.09131991431884356,
          null
         ]
        },
        {
         "hoverinfo": "none",
         "line": {
          "color": "#888",
          "width": 7.139601976199831
         },
         "mode": "lines",
         "type": "scatter",
         "x": [
          0.04105751892921649,
          0.030030690307780602,
          null
         ],
         "y": [
          0.044797353804043524,
          0.056510679734903424,
          null
         ]
        },
        {
         "hoverinfo": "none",
         "line": {
          "color": "#888",
          "width": 7.791889756171143
         },
         "mode": "lines",
         "type": "scatter",
         "x": [
          0.04105751892921649,
          0.038942507500276856,
          null
         ],
         "y": [
          0.044797353804043524,
          0.03078782212668624,
          null
         ]
        },
        {
         "hoverinfo": "none",
         "line": {
          "color": "#888",
          "width": 7.231270926612442
         },
         "mode": "lines",
         "type": "scatter",
         "x": [
          0.04105751892921649,
          0.06387396726476834,
          null
         ],
         "y": [
          0.044797353804043524,
          0.042945063738044145,
          null
         ]
        },
        {
         "hoverinfo": "none",
         "line": {
          "color": "#888",
          "width": 7.509003169801677
         },
         "mode": "lines",
         "type": "scatter",
         "x": [
          0.04105751892921649,
          0.03513349996217932,
          null
         ],
         "y": [
          0.044797353804043524,
          0.013867105482447939,
          null
         ]
        },
        {
         "hoverinfo": "none",
         "line": {
          "color": "#888",
          "width": 8.655001938924507
         },
         "mode": "lines",
         "type": "scatter",
         "x": [
          0.00287363361652794,
          -0.015159286895460984,
          null
         ],
         "y": [
          0.019637745264321386,
          0.022380869498685244,
          null
         ]
        },
        {
         "hoverinfo": "none",
         "line": {
          "color": "#888",
          "width": 7.655735661370909
         },
         "mode": "lines",
         "type": "scatter",
         "x": [
          0.00287363361652794,
          0.035520716994915845,
          null
         ],
         "y": [
          0.019637745264321386,
          0.00029598348700220147,
          null
         ]
        },
        {
         "hoverinfo": "none",
         "line": {
          "color": "#888",
          "width": 9.364982969708645
         },
         "mode": "lines",
         "type": "scatter",
         "x": [
          0.00287363361652794,
          -0.006214060919075264,
          null
         ],
         "y": [
          0.019637745264321386,
          0.024114674815726177,
          null
         ]
        },
        {
         "hoverinfo": "none",
         "line": {
          "color": "#888",
          "width": 7.014742267975801
         },
         "mode": "lines",
         "type": "scatter",
         "x": [
          0.00287363361652794,
          -0.0907198047928281,
          null
         ],
         "y": [
          0.019637745264321386,
          0.020328143964623988,
          null
         ]
        },
        {
         "hoverinfo": "none",
         "line": {
          "color": "#888",
          "width": 7.273351441578091
         },
         "mode": "lines",
         "type": "scatter",
         "x": [
          0.00287363361652794,
          0.02906045571634478,
          null
         ],
         "y": [
          0.019637745264321386,
          0.025702062157286484,
          null
         ]
        },
        {
         "hoverinfo": "none",
         "line": {
          "color": "#888",
          "width": 7.117004310785436
         },
         "mode": "lines",
         "type": "scatter",
         "x": [
          0.00287363361652794,
          0.04619599653144016,
          null
         ],
         "y": [
          0.019637745264321386,
          0.027644664186740022,
          null
         ]
        },
        {
         "hoverinfo": "none",
         "line": {
          "color": "#888",
          "width": 7.572582052812624
         },
         "mode": "lines",
         "type": "scatter",
         "x": [
          0.00287363361652794,
          0.04424926983059967,
          null
         ],
         "y": [
          0.019637745264321386,
          0.009245192588423365,
          null
         ]
        },
        {
         "hoverinfo": "none",
         "line": {
          "color": "#888",
          "width": 9.417076402402566
         },
         "mode": "lines",
         "type": "scatter",
         "x": [
          0.00287363361652794,
          -0.0036638285830947353,
          null
         ],
         "y": [
          0.019637745264321386,
          0.01820132804210753,
          null
         ]
        },
        {
         "hoverinfo": "none",
         "line": {
          "color": "#888",
          "width": 7.70301195253496
         },
         "mode": "lines",
         "type": "scatter",
         "x": [
          0.00287363361652794,
          0.02316199970847503,
          null
         ],
         "y": [
          0.019637745264321386,
          0.008806188342982607,
          null
         ]
        },
        {
         "hoverinfo": "none",
         "line": {
          "color": "#888",
          "width": 8.149807872483166
         },
         "mode": "lines",
         "type": "scatter",
         "x": [
          0.00287363361652794,
          -0.02511074611479498,
          null
         ],
         "y": [
          0.019637745264321386,
          0.004411351306071464,
          null
         ]
        },
        {
         "hoverinfo": "none",
         "line": {
          "color": "#888",
          "width": 7.537420224856236
         },
         "mode": "lines",
         "type": "scatter",
         "x": [
          0.00287363361652794,
          0.025948658291624793,
          null
         ],
         "y": [
          0.019637745264321386,
          0.021254089073911894,
          null
         ]
        },
        {
         "hoverinfo": "none",
         "line": {
          "color": "#888",
          "width": 7.439023365366362
         },
         "mode": "lines",
         "type": "scatter",
         "x": [
          0.00287363361652794,
          0.038354719562571304,
          null
         ],
         "y": [
          0.019637745264321386,
          0.004161903113501472,
          null
         ]
        },
        {
         "hoverinfo": "none",
         "line": {
          "color": "#888",
          "width": 7.9903728553676885
         },
         "mode": "lines",
         "type": "scatter",
         "x": [
          0.00287363361652794,
          0.03219278187344018,
          null
         ],
         "y": [
          0.019637745264321386,
          0.0061149754035917,
          null
         ]
        },
        {
         "hoverinfo": "none",
         "line": {
          "color": "#888",
          "width": 7.055727673819245
         },
         "mode": "lines",
         "type": "scatter",
         "x": [
          0.00287363361652794,
          0.04467832748370658,
          null
         ],
         "y": [
          0.019637745264321386,
          -0.003629286852666818,
          null
         ]
        },
        {
         "hoverinfo": "none",
         "line": {
          "color": "#888",
          "width": 7.1390392372314935
         },
         "mode": "lines",
         "type": "scatter",
         "x": [
          0.00287363361652794,
          0.03819669390069439,
          null
         ],
         "y": [
          0.019637745264321386,
          -0.025877116906488973,
          null
         ]
        },
        {
         "hoverinfo": "none",
         "line": {
          "color": "#888",
          "width": 7.188711736196663
         },
         "mode": "lines",
         "type": "scatter",
         "x": [
          0.00287363361652794,
          0.038942507500276856,
          null
         ],
         "y": [
          0.019637745264321386,
          0.03078782212668624,
          null
         ]
        },
        {
         "hoverinfo": "none",
         "line": {
          "color": "#888",
          "width": 7.705508032147677
         },
         "mode": "lines",
         "type": "scatter",
         "x": [
          0.00287363361652794,
          0.03513349996217932,
          null
         ],
         "y": [
          0.019637745264321386,
          0.013867105482447939,
          null
         ]
        },
        {
         "hoverinfo": "none",
         "line": {
          "color": "#888",
          "width": 7.036416959965733
         },
         "mode": "lines",
         "type": "scatter",
         "x": [
          0.04467832748370658,
          -0.015159286895460984,
          null
         ],
         "y": [
          -0.003629286852666818,
          0.022380869498685244,
          null
         ]
        },
        {
         "hoverinfo": "none",
         "line": {
          "color": "#888",
          "width": 7.3865517494057205
         },
         "mode": "lines",
         "type": "scatter",
         "x": [
          0.04467832748370658,
          0.035520716994915845,
          null
         ],
         "y": [
          -0.003629286852666818,
          0.00029598348700220147,
          null
         ]
        },
        {
         "hoverinfo": "none",
         "line": {
          "color": "#888",
          "width": 7.3511002909402325
         },
         "mode": "lines",
         "type": "scatter",
         "x": [
          0.04467832748370658,
          0.05631391082707372,
          null
         ],
         "y": [
          -0.003629286852666818,
          0.011326749686911029,
          null
         ]
        },
        {
         "hoverinfo": "none",
         "line": {
          "color": "#888",
          "width": 7.05929131745889
         },
         "mode": "lines",
         "type": "scatter",
         "x": [
          0.04467832748370658,
          0.05677913646293775,
          null
         ],
         "y": [
          -0.003629286852666818,
          0.024691956360039784,
          null
         ]
        },
        {
         "hoverinfo": "none",
         "line": {
          "color": "#888",
          "width": 7.312847649329637
         },
         "mode": "lines",
         "type": "scatter",
         "x": [
          0.04467832748370658,
          0.044543130719242284,
          null
         ],
         "y": [
          -0.003629286852666818,
          -0.007284453597997196,
          null
         ]
        },
        {
         "hoverinfo": "none",
         "line": {
          "color": "#888",
          "width": 7.559357339058361
         },
         "mode": "lines",
         "type": "scatter",
         "x": [
          0.04467832748370658,
          0.06882186507966723,
          null
         ],
         "y": [
          -0.003629286852666818,
          0.004141447594331741,
          null
         ]
        },
        {
         "hoverinfo": "none",
         "line": {
          "color": "#888",
          "width": 7.435911341885388
         },
         "mode": "lines",
         "type": "scatter",
         "x": [
          0.04467832748370658,
          0.04424926983059967,
          null
         ],
         "y": [
          -0.003629286852666818,
          0.009245192588423365,
          null
         ]
        },
        {
         "hoverinfo": "none",
         "line": {
          "color": "#888",
          "width": 7.083092528568624
         },
         "mode": "lines",
         "type": "scatter",
         "x": [
          0.04467832748370658,
          -0.00895086760387737,
          null
         ],
         "y": [
          -0.003629286852666818,
          -0.031482307904742456,
          null
         ]
        },
        {
         "hoverinfo": "none",
         "line": {
          "color": "#888",
          "width": 7.553067733813927
         },
         "mode": "lines",
         "type": "scatter",
         "x": [
          0.04467832748370658,
          0.06082795141898182,
          null
         ],
         "y": [
          -0.003629286852666818,
          0.03833200467566781,
          null
         ]
        },
        {
         "hoverinfo": "none",
         "line": {
          "color": "#888",
          "width": 7.198564599221184
         },
         "mode": "lines",
         "type": "scatter",
         "x": [
          0.04467832748370658,
          0.07240371276515907,
          null
         ],
         "y": [
          -0.003629286852666818,
          0.010354016717386371,
          null
         ]
        },
        {
         "hoverinfo": "none",
         "line": {
          "color": "#888",
          "width": 7.007954894376265
         },
         "mode": "lines",
         "type": "scatter",
         "x": [
          0.04467832748370658,
          0.10226301230966095,
          null
         ],
         "y": [
          -0.003629286852666818,
          0.030967046761183767,
          null
         ]
        },
        {
         "hoverinfo": "none",
         "line": {
          "color": "#888",
          "width": 7.3716451428717615
         },
         "mode": "lines",
         "type": "scatter",
         "x": [
          0.04467832748370658,
          0.038354719562571304,
          null
         ],
         "y": [
          -0.003629286852666818,
          0.004161903113501472,
          null
         ]
        },
        {
         "hoverinfo": "none",
         "line": {
          "color": "#888",
          "width": 7.224432211836993
         },
         "mode": "lines",
         "type": "scatter",
         "x": [
          0.04467832748370658,
          0.061321053641733785,
          null
         ],
         "y": [
          -0.003629286852666818,
          -0.024536057246514434,
          null
         ]
        },
        {
         "hoverinfo": "none",
         "line": {
          "color": "#888",
          "width": 7.085996606836073
         },
         "mode": "lines",
         "type": "scatter",
         "x": [
          0.04467832748370658,
          0.043365958100558266,
          null
         ],
         "y": [
          -0.003629286852666818,
          -0.01113046894597532,
          null
         ]
        },
        {
         "hoverinfo": "none",
         "line": {
          "color": "#888",
          "width": 7.551802716178412
         },
         "mode": "lines",
         "type": "scatter",
         "x": [
          0.04467832748370658,
          0.11052604308753042,
          null
         ],
         "y": [
          -0.003629286852666818,
          -0.08340930889127908,
          null
         ]
        },
        {
         "hoverinfo": "none",
         "line": {
          "color": "#888",
          "width": 8.663910531207609
         },
         "mode": "lines",
         "type": "scatter",
         "x": [
          0.038942507500276856,
          0.057379303598770866,
          null
         ],
         "y": [
          0.03078782212668624,
          0.019579423949201365,
          null
         ]
        },
        {
         "hoverinfo": "none",
         "line": {
          "color": "#888",
          "width": 7.239676896882271
         },
         "mode": "lines",
         "type": "scatter",
         "x": [
          0.038942507500276856,
          0.04435818424278147,
          null
         ],
         "y": [
          0.03078782212668624,
          0.07208164124493636,
          null
         ]
        },
        {
         "hoverinfo": "none",
         "line": {
          "color": "#888",
          "width": 7.096269511123971
         },
         "mode": "lines",
         "type": "scatter",
         "x": [
          0.038942507500276856,
          0.015405938830662207,
          null
         ],
         "y": [
          0.03078782212668624,
          0.0018236666551723337,
          null
         ]
        },
        {
         "hoverinfo": "none",
         "line": {
          "color": "#888",
          "width": 7.074575129617192
         },
         "mode": "lines",
         "type": "scatter",
         "x": [
          0.038942507500276856,
          0.06372455829418262,
          null
         ],
         "y": [
          0.03078782212668624,
          0.006396233475824237,
          null
         ]
        },
        {
         "hoverinfo": "none",
         "line": {
          "color": "#888",
          "width": 7.387360002287442
         },
         "mode": "lines",
         "type": "scatter",
         "x": [
          0.038942507500276856,
          0.035520716994915845,
          null
         ],
         "y": [
          0.03078782212668624,
          0.00029598348700220147,
          null
         ]
        },
        {
         "hoverinfo": "none",
         "line": {
          "color": "#888",
          "width": 7.161719240362715
         },
         "mode": "lines",
         "type": "scatter",
         "x": [
          0.038942507500276856,
          0.05631391082707372,
          null
         ],
         "y": [
          0.03078782212668624,
          0.011326749686911029,
          null
         ]
        },
        {
         "hoverinfo": "none",
         "line": {
          "color": "#888",
          "width": 7.273335851966634
         },
         "mode": "lines",
         "type": "scatter",
         "x": [
          0.038942507500276856,
          0.05677913646293775,
          null
         ],
         "y": [
          0.03078782212668624,
          0.024691956360039784,
          null
         ]
        },
        {
         "hoverinfo": "none",
         "line": {
          "color": "#888",
          "width": 7.047829738882415
         },
         "mode": "lines",
         "type": "scatter",
         "x": [
          0.038942507500276856,
          0.0617178479758501,
          null
         ],
         "y": [
          0.03078782212668624,
          0.06797352635427499,
          null
         ]
        },
        {
         "hoverinfo": "none",
         "line": {
          "color": "#888",
          "width": 7.121649002576959
         },
         "mode": "lines",
         "type": "scatter",
         "x": [
          0.038942507500276856,
          0.044543130719242284,
          null
         ],
         "y": [
          0.03078782212668624,
          -0.007284453597997196,
          null
         ]
        },
        {
         "hoverinfo": "none",
         "line": {
          "color": "#888",
          "width": 8.646216994687581
         },
         "mode": "lines",
         "type": "scatter",
         "x": [
          0.038942507500276856,
          0.05296089611075171,
          null
         ],
         "y": [
          0.03078782212668624,
          0.0291410783850021,
          null
         ]
        },
        {
         "hoverinfo": "none",
         "line": {
          "color": "#888",
          "width": 7.162329890534379
         },
         "mode": "lines",
         "type": "scatter",
         "x": [
          0.038942507500276856,
          0.02906045571634478,
          null
         ],
         "y": [
          0.03078782212668624,
          0.025702062157286484,
          null
         ]
        },
        {
         "hoverinfo": "none",
         "line": {
          "color": "#888",
          "width": 7.1528543404529445
         },
         "mode": "lines",
         "type": "scatter",
         "x": [
          0.038942507500276856,
          0.07496641350674887,
          null
         ],
         "y": [
          0.03078782212668624,
          0.02975290141076397,
          null
         ]
        },
        {
         "hoverinfo": "none",
         "line": {
          "color": "#888",
          "width": 8.798798257326384
         },
         "mode": "lines",
         "type": "scatter",
         "x": [
          0.038942507500276856,
          0.04619599653144016,
          null
         ],
         "y": [
          0.03078782212668624,
          0.027644664186740022,
          null
         ]
        },
        {
         "hoverinfo": "none",
         "line": {
          "color": "#888",
          "width": 7.888595831271657
         },
         "mode": "lines",
         "type": "scatter",
         "x": [
          0.038942507500276856,
          0.04424926983059967,
          null
         ],
         "y": [
          0.03078782212668624,
          0.009245192588423365,
          null
         ]
        },
        {
         "hoverinfo": "none",
         "line": {
          "color": "#888",
          "width": 7.309332807414007
         },
         "mode": "lines",
         "type": "scatter",
         "x": [
          0.038942507500276856,
          0.04221760964270946,
          null
         ],
         "y": [
          0.03078782212668624,
          0.003341464908629855,
          null
         ]
        },
        {
         "hoverinfo": "none",
         "line": {
          "color": "#888",
          "width": 7.013671667732112
         },
         "mode": "lines",
         "type": "scatter",
         "x": [
          0.038942507500276856,
          0.021348718231508915,
          null
         ],
         "y": [
          0.03078782212668624,
          0.012451826275459169,
          null
         ]
        },
        {
         "hoverinfo": "none",
         "line": {
          "color": "#888",
          "width": 7.06340411463819
         },
         "mode": "lines",
         "type": "scatter",
         "x": [
          0.038942507500276856,
          0.02316199970847503,
          null
         ],
         "y": [
          0.03078782212668624,
          0.008806188342982607,
          null
         ]
        },
        {
         "hoverinfo": "none",
         "line": {
          "color": "#888",
          "width": 7.68426910797583
         },
         "mode": "lines",
         "type": "scatter",
         "x": [
          0.038942507500276856,
          0.06082795141898182,
          null
         ],
         "y": [
          0.03078782212668624,
          0.03833200467566781,
          null
         ]
        },
        {
         "hoverinfo": "none",
         "line": {
          "color": "#888",
          "width": 7.430868975785854
         },
         "mode": "lines",
         "type": "scatter",
         "x": [
          0.038942507500276856,
          0.025948658291624793,
          null
         ],
         "y": [
          0.03078782212668624,
          0.021254089073911894,
          null
         ]
        },
        {
         "hoverinfo": "none",
         "line": {
          "color": "#888",
          "width": 7.133039870119843
         },
         "mode": "lines",
         "type": "scatter",
         "x": [
          0.038942507500276856,
          0.038354719562571304,
          null
         ],
         "y": [
          0.03078782212668624,
          0.004161903113501472,
          null
         ]
        },
        {
         "hoverinfo": "none",
         "line": {
          "color": "#888",
          "width": 7.114362007123169
         },
         "mode": "lines",
         "type": "scatter",
         "x": [
          0.038942507500276856,
          0.06190168719275233,
          null
         ],
         "y": [
          0.03078782212668624,
          0.058304571013040554,
          null
         ]
        },
        {
         "hoverinfo": "none",
         "line": {
          "color": "#888",
          "width": 7.197405629162236
         },
         "mode": "lines",
         "type": "scatter",
         "x": [
          0.038942507500276856,
          0.03219278187344018,
          null
         ],
         "y": [
          0.03078782212668624,
          0.0061149754035917,
          null
         ]
        },
        {
         "hoverinfo": "none",
         "line": {
          "color": "#888",
          "width": 7.1857706170313485
         },
         "mode": "lines",
         "type": "scatter",
         "x": [
          0.038942507500276856,
          0.030030690307780602,
          null
         ],
         "y": [
          0.03078782212668624,
          0.056510679734903424,
          null
         ]
        },
        {
         "hoverinfo": "none",
         "line": {
          "color": "#888",
          "width": 7.540971932368711
         },
         "mode": "lines",
         "type": "scatter",
         "x": [
          0.038942507500276856,
          0.05167935923112888,
          null
         ],
         "y": [
          0.03078782212668624,
          0.007531767395388412,
          null
         ]
        },
        {
         "hoverinfo": "none",
         "line": {
          "color": "#888",
          "width": 7.161317365594758
         },
         "mode": "lines",
         "type": "scatter",
         "x": [
          0.038942507500276856,
          0.06387396726476834,
          null
         ],
         "y": [
          0.03078782212668624,
          0.042945063738044145,
          null
         ]
        },
        {
         "hoverinfo": "none",
         "line": {
          "color": "#888",
          "width": 7.436914131596057
         },
         "mode": "lines",
         "type": "scatter",
         "x": [
          0.038942507500276856,
          0.03513349996217932,
          null
         ],
         "y": [
          0.03078782212668624,
          0.013867105482447939,
          null
         ]
        },
        {
         "hoverinfo": "none",
         "line": {
          "color": "#888",
          "width": 7.824333113392109
         },
         "mode": "lines",
         "type": "scatter",
         "x": [
          0.035170945634905026,
          0.052206110448011205,
          null
         ],
         "y": [
          -0.01053013399832651,
          0.00015984234615206526,
          null
         ]
        },
        {
         "hoverinfo": "none",
         "line": {
          "color": "#888",
          "width": 7.370871474326686
         },
         "mode": "lines",
         "type": "scatter",
         "x": [
          0.035170945634905026,
          0.05900785634350229,
          null
         ],
         "y": [
          -0.01053013399832651,
          -0.018136595586441873,
          null
         ]
        },
        {
         "hoverinfo": "none",
         "line": {
          "color": "#888",
          "width": 7.4203300385717235
         },
         "mode": "lines",
         "type": "scatter",
         "x": [
          0.035170945634905026,
          0.06446578980483612,
          null
         ],
         "y": [
          -0.01053013399832651,
          -0.010092683244049116,
          null
         ]
        },
        {
         "hoverinfo": "none",
         "line": {
          "color": "#888",
          "width": 7.525881697310698
         },
         "mode": "lines",
         "type": "scatter",
         "x": [
          0.035170945634905026,
          0.05125391663732393,
          null
         ],
         "y": [
          -0.01053013399832651,
          -0.013130951491286513,
          null
         ]
        },
        {
         "hoverinfo": "none",
         "line": {
          "color": "#888",
          "width": 7.828050452112981
         },
         "mode": "lines",
         "type": "scatter",
         "x": [
          0.035170945634905026,
          0.044543130719242284,
          null
         ],
         "y": [
          -0.01053013399832651,
          -0.007284453597997196,
          null
         ]
        },
        {
         "hoverinfo": "none",
         "line": {
          "color": "#888",
          "width": 7.520092094464756
         },
         "mode": "lines",
         "type": "scatter",
         "x": [
          0.035170945634905026,
          0.07386306390893059,
          null
         ],
         "y": [
          -0.01053013399832651,
          -0.027114739899880624,
          null
         ]
        },
        {
         "hoverinfo": "none",
         "line": {
          "color": "#888",
          "width": 7.062431692458306
         },
         "mode": "lines",
         "type": "scatter",
         "x": [
          0.035170945634905026,
          0.06882186507966723,
          null
         ],
         "y": [
          -0.01053013399832651,
          0.004141447594331741,
          null
         ]
        },
        {
         "hoverinfo": "none",
         "line": {
          "color": "#888",
          "width": 7.297777086768967
         },
         "mode": "lines",
         "type": "scatter",
         "x": [
          0.035170945634905026,
          0.04424926983059967,
          null
         ],
         "y": [
          -0.01053013399832651,
          0.009245192588423365,
          null
         ]
        },
        {
         "hoverinfo": "none",
         "line": {
          "color": "#888",
          "width": 7.135359791519857
         },
         "mode": "lines",
         "type": "scatter",
         "x": [
          0.035170945634905026,
          0.04221760964270946,
          null
         ],
         "y": [
          -0.01053013399832651,
          0.003341464908629855,
          null
         ]
        },
        {
         "hoverinfo": "none",
         "line": {
          "color": "#888",
          "width": 7.417401908066501
         },
         "mode": "lines",
         "type": "scatter",
         "x": [
          0.035170945634905026,
          0.06667255485155854,
          null
         ],
         "y": [
          -0.01053013399832651,
          -0.03658772066558728,
          null
         ]
        },
        {
         "hoverinfo": "none",
         "line": {
          "color": "#888",
          "width": 7.095718695976877
         },
         "mode": "lines",
         "type": "scatter",
         "x": [
          0.035170945634905026,
          0.0338162313079326,
          null
         ],
         "y": [
          -0.01053013399832651,
          -0.07176514941812688,
          null
         ]
        },
        {
         "hoverinfo": "none",
         "line": {
          "color": "#888",
          "width": 7.388195179946601
         },
         "mode": "lines",
         "type": "scatter",
         "x": [
          0.035170945634905026,
          0.07372803158749584,
          null
         ],
         "y": [
          -0.01053013399832651,
          -0.021176985729282487,
          null
         ]
        },
        {
         "hoverinfo": "none",
         "line": {
          "color": "#888",
          "width": 7.52843358399341
         },
         "mode": "lines",
         "type": "scatter",
         "x": [
          0.035170945634905026,
          0.038354719562571304,
          null
         ],
         "y": [
          -0.01053013399832651,
          0.004161903113501472,
          null
         ]
        },
        {
         "hoverinfo": "none",
         "line": {
          "color": "#888",
          "width": 7.03035988533165
         },
         "mode": "lines",
         "type": "scatter",
         "x": [
          0.035170945634905026,
          0.013787095809808705,
          null
         ],
         "y": [
          -0.01053013399832651,
          0.00563409428498509,
          null
         ]
        },
        {
         "hoverinfo": "none",
         "line": {
          "color": "#888",
          "width": 7.57674861299777
         },
         "mode": "lines",
         "type": "scatter",
         "x": [
          0.035170945634905026,
          0.061321053641733785,
          null
         ],
         "y": [
          -0.01053013399832651,
          -0.024536057246514434,
          null
         ]
        },
        {
         "hoverinfo": "none",
         "line": {
          "color": "#888",
          "width": 7.35641617703622
         },
         "mode": "lines",
         "type": "scatter",
         "x": [
          0.035170945634905026,
          0.03219278187344018,
          null
         ],
         "y": [
          -0.01053013399832651,
          0.0061149754035917,
          null
         ]
        },
        {
         "hoverinfo": "none",
         "line": {
          "color": "#888",
          "width": 7.3822070736475744
         },
         "mode": "lines",
         "type": "scatter",
         "x": [
          0.035170945634905026,
          0.0640481455889888,
          null
         ],
         "y": [
          -0.01053013399832651,
          -0.01616254512433649,
          null
         ]
        },
        {
         "hoverinfo": "none",
         "line": {
          "color": "#888",
          "width": 7.0426982118077746
         },
         "mode": "lines",
         "type": "scatter",
         "x": [
          0.035170945634905026,
          0.030192688386252445,
          null
         ],
         "y": [
          -0.01053013399832651,
          -0.030085742357227503,
          null
         ]
        },
        {
         "hoverinfo": "none",
         "line": {
          "color": "#888",
          "width": 7.174598144648705
         },
         "mode": "lines",
         "type": "scatter",
         "x": [
          0.035170945634905026,
          0.03513349996217932,
          null
         ],
         "y": [
          -0.01053013399832651,
          0.013867105482447939,
          null
         ]
        },
        {
         "hoverinfo": "none",
         "line": {
          "color": "#888",
          "width": 8.084352538000159
         },
         "mode": "lines",
         "type": "scatter",
         "x": [
          0.03513349996217932,
          0.057379303598770866,
          null
         ],
         "y": [
          0.013867105482447939,
          0.019579423949201365,
          null
         ]
        },
        {
         "hoverinfo": "none",
         "line": {
          "color": "#888",
          "width": 8.001355667696718
         },
         "mode": "lines",
         "type": "scatter",
         "x": [
          0.03513349996217932,
          0.052206110448011205,
          null
         ],
         "y": [
          0.013867105482447939,
          0.00015984234615206526,
          null
         ]
        },
        {
         "hoverinfo": "none",
         "line": {
          "color": "#888",
          "width": 7.126294442179982
         },
         "mode": "lines",
         "type": "scatter",
         "x": [
          0.03513349996217932,
          0.05900785634350229,
          null
         ],
         "y": [
          0.013867105482447939,
          -0.018136595586441873,
          null
         ]
        },
        {
         "hoverinfo": "none",
         "line": {
          "color": "#888",
          "width": 7.1941633081269
         },
         "mode": "lines",
         "type": "scatter",
         "x": [
          0.03513349996217932,
          0.015405938830662207,
          null
         ],
         "y": [
          0.013867105482447939,
          0.0018236666551723337,
          null
         ]
        },
        {
         "hoverinfo": "none",
         "line": {
          "color": "#888",
          "width": 7.8071363933832885
         },
         "mode": "lines",
         "type": "scatter",
         "x": [
          0.03513349996217932,
          0.035520716994915845,
          null
         ],
         "y": [
          0.013867105482447939,
          0.00029598348700220147,
          null
         ]
        },
        {
         "hoverinfo": "none",
         "line": {
          "color": "#888",
          "width": 7.0670379656917826
         },
         "mode": "lines",
         "type": "scatter",
         "x": [
          0.03513349996217932,
          0.05631391082707372,
          null
         ],
         "y": [
          0.013867105482447939,
          0.011326749686911029,
          null
         ]
        },
        {
         "hoverinfo": "none",
         "line": {
          "color": "#888",
          "width": 7.671289266096508
         },
         "mode": "lines",
         "type": "scatter",
         "x": [
          0.03513349996217932,
          0.05677913646293775,
          null
         ],
         "y": [
          0.013867105482447939,
          0.024691956360039784,
          null
         ]
        },
        {
         "hoverinfo": "none",
         "line": {
          "color": "#888",
          "width": 7.184086108722849
         },
         "mode": "lines",
         "type": "scatter",
         "x": [
          0.03513349996217932,
          -0.006214060919075264,
          null
         ],
         "y": [
          0.013867105482447939,
          0.024114674815726177,
          null
         ]
        },
        {
         "hoverinfo": "none",
         "line": {
          "color": "#888",
          "width": 7.156085322918787
         },
         "mode": "lines",
         "type": "scatter",
         "x": [
          0.03513349996217932,
          0.08332396253443919,
          null
         ],
         "y": [
          0.013867105482447939,
          0.01232482248712961,
          null
         ]
        },
        {
         "hoverinfo": "none",
         "line": {
          "color": "#888",
          "width": 7.366092858178716
         },
         "mode": "lines",
         "type": "scatter",
         "x": [
          0.03513349996217932,
          0.05125391663732393,
          null
         ],
         "y": [
          0.013867105482447939,
          -0.013130951491286513,
          null
         ]
        },
        {
         "hoverinfo": "none",
         "line": {
          "color": "#888",
          "width": 7.188993185760632
         },
         "mode": "lines",
         "type": "scatter",
         "x": [
          0.03513349996217932,
          0.044543130719242284,
          null
         ],
         "y": [
          0.013867105482447939,
          -0.007284453597997196,
          null
         ]
        },
        {
         "hoverinfo": "none",
         "line": {
          "color": "#888",
          "width": 7.542800859680296
         },
         "mode": "lines",
         "type": "scatter",
         "x": [
          0.03513349996217932,
          0.05296089611075171,
          null
         ],
         "y": [
          0.013867105482447939,
          0.0291410783850021,
          null
         ]
        },
        {
         "hoverinfo": "none",
         "line": {
          "color": "#888",
          "width": 7.450133552104202
         },
         "mode": "lines",
         "type": "scatter",
         "x": [
          0.03513349996217932,
          0.02906045571634478,
          null
         ],
         "y": [
          0.013867105482447939,
          0.025702062157286484,
          null
         ]
        },
        {
         "hoverinfo": "none",
         "line": {
          "color": "#888",
          "width": 7.991287680451235
         },
         "mode": "lines",
         "type": "scatter",
         "x": [
          0.03513349996217932,
          0.04619599653144016,
          null
         ],
         "y": [
          0.013867105482447939,
          0.027644664186740022,
          null
         ]
        },
        {
         "hoverinfo": "none",
         "line": {
          "color": "#888",
          "width": 7.085956777974378
         },
         "mode": "lines",
         "type": "scatter",
         "x": [
          0.03513349996217932,
          0.07386306390893059,
          null
         ],
         "y": [
          0.013867105482447939,
          -0.027114739899880624,
          null
         ]
        },
        {
         "hoverinfo": "none",
         "line": {
          "color": "#888",
          "width": 7.9849229352408155
         },
         "mode": "lines",
         "type": "scatter",
         "x": [
          0.03513349996217932,
          0.04424926983059967,
          null
         ],
         "y": [
          0.013867105482447939,
          0.009245192588423365,
          null
         ]
        },
        {
         "hoverinfo": "none",
         "line": {
          "color": "#888",
          "width": 7.628292248563709
         },
         "mode": "lines",
         "type": "scatter",
         "x": [
          0.03513349996217932,
          0.04221760964270946,
          null
         ],
         "y": [
          0.013867105482447939,
          0.003341464908629855,
          null
         ]
        },
        {
         "hoverinfo": "none",
         "line": {
          "color": "#888",
          "width": 7.386326169335798
         },
         "mode": "lines",
         "type": "scatter",
         "x": [
          0.03513349996217932,
          -0.0036638285830947353,
          null
         ],
         "y": [
          0.013867105482447939,
          0.01820132804210753,
          null
         ]
        },
        {
         "hoverinfo": "none",
         "line": {
          "color": "#888",
          "width": 7.081618323845946
         },
         "mode": "lines",
         "type": "scatter",
         "x": [
          0.03513349996217932,
          0.021348718231508915,
          null
         ],
         "y": [
          0.013867105482447939,
          0.012451826275459169,
          null
         ]
        },
        {
         "hoverinfo": "none",
         "line": {
          "color": "#888",
          "width": 7.94014313728993
         },
         "mode": "lines",
         "type": "scatter",
         "x": [
          0.03513349996217932,
          0.02316199970847503,
          null
         ],
         "y": [
          0.013867105482447939,
          0.008806188342982607,
          null
         ]
        },
        {
         "hoverinfo": "none",
         "line": {
          "color": "#888",
          "width": 7.271834257673558
         },
         "mode": "lines",
         "type": "scatter",
         "x": [
          0.03513349996217932,
          0.07240371276515907,
          null
         ],
         "y": [
          0.013867105482447939,
          0.010354016717386371,
          null
         ]
        },
        {
         "hoverinfo": "none",
         "line": {
          "color": "#888",
          "width": 7.292176732733556
         },
         "mode": "lines",
         "type": "scatter",
         "x": [
          0.03513349996217932,
          0.025948658291624793,
          null
         ],
         "y": [
          0.013867105482447939,
          0.021254089073911894,
          null
         ]
        },
        {
         "hoverinfo": "none",
         "line": {
          "color": "#888",
          "width": 8.446980464097395
         },
         "mode": "lines",
         "type": "scatter",
         "x": [
          0.03513349996217932,
          0.038354719562571304,
          null
         ],
         "y": [
          0.013867105482447939,
          0.004161903113501472,
          null
         ]
        },
        {
         "hoverinfo": "none",
         "line": {
          "color": "#888",
          "width": 7.857319728567789
         },
         "mode": "lines",
         "type": "scatter",
         "x": [
          0.03513349996217932,
          0.03219278187344018,
          null
         ],
         "y": [
          0.013867105482447939,
          0.0061149754035917,
          null
         ]
        },
        {
         "hoverinfo": "none",
         "line": {
          "color": "#888",
          "width": 7.8435009491932925
         },
         "mode": "lines",
         "type": "scatter",
         "x": [
          0.03513349996217932,
          0.05167935923112888,
          null
         ],
         "y": [
          0.013867105482447939,
          0.007531767395388412,
          null
         ]
        },
        {
         "hoverinfo": "none",
         "line": {
          "color": "#888",
          "width": 7.5255003768634054
         },
         "mode": "lines",
         "type": "scatter",
         "x": [
          0.03513349996217932,
          0.043365958100558266,
          null
         ],
         "y": [
          0.013867105482447939,
          -0.01113046894597532,
          null
         ]
        },
        {
         "hoverinfo": "none",
         "line": {
          "color": "#888",
          "width": 7.038711562382951
         },
         "mode": "lines",
         "type": "scatter",
         "x": [
          0.03513349996217932,
          0.0640481455889888,
          null
         ],
         "y": [
          0.013867105482447939,
          -0.01616254512433649,
          null
         ]
        },
        {
         "hoverinfo": "none",
         "line": {
          "color": "#888",
          "width": 7.293397554868557
         },
         "mode": "lines",
         "type": "scatter",
         "x": [
          0.03513349996217932,
          0.030192688386252445,
          null
         ],
         "y": [
          0.013867105482447939,
          -0.030085742357227503,
          null
         ]
        },
        {
         "hoverinfo": "none",
         "line": {
          "color": "#888",
          "width": 7.0263526107023635
         },
         "mode": "lines",
         "type": "scatter",
         "x": [
          0.03513349996217932,
          0.04047227523908738,
          null
         ],
         "y": [
          0.013867105482447939,
          0.061441597952245686,
          null
         ]
        },
        {
         "hoverinfo": "none",
         "line": {
          "color": "#888",
          "width": 7.331617448494468
         },
         "mode": "lines",
         "type": "scatter",
         "x": [
          0.09775289659785226,
          0.12294680046022576,
          null
         ],
         "y": [
          0.02686448843901793,
          0.09037289945844768,
          null
         ]
        },
        {
         "hoverinfo": "none",
         "line": {
          "color": "#888",
          "width": 7.58400287590112
         },
         "mode": "lines",
         "type": "scatter",
         "x": [
          0.09775289659785226,
          0.06468537251505271,
          null
         ],
         "y": [
          0.02686448843901793,
          0.023662195868131664,
          null
         ]
        },
        {
         "hoverinfo": "none",
         "line": {
          "color": "#888",
          "width": 7.6136655503172275
         },
         "mode": "lines",
         "type": "scatter",
         "x": [
          0.09775289659785226,
          0.05631391082707372,
          null
         ],
         "y": [
          0.02686448843901793,
          0.011326749686911029,
          null
         ]
        },
        {
         "hoverinfo": "none",
         "line": {
          "color": "#888",
          "width": 7.241429417396055
         },
         "mode": "lines",
         "type": "scatter",
         "x": [
          0.09775289659785226,
          0.05677913646293775,
          null
         ],
         "y": [
          0.02686448843901793,
          0.024691956360039784,
          null
         ]
        },
        {
         "hoverinfo": "none",
         "line": {
          "color": "#888",
          "width": 7.058403797933982
         },
         "mode": "lines",
         "type": "scatter",
         "x": [
          0.09775289659785226,
          0.09864440142373938,
          null
         ],
         "y": [
          0.02686448843901793,
          0.10133529571902784,
          null
         ]
        },
        {
         "hoverinfo": "none",
         "line": {
          "color": "#888",
          "width": 7.558810058569811
         },
         "mode": "lines",
         "type": "scatter",
         "x": [
          0.09775289659785226,
          0.08778325327448383,
          null
         ],
         "y": [
          0.02686448843901793,
          0.060562243849421854,
          null
         ]
        },
        {
         "hoverinfo": "none",
         "line": {
          "color": "#888",
          "width": 7.030768339945222
         },
         "mode": "lines",
         "type": "scatter",
         "x": [
          0.09775289659785226,
          0.035123113123913655,
          null
         ],
         "y": [
          0.02686448843901793,
          -0.015184046650287686,
          null
         ]
        },
        {
         "hoverinfo": "none",
         "line": {
          "color": "#888",
          "width": 7.208936105498571
         },
         "mode": "lines",
         "type": "scatter",
         "x": [
          0.09775289659785226,
          0.06082795141898182,
          null
         ],
         "y": [
          0.02686448843901793,
          0.03833200467566781,
          null
         ]
        },
        {
         "hoverinfo": "none",
         "line": {
          "color": "#888",
          "width": 7.277929964724407
         },
         "mode": "lines",
         "type": "scatter",
         "x": [
          0.09775289659785226,
          0.07240371276515907,
          null
         ],
         "y": [
          0.02686448843901793,
          0.010354016717386371,
          null
         ]
        },
        {
         "hoverinfo": "none",
         "line": {
          "color": "#888",
          "width": 7.1351954213785005
         },
         "mode": "lines",
         "type": "scatter",
         "x": [
          0.09775289659785226,
          0.10226301230966095,
          null
         ],
         "y": [
          0.02686448843901793,
          0.030967046761183767,
          null
         ]
        },
        {
         "hoverinfo": "none",
         "line": {
          "color": "#888",
          "width": 7.0621893739421795
         },
         "mode": "lines",
         "type": "scatter",
         "x": [
          0.09775289659785226,
          0.07716961454395974,
          null
         ],
         "y": [
          0.02686448843901793,
          0.04516494341131238,
          null
         ]
        },
        {
         "hoverinfo": "none",
         "line": {
          "color": "#888",
          "width": 7.405045626451977
         },
         "mode": "lines",
         "type": "scatter",
         "x": [
          0.09775289659785226,
          0.1597792388995273,
          null
         ],
         "y": [
          0.02686448843901793,
          -0.018399572795810327,
          null
         ]
        },
        {
         "hoverinfo": "none",
         "line": {
          "color": "#888",
          "width": 7.207864320955904
         },
         "mode": "lines",
         "type": "scatter",
         "x": [
          0.09775289659785226,
          0.21351651387203968,
          null
         ],
         "y": [
          0.02686448843901793,
          0.08200571153532862,
          null
         ]
        },
        {
         "hoverinfo": "none",
         "line": {
          "color": "#888",
          "width": 7.13792292699236
         },
         "mode": "lines",
         "type": "scatter",
         "x": [
          0.09775289659785226,
          0.047591032020469465,
          null
         ],
         "y": [
          0.02686448843901793,
          -0.03311958601746846,
          null
         ]
        },
        {
         "hoverinfo": "none",
         "line": {
          "color": "#888",
          "width": 7.304201299258425
         },
         "mode": "lines",
         "type": "scatter",
         "x": [
          0.09775289659785226,
          0.0978715356531529,
          null
         ],
         "y": [
          0.02686448843901793,
          -0.025254029703898704,
          null
         ]
        },
        {
         "hoverinfo": "none",
         "line": {
          "color": "#888",
          "width": 7.325143576590962
         },
         "mode": "lines",
         "type": "scatter",
         "x": [
          0.09775289659785226,
          0.05797524860978553,
          null
         ],
         "y": [
          0.02686448843901793,
          -0.02918817069244344,
          null
         ]
        },
        {
         "hoverinfo": "none",
         "line": {
          "color": "#888",
          "width": 8.474205175994351
         },
         "mode": "lines",
         "type": "scatter",
         "x": [
          0.09775289659785226,
          0.03819669390069439,
          null
         ],
         "y": [
          0.02686448843901793,
          -0.025877116906488973,
          null
         ]
        },
        {
         "hoverinfo": "none",
         "line": {
          "color": "#888",
          "width": 7.022036975817803
         },
         "mode": "lines",
         "type": "scatter",
         "x": [
          0.04435818424278147,
          0.04619599653144016,
          null
         ],
         "y": [
          0.07208164124493636,
          0.027644664186740022,
          null
         ]
        },
        {
         "hoverinfo": "none",
         "line": {
          "color": "#888",
          "width": 7.15107455266677
         },
         "mode": "lines",
         "type": "scatter",
         "x": [
          0.04435818424278147,
          0.06082795141898182,
          null
         ],
         "y": [
          0.07208164124493636,
          0.03833200467566781,
          null
         ]
        },
        {
         "hoverinfo": "none",
         "line": {
          "color": "#888",
          "width": 7.632693425188256
         },
         "mode": "lines",
         "type": "scatter",
         "x": [
          0.04435818424278147,
          0.06190168719275233,
          null
         ],
         "y": [
          0.07208164124493636,
          0.058304571013040554,
          null
         ]
        },
        {
         "hoverinfo": "none",
         "line": {
          "color": "#888",
          "width": 8.613355784720108
         },
         "mode": "lines",
         "type": "scatter",
         "x": [
          0.04435818424278147,
          0.030030690307780602,
          null
         ],
         "y": [
          0.07208164124493636,
          0.056510679734903424,
          null
         ]
        },
        {
         "hoverinfo": "none",
         "line": {
          "color": "#888",
          "width": 9.088521201101564
         },
         "mode": "lines",
         "type": "scatter",
         "x": [
          0.04619599653144016,
          0.057379303598770866,
          null
         ],
         "y": [
          0.027644664186740022,
          0.019579423949201365,
          null
         ]
        },
        {
         "hoverinfo": "none",
         "line": {
          "color": "#888",
          "width": 7.571103409049357
         },
         "mode": "lines",
         "type": "scatter",
         "x": [
          0.04619599653144016,
          0.052206110448011205,
          null
         ],
         "y": [
          0.027644664186740022,
          0.00015984234615206526,
          null
         ]
        },
        {
         "hoverinfo": "none",
         "line": {
          "color": "#888",
          "width": 7.854072659507424
         },
         "mode": "lines",
         "type": "scatter",
         "x": [
          0.04619599653144016,
          0.06468537251505271,
          null
         ],
         "y": [
          0.027644664186740022,
          0.023662195868131664,
          null
         ]
        },
        {
         "hoverinfo": "none",
         "line": {
          "color": "#888",
          "width": 7.655805323403534
         },
         "mode": "lines",
         "type": "scatter",
         "x": [
          0.04619599653144016,
          0.035520716994915845,
          null
         ],
         "y": [
          0.027644664186740022,
          0.00029598348700220147,
          null
         ]
        },
        {
         "hoverinfo": "none",
         "line": {
          "color": "#888",
          "width": 7.766827708885964
         },
         "mode": "lines",
         "type": "scatter",
         "x": [
          0.04619599653144016,
          0.051668100730155764,
          null
         ],
         "y": [
          0.027644664186740022,
          0.055343590458516626,
          null
         ]
        },
        {
         "hoverinfo": "none",
         "line": {
          "color": "#888",
          "width": 7.789667142275909
         },
         "mode": "lines",
         "type": "scatter",
         "x": [
          0.04619599653144016,
          0.05631391082707372,
          null
         ],
         "y": [
          0.027644664186740022,
          0.011326749686911029,
          null
         ]
        },
        {
         "hoverinfo": "none",
         "line": {
          "color": "#888",
          "width": 7.961370120006267
         },
         "mode": "lines",
         "type": "scatter",
         "x": [
          0.04619599653144016,
          0.05677913646293775,
          null
         ],
         "y": [
          0.027644664186740022,
          0.024691956360039784,
          null
         ]
        },
        {
         "hoverinfo": "none",
         "line": {
          "color": "#888",
          "width": 7.219735668040296
         },
         "mode": "lines",
         "type": "scatter",
         "x": [
          0.04619599653144016,
          0.0617178479758501,
          null
         ],
         "y": [
          0.027644664186740022,
          0.06797352635427499,
          null
         ]
        },
        {
         "hoverinfo": "none",
         "line": {
          "color": "#888",
          "width": 9.390852059874113
         },
         "mode": "lines",
         "type": "scatter",
         "x": [
          0.04619599653144016,
          0.05296089611075171,
          null
         ],
         "y": [
          0.027644664186740022,
          0.0291410783850021,
          null
         ]
        },
        {
         "hoverinfo": "none",
         "line": {
          "color": "#888",
          "width": 7.621295546833968
         },
         "mode": "lines",
         "type": "scatter",
         "x": [
          0.04619599653144016,
          0.02906045571634478,
          null
         ],
         "y": [
          0.027644664186740022,
          0.025702062157286484,
          null
         ]
        },
        {
         "hoverinfo": "none",
         "line": {
          "color": "#888",
          "width": 7.465310622760189
         },
         "mode": "lines",
         "type": "scatter",
         "x": [
          0.04619599653144016,
          0.07496641350674887,
          null
         ],
         "y": [
          0.027644664186740022,
          0.02975290141076397,
          null
         ]
        },
        {
         "hoverinfo": "none",
         "line": {
          "color": "#888",
          "width": 7.1645752168859635
         },
         "mode": "lines",
         "type": "scatter",
         "x": [
          0.04619599653144016,
          0.05167761610956777,
          null
         ],
         "y": [
          0.027644664186740022,
          -0.025632995988194535,
          null
         ]
        },
        {
         "hoverinfo": "none",
         "line": {
          "color": "#888",
          "width": 8.067209607788193
         },
         "mode": "lines",
         "type": "scatter",
         "x": [
          0.04619599653144016,
          0.04424926983059967,
          null
         ],
         "y": [
          0.027644664186740022,
          0.009245192588423365,
          null
         ]
        },
        {
         "hoverinfo": "none",
         "line": {
          "color": "#888",
          "width": 7.486514072494435
         },
         "mode": "lines",
         "type": "scatter",
         "x": [
          0.04619599653144016,
          0.04221760964270946,
          null
         ],
         "y": [
          0.027644664186740022,
          0.003341464908629855,
          null
         ]
        },
        {
         "hoverinfo": "none",
         "line": {
          "color": "#888",
          "width": 7.057406006763945
         },
         "mode": "lines",
         "type": "scatter",
         "x": [
          0.04619599653144016,
          -0.0036638285830947353,
          null
         ],
         "y": [
          0.027644664186740022,
          0.01820132804210753,
          null
         ]
        },
        {
         "hoverinfo": "none",
         "line": {
          "color": "#888",
          "width": 7.1815956530156075
         },
         "mode": "lines",
         "type": "scatter",
         "x": [
          0.04619599653144016,
          0.021348718231508915,
          null
         ],
         "y": [
          0.027644664186740022,
          0.012451826275459169,
          null
         ]
        },
        {
         "hoverinfo": "none",
         "line": {
          "color": "#888",
          "width": 7.301734080139365
         },
         "mode": "lines",
         "type": "scatter",
         "x": [
          0.04619599653144016,
          0.02316199970847503,
          null
         ],
         "y": [
          0.027644664186740022,
          0.008806188342982607,
          null
         ]
        },
        {
         "hoverinfo": "none",
         "line": {
          "color": "#888",
          "width": 8.271069423640304
         },
         "mode": "lines",
         "type": "scatter",
         "x": [
          0.04619599653144016,
          0.06082795141898182,
          null
         ],
         "y": [
          0.027644664186740022,
          0.03833200467566781,
          null
         ]
        },
        {
         "hoverinfo": "none",
         "line": {
          "color": "#888",
          "width": 7.135416106527592
         },
         "mode": "lines",
         "type": "scatter",
         "x": [
          0.04619599653144016,
          0.07240371276515907,
          null
         ],
         "y": [
          0.027644664186740022,
          0.010354016717386371,
          null
         ]
        },
        {
         "hoverinfo": "none",
         "line": {
          "color": "#888",
          "width": 7.137195616632672
         },
         "mode": "lines",
         "type": "scatter",
         "x": [
          0.04619599653144016,
          0.07716961454395974,
          null
         ],
         "y": [
          0.027644664186740022,
          0.04516494341131238,
          null
         ]
        },
        {
         "hoverinfo": "none",
         "line": {
          "color": "#888",
          "width": 7.158050853017062
         },
         "mode": "lines",
         "type": "scatter",
         "x": [
          0.04619599653144016,
          0.025948658291624793,
          null
         ],
         "y": [
          0.027644664186740022,
          0.021254089073911894,
          null
         ]
        },
        {
         "hoverinfo": "none",
         "line": {
          "color": "#888",
          "width": 7.646015481472749
         },
         "mode": "lines",
         "type": "scatter",
         "x": [
          0.04619599653144016,
          0.038354719562571304,
          null
         ],
         "y": [
          0.027644664186740022,
          0.004161903113501472,
          null
         ]
        },
        {
         "hoverinfo": "none",
         "line": {
          "color": "#888",
          "width": 7.623088082974929
         },
         "mode": "lines",
         "type": "scatter",
         "x": [
          0.04619599653144016,
          0.03219278187344018,
          null
         ],
         "y": [
          0.027644664186740022,
          0.0061149754035917,
          null
         ]
        },
        {
         "hoverinfo": "none",
         "line": {
          "color": "#888",
          "width": 7.055585990264421
         },
         "mode": "lines",
         "type": "scatter",
         "x": [
          0.04619599653144016,
          0.047591032020469465,
          null
         ],
         "y": [
          0.027644664186740022,
          -0.03311958601746846,
          null
         ]
        },
        {
         "hoverinfo": "none",
         "line": {
          "color": "#888",
          "width": 7.319156154126086
         },
         "mode": "lines",
         "type": "scatter",
         "x": [
          0.04619599653144016,
          0.030030690307780602,
          null
         ],
         "y": [
          0.027644664186740022,
          0.056510679734903424,
          null
         ]
        },
        {
         "hoverinfo": "none",
         "line": {
          "color": "#888",
          "width": 8.002575435360498
         },
         "mode": "lines",
         "type": "scatter",
         "x": [
          0.04619599653144016,
          0.05167935923112888,
          null
         ],
         "y": [
          0.027644664186740022,
          0.007531767395388412,
          null
         ]
        },
        {
         "hoverinfo": "none",
         "line": {
          "color": "#888",
          "width": 7.0452840995343955
         },
         "mode": "lines",
         "type": "scatter",
         "x": [
          0.04619599653144016,
          0.09811073802498937,
          null
         ],
         "y": [
          0.027644664186740022,
          0.08160896415583327,
          null
         ]
        },
        {
         "hoverinfo": "none",
         "line": {
          "color": "#888",
          "width": 7.672936863555414
         },
         "mode": "lines",
         "type": "scatter",
         "x": [
          0.04619599653144016,
          0.043365958100558266,
          null
         ],
         "y": [
          0.027644664186740022,
          -0.01113046894597532,
          null
         ]
        },
        {
         "hoverinfo": "none",
         "line": {
          "color": "#888",
          "width": 8.44440552141891
         },
         "mode": "lines",
         "type": "scatter",
         "x": [
          0.04619599653144016,
          0.06387396726476834,
          null
         ],
         "y": [
          0.027644664186740022,
          0.042945063738044145,
          null
         ]
        },
        {
         "hoverinfo": "none",
         "line": {
          "color": "#888",
          "width": 7.128214858885259
         },
         "mode": "lines",
         "type": "scatter",
         "x": [
          0.04619599653144016,
          0.04047227523908738,
          null
         ],
         "y": [
          0.027644664186740022,
          0.061441597952245686,
          null
         ]
        },
        {
         "hoverinfo": "none",
         "line": {
          "color": "#888",
          "width": 7.061116501536714
         },
         "mode": "lines",
         "type": "scatter",
         "x": [
          0.09864440142373938,
          0.08778325327448383,
          null
         ],
         "y": [
          0.10133529571902784,
          0.060562243849421854,
          null
         ]
        },
        {
         "hoverinfo": "none",
         "line": {
          "color": "#888",
          "width": 8.83310642219411
         },
         "mode": "lines",
         "type": "scatter",
         "x": [
          0.09864440142373938,
          0.05978222685416067,
          null
         ],
         "y": [
          0.10133529571902784,
          0.12396345172219234,
          null
         ]
        },
        {
         "hoverinfo": "none",
         "line": {
          "color": "#888",
          "width": 7.73085817330553
         },
         "mode": "lines",
         "type": "scatter",
         "x": [
          0.06082795141898182,
          0.057379303598770866,
          null
         ],
         "y": [
          0.03833200467566781,
          0.019579423949201365,
          null
         ]
        },
        {
         "hoverinfo": "none",
         "line": {
          "color": "#888",
          "width": 7.691918019030329
         },
         "mode": "lines",
         "type": "scatter",
         "x": [
          0.06082795141898182,
          0.06468537251505271,
          null
         ],
         "y": [
          0.03833200467566781,
          0.023662195868131664,
          null
         ]
        },
        {
         "hoverinfo": "none",
         "line": {
          "color": "#888",
          "width": 7.395384239048076
         },
         "mode": "lines",
         "type": "scatter",
         "x": [
          0.06082795141898182,
          0.051668100730155764,
          null
         ],
         "y": [
          0.03833200467566781,
          0.055343590458516626,
          null
         ]
        },
        {
         "hoverinfo": "none",
         "line": {
          "color": "#888",
          "width": 7.397326515195804
         },
         "mode": "lines",
         "type": "scatter",
         "x": [
          0.06082795141898182,
          0.05631391082707372,
          null
         ],
         "y": [
          0.03833200467566781,
          0.011326749686911029,
          null
         ]
        },
        {
         "hoverinfo": "none",
         "line": {
          "color": "#888",
          "width": 7.908657806989474
         },
         "mode": "lines",
         "type": "scatter",
         "x": [
          0.06082795141898182,
          0.05677913646293775,
          null
         ],
         "y": [
          0.03833200467566781,
          0.024691956360039784,
          null
         ]
        },
        {
         "hoverinfo": "none",
         "line": {
          "color": "#888",
          "width": 7.669532544341507
         },
         "mode": "lines",
         "type": "scatter",
         "x": [
          0.06082795141898182,
          0.05296089611075171,
          null
         ],
         "y": [
          0.03833200467566781,
          0.0291410783850021,
          null
         ]
        },
        {
         "hoverinfo": "none",
         "line": {
          "color": "#888",
          "width": 7.322390614467635
         },
         "mode": "lines",
         "type": "scatter",
         "x": [
          0.06082795141898182,
          0.08778325327448383,
          null
         ],
         "y": [
          0.03833200467566781,
          0.060562243849421854,
          null
         ]
        },
        {
         "hoverinfo": "none",
         "line": {
          "color": "#888",
          "width": 7.220815647108546
         },
         "mode": "lines",
         "type": "scatter",
         "x": [
          0.06082795141898182,
          0.04424926983059967,
          null
         ],
         "y": [
          0.03833200467566781,
          0.009245192588423365,
          null
         ]
        },
        {
         "hoverinfo": "none",
         "line": {
          "color": "#888",
          "width": 7.297155981734472
         },
         "mode": "lines",
         "type": "scatter",
         "x": [
          0.06082795141898182,
          0.038354719562571304,
          null
         ],
         "y": [
          0.03833200467566781,
          0.004161903113501472,
          null
         ]
        },
        {
         "hoverinfo": "none",
         "line": {
          "color": "#888",
          "width": 7.3413515808747976
         },
         "mode": "lines",
         "type": "scatter",
         "x": [
          0.06082795141898182,
          0.06190168719275233,
          null
         ],
         "y": [
          0.03833200467566781,
          0.058304571013040554,
          null
         ]
        },
        {
         "hoverinfo": "none",
         "line": {
          "color": "#888",
          "width": 7.082016122183587
         },
         "mode": "lines",
         "type": "scatter",
         "x": [
          0.06082795141898182,
          0.017232177533891113,
          null
         ],
         "y": [
          0.03833200467566781,
          0.09131991431884356,
          null
         ]
        },
        {
         "hoverinfo": "none",
         "line": {
          "color": "#888",
          "width": 7.012038296399965
         },
         "mode": "lines",
         "type": "scatter",
         "x": [
          0.06082795141898182,
          0.03219278187344018,
          null
         ],
         "y": [
          0.03833200467566781,
          0.0061149754035917,
          null
         ]
        },
        {
         "hoverinfo": "none",
         "line": {
          "color": "#888",
          "width": 7.084926107788675
         },
         "mode": "lines",
         "type": "scatter",
         "x": [
          0.06082795141898182,
          0.05167935923112888,
          null
         ],
         "y": [
          0.03833200467566781,
          0.007531767395388412,
          null
         ]
        },
        {
         "hoverinfo": "none",
         "line": {
          "color": "#888",
          "width": 7.155689786788847
         },
         "mode": "lines",
         "type": "scatter",
         "x": [
          0.06082795141898182,
          0.06387396726476834,
          null
         ],
         "y": [
          0.03833200467566781,
          0.042945063738044145,
          null
         ]
        },
        {
         "hoverinfo": "none",
         "line": {
          "color": "#888",
          "width": 7.297162720008767
         },
         "mode": "lines",
         "type": "scatter",
         "x": [
          0.05978222685416067,
          0.027369000837700084,
          null
         ],
         "y": [
          0.12396345172219234,
          0.16296818822164114,
          null
         ]
        },
        {
         "hoverinfo": "none",
         "line": {
          "color": "#888",
          "width": 7.272803340520997
         },
         "mode": "lines",
         "type": "scatter",
         "x": [
          0.05978222685416067,
          0.019746439310005533,
          null
         ],
         "y": [
          0.12396345172219234,
          0.15789752583849637,
          null
         ]
        },
        {
         "hoverinfo": "none",
         "line": {
          "color": "#888",
          "width": 7.5987858895915465
         },
         "mode": "lines",
         "type": "scatter",
         "x": [
          0.05978222685416067,
          0.08778325327448383,
          null
         ],
         "y": [
          0.12396345172219234,
          0.060562243849421854,
          null
         ]
        },
        {
         "hoverinfo": "none",
         "line": {
          "color": "#888",
          "width": 7.0303631019080415
         },
         "mode": "lines",
         "type": "scatter",
         "x": [
          0.05978222685416067,
          0.10226301230966095,
          null
         ],
         "y": [
          0.12396345172219234,
          0.030967046761183767,
          null
         ]
        },
        {
         "hoverinfo": "none",
         "line": {
          "color": "#888",
          "width": 7.619171228094901
         },
         "mode": "lines",
         "type": "scatter",
         "x": [
          0.05978222685416067,
          0.07227703723636165,
          null
         ],
         "y": [
          0.12396345172219234,
          0.20121018494883933,
          null
         ]
        },
        {
         "hoverinfo": "none",
         "line": {
          "color": "#888",
          "width": 7.218279968100896
         },
         "mode": "lines",
         "type": "scatter",
         "x": [
          0.05978222685416067,
          0.017232177533891113,
          null
         ],
         "y": [
          0.12396345172219234,
          0.09131991431884356,
          null
         ]
        },
        {
         "hoverinfo": "none",
         "line": {
          "color": "#888",
          "width": 7.320277688128186
         },
         "mode": "lines",
         "type": "scatter",
         "x": [
          0.05978222685416067,
          0.013561862877167664,
          null
         ],
         "y": [
          0.12396345172219234,
          0.17551807275259812,
          null
         ]
        },
        {
         "hoverinfo": "none",
         "line": {
          "color": "#888",
          "width": 7.187658965857098
         },
         "mode": "lines",
         "type": "scatter",
         "x": [
          0.06190168719275233,
          0.06882186507966723,
          null
         ],
         "y": [
          0.058304571013040554,
          0.004141447594331741,
          null
         ]
        },
        {
         "hoverinfo": "none",
         "line": {
          "color": "#888",
          "width": 9.07758517446786
         },
         "mode": "lines",
         "type": "scatter",
         "x": [
          0.06190168719275233,
          0.09216181759457787,
          null
         ],
         "y": [
          0.058304571013040554,
          0.07357703255562317,
          null
         ]
        },
        {
         "hoverinfo": "none",
         "line": {
          "color": "#888",
          "width": 7.268057712672153
         },
         "mode": "lines",
         "type": "scatter",
         "x": [
          0.06190168719275233,
          0.030030690307780602,
          null
         ],
         "y": [
          0.058304571013040554,
          0.056510679734903424,
          null
         ]
        },
        {
         "hoverinfo": "none",
         "line": {
          "color": "#888",
          "width": 7.087980536381564
         },
         "mode": "lines",
         "type": "scatter",
         "x": [
          0.06190168719275233,
          0.06387396726476834,
          null
         ],
         "y": [
          0.058304571013040554,
          0.042945063738044145,
          null
         ]
        },
        {
         "hoverinfo": "none",
         "line": {
          "color": "#888",
          "width": 7.572415899041314
         },
         "mode": "lines",
         "type": "scatter",
         "x": [
          0.05729585053501123,
          0.03231680787709909,
          null
         ],
         "y": [
          -0.04313670291908785,
          -0.06235440486400408,
          null
         ]
        },
        {
         "hoverinfo": "none",
         "line": {
          "color": "#888",
          "width": 7.757648912570109
         },
         "mode": "lines",
         "type": "scatter",
         "x": [
          0.05729585053501123,
          0.06337133714875767,
          null
         ],
         "y": [
          -0.04313670291908785,
          -0.04631437006244878,
          null
         ]
        },
        {
         "hoverinfo": "none",
         "line": {
          "color": "#888",
          "width": 7.529342501343422
         },
         "mode": "lines",
         "type": "scatter",
         "x": [
          0.05729585053501123,
          0.047591032020469465,
          null
         ],
         "y": [
          -0.04313670291908785,
          -0.03311958601746846,
          null
         ]
        },
        {
         "hoverinfo": "none",
         "line": {
          "color": "#888",
          "width": 7.140981032740798
         },
         "mode": "lines",
         "type": "scatter",
         "x": [
          0.05729585053501123,
          0.05797524860978553,
          null
         ],
         "y": [
          -0.04313670291908785,
          -0.02918817069244344,
          null
         ]
        },
        {
         "hoverinfo": "none",
         "line": {
          "color": "#888",
          "width": 7.649550271856976
         },
         "mode": "lines",
         "type": "scatter",
         "x": [
          0.05729585053501123,
          0.043365958100558266,
          null
         ],
         "y": [
          -0.04313670291908785,
          -0.01113046894597532,
          null
         ]
        },
        {
         "hoverinfo": "none",
         "line": {
          "color": "#888",
          "width": 7.132860146115739
         },
         "mode": "lines",
         "type": "scatter",
         "x": [
          0.12294680046022576,
          0.1818088262358094,
          null
         ],
         "y": [
          0.09037289945844768,
          0.1499187997674967,
          null
         ]
        },
        {
         "hoverinfo": "none",
         "line": {
          "color": "#888",
          "width": 7.115538389426601
         },
         "mode": "lines",
         "type": "scatter",
         "x": [
          0.12294680046022576,
          0.10226301230966095,
          null
         ],
         "y": [
          0.09037289945844768,
          0.030967046761183767,
          null
         ]
        },
        {
         "hoverinfo": "none",
         "line": {
          "color": "#888",
          "width": 7.298813860498493
         },
         "mode": "lines",
         "type": "scatter",
         "x": [
          0.10226301230966095,
          0.1304274871602375,
          null
         ],
         "y": [
          0.030967046761183767,
          -0.023746255263806137,
          null
         ]
        },
        {
         "hoverinfo": "none",
         "line": {
          "color": "#888",
          "width": 7.169268334265309
         },
         "mode": "lines",
         "type": "scatter",
         "x": [
          0.10226301230966095,
          0.09723806063632065,
          null
         ],
         "y": [
          0.030967046761183767,
          0.013264870685033976,
          null
         ]
        },
        {
         "hoverinfo": "none",
         "line": {
          "color": "#888",
          "width": 7.051626385918354
         },
         "mode": "lines",
         "type": "scatter",
         "x": [
          0.10226301230966095,
          0.06337133714875767,
          null
         ],
         "y": [
          0.030967046761183767,
          -0.04631437006244878,
          null
         ]
        },
        {
         "hoverinfo": "none",
         "line": {
          "color": "#888",
          "width": 7.160391838197255
         },
         "mode": "lines",
         "type": "scatter",
         "x": [
          0.10226301230966095,
          0.07240371276515907,
          null
         ],
         "y": [
          0.030967046761183767,
          0.010354016717386371,
          null
         ]
        },
        {
         "hoverinfo": "none",
         "line": {
          "color": "#888",
          "width": 8.14202621468796
         },
         "mode": "lines",
         "type": "scatter",
         "x": [
          0.10226301230966095,
          0.11987650421985169,
          null
         ],
         "y": [
          0.030967046761183767,
          -0.015704242855209875,
          null
         ]
        },
        {
         "hoverinfo": "none",
         "line": {
          "color": "#888",
          "width": 7.0829842272952135
         },
         "mode": "lines",
         "type": "scatter",
         "x": [
          0.06468537251505271,
          0.057379303598770866,
          null
         ],
         "y": [
          0.023662195868131664,
          0.019579423949201365,
          null
         ]
        },
        {
         "hoverinfo": "none",
         "line": {
          "color": "#888",
          "width": 7.145627291214936
         },
         "mode": "lines",
         "type": "scatter",
         "x": [
          0.06468537251505271,
          0.035520716994915845,
          null
         ],
         "y": [
          0.023662195868131664,
          0.00029598348700220147,
          null
         ]
        },
        {
         "hoverinfo": "none",
         "line": {
          "color": "#888",
          "width": 7.596903195070511
         },
         "mode": "lines",
         "type": "scatter",
         "x": [
          0.06468537251505271,
          0.05631391082707372,
          null
         ],
         "y": [
          0.023662195868131664,
          0.011326749686911029,
          null
         ]
        },
        {
         "hoverinfo": "none",
         "line": {
          "color": "#888",
          "width": 7.525698061827634
         },
         "mode": "lines",
         "type": "scatter",
         "x": [
          0.06468537251505271,
          0.05677913646293775,
          null
         ],
         "y": [
          0.023662195868131664,
          0.024691956360039784,
          null
         ]
        },
        {
         "hoverinfo": "none",
         "line": {
          "color": "#888",
          "width": 7.079176745828965
         },
         "mode": "lines",
         "type": "scatter",
         "x": [
          0.06468537251505271,
          0.05296089611075171,
          null
         ],
         "y": [
          0.023662195868131664,
          0.0291410783850021,
          null
         ]
        },
        {
         "hoverinfo": "none",
         "line": {
          "color": "#888",
          "width": 7.290829708199763
         },
         "mode": "lines",
         "type": "scatter",
         "x": [
          0.06468537251505271,
          0.02906045571634478,
          null
         ],
         "y": [
          0.023662195868131664,
          0.025702062157286484,
          null
         ]
        },
        {
         "hoverinfo": "none",
         "line": {
          "color": "#888",
          "width": 7.4820197081112365
         },
         "mode": "lines",
         "type": "scatter",
         "x": [
          0.06468537251505271,
          0.05167761610956777,
          null
         ],
         "y": [
          0.023662195868131664,
          -0.025632995988194535,
          null
         ]
        },
        {
         "hoverinfo": "none",
         "line": {
          "color": "#888",
          "width": 7.237445528118068
         },
         "mode": "lines",
         "type": "scatter",
         "x": [
          0.06468537251505271,
          0.08778325327448383,
          null
         ],
         "y": [
          0.023662195868131664,
          0.060562243849421854,
          null
         ]
        },
        {
         "hoverinfo": "none",
         "line": {
          "color": "#888",
          "width": 7.1457639620147315
         },
         "mode": "lines",
         "type": "scatter",
         "x": [
          0.06468537251505271,
          0.04424926983059967,
          null
         ],
         "y": [
          0.023662195868131664,
          0.009245192588423365,
          null
         ]
        },
        {
         "hoverinfo": "none",
         "line": {
          "color": "#888",
          "width": 7.053544382171024
         },
         "mode": "lines",
         "type": "scatter",
         "x": [
          0.06468537251505271,
          0.035123113123913655,
          null
         ],
         "y": [
          0.023662195868131664,
          -0.015184046650287686,
          null
         ]
        },
        {
         "hoverinfo": "none",
         "line": {
          "color": "#888",
          "width": 7.520473538221998
         },
         "mode": "lines",
         "type": "scatter",
         "x": [
          0.06468537251505271,
          0.038354719562571304,
          null
         ],
         "y": [
          0.023662195868131664,
          0.004161903113501472,
          null
         ]
        },
        {
         "hoverinfo": "none",
         "line": {
          "color": "#888",
          "width": 7.0276322320005065
         },
         "mode": "lines",
         "type": "scatter",
         "x": [
          0.06468537251505271,
          0.017232177533891113,
          null
         ],
         "y": [
          0.023662195868131664,
          0.09131991431884356,
          null
         ]
        },
        {
         "hoverinfo": "none",
         "line": {
          "color": "#888",
          "width": 7.369943954405558
         },
         "mode": "lines",
         "type": "scatter",
         "x": [
          0.06468537251505271,
          0.05167935923112888,
          null
         ],
         "y": [
          0.023662195868131664,
          0.007531767395388412,
          null
         ]
        },
        {
         "hoverinfo": "none",
         "line": {
          "color": "#888",
          "width": 7.265526318864598
         },
         "mode": "lines",
         "type": "scatter",
         "x": [
          0.06468537251505271,
          0.05797524860978553,
          null
         ],
         "y": [
          0.023662195868131664,
          -0.02918817069244344,
          null
         ]
        },
        {
         "hoverinfo": "none",
         "line": {
          "color": "#888",
          "width": 7.075122919134307
         },
         "mode": "lines",
         "type": "scatter",
         "x": [
          0.06468537251505271,
          0.043365958100558266,
          null
         ],
         "y": [
          0.023662195868131664,
          -0.01113046894597532,
          null
         ]
        },
        {
         "hoverinfo": "none",
         "line": {
          "color": "#888",
          "width": 7.208691232515617
         },
         "mode": "lines",
         "type": "scatter",
         "x": [
          0.05631391082707372,
          0.03231680787709909,
          null
         ],
         "y": [
          0.011326749686911029,
          -0.06235440486400408,
          null
         ]
        },
        {
         "hoverinfo": "none",
         "line": {
          "color": "#888",
          "width": 7.12998946856627
         },
         "mode": "lines",
         "type": "scatter",
         "x": [
          0.05631391082707372,
          0.035520716994915845,
          null
         ],
         "y": [
          0.011326749686911029,
          0.00029598348700220147,
          null
         ]
        },
        {
         "hoverinfo": "none",
         "line": {
          "color": "#888",
          "width": 7.5185347865301075
         },
         "mode": "lines",
         "type": "scatter",
         "x": [
          0.05631391082707372,
          0.051668100730155764,
          null
         ],
         "y": [
          0.011326749686911029,
          0.055343590458516626,
          null
         ]
        },
        {
         "hoverinfo": "none",
         "line": {
          "color": "#888",
          "width": 7.805082652856513
         },
         "mode": "lines",
         "type": "scatter",
         "x": [
          0.05631391082707372,
          0.05677913646293775,
          null
         ],
         "y": [
          0.011326749686911029,
          0.024691956360039784,
          null
         ]
        },
        {
         "hoverinfo": "none",
         "line": {
          "color": "#888",
          "width": 7.37573619138911
         },
         "mode": "lines",
         "type": "scatter",
         "x": [
          0.05631391082707372,
          0.05296089611075171,
          null
         ],
         "y": [
          0.011326749686911029,
          0.0291410783850021,
          null
         ]
        },
        {
         "hoverinfo": "none",
         "line": {
          "color": "#888",
          "width": 7.485190592522675
         },
         "mode": "lines",
         "type": "scatter",
         "x": [
          0.05631391082707372,
          0.02906045571634478,
          null
         ],
         "y": [
          0.011326749686911029,
          0.025702062157286484,
          null
         ]
        },
        {
         "hoverinfo": "none",
         "line": {
          "color": "#888",
          "width": 7.159652218726661
         },
         "mode": "lines",
         "type": "scatter",
         "x": [
          0.05631391082707372,
          0.09723806063632065,
          null
         ],
         "y": [
          0.011326749686911029,
          0.013264870685033976,
          null
         ]
        },
        {
         "hoverinfo": "none",
         "line": {
          "color": "#888",
          "width": 7.06467253864259
         },
         "mode": "lines",
         "type": "scatter",
         "x": [
          0.05631391082707372,
          0.08778325327448383,
          null
         ],
         "y": [
          0.011326749686911029,
          0.060562243849421854,
          null
         ]
        },
        {
         "hoverinfo": "none",
         "line": {
          "color": "#888",
          "width": 7.601293887260518
         },
         "mode": "lines",
         "type": "scatter",
         "x": [
          0.05631391082707372,
          0.04424926983059967,
          null
         ],
         "y": [
          0.011326749686911029,
          0.009245192588423365,
          null
         ]
        },
        {
         "hoverinfo": "none",
         "line": {
          "color": "#888",
          "width": 7.771660282347642
         },
         "mode": "lines",
         "type": "scatter",
         "x": [
          0.05631391082707372,
          0.035123113123913655,
          null
         ],
         "y": [
          0.011326749686911029,
          -0.015184046650287686,
          null
         ]
        },
        {
         "hoverinfo": "none",
         "line": {
          "color": "#888",
          "width": 7.049683722704662
         },
         "mode": "lines",
         "type": "scatter",
         "x": [
          0.05631391082707372,
          0.021348718231508915,
          null
         ],
         "y": [
          0.011326749686911029,
          0.012451826275459169,
          null
         ]
        },
        {
         "hoverinfo": "none",
         "line": {
          "color": "#888",
          "width": 7.347631424669279
         },
         "mode": "lines",
         "type": "scatter",
         "x": [
          0.05631391082707372,
          -0.00895086760387737,
          null
         ],
         "y": [
          0.011326749686911029,
          -0.031482307904742456,
          null
         ]
        },
        {
         "hoverinfo": "none",
         "line": {
          "color": "#888",
          "width": 7.055798518057502
         },
         "mode": "lines",
         "type": "scatter",
         "x": [
          0.05631391082707372,
          0.07240371276515907,
          null
         ],
         "y": [
          0.011326749686911029,
          0.010354016717386371,
          null
         ]
        },
        {
         "hoverinfo": "none",
         "line": {
          "color": "#888",
          "width": 7.361301717567028
         },
         "mode": "lines",
         "type": "scatter",
         "x": [
          0.05631391082707372,
          0.038354719562571304,
          null
         ],
         "y": [
          0.011326749686911029,
          0.004161903113501472,
          null
         ]
        },
        {
         "hoverinfo": "none",
         "line": {
          "color": "#888",
          "width": 7.776191089182661
         },
         "mode": "lines",
         "type": "scatter",
         "x": [
          0.05631391082707372,
          0.047591032020469465,
          null
         ],
         "y": [
          0.011326749686911029,
          -0.03311958601746846,
          null
         ]
        },
        {
         "hoverinfo": "none",
         "line": {
          "color": "#888",
          "width": 7.2501077480749
         },
         "mode": "lines",
         "type": "scatter",
         "x": [
          0.05631391082707372,
          0.05797524860978553,
          null
         ],
         "y": [
          0.011326749686911029,
          -0.02918817069244344,
          null
         ]
        },
        {
         "hoverinfo": "none",
         "line": {
          "color": "#888",
          "width": 7.585011277543145
         },
         "mode": "lines",
         "type": "scatter",
         "x": [
          0.05631391082707372,
          0.043365958100558266,
          null
         ],
         "y": [
          0.011326749686911029,
          -0.01113046894597532,
          null
         ]
        },
        {
         "hoverinfo": "none",
         "line": {
          "color": "#888",
          "width": 7.006826703865241
         },
         "mode": "lines",
         "type": "scatter",
         "x": [
          0.05631391082707372,
          0.06387396726476834,
          null
         ],
         "y": [
          0.011326749686911029,
          0.042945063738044145,
          null
         ]
        },
        {
         "hoverinfo": "none",
         "line": {
          "color": "#888",
          "width": 7.263536048530157
         },
         "mode": "lines",
         "type": "scatter",
         "x": [
          0.05631391082707372,
          0.04047227523908738,
          null
         ],
         "y": [
          0.011326749686911029,
          0.061441597952245686,
          null
         ]
        },
        {
         "hoverinfo": "none",
         "line": {
          "color": "#888",
          "width": 7.353134834007825
         },
         "mode": "lines",
         "type": "scatter",
         "x": [
          0.05677913646293775,
          0.057379303598770866,
          null
         ],
         "y": [
          0.024691956360039784,
          0.019579423949201365,
          null
         ]
        },
        {
         "hoverinfo": "none",
         "line": {
          "color": "#888",
          "width": 7.07250566873569
         },
         "mode": "lines",
         "type": "scatter",
         "x": [
          0.05677913646293775,
          0.052206110448011205,
          null
         ],
         "y": [
          0.024691956360039784,
          0.00015984234615206526,
          null
         ]
        },
        {
         "hoverinfo": "none",
         "line": {
          "color": "#888",
          "width": 7.2292319023650595
         },
         "mode": "lines",
         "type": "scatter",
         "x": [
          0.05677913646293775,
          0.08825571190945383,
          null
         ],
         "y": [
          0.024691956360039784,
          0.11567837116969039,
          null
         ]
        },
        {
         "hoverinfo": "none",
         "line": {
          "color": "#888",
          "width": 7.063764245936451
         },
         "mode": "lines",
         "type": "scatter",
         "x": [
          0.05677913646293775,
          0.035520716994915845,
          null
         ],
         "y": [
          0.024691956360039784,
          0.00029598348700220147,
          null
         ]
        },
        {
         "hoverinfo": "none",
         "line": {
          "color": "#888",
          "width": 7.029056939844548
         },
         "mode": "lines",
         "type": "scatter",
         "x": [
          0.05677913646293775,
          0.08332396253443919,
          null
         ],
         "y": [
          0.024691956360039784,
          0.01232482248712961,
          null
         ]
        },
        {
         "hoverinfo": "none",
         "line": {
          "color": "#888",
          "width": 7.10398435605394
         },
         "mode": "lines",
         "type": "scatter",
         "x": [
          0.05677913646293775,
          0.02906045571634478,
          null
         ],
         "y": [
          0.024691956360039784,
          0.025702062157286484,
          null
         ]
        },
        {
         "hoverinfo": "none",
         "line": {
          "color": "#888",
          "width": 7.083075611831575
         },
         "mode": "lines",
         "type": "scatter",
         "x": [
          0.05677913646293775,
          0.07496641350674887,
          null
         ],
         "y": [
          0.024691956360039784,
          0.02975290141076397,
          null
         ]
        },
        {
         "hoverinfo": "none",
         "line": {
          "color": "#888",
          "width": 7.823944748887701
         },
         "mode": "lines",
         "type": "scatter",
         "x": [
          0.05677913646293775,
          0.09723806063632065,
          null
         ],
         "y": [
          0.024691956360039784,
          0.013264870685033976,
          null
         ]
        },
        {
         "hoverinfo": "none",
         "line": {
          "color": "#888",
          "width": 7.650376433569658
         },
         "mode": "lines",
         "type": "scatter",
         "x": [
          0.05677913646293775,
          0.08778325327448383,
          null
         ],
         "y": [
          0.024691956360039784,
          0.060562243849421854,
          null
         ]
        },
        {
         "hoverinfo": "none",
         "line": {
          "color": "#888",
          "width": 7.321828057649834
         },
         "mode": "lines",
         "type": "scatter",
         "x": [
          0.05677913646293775,
          0.04424926983059967,
          null
         ],
         "y": [
          0.024691956360039784,
          0.009245192588423365,
          null
         ]
        },
        {
         "hoverinfo": "none",
         "line": {
          "color": "#888",
          "width": 7.471599535624847
         },
         "mode": "lines",
         "type": "scatter",
         "x": [
          0.05677913646293775,
          0.035123113123913655,
          null
         ],
         "y": [
          0.024691956360039784,
          -0.015184046650287686,
          null
         ]
        },
        {
         "hoverinfo": "none",
         "line": {
          "color": "#888",
          "width": 7.07030446055697
         },
         "mode": "lines",
         "type": "scatter",
         "x": [
          0.05677913646293775,
          0.021348718231508915,
          null
         ],
         "y": [
          0.024691956360039784,
          0.012451826275459169,
          null
         ]
        },
        {
         "hoverinfo": "none",
         "line": {
          "color": "#888",
          "width": 7.198700124303334
         },
         "mode": "lines",
         "type": "scatter",
         "x": [
          0.05677913646293775,
          -0.00895086760387737,
          null
         ],
         "y": [
          0.024691956360039784,
          -0.031482307904742456,
          null
         ]
        },
        {
         "hoverinfo": "none",
         "line": {
          "color": "#888",
          "width": 7.979504660943396
         },
         "mode": "lines",
         "type": "scatter",
         "x": [
          0.05677913646293775,
          0.07240371276515907,
          null
         ],
         "y": [
          0.024691956360039784,
          0.010354016717386371,
          null
         ]
        },
        {
         "hoverinfo": "none",
         "line": {
          "color": "#888",
          "width": 7.681999525071822
         },
         "mode": "lines",
         "type": "scatter",
         "x": [
          0.05677913646293775,
          0.07716961454395974,
          null
         ],
         "y": [
          0.024691956360039784,
          0.04516494341131238,
          null
         ]
        },
        {
         "hoverinfo": "none",
         "line": {
          "color": "#888",
          "width": 7.457803852245126
         },
         "mode": "lines",
         "type": "scatter",
         "x": [
          0.05677913646293775,
          0.025948658291624793,
          null
         ],
         "y": [
          0.024691956360039784,
          0.021254089073911894,
          null
         ]
        },
        {
         "hoverinfo": "none",
         "line": {
          "color": "#888",
          "width": 7.953610721268013
         },
         "mode": "lines",
         "type": "scatter",
         "x": [
          0.05677913646293775,
          0.038354719562571304,
          null
         ],
         "y": [
          0.024691956360039784,
          0.004161903113501472,
          null
         ]
        },
        {
         "hoverinfo": "none",
         "line": {
          "color": "#888",
          "width": 7.401074495738589
         },
         "mode": "lines",
         "type": "scatter",
         "x": [
          0.05677913646293775,
          0.03219278187344018,
          null
         ],
         "y": [
          0.024691956360039784,
          0.0061149754035917,
          null
         ]
        },
        {
         "hoverinfo": "none",
         "line": {
          "color": "#888",
          "width": 7.1457309592359
         },
         "mode": "lines",
         "type": "scatter",
         "x": [
          0.05677913646293775,
          0.047591032020469465,
          null
         ],
         "y": [
          0.024691956360039784,
          -0.03311958601746846,
          null
         ]
        },
        {
         "hoverinfo": "none",
         "line": {
          "color": "#888",
          "width": 7.889552141218155
         },
         "mode": "lines",
         "type": "scatter",
         "x": [
          0.05677913646293775,
          0.05167935923112888,
          null
         ],
         "y": [
          0.024691956360039784,
          0.007531767395388412,
          null
         ]
        },
        {
         "hoverinfo": "none",
         "line": {
          "color": "#888",
          "width": 7.125278871513437
         },
         "mode": "lines",
         "type": "scatter",
         "x": [
          0.05677913646293775,
          0.09811073802498937,
          null
         ],
         "y": [
          0.024691956360039784,
          0.08160896415583327,
          null
         ]
        },
        {
         "hoverinfo": "none",
         "line": {
          "color": "#888",
          "width": 7.4168295183885675
         },
         "mode": "lines",
         "type": "scatter",
         "x": [
          0.05677913646293775,
          0.05797524860978553,
          null
         ],
         "y": [
          0.024691956360039784,
          -0.02918817069244344,
          null
         ]
        },
        {
         "hoverinfo": "none",
         "line": {
          "color": "#888",
          "width": 7.05365087784465
         },
         "mode": "lines",
         "type": "scatter",
         "x": [
          0.05677913646293775,
          0.043365958100558266,
          null
         ],
         "y": [
          0.024691956360039784,
          -0.01113046894597532,
          null
         ]
        },
        {
         "hoverinfo": "none",
         "line": {
          "color": "#888",
          "width": 7.353634010001805
         },
         "mode": "lines",
         "type": "scatter",
         "x": [
          0.05677913646293775,
          0.04047227523908738,
          null
         ],
         "y": [
          0.024691956360039784,
          0.061441597952245686,
          null
         ]
        },
        {
         "hoverinfo": "none",
         "line": {
          "color": "#888",
          "width": 7.023871743111943
         },
         "mode": "lines",
         "type": "scatter",
         "x": [
          0.08778325327448383,
          0.07240371276515907,
          null
         ],
         "y": [
          0.060562243849421854,
          0.010354016717386371,
          null
         ]
        },
        {
         "hoverinfo": "none",
         "line": {
          "color": "#888",
          "width": 7.159498446388706
         },
         "mode": "lines",
         "type": "scatter",
         "x": [
          0.035123113123913655,
          0.03231680787709909,
          null
         ],
         "y": [
          -0.015184046650287686,
          -0.06235440486400408,
          null
         ]
        },
        {
         "hoverinfo": "none",
         "line": {
          "color": "#888",
          "width": 7.721062994270985
         },
         "mode": "lines",
         "type": "scatter",
         "x": [
          0.035123113123913655,
          0.035520716994915845,
          null
         ],
         "y": [
          -0.015184046650287686,
          0.00029598348700220147,
          null
         ]
        },
        {
         "hoverinfo": "none",
         "line": {
          "color": "#888",
          "width": 7.577401599616685
         },
         "mode": "lines",
         "type": "scatter",
         "x": [
          0.035123113123913655,
          0.0028299264442905783,
          null
         ],
         "y": [
          -0.015184046650287686,
          -0.04951886302089961,
          null
         ]
        },
        {
         "hoverinfo": "none",
         "line": {
          "color": "#888",
          "width": 7.719544503446506
         },
         "mode": "lines",
         "type": "scatter",
         "x": [
          0.035123113123913655,
          -0.01863485886815755,
          null
         ],
         "y": [
          -0.015184046650287686,
          -0.05730809112513908,
          null
         ]
        },
        {
         "hoverinfo": "none",
         "line": {
          "color": "#888",
          "width": 8.002803214312976
         },
         "mode": "lines",
         "type": "scatter",
         "x": [
          0.035123113123913655,
          0.05167761610956777,
          null
         ],
         "y": [
          -0.015184046650287686,
          -0.025632995988194535,
          null
         ]
        },
        {
         "hoverinfo": "none",
         "line": {
          "color": "#888",
          "width": 7.418981680353937
         },
         "mode": "lines",
         "type": "scatter",
         "x": [
          0.035123113123913655,
          0.04424926983059967,
          null
         ],
         "y": [
          -0.015184046650287686,
          0.009245192588423365,
          null
         ]
        },
        {
         "hoverinfo": "none",
         "line": {
          "color": "#888",
          "width": 7.749073349244059
         },
         "mode": "lines",
         "type": "scatter",
         "x": [
          0.035123113123913655,
          0.021348718231508915,
          null
         ],
         "y": [
          -0.015184046650287686,
          0.012451826275459169,
          null
         ]
        },
        {
         "hoverinfo": "none",
         "line": {
          "color": "#888",
          "width": 7.084479946227989
         },
         "mode": "lines",
         "type": "scatter",
         "x": [
          0.035123113123913655,
          -0.00895086760387737,
          null
         ],
         "y": [
          -0.015184046650287686,
          -0.031482307904742456,
          null
         ]
        },
        {
         "hoverinfo": "none",
         "line": {
          "color": "#888",
          "width": 7.313973197768272
         },
         "mode": "lines",
         "type": "scatter",
         "x": [
          0.035123113123913655,
          0.06337133714875767,
          null
         ],
         "y": [
          -0.015184046650287686,
          -0.04631437006244878,
          null
         ]
        },
        {
         "hoverinfo": "none",
         "line": {
          "color": "#888",
          "width": 7.495505027332103
         },
         "mode": "lines",
         "type": "scatter",
         "x": [
          0.035123113123913655,
          0.0338162313079326,
          null
         ],
         "y": [
          -0.015184046650287686,
          -0.07176514941812688,
          null
         ]
        },
        {
         "hoverinfo": "none",
         "line": {
          "color": "#888",
          "width": 7.022597212617175
         },
         "mode": "lines",
         "type": "scatter",
         "x": [
          0.035123113123913655,
          0.02316199970847503,
          null
         ],
         "y": [
          -0.015184046650287686,
          0.008806188342982607,
          null
         ]
        },
        {
         "hoverinfo": "none",
         "line": {
          "color": "#888",
          "width": 7.5888404285167566
         },
         "mode": "lines",
         "type": "scatter",
         "x": [
          0.035123113123913655,
          0.03595241185748016,
          null
         ],
         "y": [
          -0.015184046650287686,
          -0.06510033331754936,
          null
         ]
        },
        {
         "hoverinfo": "none",
         "line": {
          "color": "#888",
          "width": 7.809116982328522
         },
         "mode": "lines",
         "type": "scatter",
         "x": [
          0.035123113123913655,
          0.038354719562571304,
          null
         ],
         "y": [
          -0.015184046650287686,
          0.004161903113501472,
          null
         ]
        },
        {
         "hoverinfo": "none",
         "line": {
          "color": "#888",
          "width": 7.901139152917223
         },
         "mode": "lines",
         "type": "scatter",
         "x": [
          0.035123113123913655,
          0.047591032020469465,
          null
         ],
         "y": [
          -0.015184046650287686,
          -0.03311958601746846,
          null
         ]
        },
        {
         "hoverinfo": "none",
         "line": {
          "color": "#888",
          "width": 7.579333200826724
         },
         "mode": "lines",
         "type": "scatter",
         "x": [
          0.035123113123913655,
          0.05797524860978553,
          null
         ],
         "y": [
          -0.015184046650287686,
          -0.02918817069244344,
          null
         ]
        },
        {
         "hoverinfo": "none",
         "line": {
          "color": "#888",
          "width": 7.314476898236498
         },
         "mode": "lines",
         "type": "scatter",
         "x": [
          0.035123113123913655,
          0.043365958100558266,
          null
         ],
         "y": [
          -0.015184046650287686,
          -0.01113046894597532,
          null
         ]
        },
        {
         "hoverinfo": "none",
         "line": {
          "color": "#888",
          "width": 7.484246409840107
         },
         "mode": "lines",
         "type": "scatter",
         "x": [
          0.035123113123913655,
          0.04047227523908738,
          null
         ],
         "y": [
          -0.015184046650287686,
          0.061441597952245686,
          null
         ]
        },
        {
         "hoverinfo": "none",
         "line": {
          "color": "#888",
          "width": 7.332218694900776
         },
         "mode": "lines",
         "type": "scatter",
         "x": [
          0.07240371276515907,
          0.06372455829418262,
          null
         ],
         "y": [
          0.010354016717386371,
          0.006396233475824237,
          null
         ]
        },
        {
         "hoverinfo": "none",
         "line": {
          "color": "#888",
          "width": 7.471767330042523
         },
         "mode": "lines",
         "type": "scatter",
         "x": [
          0.07240371276515907,
          0.035520716994915845,
          null
         ],
         "y": [
          0.010354016717386371,
          0.00029598348700220147,
          null
         ]
        },
        {
         "hoverinfo": "none",
         "line": {
          "color": "#888",
          "width": 7.458859017267234
         },
         "mode": "lines",
         "type": "scatter",
         "x": [
          0.07240371276515907,
          0.08332396253443919,
          null
         ],
         "y": [
          0.010354016717386371,
          0.01232482248712961,
          null
         ]
        },
        {
         "hoverinfo": "none",
         "line": {
          "color": "#888",
          "width": 7.843323258883216
         },
         "mode": "lines",
         "type": "scatter",
         "x": [
          0.07240371276515907,
          0.09723806063632065,
          null
         ],
         "y": [
          0.010354016717386371,
          0.013264870685033976,
          null
         ]
        },
        {
         "hoverinfo": "none",
         "line": {
          "color": "#888",
          "width": 7.26101522679517
         },
         "mode": "lines",
         "type": "scatter",
         "x": [
          0.07240371276515907,
          0.04424926983059967,
          null
         ],
         "y": [
          0.010354016717386371,
          0.009245192588423365,
          null
         ]
        },
        {
         "hoverinfo": "none",
         "line": {
          "color": "#888",
          "width": 7.227946987287671
         },
         "mode": "lines",
         "type": "scatter",
         "x": [
          0.07240371276515907,
          0.07716961454395974,
          null
         ],
         "y": [
          0.010354016717386371,
          0.04516494341131238,
          null
         ]
        },
        {
         "hoverinfo": "none",
         "line": {
          "color": "#888",
          "width": 7.394793365882273
         },
         "mode": "lines",
         "type": "scatter",
         "x": [
          0.07240371276515907,
          0.025948658291624793,
          null
         ],
         "y": [
          0.010354016717386371,
          0.021254089073911894,
          null
         ]
        },
        {
         "hoverinfo": "none",
         "line": {
          "color": "#888",
          "width": 7.173517091233816
         },
         "mode": "lines",
         "type": "scatter",
         "x": [
          0.07240371276515907,
          0.038354719562571304,
          null
         ],
         "y": [
          0.010354016717386371,
          0.004161903113501472,
          null
         ]
        },
        {
         "hoverinfo": "none",
         "line": {
          "color": "#888",
          "width": 7.074059247936427
         },
         "mode": "lines",
         "type": "scatter",
         "x": [
          0.07240371276515907,
          0.047591032020469465,
          null
         ],
         "y": [
          0.010354016717386371,
          -0.03311958601746846,
          null
         ]
        },
        {
         "hoverinfo": "none",
         "line": {
          "color": "#888",
          "width": 7.168178049295072
         },
         "mode": "lines",
         "type": "scatter",
         "x": [
          0.07240371276515907,
          0.05167935923112888,
          null
         ],
         "y": [
          0.010354016717386371,
          0.007531767395388412,
          null
         ]
        },
        {
         "hoverinfo": "none",
         "line": {
          "color": "#888",
          "width": 7.02189813751961
         },
         "mode": "lines",
         "type": "scatter",
         "x": [
          0.07240371276515907,
          0.11987650421985169,
          null
         ],
         "y": [
          0.010354016717386371,
          -0.015704242855209875,
          null
         ]
        },
        {
         "hoverinfo": "none",
         "line": {
          "color": "#888",
          "width": 7.292726695145153
         },
         "mode": "lines",
         "type": "scatter",
         "x": [
          0.07240371276515907,
          0.05797524860978553,
          null
         ],
         "y": [
          0.010354016717386371,
          -0.02918817069244344,
          null
         ]
        },
        {
         "hoverinfo": "none",
         "line": {
          "color": "#888",
          "width": 7.077312979419195
         },
         "mode": "lines",
         "type": "scatter",
         "x": [
          0.07240371276515907,
          0.043365958100558266,
          null
         ],
         "y": [
          0.010354016717386371,
          -0.01113046894597532,
          null
         ]
        },
        {
         "hoverinfo": "none",
         "line": {
          "color": "#888",
          "width": 7.193772284020371
         },
         "mode": "lines",
         "type": "scatter",
         "x": [
          0.07716961454395974,
          0.09723806063632065,
          null
         ],
         "y": [
          0.04516494341131238,
          0.013264870685033976,
          null
         ]
        },
        {
         "hoverinfo": "none",
         "line": {
          "color": "#888",
          "width": 7.023948863927228
         },
         "mode": "lines",
         "type": "scatter",
         "x": [
          0.07716961454395974,
          0.025948658291624793,
          null
         ],
         "y": [
          0.04516494341131238,
          0.021254089073911894,
          null
         ]
        },
        {
         "hoverinfo": "none",
         "line": {
          "color": "#888",
          "width": 7.195401641007651
         },
         "mode": "lines",
         "type": "scatter",
         "x": [
          0.1597792388995273,
          0.17238479067461893,
          null
         ],
         "y": [
          -0.018399572795810327,
          -0.09170918839837777,
          null
         ]
        },
        {
         "hoverinfo": "none",
         "line": {
          "color": "#888",
          "width": 7.759182745992254
         },
         "mode": "lines",
         "type": "scatter",
         "x": [
          0.1597792388995273,
          0.0978715356531529,
          null
         ],
         "y": [
          -0.018399572795810327,
          -0.025254029703898704,
          null
         ]
        },
        {
         "hoverinfo": "none",
         "line": {
          "color": "#888",
          "width": 7.053397455736539
         },
         "mode": "lines",
         "type": "scatter",
         "x": [
          0.21351651387203968,
          0.30470080784132936,
          null
         ],
         "y": [
          0.08200571153532862,
          0.11860534981430924,
          null
         ]
        },
        {
         "hoverinfo": "none",
         "line": {
          "color": "#888",
          "width": 8.788741095969488
         },
         "mode": "lines",
         "type": "scatter",
         "x": [
          0.047591032020469465,
          0.03231680787709909,
          null
         ],
         "y": [
          -0.03311958601746846,
          -0.06235440486400408,
          null
         ]
        },
        {
         "hoverinfo": "none",
         "line": {
          "color": "#888",
          "width": 7.4172786206982355
         },
         "mode": "lines",
         "type": "scatter",
         "x": [
          0.047591032020469465,
          0.0028299264442905783,
          null
         ],
         "y": [
          -0.03311958601746846,
          -0.04951886302089961,
          null
         ]
        },
        {
         "hoverinfo": "none",
         "line": {
          "color": "#888",
          "width": 7.619812573405664
         },
         "mode": "lines",
         "type": "scatter",
         "x": [
          0.047591032020469465,
          0.08332396253443919,
          null
         ],
         "y": [
          -0.03311958601746846,
          0.01232482248712961,
          null
         ]
        },
        {
         "hoverinfo": "none",
         "line": {
          "color": "#888",
          "width": 7.672715548545527
         },
         "mode": "lines",
         "type": "scatter",
         "x": [
          0.047591032020469465,
          0.04424926983059967,
          null
         ],
         "y": [
          -0.03311958601746846,
          0.009245192588423365,
          null
         ]
        },
        {
         "hoverinfo": "none",
         "line": {
          "color": "#888",
          "width": 9.010020497591075
         },
         "mode": "lines",
         "type": "scatter",
         "x": [
          0.047591032020469465,
          0.06337133714875767,
          null
         ],
         "y": [
          -0.03311958601746846,
          -0.04631437006244878,
          null
         ]
        },
        {
         "hoverinfo": "none",
         "line": {
          "color": "#888",
          "width": 7.3146378148547235
         },
         "mode": "lines",
         "type": "scatter",
         "x": [
          0.047591032020469465,
          0.0338162313079326,
          null
         ],
         "y": [
          -0.03311958601746846,
          -0.07176514941812688,
          null
         ]
        },
        {
         "hoverinfo": "none",
         "line": {
          "color": "#888",
          "width": 8.779193461090015
         },
         "mode": "lines",
         "type": "scatter",
         "x": [
          0.047591032020469465,
          0.03595241185748016,
          null
         ],
         "y": [
          -0.03311958601746846,
          -0.06510033331754936,
          null
         ]
        },
        {
         "hoverinfo": "none",
         "line": {
          "color": "#888",
          "width": 7.006526218478197
         },
         "mode": "lines",
         "type": "scatter",
         "x": [
          0.047591032020469465,
          0.011484696322364651,
          null
         ],
         "y": [
          -0.03311958601746846,
          -0.10860124716192386,
          null
         ]
        },
        {
         "hoverinfo": "none",
         "line": {
          "color": "#888",
          "width": 7.063062656214728
         },
         "mode": "lines",
         "type": "scatter",
         "x": [
          0.047591032020469465,
          0.06648535126664927,
          null
         ],
         "y": [
          -0.03311958601746846,
          -0.10392237069397221,
          null
         ]
        },
        {
         "hoverinfo": "none",
         "line": {
          "color": "#888",
          "width": 7.207848061592039
         },
         "mode": "lines",
         "type": "scatter",
         "x": [
          0.047591032020469465,
          0.038354719562571304,
          null
         ],
         "y": [
          -0.03311958601746846,
          0.004161903113501472,
          null
         ]
        },
        {
         "hoverinfo": "none",
         "line": {
          "color": "#888",
          "width": 8.05719474566034
         },
         "mode": "lines",
         "type": "scatter",
         "x": [
          0.047591032020469465,
          0.05642282583083528,
          null
         ],
         "y": [
          -0.03311958601746846,
          -0.08667362641308393,
          null
         ]
        },
        {
         "hoverinfo": "none",
         "line": {
          "color": "#888",
          "width": 8.681178767541889
         },
         "mode": "lines",
         "type": "scatter",
         "x": [
          0.047591032020469465,
          0.05797524860978553,
          null
         ],
         "y": [
          -0.03311958601746846,
          -0.02918817069244344,
          null
         ]
        },
        {
         "hoverinfo": "none",
         "line": {
          "color": "#888",
          "width": 8.777681880401138
         },
         "mode": "lines",
         "type": "scatter",
         "x": [
          0.047591032020469465,
          0.043365958100558266,
          null
         ],
         "y": [
          -0.03311958601746846,
          -0.01113046894597532,
          null
         ]
        },
        {
         "hoverinfo": "none",
         "line": {
          "color": "#888",
          "width": 7.517032308427086
         },
         "mode": "lines",
         "type": "scatter",
         "x": [
          0.047591032020469465,
          0.03819669390069439,
          null
         ],
         "y": [
          -0.03311958601746846,
          -0.025877116906488973,
          null
         ]
        },
        {
         "hoverinfo": "none",
         "line": {
          "color": "#888",
          "width": 7.10757073434776
         },
         "mode": "lines",
         "type": "scatter",
         "x": [
          0.0978715356531529,
          0.0034714756308578958,
          null
         ],
         "y": [
          -0.025254029703898704,
          0.01590469147723787,
          null
         ]
        },
        {
         "hoverinfo": "none",
         "line": {
          "color": "#888",
          "width": 8.166046899880353
         },
         "mode": "lines",
         "type": "scatter",
         "x": [
          0.05797524860978553,
          0.03231680787709909,
          null
         ],
         "y": [
          -0.02918817069244344,
          -0.06235440486400408,
          null
         ]
        },
        {
         "hoverinfo": "none",
         "line": {
          "color": "#888",
          "width": 7.16737364660395
         },
         "mode": "lines",
         "type": "scatter",
         "x": [
          0.05797524860978553,
          0.08332396253443919,
          null
         ],
         "y": [
          -0.02918817069244344,
          0.01232482248712961,
          null
         ]
        },
        {
         "hoverinfo": "none",
         "line": {
          "color": "#888",
          "width": 7.192792228480672
         },
         "mode": "lines",
         "type": "scatter",
         "x": [
          0.05797524860978553,
          0.07496641350674887,
          null
         ],
         "y": [
          -0.02918817069244344,
          0.02975290141076397,
          null
         ]
        },
        {
         "hoverinfo": "none",
         "line": {
          "color": "#888",
          "width": 7.2162090971900374
         },
         "mode": "lines",
         "type": "scatter",
         "x": [
          0.05797524860978553,
          0.04424926983059967,
          null
         ],
         "y": [
          -0.02918817069244344,
          0.009245192588423365,
          null
         ]
        },
        {
         "hoverinfo": "none",
         "line": {
          "color": "#888",
          "width": 7.209103364199768
         },
         "mode": "lines",
         "type": "scatter",
         "x": [
          0.05797524860978553,
          0.0279606084171437,
          null
         ],
         "y": [
          -0.02918817069244344,
          -0.1326141879330346,
          null
         ]
        },
        {
         "hoverinfo": "none",
         "line": {
          "color": "#888",
          "width": 7.58248033252079
         },
         "mode": "lines",
         "type": "scatter",
         "x": [
          0.05797524860978553,
          0.04143915751569503,
          null
         ],
         "y": [
          -0.02918817069244344,
          -0.10792905474903265,
          null
         ]
        },
        {
         "hoverinfo": "none",
         "line": {
          "color": "#888",
          "width": 8.109709730397526
         },
         "mode": "lines",
         "type": "scatter",
         "x": [
          0.05797524860978553,
          0.06337133714875767,
          null
         ],
         "y": [
          -0.02918817069244344,
          -0.04631437006244878,
          null
         ]
        },
        {
         "hoverinfo": "none",
         "line": {
          "color": "#888",
          "width": 7.737903138175356
         },
         "mode": "lines",
         "type": "scatter",
         "x": [
          0.05797524860978553,
          0.03595241185748016,
          null
         ],
         "y": [
          -0.02918817069244344,
          -0.06510033331754936,
          null
         ]
        },
        {
         "hoverinfo": "none",
         "line": {
          "color": "#888",
          "width": 7.102106016551504
         },
         "mode": "lines",
         "type": "scatter",
         "x": [
          0.05797524860978553,
          0.12128451975148544,
          null
         ],
         "y": [
          -0.02918817069244344,
          -0.029416386135104795,
          null
         ]
        },
        {
         "hoverinfo": "none",
         "line": {
          "color": "#888",
          "width": 7.007432398713477
         },
         "mode": "lines",
         "type": "scatter",
         "x": [
          0.05797524860978553,
          0.05642282583083528,
          null
         ],
         "y": [
          -0.02918817069244344,
          -0.08667362641308393,
          null
         ]
        },
        {
         "hoverinfo": "none",
         "line": {
          "color": "#888",
          "width": 8.045708091638673
         },
         "mode": "lines",
         "type": "scatter",
         "x": [
          0.05797524860978553,
          0.043365958100558266,
          null
         ],
         "y": [
          -0.02918817069244344,
          -0.01113046894597532,
          null
         ]
        },
        {
         "hoverinfo": "none",
         "line": {
          "color": "#888",
          "width": 7.123520454377065
         },
         "mode": "lines",
         "type": "scatter",
         "x": [
          0.05797524860978553,
          0.03819669390069439,
          null
         ],
         "y": [
          -0.02918817069244344,
          -0.025877116906488973,
          null
         ]
        },
        {
         "hoverinfo": "none",
         "line": {
          "color": "#888",
          "width": 7.204631604674993
         },
         "mode": "lines",
         "type": "scatter",
         "x": [
          0.05797524860978553,
          0.04047227523908738,
          null
         ],
         "y": [
          -0.02918817069244344,
          0.061441597952245686,
          null
         ]
        },
        {
         "hoverinfo": "none",
         "line": {
          "color": "#888",
          "width": 7.353076960545102
         },
         "mode": "lines",
         "type": "scatter",
         "x": [
          0.03819669390069439,
          0.03231680787709909,
          null
         ],
         "y": [
          -0.025877116906488973,
          -0.06235440486400408,
          null
         ]
        },
        {
         "hoverinfo": "none",
         "line": {
          "color": "#888",
          "width": 7.286181854524129
         },
         "mode": "lines",
         "type": "scatter",
         "x": [
          0.03819669390069439,
          0.06337133714875767,
          null
         ],
         "y": [
          -0.025877116906488973,
          -0.04631437006244878,
          null
         ]
        },
        {
         "hoverinfo": "none",
         "line": {
          "color": "#888",
          "width": 7.681832683944987
         },
         "mode": "lines",
         "type": "scatter",
         "x": [
          0.03819669390069439,
          0.0338162313079326,
          null
         ],
         "y": [
          -0.025877116906488973,
          -0.07176514941812688,
          null
         ]
        },
        {
         "hoverinfo": "none",
         "line": {
          "color": "#888",
          "width": 7.1735064581203485
         },
         "mode": "lines",
         "type": "scatter",
         "x": [
          0.03819669390069439,
          0.03595241185748016,
          null
         ],
         "y": [
          -0.025877116906488973,
          -0.06510033331754936,
          null
         ]
        },
        {
         "hoverinfo": "none",
         "line": {
          "color": "#888",
          "width": 7.18921644914949
         },
         "mode": "lines",
         "type": "scatter",
         "x": [
          0.03819669390069439,
          0.038354719562571304,
          null
         ],
         "y": [
          -0.025877116906488973,
          0.004161903113501472,
          null
         ]
        },
        {
         "hoverinfo": "none",
         "line": {
          "color": "#888",
          "width": 7.146926953194575
         },
         "mode": "lines",
         "type": "scatter",
         "x": [
          0.03819669390069439,
          0.03219278187344018,
          null
         ],
         "y": [
          -0.025877116906488973,
          0.0061149754035917,
          null
         ]
        },
        {
         "hoverinfo": "none",
         "line": {
          "color": "#888",
          "width": 7.333969295294542
         },
         "mode": "lines",
         "type": "scatter",
         "x": [
          0.03819669390069439,
          0.043365958100558266,
          null
         ],
         "y": [
          -0.025877116906488973,
          -0.01113046894597532,
          null
         ]
        },
        {
         "hoverinfo": "none",
         "line": {
          "color": "#888",
          "width": 7.173897809078765
         },
         "mode": "lines",
         "type": "scatter",
         "x": [
          0.03231680787709909,
          0.0028299264442905783,
          null
         ],
         "y": [
          -0.06235440486400408,
          -0.04951886302089961,
          null
         ]
        },
        {
         "hoverinfo": "none",
         "line": {
          "color": "#888",
          "width": 7.316492176156862
         },
         "mode": "lines",
         "type": "scatter",
         "x": [
          0.03231680787709909,
          0.0279606084171437,
          null
         ],
         "y": [
          -0.06235440486400408,
          -0.1326141879330346,
          null
         ]
        },
        {
         "hoverinfo": "none",
         "line": {
          "color": "#888",
          "width": 7.681361366642204
         },
         "mode": "lines",
         "type": "scatter",
         "x": [
          0.03231680787709909,
          0.04143915751569503,
          null
         ],
         "y": [
          -0.06235440486400408,
          -0.10792905474903265,
          null
         ]
        },
        {
         "hoverinfo": "none",
         "line": {
          "color": "#888",
          "width": 8.861559854782627
         },
         "mode": "lines",
         "type": "scatter",
         "x": [
          0.03231680787709909,
          0.06337133714875767,
          null
         ],
         "y": [
          -0.06235440486400408,
          -0.04631437006244878,
          null
         ]
        },
        {
         "hoverinfo": "none",
         "line": {
          "color": "#888",
          "width": 7.536389756616872
         },
         "mode": "lines",
         "type": "scatter",
         "x": [
          0.03231680787709909,
          0.0338162313079326,
          null
         ],
         "y": [
          -0.06235440486400408,
          -0.07176514941812688,
          null
         ]
        },
        {
         "hoverinfo": "none",
         "line": {
          "color": "#888",
          "width": 8.853718392090272
         },
         "mode": "lines",
         "type": "scatter",
         "x": [
          0.03231680787709909,
          0.03595241185748016,
          null
         ],
         "y": [
          -0.06235440486400408,
          -0.06510033331754936,
          null
         ]
        },
        {
         "hoverinfo": "none",
         "line": {
          "color": "#888",
          "width": 7.215393774823982
         },
         "mode": "lines",
         "type": "scatter",
         "x": [
          0.03231680787709909,
          0.011484696322364651,
          null
         ],
         "y": [
          -0.06235440486400408,
          -0.10860124716192386,
          null
         ]
        },
        {
         "hoverinfo": "none",
         "line": {
          "color": "#888",
          "width": 8.513938370015847
         },
         "mode": "lines",
         "type": "scatter",
         "x": [
          0.03231680787709909,
          0.043365958100558266,
          null
         ],
         "y": [
          -0.06235440486400408,
          -0.01113046894597532,
          null
         ]
        },
        {
         "hoverinfo": "none",
         "line": {
          "color": "#888",
          "width": 7.0079584119966505
         },
         "mode": "lines",
         "type": "scatter",
         "x": [
          0.0028299264442905783,
          -0.02896348654522598,
          null
         ],
         "y": [
          -0.04951886302089961,
          -0.0784650568211268,
          null
         ]
        },
        {
         "hoverinfo": "none",
         "line": {
          "color": "#888",
          "width": 7.2976807600099525
         },
         "mode": "lines",
         "type": "scatter",
         "x": [
          0.0028299264442905783,
          -0.00895086760387737,
          null
         ],
         "y": [
          -0.04951886302089961,
          -0.031482307904742456,
          null
         ]
        },
        {
         "hoverinfo": "none",
         "line": {
          "color": "#888",
          "width": 7.030536894186029
         },
         "mode": "lines",
         "type": "scatter",
         "x": [
          0.0028299264442905783,
          0.06337133714875767,
          null
         ],
         "y": [
          -0.04951886302089961,
          -0.04631437006244878,
          null
         ]
        },
        {
         "hoverinfo": "none",
         "line": {
          "color": "#888",
          "width": 7.433285312623471
         },
         "mode": "lines",
         "type": "scatter",
         "x": [
          0.0028299264442905783,
          0.03595241185748016,
          null
         ],
         "y": [
          -0.04951886302089961,
          -0.06510033331754936,
          null
         ]
        },
        {
         "hoverinfo": "none",
         "line": {
          "color": "#888",
          "width": 7.328312910514873
         },
         "mode": "lines",
         "type": "scatter",
         "x": [
          0.0028299264442905783,
          0.043365958100558266,
          null
         ],
         "y": [
          -0.04951886302089961,
          -0.01113046894597532,
          null
         ]
        },
        {
         "hoverinfo": "none",
         "line": {
          "color": "#888",
          "width": 7.679972102432062
         },
         "mode": "lines",
         "type": "scatter",
         "x": [
          0.0028299264442905783,
          -0.04653307409866465,
          null
         ],
         "y": [
          -0.04951886302089961,
          -0.07160478533476916,
          null
         ]
        },
        {
         "hoverinfo": "none",
         "line": {
          "color": "#888",
          "width": 7.510834433375809
         },
         "mode": "lines",
         "type": "scatter",
         "x": [
          0.0028299264442905783,
          -0.05455686397424217,
          null
         ],
         "y": [
          -0.04951886302089961,
          -0.06650868810521333,
          null
         ]
        },
        {
         "hoverinfo": "none",
         "line": {
          "color": "#888",
          "width": 8.751188633447004
         },
         "mode": "lines",
         "type": "scatter",
         "x": [
          0.0279606084171437,
          0.029954769030796965,
          null
         ],
         "y": [
          -0.1326141879330346,
          -0.17098964642989506,
          null
         ]
        },
        {
         "hoverinfo": "none",
         "line": {
          "color": "#888",
          "width": 7.334227021443535
         },
         "mode": "lines",
         "type": "scatter",
         "x": [
          0.0279606084171437,
          0.018710274340425378,
          null
         ],
         "y": [
          -0.1326141879330346,
          -0.20915747468768583,
          null
         ]
        },
        {
         "hoverinfo": "none",
         "line": {
          "color": "#888",
          "width": 7.310191199868821
         },
         "mode": "lines",
         "type": "scatter",
         "x": [
          0.0279606084171437,
          -0.016005473285937384,
          null
         ],
         "y": [
          -0.1326141879330346,
          -0.24708661486192482,
          null
         ]
        },
        {
         "hoverinfo": "none",
         "line": {
          "color": "#888",
          "width": 8.850123459497327
         },
         "mode": "lines",
         "type": "scatter",
         "x": [
          0.0279606084171437,
          0.04143915751569503,
          null
         ],
         "y": [
          -0.1326141879330346,
          -0.10792905474903265,
          null
         ]
        },
        {
         "hoverinfo": "none",
         "line": {
          "color": "#888",
          "width": 7.607933604088583
         },
         "mode": "lines",
         "type": "scatter",
         "x": [
          0.0279606084171437,
          0.06337133714875767,
          null
         ],
         "y": [
          -0.1326141879330346,
          -0.04631437006244878,
          null
         ]
        },
        {
         "hoverinfo": "none",
         "line": {
          "color": "#888",
          "width": 7.200905587687942
         },
         "mode": "lines",
         "type": "scatter",
         "x": [
          0.0279606084171437,
          0.0338162313079326,
          null
         ],
         "y": [
          -0.1326141879330346,
          -0.07176514941812688,
          null
         ]
        },
        {
         "hoverinfo": "none",
         "line": {
          "color": "#888",
          "width": 9.079518953916281
         },
         "mode": "lines",
         "type": "scatter",
         "x": [
          0.04143915751569503,
          0.029954769030796965,
          null
         ],
         "y": [
          -0.10792905474903265,
          -0.17098964642989506,
          null
         ]
        },
        {
         "hoverinfo": "none",
         "line": {
          "color": "#888",
          "width": 7.068738134319288
         },
         "mode": "lines",
         "type": "scatter",
         "x": [
          0.04143915751569503,
          0.06337133714875767,
          null
         ],
         "y": [
          -0.10792905474903265,
          -0.04631437006244878,
          null
         ]
        },
        {
         "hoverinfo": "none",
         "line": {
          "color": "#888",
          "width": 7.1421061594237125
         },
         "mode": "lines",
         "type": "scatter",
         "x": [
          0.04143915751569503,
          0.0338162313079326,
          null
         ],
         "y": [
          -0.10792905474903265,
          -0.07176514941812688,
          null
         ]
        },
        {
         "hoverinfo": "none",
         "line": {
          "color": "#888",
          "width": 7.540064466569227
         },
         "mode": "lines",
         "type": "scatter",
         "x": [
          0.06337133714875767,
          0.08332396253443919,
          null
         ],
         "y": [
          -0.04631437006244878,
          0.01232482248712961,
          null
         ]
        },
        {
         "hoverinfo": "none",
         "line": {
          "color": "#888",
          "width": 7.287509590837172
         },
         "mode": "lines",
         "type": "scatter",
         "x": [
          0.06337133714875767,
          0.1304274871602375,
          null
         ],
         "y": [
          -0.04631437006244878,
          -0.023746255263806137,
          null
         ]
        },
        {
         "hoverinfo": "none",
         "line": {
          "color": "#888",
          "width": 7.1730652105746096
         },
         "mode": "lines",
         "type": "scatter",
         "x": [
          0.06337133714875767,
          0.04424926983059967,
          null
         ],
         "y": [
          -0.04631437006244878,
          0.009245192588423365,
          null
         ]
        },
        {
         "hoverinfo": "none",
         "line": {
          "color": "#888",
          "width": 7.852809923597329
         },
         "mode": "lines",
         "type": "scatter",
         "x": [
          0.06337133714875767,
          0.0338162313079326,
          null
         ],
         "y": [
          -0.04631437006244878,
          -0.07176514941812688,
          null
         ]
        },
        {
         "hoverinfo": "none",
         "line": {
          "color": "#888",
          "width": 8.822499597905717
         },
         "mode": "lines",
         "type": "scatter",
         "x": [
          0.06337133714875767,
          0.03595241185748016,
          null
         ],
         "y": [
          -0.04631437006244878,
          -0.06510033331754936,
          null
         ]
        },
        {
         "hoverinfo": "none",
         "line": {
          "color": "#888",
          "width": 7.108320714677591
         },
         "mode": "lines",
         "type": "scatter",
         "x": [
          0.06337133714875767,
          0.06648535126664927,
          null
         ],
         "y": [
          -0.04631437006244878,
          -0.10392237069397221,
          null
         ]
        },
        {
         "hoverinfo": "none",
         "line": {
          "color": "#888",
          "width": 7.427451613020134
         },
         "mode": "lines",
         "type": "scatter",
         "x": [
          0.06337133714875767,
          0.05642282583083528,
          null
         ],
         "y": [
          -0.04631437006244878,
          -0.08667362641308393,
          null
         ]
        },
        {
         "hoverinfo": "none",
         "line": {
          "color": "#888",
          "width": 7.119417214203061
         },
         "mode": "lines",
         "type": "scatter",
         "x": [
          0.06337133714875767,
          0.11987650421985169,
          null
         ],
         "y": [
          -0.04631437006244878,
          -0.015704242855209875,
          null
         ]
        },
        {
         "hoverinfo": "none",
         "line": {
          "color": "#888",
          "width": 8.53828830223638
         },
         "mode": "lines",
         "type": "scatter",
         "x": [
          0.06337133714875767,
          0.043365958100558266,
          null
         ],
         "y": [
          -0.04631437006244878,
          -0.01113046894597532,
          null
         ]
        },
        {
         "hoverinfo": "none",
         "line": {
          "color": "#888",
          "width": 7.219313326324755
         },
         "mode": "lines",
         "type": "scatter",
         "x": [
          0.0338162313079326,
          0.035520716994915845,
          null
         ],
         "y": [
          -0.07176514941812688,
          0.00029598348700220147,
          null
         ]
        },
        {
         "hoverinfo": "none",
         "line": {
          "color": "#888",
          "width": 7.469310710057525
         },
         "mode": "lines",
         "type": "scatter",
         "x": [
          0.0338162313079326,
          0.03649057175901194,
          null
         ],
         "y": [
          -0.07176514941812688,
          -0.15471429953396865,
          null
         ]
        },
        {
         "hoverinfo": "none",
         "line": {
          "color": "#888",
          "width": 7.015124649433996
         },
         "mode": "lines",
         "type": "scatter",
         "x": [
          0.0338162313079326,
          0.008617803750345656,
          null
         ],
         "y": [
          -0.07176514941812688,
          -0.083907763645105,
          null
         ]
        },
        {
         "hoverinfo": "none",
         "line": {
          "color": "#888",
          "width": 7.738989341042616
         },
         "mode": "lines",
         "type": "scatter",
         "x": [
          0.0338162313079326,
          0.03595241185748016,
          null
         ],
         "y": [
          -0.07176514941812688,
          -0.06510033331754936,
          null
         ]
        },
        {
         "hoverinfo": "none",
         "line": {
          "color": "#888",
          "width": 7.464974549947185
         },
         "mode": "lines",
         "type": "scatter",
         "x": [
          0.0338162313079326,
          0.043365958100558266,
          null
         ],
         "y": [
          -0.07176514941812688,
          -0.01113046894597532,
          null
         ]
        },
        {
         "hoverinfo": "none",
         "line": {
          "color": "#888",
          "width": 7.760863432962573
         },
         "mode": "lines",
         "type": "scatter",
         "x": [
          0.03595241185748016,
          0.011484696322364651,
          null
         ],
         "y": [
          -0.06510033331754936,
          -0.10860124716192386,
          null
         ]
        },
        {
         "hoverinfo": "none",
         "line": {
          "color": "#888",
          "width": 7.316523599295101
         },
         "mode": "lines",
         "type": "scatter",
         "x": [
          0.03595241185748016,
          0.05642282583083528,
          null
         ],
         "y": [
          -0.06510033331754936,
          -0.08667362641308393,
          null
         ]
        },
        {
         "hoverinfo": "none",
         "line": {
          "color": "#888",
          "width": 7.965585470522758
         },
         "mode": "lines",
         "type": "scatter",
         "x": [
          0.03595241185748016,
          0.043365958100558266,
          null
         ],
         "y": [
          -0.06510033331754936,
          -0.01113046894597532,
          null
         ]
        },
        {
         "hoverinfo": "none",
         "line": {
          "color": "#888",
          "width": 7.787765944201125
         },
         "mode": "lines",
         "type": "scatter",
         "x": [
          0.011484696322364651,
          -0.02796552927250576,
          null
         ],
         "y": [
          -0.10860124716192386,
          -0.1583348065910387,
          null
         ]
        },
        {
         "hoverinfo": "none",
         "line": {
          "color": "#888",
          "width": 7.18790206093317
         },
         "mode": "lines",
         "type": "scatter",
         "x": [
          0.043365958100558266,
          0.015405938830662207,
          null
         ],
         "y": [
          -0.01113046894597532,
          0.0018236666551723337,
          null
         ]
        },
        {
         "hoverinfo": "none",
         "line": {
          "color": "#888",
          "width": 7.2909949858929055
         },
         "mode": "lines",
         "type": "scatter",
         "x": [
          0.043365958100558266,
          0.035520716994915845,
          null
         ],
         "y": [
          -0.01113046894597532,
          0.00029598348700220147,
          null
         ]
        },
        {
         "hoverinfo": "none",
         "line": {
          "color": "#888",
          "width": 8.084475638035043
         },
         "mode": "lines",
         "type": "scatter",
         "x": [
          0.043365958100558266,
          0.08332396253443919,
          null
         ],
         "y": [
          -0.01113046894597532,
          0.01232482248712961,
          null
         ]
        },
        {
         "hoverinfo": "none",
         "line": {
          "color": "#888",
          "width": 7.1881976102305165
         },
         "mode": "lines",
         "type": "scatter",
         "x": [
          0.043365958100558266,
          0.05296089611075171,
          null
         ],
         "y": [
          -0.01113046894597532,
          0.0291410783850021,
          null
         ]
        },
        {
         "hoverinfo": "none",
         "line": {
          "color": "#888",
          "width": 8.08503700390138
         },
         "mode": "lines",
         "type": "scatter",
         "x": [
          0.043365958100558266,
          0.04424926983059967,
          null
         ],
         "y": [
          -0.01113046894597532,
          0.009245192588423365,
          null
         ]
        },
        {
         "hoverinfo": "none",
         "line": {
          "color": "#888",
          "width": 7.543381511478659
         },
         "mode": "lines",
         "type": "scatter",
         "x": [
          0.043365958100558266,
          0.038354719562571304,
          null
         ],
         "y": [
          -0.01113046894597532,
          0.004161903113501472,
          null
         ]
        },
        {
         "hoverinfo": "none",
         "line": {
          "color": "#888",
          "width": 7.167286272499843
         },
         "mode": "lines",
         "type": "scatter",
         "x": [
          0.043365958100558266,
          0.03219278187344018,
          null
         ],
         "y": [
          -0.01113046894597532,
          0.0061149754035917,
          null
         ]
        },
        {
         "hoverinfo": "none",
         "line": {
          "color": "#888",
          "width": 7.362101564197988
         },
         "mode": "lines",
         "type": "scatter",
         "x": [
          0.043365958100558266,
          0.04047227523908738,
          null
         ],
         "y": [
          -0.01113046894597532,
          0.061441597952245686,
          null
         ]
        },
        {
         "hoverinfo": "none",
         "line": {
          "color": "#888",
          "width": 7.228475666813018
         },
         "mode": "lines",
         "type": "scatter",
         "x": [
          0.007284319727723009,
          0.01579635659009846,
          null
         ],
         "y": [
          0.6490983986947488,
          0.6398935735082664,
          null
         ]
        },
        {
         "hoverinfo": "none",
         "line": {
          "color": "#888",
          "width": 7.330018923618362
         },
         "mode": "lines",
         "type": "scatter",
         "x": [
          -0.5999529206849722,
          -0.574602935184576,
          null
         ],
         "y": [
          -0.028627998876265777,
          -0.02973894305855477,
          null
         ]
        },
        {
         "hoverinfo": "none",
         "line": {
          "color": "#888",
          "width": 7.547861229812764
         },
         "mode": "lines",
         "type": "scatter",
         "x": [
          -0.5999529206849722,
          -0.5900746107493123,
          null
         ],
         "y": [
          -0.028627998876265777,
          -0.011021798479961535,
          null
         ]
        },
        {
         "hoverinfo": "none",
         "line": {
          "color": "#888",
          "width": 7.554917113098379
         },
         "mode": "lines",
         "type": "scatter",
         "x": [
          -0.5999529206849722,
          -0.5804643690591418,
          null
         ],
         "y": [
          -0.028627998876265777,
          -0.03640817270818358,
          null
         ]
        },
        {
         "hoverinfo": "none",
         "line": {
          "color": "#888",
          "width": 8.651558939594082
         },
         "mode": "lines",
         "type": "scatter",
         "x": [
          -0.5999529206849722,
          -0.5826998027435445,
          null
         ],
         "y": [
          -0.028627998876265777,
          -0.021883266153543857,
          null
         ]
        },
        {
         "hoverinfo": "none",
         "line": {
          "color": "#888",
          "width": 8.220223946455071
         },
         "mode": "lines",
         "type": "scatter",
         "x": [
          -0.5999529206849722,
          -0.5871192276039446,
          null
         ],
         "y": [
          -0.028627998876265777,
          -0.03282907142684214,
          null
         ]
        },
        {
         "hoverinfo": "none",
         "line": {
          "color": "#888",
          "width": 7.096520433577079
         },
         "mode": "lines",
         "type": "scatter",
         "x": [
          -0.5999529206849722,
          -0.6064802546497169,
          null
         ],
         "y": [
          -0.028627998876265777,
          -0.04181532978128309,
          null
         ]
        },
        {
         "hoverinfo": "none",
         "line": {
          "color": "#888",
          "width": 7.468499381385176
         },
         "mode": "lines",
         "type": "scatter",
         "x": [
          -0.5999529206849722,
          -0.5734154074121197,
          null
         ],
         "y": [
          -0.028627998876265777,
          -0.04141591781324396,
          null
         ]
        },
        {
         "hoverinfo": "none",
         "line": {
          "color": "#888",
          "width": 8.729513031898236
         },
         "mode": "lines",
         "type": "scatter",
         "x": [
          -0.5999529206849722,
          -0.5699020015945034,
          null
         ],
         "y": [
          -0.028627998876265777,
          -0.021719184947849527,
          null
         ]
        },
        {
         "hoverinfo": "none",
         "line": {
          "color": "#888",
          "width": 7.709219480762664
         },
         "mode": "lines",
         "type": "scatter",
         "x": [
          -0.574602935184576,
          -0.5900746107493123,
          null
         ],
         "y": [
          -0.02973894305855477,
          -0.011021798479961535,
          null
         ]
        },
        {
         "hoverinfo": "none",
         "line": {
          "color": "#888",
          "width": 8.297610453201152
         },
         "mode": "lines",
         "type": "scatter",
         "x": [
          -0.574602935184576,
          -0.5804643690591418,
          null
         ],
         "y": [
          -0.02973894305855477,
          -0.03640817270818358,
          null
         ]
        },
        {
         "hoverinfo": "none",
         "line": {
          "color": "#888",
          "width": 8.302452086011744
         },
         "mode": "lines",
         "type": "scatter",
         "x": [
          -0.574602935184576,
          -0.5826998027435445,
          null
         ],
         "y": [
          -0.02973894305855477,
          -0.021883266153543857,
          null
         ]
        },
        {
         "hoverinfo": "none",
         "line": {
          "color": "#888",
          "width": 9.10212381510327
         },
         "mode": "lines",
         "type": "scatter",
         "x": [
          -0.574602935184576,
          -0.5871192276039446,
          null
         ],
         "y": [
          -0.02973894305855477,
          -0.03282907142684214,
          null
         ]
        },
        {
         "hoverinfo": "none",
         "line": {
          "color": "#888",
          "width": 7.796579722724154
         },
         "mode": "lines",
         "type": "scatter",
         "x": [
          -0.574602935184576,
          -0.6064802546497169,
          null
         ],
         "y": [
          -0.02973894305855477,
          -0.04181532978128309,
          null
         ]
        },
        {
         "hoverinfo": "none",
         "line": {
          "color": "#888",
          "width": 8.450913247756745
         },
         "mode": "lines",
         "type": "scatter",
         "x": [
          -0.574602935184576,
          -0.5734154074121197,
          null
         ],
         "y": [
          -0.02973894305855477,
          -0.04141591781324396,
          null
         ]
        },
        {
         "hoverinfo": "none",
         "line": {
          "color": "#888",
          "width": 7.495032202934154
         },
         "mode": "lines",
         "type": "scatter",
         "x": [
          -0.574602935184576,
          -0.6009700064149218,
          null
         ],
         "y": [
          -0.02973894305855477,
          -0.05343434976649758,
          null
         ]
        },
        {
         "hoverinfo": "none",
         "line": {
          "color": "#888",
          "width": 8.67010203784077
         },
         "mode": "lines",
         "type": "scatter",
         "x": [
          -0.574602935184576,
          -0.5699020015945034,
          null
         ],
         "y": [
          -0.02973894305855477,
          -0.021719184947849527,
          null
         ]
        },
        {
         "hoverinfo": "none",
         "line": {
          "color": "#888",
          "width": 7.758072117189638
         },
         "mode": "lines",
         "type": "scatter",
         "x": [
          -0.574602935184576,
          -0.5973074691414231,
          null
         ],
         "y": [
          -0.02973894305855477,
          -0.018580629973310697,
          null
         ]
        },
        {
         "hoverinfo": "none",
         "line": {
          "color": "#888",
          "width": 7.321294254232896
         },
         "mode": "lines",
         "type": "scatter",
         "x": [
          -0.574602935184576,
          -0.5546241193404579,
          null
         ],
         "y": [
          -0.02973894305855477,
          -0.015677837227325225,
          null
         ]
        },
        {
         "hoverinfo": "none",
         "line": {
          "color": "#888",
          "width": 7.482738029599105
         },
         "mode": "lines",
         "type": "scatter",
         "x": [
          -0.574602935184576,
          -0.5785584073353923,
          null
         ],
         "y": [
          -0.02973894305855477,
          -0.05454054773070615,
          null
         ]
        },
        {
         "hoverinfo": "none",
         "line": {
          "color": "#888",
          "width": 7.38134947985532
         },
         "mode": "lines",
         "type": "scatter",
         "x": [
          -0.574602935184576,
          -0.5457822868417661,
          null
         ],
         "y": [
          -0.02973894305855477,
          -0.008205080275390693,
          null
         ]
        },
        {
         "hoverinfo": "none",
         "line": {
          "color": "#888",
          "width": 8.422298808799084
         },
         "mode": "lines",
         "type": "scatter",
         "x": [
          -0.5900746107493123,
          -0.5804643690591418,
          null
         ],
         "y": [
          -0.011021798479961535,
          -0.03640817270818358,
          null
         ]
        },
        {
         "hoverinfo": "none",
         "line": {
          "color": "#888",
          "width": 8.187388166664824
         },
         "mode": "lines",
         "type": "scatter",
         "x": [
          -0.5900746107493123,
          -0.5826998027435445,
          null
         ],
         "y": [
          -0.011021798479961535,
          -0.021883266153543857,
          null
         ]
        },
        {
         "hoverinfo": "none",
         "line": {
          "color": "#888",
          "width": 7.4474254912470155
         },
         "mode": "lines",
         "type": "scatter",
         "x": [
          -0.5900746107493123,
          -0.6498260611467502,
          null
         ],
         "y": [
          -0.011021798479961535,
          0.0014329145350619066,
          null
         ]
        },
        {
         "hoverinfo": "none",
         "line": {
          "color": "#888",
          "width": 7.748094072892849
         },
         "mode": "lines",
         "type": "scatter",
         "x": [
          -0.5900746107493123,
          -0.5871192276039446,
          null
         ],
         "y": [
          -0.011021798479961535,
          -0.03282907142684214,
          null
         ]
        },
        {
         "hoverinfo": "none",
         "line": {
          "color": "#888",
          "width": 7.599059287370143
         },
         "mode": "lines",
         "type": "scatter",
         "x": [
          -0.5900746107493123,
          -0.5734154074121197,
          null
         ],
         "y": [
          -0.011021798479961535,
          -0.04141591781324396,
          null
         ]
        },
        {
         "hoverinfo": "none",
         "line": {
          "color": "#888",
          "width": 8.083654829543606
         },
         "mode": "lines",
         "type": "scatter",
         "x": [
          -0.5900746107493123,
          -0.5699020015945034,
          null
         ],
         "y": [
          -0.011021798479961535,
          -0.021719184947849527,
          null
         ]
        },
        {
         "hoverinfo": "none",
         "line": {
          "color": "#888",
          "width": 7.010728012611204
         },
         "mode": "lines",
         "type": "scatter",
         "x": [
          -0.5900746107493123,
          -0.5973074691414231,
          null
         ],
         "y": [
          -0.011021798479961535,
          -0.018580629973310697,
          null
         ]
        },
        {
         "hoverinfo": "none",
         "line": {
          "color": "#888",
          "width": 7.289202782233954
         },
         "mode": "lines",
         "type": "scatter",
         "x": [
          -0.5900746107493123,
          -0.5546241193404579,
          null
         ],
         "y": [
          -0.011021798479961535,
          -0.015677837227325225,
          null
         ]
        },
        {
         "hoverinfo": "none",
         "line": {
          "color": "#888",
          "width": 8.566728438846857
         },
         "mode": "lines",
         "type": "scatter",
         "x": [
          -0.5804643690591418,
          -0.5826998027435445,
          null
         ],
         "y": [
          -0.03640817270818358,
          -0.021883266153543857,
          null
         ]
        },
        {
         "hoverinfo": "none",
         "line": {
          "color": "#888",
          "width": 8.516838783364701
         },
         "mode": "lines",
         "type": "scatter",
         "x": [
          -0.5804643690591418,
          -0.5871192276039446,
          null
         ],
         "y": [
          -0.03640817270818358,
          -0.03282907142684214,
          null
         ]
        },
        {
         "hoverinfo": "none",
         "line": {
          "color": "#888",
          "width": 7.97681415844735
         },
         "mode": "lines",
         "type": "scatter",
         "x": [
          -0.5804643690591418,
          -0.5734154074121197,
          null
         ],
         "y": [
          -0.03640817270818358,
          -0.04141591781324396,
          null
         ]
        },
        {
         "hoverinfo": "none",
         "line": {
          "color": "#888",
          "width": 7.26056151803668
         },
         "mode": "lines",
         "type": "scatter",
         "x": [
          -0.5804643690591418,
          -0.6009700064149218,
          null
         ],
         "y": [
          -0.03640817270818358,
          -0.05343434976649758,
          null
         ]
        },
        {
         "hoverinfo": "none",
         "line": {
          "color": "#888",
          "width": 8.492185419375875
         },
         "mode": "lines",
         "type": "scatter",
         "x": [
          -0.5804643690591418,
          -0.5699020015945034,
          null
         ],
         "y": [
          -0.03640817270818358,
          -0.021719184947849527,
          null
         ]
        },
        {
         "hoverinfo": "none",
         "line": {
          "color": "#888",
          "width": 7.218557203155886
         },
         "mode": "lines",
         "type": "scatter",
         "x": [
          -0.5804643690591418,
          -0.5973074691414231,
          null
         ],
         "y": [
          -0.03640817270818358,
          -0.018580629973310697,
          null
         ]
        },
        {
         "hoverinfo": "none",
         "line": {
          "color": "#888",
          "width": 8.634500553941022
         },
         "mode": "lines",
         "type": "scatter",
         "x": [
          -0.5826998027435445,
          -0.5871192276039446,
          null
         ],
         "y": [
          -0.021883266153543857,
          -0.03282907142684214,
          null
         ]
        },
        {
         "hoverinfo": "none",
         "line": {
          "color": "#888",
          "width": 8.173462756395569
         },
         "mode": "lines",
         "type": "scatter",
         "x": [
          -0.5826998027435445,
          -0.5734154074121197,
          null
         ],
         "y": [
          -0.021883266153543857,
          -0.04141591781324396,
          null
         ]
        },
        {
         "hoverinfo": "none",
         "line": {
          "color": "#888",
          "width": 8.925041940088647
         },
         "mode": "lines",
         "type": "scatter",
         "x": [
          -0.5826998027435445,
          -0.5699020015945034,
          null
         ],
         "y": [
          -0.021883266153543857,
          -0.021719184947849527,
          null
         ]
        },
        {
         "hoverinfo": "none",
         "line": {
          "color": "#888",
          "width": 7.602848459430729
         },
         "mode": "lines",
         "type": "scatter",
         "x": [
          -0.5826998027435445,
          -0.5973074691414231,
          null
         ],
         "y": [
          -0.021883266153543857,
          -0.018580629973310697,
          null
         ]
        },
        {
         "hoverinfo": "none",
         "line": {
          "color": "#888",
          "width": 7.232550095995952
         },
         "mode": "lines",
         "type": "scatter",
         "x": [
          -0.5826998027435445,
          -0.5546241193404579,
          null
         ],
         "y": [
          -0.021883266153543857,
          -0.015677837227325225,
          null
         ]
        },
        {
         "hoverinfo": "none",
         "line": {
          "color": "#888",
          "width": 7.306819368175567
         },
         "mode": "lines",
         "type": "scatter",
         "x": [
          -0.5826998027435445,
          -0.5785584073353923,
          null
         ],
         "y": [
          -0.021883266153543857,
          -0.05454054773070615,
          null
         ]
        },
        {
         "hoverinfo": "none",
         "line": {
          "color": "#888",
          "width": 7.71987146221198
         },
         "mode": "lines",
         "type": "scatter",
         "x": [
          -0.5871192276039446,
          -0.6064802546497169,
          null
         ],
         "y": [
          -0.03282907142684214,
          -0.04181532978128309,
          null
         ]
        },
        {
         "hoverinfo": "none",
         "line": {
          "color": "#888",
          "width": 8.651714278314266
         },
         "mode": "lines",
         "type": "scatter",
         "x": [
          -0.5871192276039446,
          -0.5734154074121197,
          null
         ],
         "y": [
          -0.03282907142684214,
          -0.04141591781324396,
          null
         ]
        },
        {
         "hoverinfo": "none",
         "line": {
          "color": "#888",
          "width": 7.975926775354775
         },
         "mode": "lines",
         "type": "scatter",
         "x": [
          -0.5871192276039446,
          -0.6009700064149218,
          null
         ],
         "y": [
          -0.03282907142684214,
          -0.05343434976649758,
          null
         ]
        },
        {
         "hoverinfo": "none",
         "line": {
          "color": "#888",
          "width": 8.966122118314404
         },
         "mode": "lines",
         "type": "scatter",
         "x": [
          -0.5871192276039446,
          -0.5699020015945034,
          null
         ],
         "y": [
          -0.03282907142684214,
          -0.021719184947849527,
          null
         ]
        },
        {
         "hoverinfo": "none",
         "line": {
          "color": "#888",
          "width": 7.828582088878506
         },
         "mode": "lines",
         "type": "scatter",
         "x": [
          -0.5871192276039446,
          -0.5973074691414231,
          null
         ],
         "y": [
          -0.03282907142684214,
          -0.018580629973310697,
          null
         ]
        },
        {
         "hoverinfo": "none",
         "line": {
          "color": "#888",
          "width": 7.609039352986327
         },
         "mode": "lines",
         "type": "scatter",
         "x": [
          -0.5871192276039446,
          -0.5546241193404579,
          null
         ],
         "y": [
          -0.03282907142684214,
          -0.015677837227325225,
          null
         ]
        },
        {
         "hoverinfo": "none",
         "line": {
          "color": "#888",
          "width": 7.659544184498252
         },
         "mode": "lines",
         "type": "scatter",
         "x": [
          -0.5871192276039446,
          -0.5785584073353923,
          null
         ],
         "y": [
          -0.03282907142684214,
          -0.05454054773070615,
          null
         ]
        },
        {
         "hoverinfo": "none",
         "line": {
          "color": "#888",
          "width": 7.959377918021028
         },
         "mode": "lines",
         "type": "scatter",
         "x": [
          -0.6064802546497169,
          -0.6446574664515372,
          null
         ],
         "y": [
          -0.04181532978128309,
          -0.057274560098787376,
          null
         ]
        },
        {
         "hoverinfo": "none",
         "line": {
          "color": "#888",
          "width": 7.035068377790987
         },
         "mode": "lines",
         "type": "scatter",
         "x": [
          -0.6064802546497169,
          -0.5734154074121197,
          null
         ],
         "y": [
          -0.04181532978128309,
          -0.04141591781324396,
          null
         ]
        },
        {
         "hoverinfo": "none",
         "line": {
          "color": "#888",
          "width": 7.204820141134785
         },
         "mode": "lines",
         "type": "scatter",
         "x": [
          -0.6064802546497169,
          -0.6009700064149218,
          null
         ],
         "y": [
          -0.04181532978128309,
          -0.05343434976649758,
          null
         ]
        },
        {
         "hoverinfo": "none",
         "line": {
          "color": "#888",
          "width": 7.5632542867177825
         },
         "mode": "lines",
         "type": "scatter",
         "x": [
          -0.6064802546497169,
          -0.5699020015945034,
          null
         ],
         "y": [
          -0.04181532978128309,
          -0.021719184947849527,
          null
         ]
        },
        {
         "hoverinfo": "none",
         "line": {
          "color": "#888",
          "width": 7.238725232700141
         },
         "mode": "lines",
         "type": "scatter",
         "x": [
          -0.5734154074121197,
          -0.5978342599774699,
          null
         ],
         "y": [
          -0.04141591781324396,
          -0.07847048797398709,
          null
         ]
        },
        {
         "hoverinfo": "none",
         "line": {
          "color": "#888",
          "width": 7.1728945381983475
         },
         "mode": "lines",
         "type": "scatter",
         "x": [
          -0.5734154074121197,
          -0.6009700064149218,
          null
         ],
         "y": [
          -0.04141591781324396,
          -0.05343434976649758,
          null
         ]
        },
        {
         "hoverinfo": "none",
         "line": {
          "color": "#888",
          "width": 8.418204002813352
         },
         "mode": "lines",
         "type": "scatter",
         "x": [
          -0.5734154074121197,
          -0.5699020015945034,
          null
         ],
         "y": [
          -0.04141591781324396,
          -0.021719184947849527,
          null
         ]
        },
        {
         "hoverinfo": "none",
         "line": {
          "color": "#888",
          "width": 7.166289146714059
         },
         "mode": "lines",
         "type": "scatter",
         "x": [
          -0.5734154074121197,
          -0.5973074691414231,
          null
         ],
         "y": [
          -0.04141591781324396,
          -0.018580629973310697,
          null
         ]
        },
        {
         "hoverinfo": "none",
         "line": {
          "color": "#888",
          "width": 7.076099563403382
         },
         "mode": "lines",
         "type": "scatter",
         "x": [
          -0.5734154074121197,
          -0.5546241193404579,
          null
         ],
         "y": [
          -0.04141591781324396,
          -0.015677837227325225,
          null
         ]
        },
        {
         "hoverinfo": "none",
         "line": {
          "color": "#888",
          "width": 8.668511465194777
         },
         "mode": "lines",
         "type": "scatter",
         "x": [
          -0.5734154074121197,
          -0.5785584073353923,
          null
         ],
         "y": [
          -0.04141591781324396,
          -0.05454054773070615,
          null
         ]
        },
        {
         "hoverinfo": "none",
         "line": {
          "color": "#888",
          "width": 7.009632084055718
         },
         "mode": "lines",
         "type": "scatter",
         "x": [
          -0.5699020015945034,
          -0.53930237897625,
          null
         ],
         "y": [
          -0.021719184947849527,
          0.002379649197180163,
          null
         ]
        },
        {
         "hoverinfo": "none",
         "line": {
          "color": "#888",
          "width": 7.463243956526773
         },
         "mode": "lines",
         "type": "scatter",
         "x": [
          -0.5699020015945034,
          -0.5973074691414231,
          null
         ],
         "y": [
          -0.021719184947849527,
          -0.018580629973310697,
          null
         ]
        },
        {
         "hoverinfo": "none",
         "line": {
          "color": "#888",
          "width": 7.817087238149266
         },
         "mode": "lines",
         "type": "scatter",
         "x": [
          -0.5699020015945034,
          -0.5546241193404579,
          null
         ],
         "y": [
          -0.021719184947849527,
          -0.015677837227325225,
          null
         ]
        },
        {
         "hoverinfo": "none",
         "line": {
          "color": "#888",
          "width": 7.016676644729984
         },
         "mode": "lines",
         "type": "scatter",
         "x": [
          -0.5699020015945034,
          -0.5785584073353923,
          null
         ],
         "y": [
          -0.021719184947849527,
          -0.05454054773070615,
          null
         ]
        },
        {
         "hoverinfo": "none",
         "line": {
          "color": "#888",
          "width": 7.431529863177836
         },
         "mode": "lines",
         "type": "scatter",
         "x": [
          -0.5699020015945034,
          -0.5457822868417661,
          null
         ],
         "y": [
          -0.021719184947849527,
          -0.008205080275390693,
          null
         ]
        },
        {
         "hoverinfo": "none",
         "line": {
          "color": "#888",
          "width": 8.700697354206044
         },
         "mode": "lines",
         "type": "scatter",
         "x": [
          0.30470080784132936,
          0.3626727400508764,
          null
         ],
         "y": [
          0.11860534981430924,
          0.14118269013527335,
          null
         ]
        },
        {
         "hoverinfo": "none",
         "line": {
          "color": "#888",
          "width": 7.2881380951128
         },
         "mode": "lines",
         "type": "scatter",
         "x": [
          -0.2019760137069794,
          -0.16242499982893083,
          null
         ],
         "y": [
          0.4271927234083845,
          0.5146292654398777,
          null
         ]
        },
        {
         "hoverinfo": "none",
         "line": {
          "color": "#888",
          "width": 8.02595754988278
         },
         "mode": "lines",
         "type": "scatter",
         "x": [
          -0.2019760137069794,
          -0.23171023064993587,
          null
         ],
         "y": [
          0.4271927234083845,
          0.35663304261430545,
          null
         ]
        },
        {
         "hoverinfo": "none",
         "line": {
          "color": "#888",
          "width": 7.603523629063856
         },
         "mode": "lines",
         "type": "scatter",
         "x": [
          -0.16242499982893083,
          -0.1702733722211188,
          null
         ],
         "y": [
          0.5146292654398777,
          0.5581264073055443,
          null
         ]
        },
        {
         "hoverinfo": "none",
         "line": {
          "color": "#888",
          "width": 7.659701599404759
         },
         "mode": "lines",
         "type": "scatter",
         "x": [
          -0.16242499982893083,
          -0.15175405359831404,
          null
         ],
         "y": [
          0.5146292654398777,
          0.5564618730426264,
          null
         ]
        },
        {
         "hoverinfo": "none",
         "line": {
          "color": "#888",
          "width": 7.662224471372673
         },
         "mode": "lines",
         "type": "scatter",
         "x": [
          -0.24089759119454754,
          -0.19341222240644637,
          null
         ],
         "y": [
          0.016877299381226254,
          0.025774608445603794,
          null
         ]
        },
        {
         "hoverinfo": "none",
         "line": {
          "color": "#888",
          "width": 7.233315785233473
         },
         "mode": "lines",
         "type": "scatter",
         "x": [
          -0.24089759119454754,
          -0.19488487227616721,
          null
         ],
         "y": [
          0.016877299381226254,
          0.018294597713010653,
          null
         ]
        },
        {
         "hoverinfo": "none",
         "line": {
          "color": "#888",
          "width": 7.826380516893523
         },
         "mode": "lines",
         "type": "scatter",
         "x": [
          -0.19341222240644637,
          -0.0907198047928281,
          null
         ],
         "y": [
          0.025774608445603794,
          0.020328143964623988,
          null
         ]
        },
        {
         "hoverinfo": "none",
         "line": {
          "color": "#888",
          "width": 7.231106961104548
         },
         "mode": "lines",
         "type": "scatter",
         "x": [
          -0.19341222240644637,
          -0.25891020494922823,
          null
         ],
         "y": [
          0.025774608445603794,
          0.03159693717390719,
          null
         ]
        },
        {
         "hoverinfo": "none",
         "line": {
          "color": "#888",
          "width": 8.500972992633638
         },
         "mode": "lines",
         "type": "scatter",
         "x": [
          -0.19341222240644637,
          -0.19488487227616721,
          null
         ],
         "y": [
          0.025774608445603794,
          0.018294597713010653,
          null
         ]
        },
        {
         "hoverinfo": "none",
         "line": {
          "color": "#888",
          "width": 7.823143335803898
         },
         "mode": "lines",
         "type": "scatter",
         "x": [
          -0.19488487227616721,
          -0.0907198047928281,
          null
         ],
         "y": [
          0.018294597713010653,
          0.020328143964623988,
          null
         ]
        },
        {
         "hoverinfo": "none",
         "line": {
          "color": "#888",
          "width": 7.926342962092024
         },
         "mode": "lines",
         "type": "scatter",
         "x": [
          -0.19488487227616721,
          -0.25891020494922823,
          null
         ],
         "y": [
          0.018294597713010653,
          0.03159693717390719,
          null
         ]
        },
        {
         "hoverinfo": "none",
         "line": {
          "color": "#888",
          "width": 7.010157298388336
         },
         "mode": "lines",
         "type": "scatter",
         "x": [
          -0.8556222120254025,
          -0.8410907901876681,
          null
         ],
         "y": [
          -0.010509160939933425,
          -0.024062128675400914,
          null
         ]
        },
        {
         "hoverinfo": "none",
         "line": {
          "color": "#888",
          "width": 7.1876055006274795
         },
         "mode": "lines",
         "type": "scatter",
         "x": [
          0.874881657449098,
          0.8946531877530179,
          null
         ],
         "y": [
          -0.36245972785218905,
          -0.3630890785305716,
          null
         ]
        },
        {
         "hoverinfo": "none",
         "line": {
          "color": "#888",
          "width": 7.11585208563074
         },
         "mode": "lines",
         "type": "scatter",
         "x": [
          0.02247111285969397,
          0.04209565102791967,
          null
         ],
         "y": [
          -0.9190515647916708,
          -0.9199876221189385,
          null
         ]
        },
        {
         "hoverinfo": "none",
         "line": {
          "color": "#888",
          "width": 8.459985198963944
         },
         "mode": "lines",
         "type": "scatter",
         "x": [
          -0.06996194830230933,
          -0.056591317597199514,
          null
         ],
         "y": [
          -0.06857859203412751,
          -0.03387513185051456,
          null
         ]
        },
        {
         "hoverinfo": "none",
         "line": {
          "color": "#888",
          "width": 8.145611409621521
         },
         "mode": "lines",
         "type": "scatter",
         "x": [
          -0.06996194830230933,
          -0.00895086760387737,
          null
         ],
         "y": [
          -0.06857859203412751,
          -0.031482307904742456,
          null
         ]
        },
        {
         "hoverinfo": "none",
         "line": {
          "color": "#888",
          "width": 7.611627992498321
         },
         "mode": "lines",
         "type": "scatter",
         "x": [
          -0.06996194830230933,
          -0.04653307409866465,
          null
         ],
         "y": [
          -0.06857859203412751,
          -0.07160478533476916,
          null
         ]
        },
        {
         "hoverinfo": "none",
         "line": {
          "color": "#888",
          "width": 8.790890069010992
         },
         "mode": "lines",
         "type": "scatter",
         "x": [
          -0.06996194830230933,
          -0.05455686397424217,
          null
         ],
         "y": [
          -0.06857859203412751,
          -0.06650868810521333,
          null
         ]
        },
        {
         "hoverinfo": "none",
         "line": {
          "color": "#888",
          "width": 7.431739431515871
         },
         "mode": "lines",
         "type": "scatter",
         "x": [
          -0.056591317597199514,
          -0.059662486437798604,
          null
         ],
         "y": [
          -0.03387513185051456,
          0.041756604384219756,
          null
         ]
        },
        {
         "hoverinfo": "none",
         "line": {
          "color": "#888",
          "width": 7.703550928793181
         },
         "mode": "lines",
         "type": "scatter",
         "x": [
          -0.056591317597199514,
          -0.00895086760387737,
          null
         ],
         "y": [
          -0.03387513185051456,
          -0.031482307904742456,
          null
         ]
        },
        {
         "hoverinfo": "none",
         "line": {
          "color": "#888",
          "width": 8.303636057253012
         },
         "mode": "lines",
         "type": "scatter",
         "x": [
          -0.056591317597199514,
          -0.04653307409866465,
          null
         ],
         "y": [
          -0.03387513185051456,
          -0.07160478533476916,
          null
         ]
        },
        {
         "hoverinfo": "none",
         "line": {
          "color": "#888",
          "width": 7.812103807437401
         },
         "mode": "lines",
         "type": "scatter",
         "x": [
          -0.056591317597199514,
          -0.05455686397424217,
          null
         ],
         "y": [
          -0.03387513185051456,
          -0.06650868810521333,
          null
         ]
        },
        {
         "hoverinfo": "none",
         "line": {
          "color": "#888",
          "width": 7.223944537421977
         },
         "mode": "lines",
         "type": "scatter",
         "x": [
          -0.00895086760387737,
          0.038354719562571304,
          null
         ],
         "y": [
          -0.031482307904742456,
          0.004161903113501472,
          null
         ]
        },
        {
         "hoverinfo": "none",
         "line": {
          "color": "#888",
          "width": 7.320730961787434
         },
         "mode": "lines",
         "type": "scatter",
         "x": [
          -0.00895086760387737,
          -0.04653307409866465,
          null
         ],
         "y": [
          -0.031482307904742456,
          -0.07160478533476916,
          null
         ]
        },
        {
         "hoverinfo": "none",
         "line": {
          "color": "#888",
          "width": 8.24607042529605
         },
         "mode": "lines",
         "type": "scatter",
         "x": [
          -0.00895086760387737,
          -0.05455686397424217,
          null
         ],
         "y": [
          -0.031482307904742456,
          -0.06650868810521333,
          null
         ]
        },
        {
         "hoverinfo": "none",
         "line": {
          "color": "#888",
          "width": 7.152722664573163
         },
         "mode": "lines",
         "type": "scatter",
         "x": [
          -0.04653307409866465,
          -0.0995761117282218,
          null
         ],
         "y": [
          -0.07160478533476916,
          -0.13108883256012305,
          null
         ]
        },
        {
         "hoverinfo": "none",
         "line": {
          "color": "#888",
          "width": 7.203816754090797
         },
         "mode": "lines",
         "type": "scatter",
         "x": [
          -0.04653307409866465,
          -0.05455686397424217,
          null
         ],
         "y": [
          -0.07160478533476916,
          -0.06650868810521333,
          null
         ]
        },
        {
         "hoverinfo": "none",
         "line": {
          "color": "#888",
          "width": 9.98717565299889
         },
         "mode": "lines",
         "type": "scatter",
         "x": [
          -0.5017114686322368,
          -0.518641060200555,
          null
         ],
         "y": [
          0.7857356730048684,
          0.8118737369845699,
          null
         ]
        },
        {
         "hoverinfo": "none",
         "line": {
          "color": "#888",
          "width": 7.0628286131247195
         },
         "mode": "lines",
         "type": "scatter",
         "x": [
          1,
          0.9732244581143065,
          null
         ],
         "y": [
          -0.06237429026139997,
          -0.05977118966590192,
          null
         ]
        },
        {
         "hoverinfo": "none",
         "line": {
          "color": "#888",
          "width": 7.562154387270123
         },
         "mode": "lines",
         "type": "scatter",
         "x": [
          0.057379303598770866,
          0.052206110448011205,
          null
         ],
         "y": [
          0.019579423949201365,
          0.00015984234615206526,
          null
         ]
        },
        {
         "hoverinfo": "none",
         "line": {
          "color": "#888",
          "width": 7.54626447005831
         },
         "mode": "lines",
         "type": "scatter",
         "x": [
          0.057379303598770866,
          0.035520716994915845,
          null
         ],
         "y": [
          0.019579423949201365,
          0.00029598348700220147,
          null
         ]
        },
        {
         "hoverinfo": "none",
         "line": {
          "color": "#888",
          "width": 7.668879120978521
         },
         "mode": "lines",
         "type": "scatter",
         "x": [
          0.057379303598770866,
          0.051668100730155764,
          null
         ],
         "y": [
          0.019579423949201365,
          0.055343590458516626,
          null
         ]
        },
        {
         "hoverinfo": "none",
         "line": {
          "color": "#888",
          "width": 7.236310967573486
         },
         "mode": "lines",
         "type": "scatter",
         "x": [
          0.057379303598770866,
          0.0617178479758501,
          null
         ],
         "y": [
          0.019579423949201365,
          0.06797352635427499,
          null
         ]
        },
        {
         "hoverinfo": "none",
         "line": {
          "color": "#888",
          "width": 7.341319683451389
         },
         "mode": "lines",
         "type": "scatter",
         "x": [
          0.057379303598770866,
          0.044543130719242284,
          null
         ],
         "y": [
          0.019579423949201365,
          -0.007284453597997196,
          null
         ]
        },
        {
         "hoverinfo": "none",
         "line": {
          "color": "#888",
          "width": 9.027584560111254
         },
         "mode": "lines",
         "type": "scatter",
         "x": [
          0.057379303598770866,
          0.05296089611075171,
          null
         ],
         "y": [
          0.019579423949201365,
          0.0291410783850021,
          null
         ]
        },
        {
         "hoverinfo": "none",
         "line": {
          "color": "#888",
          "width": 7.031251216544664
         },
         "mode": "lines",
         "type": "scatter",
         "x": [
          0.057379303598770866,
          0.12455847233791702,
          null
         ],
         "y": [
          0.019579423949201365,
          -0.04891200652158996,
          null
         ]
        },
        {
         "hoverinfo": "none",
         "line": {
          "color": "#888",
          "width": 7.519216188144407
         },
         "mode": "lines",
         "type": "scatter",
         "x": [
          0.057379303598770866,
          0.02906045571634478,
          null
         ],
         "y": [
          0.019579423949201365,
          0.025702062157286484,
          null
         ]
        },
        {
         "hoverinfo": "none",
         "line": {
          "color": "#888",
          "width": 7.671792623950193
         },
         "mode": "lines",
         "type": "scatter",
         "x": [
          0.057379303598770866,
          0.04424926983059967,
          null
         ],
         "y": [
          0.019579423949201365,
          0.009245192588423365,
          null
         ]
        },
        {
         "hoverinfo": "none",
         "line": {
          "color": "#888",
          "width": 7.835660461571591
         },
         "mode": "lines",
         "type": "scatter",
         "x": [
          0.057379303598770866,
          0.04221760964270946,
          null
         ],
         "y": [
          0.019579423949201365,
          0.003341464908629855,
          null
         ]
        },
        {
         "hoverinfo": "none",
         "line": {
          "color": "#888",
          "width": 7.320824296224044
         },
         "mode": "lines",
         "type": "scatter",
         "x": [
          0.057379303598770866,
          0.02316199970847503,
          null
         ],
         "y": [
          0.019579423949201365,
          0.008806188342982607,
          null
         ]
        },
        {
         "hoverinfo": "none",
         "line": {
          "color": "#888",
          "width": 7.034385021744127
         },
         "mode": "lines",
         "type": "scatter",
         "x": [
          0.057379303598770866,
          0.025948658291624793,
          null
         ],
         "y": [
          0.019579423949201365,
          0.021254089073911894,
          null
         ]
        },
        {
         "hoverinfo": "none",
         "line": {
          "color": "#888",
          "width": 7.5175601592157015
         },
         "mode": "lines",
         "type": "scatter",
         "x": [
          0.057379303598770866,
          0.038354719562571304,
          null
         ],
         "y": [
          0.019579423949201365,
          0.004161903113501472,
          null
         ]
        },
        {
         "hoverinfo": "none",
         "line": {
          "color": "#888",
          "width": 7.067740224709075
         },
         "mode": "lines",
         "type": "scatter",
         "x": [
          0.057379303598770866,
          0.061321053641733785,
          null
         ],
         "y": [
          0.019579423949201365,
          -0.024536057246514434,
          null
         ]
        },
        {
         "hoverinfo": "none",
         "line": {
          "color": "#888",
          "width": 7.931544984407254
         },
         "mode": "lines",
         "type": "scatter",
         "x": [
          0.057379303598770866,
          0.03219278187344018,
          null
         ],
         "y": [
          0.019579423949201365,
          0.0061149754035917,
          null
         ]
        },
        {
         "hoverinfo": "none",
         "line": {
          "color": "#888",
          "width": 7.4284468978064915
         },
         "mode": "lines",
         "type": "scatter",
         "x": [
          0.057379303598770866,
          0.030030690307780602,
          null
         ],
         "y": [
          0.019579423949201365,
          0.056510679734903424,
          null
         ]
        },
        {
         "hoverinfo": "none",
         "line": {
          "color": "#888",
          "width": 8.076747130092128
         },
         "mode": "lines",
         "type": "scatter",
         "x": [
          0.057379303598770866,
          0.05167935923112888,
          null
         ],
         "y": [
          0.019579423949201365,
          0.007531767395388412,
          null
         ]
        },
        {
         "hoverinfo": "none",
         "line": {
          "color": "#888",
          "width": 8.34372668356885
         },
         "mode": "lines",
         "type": "scatter",
         "x": [
          0.057379303598770866,
          0.06387396726476834,
          null
         ],
         "y": [
          0.019579423949201365,
          0.042945063738044145,
          null
         ]
        },
        {
         "hoverinfo": "none",
         "line": {
          "color": "#888",
          "width": 8.792450292494127
         },
         "mode": "lines",
         "type": "scatter",
         "x": [
          0.052206110448011205,
          0.05900785634350229,
          null
         ],
         "y": [
          0.00015984234615206526,
          -0.018136595586441873,
          null
         ]
        },
        {
         "hoverinfo": "none",
         "line": {
          "color": "#888",
          "width": 7.028589440029678
         },
         "mode": "lines",
         "type": "scatter",
         "x": [
          0.052206110448011205,
          0.06372455829418262,
          null
         ],
         "y": [
          0.00015984234615206526,
          0.006396233475824237,
          null
         ]
        },
        {
         "hoverinfo": "none",
         "line": {
          "color": "#888",
          "width": 7.743242402655696
         },
         "mode": "lines",
         "type": "scatter",
         "x": [
          0.052206110448011205,
          0.035520716994915845,
          null
         ],
         "y": [
          0.00015984234615206526,
          0.00029598348700220147,
          null
         ]
        },
        {
         "hoverinfo": "none",
         "line": {
          "color": "#888",
          "width": 9.24383812495995
         },
         "mode": "lines",
         "type": "scatter",
         "x": [
          0.052206110448011205,
          0.06446578980483612,
          null
         ],
         "y": [
          0.00015984234615206526,
          -0.010092683244049116,
          null
         ]
        },
        {
         "hoverinfo": "none",
         "line": {
          "color": "#888",
          "width": 8.940916053668015
         },
         "mode": "lines",
         "type": "scatter",
         "x": [
          0.052206110448011205,
          0.05125391663732393,
          null
         ],
         "y": [
          0.00015984234615206526,
          -0.013130951491286513,
          null
         ]
        },
        {
         "hoverinfo": "none",
         "line": {
          "color": "#888",
          "width": 8.277224862892883
         },
         "mode": "lines",
         "type": "scatter",
         "x": [
          0.052206110448011205,
          0.044543130719242284,
          null
         ],
         "y": [
          0.00015984234615206526,
          -0.007284453597997196,
          null
         ]
        },
        {
         "hoverinfo": "none",
         "line": {
          "color": "#888",
          "width": 7.358008755086667
         },
         "mode": "lines",
         "type": "scatter",
         "x": [
          0.052206110448011205,
          0.05296089611075171,
          null
         ],
         "y": [
          0.00015984234615206526,
          0.0291410783850021,
          null
         ]
        },
        {
         "hoverinfo": "none",
         "line": {
          "color": "#888",
          "width": 7.413198966040376
         },
         "mode": "lines",
         "type": "scatter",
         "x": [
          0.052206110448011205,
          0.07386306390893059,
          null
         ],
         "y": [
          0.00015984234615206526,
          -0.027114739899880624,
          null
         ]
        },
        {
         "hoverinfo": "none",
         "line": {
          "color": "#888",
          "width": 7.616563498569329
         },
         "mode": "lines",
         "type": "scatter",
         "x": [
          0.052206110448011205,
          0.06882186507966723,
          null
         ],
         "y": [
          0.00015984234615206526,
          0.004141447594331741,
          null
         ]
        },
        {
         "hoverinfo": "none",
         "line": {
          "color": "#888",
          "width": 7.51583529937548
         },
         "mode": "lines",
         "type": "scatter",
         "x": [
          0.052206110448011205,
          0.04424926983059967,
          null
         ],
         "y": [
          0.00015984234615206526,
          0.009245192588423365,
          null
         ]
        },
        {
         "hoverinfo": "none",
         "line": {
          "color": "#888",
          "width": 8.05547475918417
         },
         "mode": "lines",
         "type": "scatter",
         "x": [
          0.052206110448011205,
          0.04221760964270946,
          null
         ],
         "y": [
          0.00015984234615206526,
          0.003341464908629855,
          null
         ]
        },
        {
         "hoverinfo": "none",
         "line": {
          "color": "#888",
          "width": 8.227419484110168
         },
         "mode": "lines",
         "type": "scatter",
         "x": [
          0.052206110448011205,
          0.06667255485155854,
          null
         ],
         "y": [
          0.00015984234615206526,
          -0.03658772066558728,
          null
         ]
        },
        {
         "hoverinfo": "none",
         "line": {
          "color": "#888",
          "width": 7.129946060185835
         },
         "mode": "lines",
         "type": "scatter",
         "x": [
          0.052206110448011205,
          0.02316199970847503,
          null
         ],
         "y": [
          0.00015984234615206526,
          0.008806188342982607,
          null
         ]
        },
        {
         "hoverinfo": "none",
         "line": {
          "color": "#888",
          "width": 8.52406315981595
         },
         "mode": "lines",
         "type": "scatter",
         "x": [
          0.052206110448011205,
          0.038354719562571304,
          null
         ],
         "y": [
          0.00015984234615206526,
          0.004161903113501472,
          null
         ]
        },
        {
         "hoverinfo": "none",
         "line": {
          "color": "#888",
          "width": 8.434214141773186
         },
         "mode": "lines",
         "type": "scatter",
         "x": [
          0.052206110448011205,
          0.061321053641733785,
          null
         ],
         "y": [
          0.00015984234615206526,
          -0.024536057246514434,
          null
         ]
        },
        {
         "hoverinfo": "none",
         "line": {
          "color": "#888",
          "width": 7.845436318981434
         },
         "mode": "lines",
         "type": "scatter",
         "x": [
          0.052206110448011205,
          0.03219278187344018,
          null
         ],
         "y": [
          0.00015984234615206526,
          0.0061149754035917,
          null
         ]
        },
        {
         "hoverinfo": "none",
         "line": {
          "color": "#888",
          "width": 7.885924955504065
         },
         "mode": "lines",
         "type": "scatter",
         "x": [
          0.052206110448011205,
          0.05167935923112888,
          null
         ],
         "y": [
          0.00015984234615206526,
          0.007531767395388412,
          null
         ]
        },
        {
         "hoverinfo": "none",
         "line": {
          "color": "#888",
          "width": 8.955187530286713
         },
         "mode": "lines",
         "type": "scatter",
         "x": [
          0.052206110448011205,
          0.0640481455889888,
          null
         ],
         "y": [
          0.00015984234615206526,
          -0.01616254512433649,
          null
         ]
        },
        {
         "hoverinfo": "none",
         "line": {
          "color": "#888",
          "width": 7.369812455944476
         },
         "mode": "lines",
         "type": "scatter",
         "x": [
          0.052206110448011205,
          0.030192688386252445,
          null
         ],
         "y": [
          0.00015984234615206526,
          -0.030085742357227503,
          null
         ]
        },
        {
         "hoverinfo": "none",
         "line": {
          "color": "#888",
          "width": 7.090863296714305
         },
         "mode": "lines",
         "type": "scatter",
         "x": [
          0.052206110448011205,
          0.06387396726476834,
          null
         ],
         "y": [
          0.00015984234615206526,
          0.042945063738044145,
          null
         ]
        },
        {
         "hoverinfo": "none",
         "line": {
          "color": "#888",
          "width": 7.450938266240995
         },
         "mode": "lines",
         "type": "scatter",
         "x": [
          0.035520716994915845,
          0.015405938830662207,
          null
         ],
         "y": [
          0.00029598348700220147,
          0.0018236666551723337,
          null
         ]
        },
        {
         "hoverinfo": "none",
         "line": {
          "color": "#888",
          "width": 7.756645081815956
         },
         "mode": "lines",
         "type": "scatter",
         "x": [
          0.035520716994915845,
          0.06372455829418262,
          null
         ],
         "y": [
          0.00029598348700220147,
          0.006396233475824237,
          null
         ]
        },
        {
         "hoverinfo": "none",
         "line": {
          "color": "#888",
          "width": 7.355463848725027
         },
         "mode": "lines",
         "type": "scatter",
         "x": [
          0.035520716994915845,
          0.008617803750345656,
          null
         ],
         "y": [
          0.00029598348700220147,
          -0.083907763645105,
          null
         ]
        },
        {
         "hoverinfo": "none",
         "line": {
          "color": "#888",
          "width": 7.266625427777322
         },
         "mode": "lines",
         "type": "scatter",
         "x": [
          0.035520716994915845,
          -0.006214060919075264,
          null
         ],
         "y": [
          0.00029598348700220147,
          0.024114674815726177,
          null
         ]
        },
        {
         "hoverinfo": "none",
         "line": {
          "color": "#888",
          "width": 7.361593011835804
         },
         "mode": "lines",
         "type": "scatter",
         "x": [
          0.035520716994915845,
          0.06446578980483612,
          null
         ],
         "y": [
          0.00029598348700220147,
          -0.010092683244049116,
          null
         ]
        },
        {
         "hoverinfo": "none",
         "line": {
          "color": "#888",
          "width": 7.710997212503489
         },
         "mode": "lines",
         "type": "scatter",
         "x": [
          0.035520716994915845,
          0.05125391663732393,
          null
         ],
         "y": [
          0.00029598348700220147,
          -0.013130951491286513,
          null
         ]
        },
        {
         "hoverinfo": "none",
         "line": {
          "color": "#888",
          "width": 7.734580272158176
         },
         "mode": "lines",
         "type": "scatter",
         "x": [
          0.035520716994915845,
          0.044543130719242284,
          null
         ],
         "y": [
          0.00029598348700220147,
          -0.007284453597997196,
          null
         ]
        },
        {
         "hoverinfo": "none",
         "line": {
          "color": "#888",
          "width": 7.858646845399603
         },
         "mode": "lines",
         "type": "scatter",
         "x": [
          0.035520716994915845,
          0.05296089611075171,
          null
         ],
         "y": [
          0.00029598348700220147,
          0.0291410783850021,
          null
         ]
        },
        {
         "hoverinfo": "none",
         "line": {
          "color": "#888",
          "width": 8.294214137893883
         },
         "mode": "lines",
         "type": "scatter",
         "x": [
          0.035520716994915845,
          0.02906045571634478,
          null
         ],
         "y": [
          0.00029598348700220147,
          0.025702062157286484,
          null
         ]
        },
        {
         "hoverinfo": "none",
         "line": {
          "color": "#888",
          "width": 7.426666678230998
         },
         "mode": "lines",
         "type": "scatter",
         "x": [
          0.035520716994915845,
          0.05167761610956777,
          null
         ],
         "y": [
          0.00029598348700220147,
          -0.025632995988194535,
          null
         ]
        },
        {
         "hoverinfo": "none",
         "line": {
          "color": "#888",
          "width": 7.432048684987093
         },
         "mode": "lines",
         "type": "scatter",
         "x": [
          0.035520716994915845,
          0.06882186507966723,
          null
         ],
         "y": [
          0.00029598348700220147,
          0.004141447594331741,
          null
         ]
        },
        {
         "hoverinfo": "none",
         "line": {
          "color": "#888",
          "width": 7.938984501872257
         },
         "mode": "lines",
         "type": "scatter",
         "x": [
          0.035520716994915845,
          0.04424926983059967,
          null
         ],
         "y": [
          0.00029598348700220147,
          0.009245192588423365,
          null
         ]
        },
        {
         "hoverinfo": "none",
         "line": {
          "color": "#888",
          "width": 7.477600858661537
         },
         "mode": "lines",
         "type": "scatter",
         "x": [
          0.035520716994915845,
          0.04221760964270946,
          null
         ],
         "y": [
          0.00029598348700220147,
          0.003341464908629855,
          null
         ]
        },
        {
         "hoverinfo": "none",
         "line": {
          "color": "#888",
          "width": 7.397777663222653
         },
         "mode": "lines",
         "type": "scatter",
         "x": [
          0.035520716994915845,
          -0.0036638285830947353,
          null
         ],
         "y": [
          0.00029598348700220147,
          0.01820132804210753,
          null
         ]
        },
        {
         "hoverinfo": "none",
         "line": {
          "color": "#888",
          "width": 7.793431301510854
         },
         "mode": "lines",
         "type": "scatter",
         "x": [
          0.035520716994915845,
          0.021348718231508915,
          null
         ],
         "y": [
          0.00029598348700220147,
          0.012451826275459169,
          null
         ]
        },
        {
         "hoverinfo": "none",
         "line": {
          "color": "#888",
          "width": 7.940611652861448
         },
         "mode": "lines",
         "type": "scatter",
         "x": [
          0.035520716994915845,
          0.02316199970847503,
          null
         ],
         "y": [
          0.00029598348700220147,
          0.008806188342982607,
          null
         ]
        },
        {
         "hoverinfo": "none",
         "line": {
          "color": "#888",
          "width": 7.326849227981551
         },
         "mode": "lines",
         "type": "scatter",
         "x": [
          0.035520716994915845,
          -0.02511074611479498,
          null
         ],
         "y": [
          0.00029598348700220147,
          0.004411351306071464,
          null
         ]
        },
        {
         "hoverinfo": "none",
         "line": {
          "color": "#888",
          "width": 7.645139208405059
         },
         "mode": "lines",
         "type": "scatter",
         "x": [
          0.035520716994915845,
          0.025948658291624793,
          null
         ],
         "y": [
          0.00029598348700220147,
          0.021254089073911894,
          null
         ]
        },
        {
         "hoverinfo": "none",
         "line": {
          "color": "#888",
          "width": 8.316273683925528
         },
         "mode": "lines",
         "type": "scatter",
         "x": [
          0.035520716994915845,
          0.038354719562571304,
          null
         ],
         "y": [
          0.00029598348700220147,
          0.004161903113501472,
          null
         ]
        },
        {
         "hoverinfo": "none",
         "line": {
          "color": "#888",
          "width": 7.44626639420305
         },
         "mode": "lines",
         "type": "scatter",
         "x": [
          0.035520716994915845,
          0.013787095809808705,
          null
         ],
         "y": [
          0.00029598348700220147,
          0.00563409428498509,
          null
         ]
        },
        {
         "hoverinfo": "none",
         "line": {
          "color": "#888",
          "width": 7.120615456184244
         },
         "mode": "lines",
         "type": "scatter",
         "x": [
          0.035520716994915845,
          0.061321053641733785,
          null
         ],
         "y": [
          0.00029598348700220147,
          -0.024536057246514434,
          null
         ]
        },
        {
         "hoverinfo": "none",
         "line": {
          "color": "#888",
          "width": 7.496122442147929
         },
         "mode": "lines",
         "type": "scatter",
         "x": [
          0.035520716994915845,
          0.03219278187344018,
          null
         ],
         "y": [
          0.00029598348700220147,
          0.0061149754035917,
          null
         ]
        },
        {
         "hoverinfo": "none",
         "line": {
          "color": "#888",
          "width": 7.123108297850766
         },
         "mode": "lines",
         "type": "scatter",
         "x": [
          0.035520716994915845,
          0.05167935923112888,
          null
         ],
         "y": [
          0.00029598348700220147,
          0.007531767395388412,
          null
         ]
        },
        {
         "hoverinfo": "none",
         "line": {
          "color": "#888",
          "width": 7.231142818313206
         },
         "mode": "lines",
         "type": "scatter",
         "x": [
          0.035520716994915845,
          0.0640481455889888,
          null
         ],
         "y": [
          0.00029598348700220147,
          -0.01616254512433649,
          null
         ]
        },
        {
         "hoverinfo": "none",
         "line": {
          "color": "#888",
          "width": 7.024576081360939
         },
         "mode": "lines",
         "type": "scatter",
         "x": [
          0.035520716994915845,
          0.06387396726476834,
          null
         ],
         "y": [
          0.00029598348700220147,
          0.042945063738044145,
          null
         ]
        },
        {
         "hoverinfo": "none",
         "line": {
          "color": "#888",
          "width": 7.553582059263641
         },
         "mode": "lines",
         "type": "scatter",
         "x": [
          0.051668100730155764,
          0.05296089611075171,
          null
         ],
         "y": [
          0.055343590458516626,
          0.0291410783850021,
          null
         ]
        },
        {
         "hoverinfo": "none",
         "line": {
          "color": "#888",
          "width": 7.398119321372045
         },
         "mode": "lines",
         "type": "scatter",
         "x": [
          0.051668100730155764,
          0.04424926983059967,
          null
         ],
         "y": [
          0.055343590458516626,
          0.009245192588423365,
          null
         ]
        },
        {
         "hoverinfo": "none",
         "line": {
          "color": "#888",
          "width": 7.486850070826109
         },
         "mode": "lines",
         "type": "scatter",
         "x": [
          0.051668100730155764,
          0.06387396726476834,
          null
         ],
         "y": [
          0.055343590458516626,
          0.042945063738044145,
          null
         ]
        },
        {
         "hoverinfo": "none",
         "line": {
          "color": "#888",
          "width": 7.209356516708275
         },
         "mode": "lines",
         "type": "scatter",
         "x": [
          0.0617178479758501,
          0.09723148849148923,
          null
         ],
         "y": [
          0.06797352635427499,
          0.149043777791332,
          null
         ]
        },
        {
         "hoverinfo": "none",
         "line": {
          "color": "#888",
          "width": 7.224979488002611
         },
         "mode": "lines",
         "type": "scatter",
         "x": [
          0.0617178479758501,
          0.05296089611075171,
          null
         ],
         "y": [
          0.06797352635427499,
          0.0291410783850021,
          null
         ]
        },
        {
         "hoverinfo": "none",
         "line": {
          "color": "#888",
          "width": 7.098339702719718
         },
         "mode": "lines",
         "type": "scatter",
         "x": [
          0.0617178479758501,
          0.05167935923112888,
          null
         ],
         "y": [
          0.06797352635427499,
          0.007531767395388412,
          null
         ]
        },
        {
         "hoverinfo": "none",
         "line": {
          "color": "#888",
          "width": 7.180916589320016
         },
         "mode": "lines",
         "type": "scatter",
         "x": [
          0.044543130719242284,
          0.05900785634350229,
          null
         ],
         "y": [
          -0.007284453597997196,
          -0.018136595586441873,
          null
         ]
        },
        {
         "hoverinfo": "none",
         "line": {
          "color": "#888",
          "width": 7.075073784276897
         },
         "mode": "lines",
         "type": "scatter",
         "x": [
          0.044543130719242284,
          0.015405938830662207,
          null
         ],
         "y": [
          -0.007284453597997196,
          0.0018236666551723337,
          null
         ]
        },
        {
         "hoverinfo": "none",
         "line": {
          "color": "#888",
          "width": 7.056935699693366
         },
         "mode": "lines",
         "type": "scatter",
         "x": [
          0.044543130719242284,
          0.06372455829418262,
          null
         ],
         "y": [
          -0.007284453597997196,
          0.006396233475824237,
          null
         ]
        },
        {
         "hoverinfo": "none",
         "line": {
          "color": "#888",
          "width": 7.48967127447121
         },
         "mode": "lines",
         "type": "scatter",
         "x": [
          0.044543130719242284,
          0.06446578980483612,
          null
         ],
         "y": [
          -0.007284453597997196,
          -0.010092683244049116,
          null
         ]
        },
        {
         "hoverinfo": "none",
         "line": {
          "color": "#888",
          "width": 7.523253644309963
         },
         "mode": "lines",
         "type": "scatter",
         "x": [
          0.044543130719242284,
          0.05125391663732393,
          null
         ],
         "y": [
          -0.007284453597997196,
          -0.013130951491286513,
          null
         ]
        },
        {
         "hoverinfo": "none",
         "line": {
          "color": "#888",
          "width": 7.612240223661463
         },
         "mode": "lines",
         "type": "scatter",
         "x": [
          0.044543130719242284,
          0.06882186507966723,
          null
         ],
         "y": [
          -0.007284453597997196,
          0.004141447594331741,
          null
         ]
        },
        {
         "hoverinfo": "none",
         "line": {
          "color": "#888",
          "width": 7.934897697930427
         },
         "mode": "lines",
         "type": "scatter",
         "x": [
          0.044543130719242284,
          0.04424926983059967,
          null
         ],
         "y": [
          -0.007284453597997196,
          0.009245192588423365,
          null
         ]
        },
        {
         "hoverinfo": "none",
         "line": {
          "color": "#888",
          "width": 9.332965159294474
         },
         "mode": "lines",
         "type": "scatter",
         "x": [
          0.044543130719242284,
          0.04221760964270946,
          null
         ],
         "y": [
          -0.007284453597997196,
          0.003341464908629855,
          null
         ]
        },
        {
         "hoverinfo": "none",
         "line": {
          "color": "#888",
          "width": 7.076402218943288
         },
         "mode": "lines",
         "type": "scatter",
         "x": [
          0.044543130719242284,
          0.021348718231508915,
          null
         ],
         "y": [
          -0.007284453597997196,
          0.012451826275459169,
          null
         ]
        },
        {
         "hoverinfo": "none",
         "line": {
          "color": "#888",
          "width": 7.370652148866382
         },
         "mode": "lines",
         "type": "scatter",
         "x": [
          0.044543130719242284,
          0.02316199970847503,
          null
         ],
         "y": [
          -0.007284453597997196,
          0.008806188342982607,
          null
         ]
        },
        {
         "hoverinfo": "none",
         "line": {
          "color": "#888",
          "width": 8.278257680151603
         },
         "mode": "lines",
         "type": "scatter",
         "x": [
          0.044543130719242284,
          0.038354719562571304,
          null
         ],
         "y": [
          -0.007284453597997196,
          0.004161903113501472,
          null
         ]
        },
        {
         "hoverinfo": "none",
         "line": {
          "color": "#888",
          "width": 9.320367181941721
         },
         "mode": "lines",
         "type": "scatter",
         "x": [
          0.044543130719242284,
          0.061321053641733785,
          null
         ],
         "y": [
          -0.007284453597997196,
          -0.024536057246514434,
          null
         ]
        },
        {
         "hoverinfo": "none",
         "line": {
          "color": "#888",
          "width": 8.547124375497138
         },
         "mode": "lines",
         "type": "scatter",
         "x": [
          0.044543130719242284,
          0.03219278187344018,
          null
         ],
         "y": [
          -0.007284453597997196,
          0.0061149754035917,
          null
         ]
        },
        {
         "hoverinfo": "none",
         "line": {
          "color": "#888",
          "width": 7.283390560205172
         },
         "mode": "lines",
         "type": "scatter",
         "x": [
          0.044543130719242284,
          0.0640481455889888,
          null
         ],
         "y": [
          -0.007284453597997196,
          -0.01616254512433649,
          null
         ]
        },
        {
         "hoverinfo": "none",
         "line": {
          "color": "#888",
          "width": 7.862681109626224
         },
         "mode": "lines",
         "type": "scatter",
         "x": [
          0.044543130719242284,
          0.030192688386252445,
          null
         ],
         "y": [
          -0.007284453597997196,
          -0.030085742357227503,
          null
         ]
        },
        {
         "hoverinfo": "none",
         "line": {
          "color": "#888",
          "width": 7.289958007495874
         },
         "mode": "lines",
         "type": "scatter",
         "x": [
          0.044543130719242284,
          0.054778156576761564,
          null
         ],
         "y": [
          -0.007284453597997196,
          -0.0713119343208115,
          null
         ]
        },
        {
         "hoverinfo": "none",
         "line": {
          "color": "#888",
          "width": 7.0623971114750645
         },
         "mode": "lines",
         "type": "scatter",
         "x": [
          0.05296089611075171,
          0.06372455829418262,
          null
         ],
         "y": [
          0.0291410783850021,
          0.006396233475824237,
          null
         ]
        },
        {
         "hoverinfo": "none",
         "line": {
          "color": "#888",
          "width": 7.4558330750024515
         },
         "mode": "lines",
         "type": "scatter",
         "x": [
          0.05296089611075171,
          0.02906045571634478,
          null
         ],
         "y": [
          0.0291410783850021,
          0.025702062157286484,
          null
         ]
        },
        {
         "hoverinfo": "none",
         "line": {
          "color": "#888",
          "width": 7.800797277523072
         },
         "mode": "lines",
         "type": "scatter",
         "x": [
          0.05296089611075171,
          0.04424926983059967,
          null
         ],
         "y": [
          0.0291410783850021,
          0.009245192588423365,
          null
         ]
        },
        {
         "hoverinfo": "none",
         "line": {
          "color": "#888",
          "width": 7.222129538851368
         },
         "mode": "lines",
         "type": "scatter",
         "x": [
          0.05296089611075171,
          0.04221760964270946,
          null
         ],
         "y": [
          0.0291410783850021,
          0.003341464908629855,
          null
         ]
        },
        {
         "hoverinfo": "none",
         "line": {
          "color": "#888",
          "width": 7.202366667373164
         },
         "mode": "lines",
         "type": "scatter",
         "x": [
          0.05296089611075171,
          0.02316199970847503,
          null
         ],
         "y": [
          0.0291410783850021,
          0.008806188342982607,
          null
         ]
        },
        {
         "hoverinfo": "none",
         "line": {
          "color": "#888",
          "width": 7.186123730950872
         },
         "mode": "lines",
         "type": "scatter",
         "x": [
          0.05296089611075171,
          0.038354719562571304,
          null
         ],
         "y": [
          0.0291410783850021,
          0.004161903113501472,
          null
         ]
        },
        {
         "hoverinfo": "none",
         "line": {
          "color": "#888",
          "width": 7.219814474024045
         },
         "mode": "lines",
         "type": "scatter",
         "x": [
          0.05296089611075171,
          0.03219278187344018,
          null
         ],
         "y": [
          0.0291410783850021,
          0.0061149754035917,
          null
         ]
        },
        {
         "hoverinfo": "none",
         "line": {
          "color": "#888",
          "width": 7.627466097065377
         },
         "mode": "lines",
         "type": "scatter",
         "x": [
          0.05296089611075171,
          0.05167935923112888,
          null
         ],
         "y": [
          0.0291410783850021,
          0.007531767395388412,
          null
         ]
        },
        {
         "hoverinfo": "none",
         "line": {
          "color": "#888",
          "width": 8.110399530970144
         },
         "mode": "lines",
         "type": "scatter",
         "x": [
          0.05296089611075171,
          0.06387396726476834,
          null
         ],
         "y": [
          0.0291410783850021,
          0.042945063738044145,
          null
         ]
        },
        {
         "hoverinfo": "none",
         "line": {
          "color": "#888",
          "width": 7.579533576549748
         },
         "mode": "lines",
         "type": "scatter",
         "x": [
          0.12455847233791702,
          0.10322922363425956,
          null
         ],
         "y": [
          -0.04891200652158996,
          -0.06635506459826442,
          null
         ]
        },
        {
         "hoverinfo": "none",
         "line": {
          "color": "#888",
          "width": 7.3595133475049215
         },
         "mode": "lines",
         "type": "scatter",
         "x": [
          0.02906045571634478,
          0.015405938830662207,
          null
         ],
         "y": [
          0.025702062157286484,
          0.0018236666551723337,
          null
         ]
        },
        {
         "hoverinfo": "none",
         "line": {
          "color": "#888",
          "width": 7.034974648562754
         },
         "mode": "lines",
         "type": "scatter",
         "x": [
          0.02906045571634478,
          0.06372455829418262,
          null
         ],
         "y": [
          0.025702062157286484,
          0.006396233475824237,
          null
         ]
        },
        {
         "hoverinfo": "none",
         "line": {
          "color": "#888",
          "width": 7.127307937134015
         },
         "mode": "lines",
         "type": "scatter",
         "x": [
          0.02906045571634478,
          -0.05907147481650622,
          null
         ],
         "y": [
          0.025702062157286484,
          0.014644518502113369,
          null
         ]
        },
        {
         "hoverinfo": "none",
         "line": {
          "color": "#888",
          "width": 7.203010683153652
         },
         "mode": "lines",
         "type": "scatter",
         "x": [
          0.02906045571634478,
          -0.006214060919075264,
          null
         ],
         "y": [
          0.025702062157286484,
          0.024114674815726177,
          null
         ]
        },
        {
         "hoverinfo": "none",
         "line": {
          "color": "#888",
          "width": 7.034380181282712
         },
         "mode": "lines",
         "type": "scatter",
         "x": [
          0.02906045571634478,
          0.07496641350674887,
          null
         ],
         "y": [
          0.025702062157286484,
          0.02975290141076397,
          null
         ]
        },
        {
         "hoverinfo": "none",
         "line": {
          "color": "#888",
          "width": 7.756069258434057
         },
         "mode": "lines",
         "type": "scatter",
         "x": [
          0.02906045571634478,
          0.04424926983059967,
          null
         ],
         "y": [
          0.025702062157286484,
          0.009245192588423365,
          null
         ]
        },
        {
         "hoverinfo": "none",
         "line": {
          "color": "#888",
          "width": 7.413135774210642
         },
         "mode": "lines",
         "type": "scatter",
         "x": [
          0.02906045571634478,
          -0.0036638285830947353,
          null
         ],
         "y": [
          0.025702062157286484,
          0.01820132804210753,
          null
         ]
        },
        {
         "hoverinfo": "none",
         "line": {
          "color": "#888",
          "width": 7.515621176056099
         },
         "mode": "lines",
         "type": "scatter",
         "x": [
          0.02906045571634478,
          0.021348718231508915,
          null
         ],
         "y": [
          0.025702062157286484,
          0.012451826275459169,
          null
         ]
        },
        {
         "hoverinfo": "none",
         "line": {
          "color": "#888",
          "width": 7.861739746098925
         },
         "mode": "lines",
         "type": "scatter",
         "x": [
          0.02906045571634478,
          0.02316199970847503,
          null
         ],
         "y": [
          0.025702062157286484,
          0.008806188342982607,
          null
         ]
        },
        {
         "hoverinfo": "none",
         "line": {
          "color": "#888",
          "width": 7.335413075816102
         },
         "mode": "lines",
         "type": "scatter",
         "x": [
          0.02906045571634478,
          0.025948658291624793,
          null
         ],
         "y": [
          0.025702062157286484,
          0.021254089073911894,
          null
         ]
        },
        {
         "hoverinfo": "none",
         "line": {
          "color": "#888",
          "width": 8.089075229313744
         },
         "mode": "lines",
         "type": "scatter",
         "x": [
          0.02906045571634478,
          0.038354719562571304,
          null
         ],
         "y": [
          0.025702062157286484,
          0.004161903113501472,
          null
         ]
        },
        {
         "hoverinfo": "none",
         "line": {
          "color": "#888",
          "width": 7.020355909600717
         },
         "mode": "lines",
         "type": "scatter",
         "x": [
          0.02906045571634478,
          0.03219278187344018,
          null
         ],
         "y": [
          0.025702062157286484,
          0.0061149754035917,
          null
         ]
        },
        {
         "hoverinfo": "none",
         "line": {
          "color": "#888",
          "width": 7.575991390332789
         },
         "mode": "lines",
         "type": "scatter",
         "x": [
          0.02906045571634478,
          0.05167935923112888,
          null
         ],
         "y": [
          0.025702062157286484,
          0.007531767395388412,
          null
         ]
        },
        {
         "hoverinfo": "none",
         "line": {
          "color": "#888",
          "width": 7.68754371989449
         },
         "mode": "lines",
         "type": "scatter",
         "x": [
          0.02906045571634478,
          0.06387396726476834,
          null
         ],
         "y": [
          0.025702062157286484,
          0.042945063738044145,
          null
         ]
        },
        {
         "hoverinfo": "none",
         "line": {
          "color": "#888",
          "width": 7.216300970626351
         },
         "mode": "lines",
         "type": "scatter",
         "x": [
          0.04424926983059967,
          -0.015159286895460984,
          null
         ],
         "y": [
          0.009245192588423365,
          0.022380869498685244,
          null
         ]
        },
        {
         "hoverinfo": "none",
         "line": {
          "color": "#888",
          "width": 7.100214741089415
         },
         "mode": "lines",
         "type": "scatter",
         "x": [
          0.04424926983059967,
          0.05900785634350229,
          null
         ],
         "y": [
          0.009245192588423365,
          -0.018136595586441873,
          null
         ]
        },
        {
         "hoverinfo": "none",
         "line": {
          "color": "#888",
          "width": 8.391249723054269
         },
         "mode": "lines",
         "type": "scatter",
         "x": [
          0.04424926983059967,
          0.015405938830662207,
          null
         ],
         "y": [
          0.009245192588423365,
          0.0018236666551723337,
          null
         ]
        },
        {
         "hoverinfo": "none",
         "line": {
          "color": "#888",
          "width": 7.245940169120573
         },
         "mode": "lines",
         "type": "scatter",
         "x": [
          0.04424926983059967,
          0.06372455829418262,
          null
         ],
         "y": [
          0.009245192588423365,
          0.006396233475824237,
          null
         ]
        },
        {
         "hoverinfo": "none",
         "line": {
          "color": "#888",
          "width": 7.157086112932447
         },
         "mode": "lines",
         "type": "scatter",
         "x": [
          0.04424926983059967,
          0.0877252433539372,
          null
         ],
         "y": [
          0.009245192588423365,
          -0.05032673672083707,
          null
         ]
        },
        {
         "hoverinfo": "none",
         "line": {
          "color": "#888",
          "width": 7.010189434655092
         },
         "mode": "lines",
         "type": "scatter",
         "x": [
          0.04424926983059967,
          -0.006214060919075264,
          null
         ],
         "y": [
          0.009245192588423365,
          0.024114674815726177,
          null
         ]
        },
        {
         "hoverinfo": "none",
         "line": {
          "color": "#888",
          "width": 7.938805641328781
         },
         "mode": "lines",
         "type": "scatter",
         "x": [
          0.04424926983059967,
          0.08332396253443919,
          null
         ],
         "y": [
          0.009245192588423365,
          0.01232482248712961,
          null
         ]
        },
        {
         "hoverinfo": "none",
         "line": {
          "color": "#888",
          "width": 7.487220221464094
         },
         "mode": "lines",
         "type": "scatter",
         "x": [
          0.04424926983059967,
          0.05125391663732393,
          null
         ],
         "y": [
          0.009245192588423365,
          -0.013130951491286513,
          null
         ]
        },
        {
         "hoverinfo": "none",
         "line": {
          "color": "#888",
          "width": 7.1594457083937755
         },
         "mode": "lines",
         "type": "scatter",
         "x": [
          0.04424926983059967,
          0.05167761610956777,
          null
         ],
         "y": [
          0.009245192588423365,
          -0.025632995988194535,
          null
         ]
        },
        {
         "hoverinfo": "none",
         "line": {
          "color": "#888",
          "width": 8.123047531659115
         },
         "mode": "lines",
         "type": "scatter",
         "x": [
          0.04424926983059967,
          0.04221760964270946,
          null
         ],
         "y": [
          0.009245192588423365,
          0.003341464908629855,
          null
         ]
        },
        {
         "hoverinfo": "none",
         "line": {
          "color": "#888",
          "width": 7.365476649076891
         },
         "mode": "lines",
         "type": "scatter",
         "x": [
          0.04424926983059967,
          -0.0036638285830947353,
          null
         ],
         "y": [
          0.009245192588423365,
          0.01820132804210753,
          null
         ]
        },
        {
         "hoverinfo": "none",
         "line": {
          "color": "#888",
          "width": 7.734508719011001
         },
         "mode": "lines",
         "type": "scatter",
         "x": [
          0.04424926983059967,
          0.021348718231508915,
          null
         ],
         "y": [
          0.009245192588423365,
          0.012451826275459169,
          null
         ]
        },
        {
         "hoverinfo": "none",
         "line": {
          "color": "#888",
          "width": 8.009379648996447
         },
         "mode": "lines",
         "type": "scatter",
         "x": [
          0.04424926983059967,
          0.02316199970847503,
          null
         ],
         "y": [
          0.009245192588423365,
          0.008806188342982607,
          null
         ]
        },
        {
         "hoverinfo": "none",
         "line": {
          "color": "#888",
          "width": 7.143339716323048
         },
         "mode": "lines",
         "type": "scatter",
         "x": [
          0.04424926983059967,
          0.025948658291624793,
          null
         ],
         "y": [
          0.009245192588423365,
          0.021254089073911894,
          null
         ]
        },
        {
         "hoverinfo": "none",
         "line": {
          "color": "#888",
          "width": 8.474187011216166
         },
         "mode": "lines",
         "type": "scatter",
         "x": [
          0.04424926983059967,
          0.038354719562571304,
          null
         ],
         "y": [
          0.009245192588423365,
          0.004161903113501472,
          null
         ]
        },
        {
         "hoverinfo": "none",
         "line": {
          "color": "#888",
          "width": 7.346278722793775
         },
         "mode": "lines",
         "type": "scatter",
         "x": [
          0.04424926983059967,
          0.061321053641733785,
          null
         ],
         "y": [
          0.009245192588423365,
          -0.024536057246514434,
          null
         ]
        },
        {
         "hoverinfo": "none",
         "line": {
          "color": "#888",
          "width": 7.493960086989535
         },
         "mode": "lines",
         "type": "scatter",
         "x": [
          0.04424926983059967,
          0.03219278187344018,
          null
         ],
         "y": [
          0.009245192588423365,
          0.0061149754035917,
          null
         ]
        },
        {
         "hoverinfo": "none",
         "line": {
          "color": "#888",
          "width": 7.854379485248646
         },
         "mode": "lines",
         "type": "scatter",
         "x": [
          0.04424926983059967,
          0.05167935923112888,
          null
         ],
         "y": [
          0.009245192588423365,
          0.007531767395388412,
          null
         ]
        },
        {
         "hoverinfo": "none",
         "line": {
          "color": "#888",
          "width": 7.106532237865361
         },
         "mode": "lines",
         "type": "scatter",
         "x": [
          0.04424926983059967,
          0.0640481455889888,
          null
         ],
         "y": [
          0.009245192588423365,
          -0.01616254512433649,
          null
         ]
        },
        {
         "hoverinfo": "none",
         "line": {
          "color": "#888",
          "width": 7.254873135156268
         },
         "mode": "lines",
         "type": "scatter",
         "x": [
          0.04424926983059967,
          0.030192688386252445,
          null
         ],
         "y": [
          0.009245192588423365,
          -0.030085742357227503,
          null
         ]
        },
        {
         "hoverinfo": "none",
         "line": {
          "color": "#888",
          "width": 7.499998635460287
         },
         "mode": "lines",
         "type": "scatter",
         "x": [
          0.04424926983059967,
          0.04047227523908738,
          null
         ],
         "y": [
          0.009245192588423365,
          0.061441597952245686,
          null
         ]
        },
        {
         "hoverinfo": "none",
         "line": {
          "color": "#888",
          "width": 7.132459235408302
         },
         "mode": "lines",
         "type": "scatter",
         "x": [
          0.04221760964270946,
          0.015405938830662207,
          null
         ],
         "y": [
          0.003341464908629855,
          0.0018236666551723337,
          null
         ]
        },
        {
         "hoverinfo": "none",
         "line": {
          "color": "#888",
          "width": 7.175252546216086
         },
         "mode": "lines",
         "type": "scatter",
         "x": [
          0.04221760964270946,
          0.05125391663732393,
          null
         ],
         "y": [
          0.003341464908629855,
          -0.013130951491286513,
          null
         ]
        },
        {
         "hoverinfo": "none",
         "line": {
          "color": "#888",
          "width": 7.335328848226837
         },
         "mode": "lines",
         "type": "scatter",
         "x": [
          0.04221760964270946,
          0.05167761610956777,
          null
         ],
         "y": [
          0.003341464908629855,
          -0.025632995988194535,
          null
         ]
        },
        {
         "hoverinfo": "none",
         "line": {
          "color": "#888",
          "width": 7.045548097811693
         },
         "mode": "lines",
         "type": "scatter",
         "x": [
          0.04221760964270946,
          0.06882186507966723,
          null
         ],
         "y": [
          0.003341464908629855,
          0.004141447594331741,
          null
         ]
        },
        {
         "hoverinfo": "none",
         "line": {
          "color": "#888",
          "width": 7.265086065559251
         },
         "mode": "lines",
         "type": "scatter",
         "x": [
          0.04221760964270946,
          0.021348718231508915,
          null
         ],
         "y": [
          0.003341464908629855,
          0.012451826275459169,
          null
         ]
        },
        {
         "hoverinfo": "none",
         "line": {
          "color": "#888",
          "width": 7.781480084293263
         },
         "mode": "lines",
         "type": "scatter",
         "x": [
          0.04221760964270946,
          0.02316199970847503,
          null
         ],
         "y": [
          0.003341464908629855,
          0.008806188342982607,
          null
         ]
        },
        {
         "hoverinfo": "none",
         "line": {
          "color": "#888",
          "width": 8.432264208032045
         },
         "mode": "lines",
         "type": "scatter",
         "x": [
          0.04221760964270946,
          0.038354719562571304,
          null
         ],
         "y": [
          0.003341464908629855,
          0.004161903113501472,
          null
         ]
        },
        {
         "hoverinfo": "none",
         "line": {
          "color": "#888",
          "width": 8.800034271229585
         },
         "mode": "lines",
         "type": "scatter",
         "x": [
          0.04221760964270946,
          0.061321053641733785,
          null
         ],
         "y": [
          0.003341464908629855,
          -0.024536057246514434,
          null
         ]
        },
        {
         "hoverinfo": "none",
         "line": {
          "color": "#888",
          "width": 8.705113284807997
         },
         "mode": "lines",
         "type": "scatter",
         "x": [
          0.04221760964270946,
          0.03219278187344018,
          null
         ],
         "y": [
          0.003341464908629855,
          0.0061149754035917,
          null
         ]
        },
        {
         "hoverinfo": "none",
         "line": {
          "color": "#888",
          "width": 7.119964204051704
         },
         "mode": "lines",
         "type": "scatter",
         "x": [
          0.04221760964270946,
          0.05167935923112888,
          null
         ],
         "y": [
          0.003341464908629855,
          0.007531767395388412,
          null
         ]
        },
        {
         "hoverinfo": "none",
         "line": {
          "color": "#888",
          "width": 8.054890223018129
         },
         "mode": "lines",
         "type": "scatter",
         "x": [
          0.04221760964270946,
          0.030192688386252445,
          null
         ],
         "y": [
          0.003341464908629855,
          -0.030085742357227503,
          null
         ]
        },
        {
         "hoverinfo": "none",
         "line": {
          "color": "#888",
          "width": 7.210378959753707
         },
         "mode": "lines",
         "type": "scatter",
         "x": [
          0.02316199970847503,
          -0.015159286895460984,
          null
         ],
         "y": [
          0.008806188342982607,
          0.022380869498685244,
          null
         ]
        },
        {
         "hoverinfo": "none",
         "line": {
          "color": "#888",
          "width": 7.557276396566895
         },
         "mode": "lines",
         "type": "scatter",
         "x": [
          0.02316199970847503,
          0.015405938830662207,
          null
         ],
         "y": [
          0.008806188342982607,
          0.0018236666551723337,
          null
         ]
        },
        {
         "hoverinfo": "none",
         "line": {
          "color": "#888",
          "width": 7.054913910082906
         },
         "mode": "lines",
         "type": "scatter",
         "x": [
          0.02316199970847503,
          0.06372455829418262,
          null
         ],
         "y": [
          0.008806188342982607,
          0.006396233475824237,
          null
         ]
        },
        {
         "hoverinfo": "none",
         "line": {
          "color": "#888",
          "width": 7.684060907532765
         },
         "mode": "lines",
         "type": "scatter",
         "x": [
          0.02316199970847503,
          -0.006214060919075264,
          null
         ],
         "y": [
          0.008806188342982607,
          0.024114674815726177,
          null
         ]
        },
        {
         "hoverinfo": "none",
         "line": {
          "color": "#888",
          "width": 7.221662615620782
         },
         "mode": "lines",
         "type": "scatter",
         "x": [
          0.02316199970847503,
          0.05125391663732393,
          null
         ],
         "y": [
          0.008806188342982607,
          -0.013130951491286513,
          null
         ]
        },
        {
         "hoverinfo": "none",
         "line": {
          "color": "#888",
          "width": 8.010960888084567
         },
         "mode": "lines",
         "type": "scatter",
         "x": [
          0.02316199970847503,
          0.05167761610956777,
          null
         ],
         "y": [
          0.008806188342982607,
          -0.025632995988194535,
          null
         ]
        },
        {
         "hoverinfo": "none",
         "line": {
          "color": "#888",
          "width": 7.763813584564282
         },
         "mode": "lines",
         "type": "scatter",
         "x": [
          0.02316199970847503,
          -0.0036638285830947353,
          null
         ],
         "y": [
          0.008806188342982607,
          0.01820132804210753,
          null
         ]
        },
        {
         "hoverinfo": "none",
         "line": {
          "color": "#888",
          "width": 8.444371026069518
         },
         "mode": "lines",
         "type": "scatter",
         "x": [
          0.02316199970847503,
          0.021348718231508915,
          null
         ],
         "y": [
          0.008806188342982607,
          0.012451826275459169,
          null
         ]
        },
        {
         "hoverinfo": "none",
         "line": {
          "color": "#888",
          "width": 7.886196296143064
         },
         "mode": "lines",
         "type": "scatter",
         "x": [
          0.02316199970847503,
          0.025948658291624793,
          null
         ],
         "y": [
          0.008806188342982607,
          0.021254089073911894,
          null
         ]
        },
        {
         "hoverinfo": "none",
         "line": {
          "color": "#888",
          "width": 8.586811082773615
         },
         "mode": "lines",
         "type": "scatter",
         "x": [
          0.02316199970847503,
          0.038354719562571304,
          null
         ],
         "y": [
          0.008806188342982607,
          0.004161903113501472,
          null
         ]
        },
        {
         "hoverinfo": "none",
         "line": {
          "color": "#888",
          "width": 7.156473994633305
         },
         "mode": "lines",
         "type": "scatter",
         "x": [
          0.02316199970847503,
          0.013787095809808705,
          null
         ],
         "y": [
          0.008806188342982607,
          0.00563409428498509,
          null
         ]
        },
        {
         "hoverinfo": "none",
         "line": {
          "color": "#888",
          "width": 7.603658310323318
         },
         "mode": "lines",
         "type": "scatter",
         "x": [
          0.02316199970847503,
          0.03219278187344018,
          null
         ],
         "y": [
          0.008806188342982607,
          0.0061149754035917,
          null
         ]
        },
        {
         "hoverinfo": "none",
         "line": {
          "color": "#888",
          "width": 7.401524552846153
         },
         "mode": "lines",
         "type": "scatter",
         "x": [
          0.02316199970847503,
          0.05167935923112888,
          null
         ],
         "y": [
          0.008806188342982607,
          0.007531767395388412,
          null
         ]
        },
        {
         "hoverinfo": "none",
         "line": {
          "color": "#888",
          "width": 7.040476522025591
         },
         "mode": "lines",
         "type": "scatter",
         "x": [
          0.025948658291624793,
          -0.015159286895460984,
          null
         ],
         "y": [
          0.021254089073911894,
          0.022380869498685244,
          null
         ]
        },
        {
         "hoverinfo": "none",
         "line": {
          "color": "#888",
          "width": 7.259531861855264
         },
         "mode": "lines",
         "type": "scatter",
         "x": [
          0.025948658291624793,
          0.015405938830662207,
          null
         ],
         "y": [
          0.021254089073911894,
          0.0018236666551723337,
          null
         ]
        },
        {
         "hoverinfo": "none",
         "line": {
          "color": "#888",
          "width": 7.2397502041074135
         },
         "mode": "lines",
         "type": "scatter",
         "x": [
          0.025948658291624793,
          0.06372455829418262,
          null
         ],
         "y": [
          0.021254089073911894,
          0.006396233475824237,
          null
         ]
        },
        {
         "hoverinfo": "none",
         "line": {
          "color": "#888",
          "width": 7.342267576097857
         },
         "mode": "lines",
         "type": "scatter",
         "x": [
          0.025948658291624793,
          -0.006214060919075264,
          null
         ],
         "y": [
          0.021254089073911894,
          0.024114674815726177,
          null
         ]
        },
        {
         "hoverinfo": "none",
         "line": {
          "color": "#888",
          "width": 7.381922431875896
         },
         "mode": "lines",
         "type": "scatter",
         "x": [
          0.025948658291624793,
          0.05167761610956777,
          null
         ],
         "y": [
          0.021254089073911894,
          -0.025632995988194535,
          null
         ]
        },
        {
         "hoverinfo": "none",
         "line": {
          "color": "#888",
          "width": 7.598415732349839
         },
         "mode": "lines",
         "type": "scatter",
         "x": [
          0.025948658291624793,
          -0.0036638285830947353,
          null
         ],
         "y": [
          0.021254089073911894,
          0.01820132804210753,
          null
         ]
        },
        {
         "hoverinfo": "none",
         "line": {
          "color": "#888",
          "width": 7.320855517189374
         },
         "mode": "lines",
         "type": "scatter",
         "x": [
          0.025948658291624793,
          0.021348718231508915,
          null
         ],
         "y": [
          0.021254089073911894,
          0.012451826275459169,
          null
         ]
        },
        {
         "hoverinfo": "none",
         "line": {
          "color": "#888",
          "width": 7.518532888795013
         },
         "mode": "lines",
         "type": "scatter",
         "x": [
          0.025948658291624793,
          0.038354719562571304,
          null
         ],
         "y": [
          0.021254089073911894,
          0.004161903113501472,
          null
         ]
        },
        {
         "hoverinfo": "none",
         "line": {
          "color": "#888",
          "width": 7.18942287182601
         },
         "mode": "lines",
         "type": "scatter",
         "x": [
          0.025948658291624793,
          0.013787095809808705,
          null
         ],
         "y": [
          0.021254089073911894,
          0.00563409428498509,
          null
         ]
        },
        {
         "hoverinfo": "none",
         "line": {
          "color": "#888",
          "width": 7.620698699704813
         },
         "mode": "lines",
         "type": "scatter",
         "x": [
          0.025948658291624793,
          0.05167935923112888,
          null
         ],
         "y": [
          0.021254089073911894,
          0.007531767395388412,
          null
         ]
        },
        {
         "hoverinfo": "none",
         "line": {
          "color": "#888",
          "width": 7.712756255166436
         },
         "mode": "lines",
         "type": "scatter",
         "x": [
          0.038354719562571304,
          0.05900785634350229,
          null
         ],
         "y": [
          0.004161903113501472,
          -0.018136595586441873,
          null
         ]
        },
        {
         "hoverinfo": "none",
         "line": {
          "color": "#888",
          "width": 7.942520543299935
         },
         "mode": "lines",
         "type": "scatter",
         "x": [
          0.038354719562571304,
          0.015405938830662207,
          null
         ],
         "y": [
          0.004161903113501472,
          0.0018236666551723337,
          null
         ]
        },
        {
         "hoverinfo": "none",
         "line": {
          "color": "#888",
          "width": 7.2293618002416515
         },
         "mode": "lines",
         "type": "scatter",
         "x": [
          0.038354719562571304,
          0.06372455829418262,
          null
         ],
         "y": [
          0.004161903113501472,
          0.006396233475824237,
          null
         ]
        },
        {
         "hoverinfo": "none",
         "line": {
          "color": "#888",
          "width": 7.161017791327181
         },
         "mode": "lines",
         "type": "scatter",
         "x": [
          0.038354719562571304,
          -0.006214060919075264,
          null
         ],
         "y": [
          0.004161903113501472,
          0.024114674815726177,
          null
         ]
        },
        {
         "hoverinfo": "none",
         "line": {
          "color": "#888",
          "width": 7.061991082162166
         },
         "mode": "lines",
         "type": "scatter",
         "x": [
          0.038354719562571304,
          0.08332396253443919,
          null
         ],
         "y": [
          0.004161903113501472,
          0.01232482248712961,
          null
         ]
        },
        {
         "hoverinfo": "none",
         "line": {
          "color": "#888",
          "width": 7.591442089707686
         },
         "mode": "lines",
         "type": "scatter",
         "x": [
          0.038354719562571304,
          0.06446578980483612,
          null
         ],
         "y": [
          0.004161903113501472,
          -0.010092683244049116,
          null
         ]
        },
        {
         "hoverinfo": "none",
         "line": {
          "color": "#888",
          "width": 8.248440010981945
         },
         "mode": "lines",
         "type": "scatter",
         "x": [
          0.038354719562571304,
          0.05125391663732393,
          null
         ],
         "y": [
          0.004161903113501472,
          -0.013130951491286513,
          null
         ]
        },
        {
         "hoverinfo": "none",
         "line": {
          "color": "#888",
          "width": 7.276716802868608
         },
         "mode": "lines",
         "type": "scatter",
         "x": [
          0.038354719562571304,
          -0.02610107639278104,
          null
         ],
         "y": [
          0.004161903113501472,
          0.025977183162380305,
          null
         ]
        },
        {
         "hoverinfo": "none",
         "line": {
          "color": "#888",
          "width": 8.361601666134597
         },
         "mode": "lines",
         "type": "scatter",
         "x": [
          0.038354719562571304,
          0.05167761610956777,
          null
         ],
         "y": [
          0.004161903113501472,
          -0.025632995988194535,
          null
         ]
        },
        {
         "hoverinfo": "none",
         "line": {
          "color": "#888",
          "width": 7.3088411022779995
         },
         "mode": "lines",
         "type": "scatter",
         "x": [
          0.038354719562571304,
          0.07386306390893059,
          null
         ],
         "y": [
          0.004161903113501472,
          -0.027114739899880624,
          null
         ]
        },
        {
         "hoverinfo": "none",
         "line": {
          "color": "#888",
          "width": 7.454471763098494
         },
         "mode": "lines",
         "type": "scatter",
         "x": [
          0.038354719562571304,
          0.06882186507966723,
          null
         ],
         "y": [
          0.004161903113501472,
          0.004141447594331741,
          null
         ]
        },
        {
         "hoverinfo": "none",
         "line": {
          "color": "#888",
          "width": 7.579601336627317
         },
         "mode": "lines",
         "type": "scatter",
         "x": [
          0.038354719562571304,
          -0.0036638285830947353,
          null
         ],
         "y": [
          0.004161903113501472,
          0.01820132804210753,
          null
         ]
        },
        {
         "hoverinfo": "none",
         "line": {
          "color": "#888",
          "width": 7.94329046958418
         },
         "mode": "lines",
         "type": "scatter",
         "x": [
          0.038354719562571304,
          0.021348718231508915,
          null
         ],
         "y": [
          0.004161903113501472,
          0.012451826275459169,
          null
         ]
        },
        {
         "hoverinfo": "none",
         "line": {
          "color": "#888",
          "width": 7.1930343199035605
         },
         "mode": "lines",
         "type": "scatter",
         "x": [
          0.038354719562571304,
          0.06667255485155854,
          null
         ],
         "y": [
          0.004161903113501472,
          -0.03658772066558728,
          null
         ]
        },
        {
         "hoverinfo": "none",
         "line": {
          "color": "#888",
          "width": 7.667121024398522
         },
         "mode": "lines",
         "type": "scatter",
         "x": [
          0.038354719562571304,
          0.013787095809808705,
          null
         ],
         "y": [
          0.004161903113501472,
          0.00563409428498509,
          null
         ]
        },
        {
         "hoverinfo": "none",
         "line": {
          "color": "#888",
          "width": 8.050139457915574
         },
         "mode": "lines",
         "type": "scatter",
         "x": [
          0.038354719562571304,
          0.061321053641733785,
          null
         ],
         "y": [
          0.004161903113501472,
          -0.024536057246514434,
          null
         ]
        },
        {
         "hoverinfo": "none",
         "line": {
          "color": "#888",
          "width": 8.279772625905538
         },
         "mode": "lines",
         "type": "scatter",
         "x": [
          0.038354719562571304,
          0.03219278187344018,
          null
         ],
         "y": [
          0.004161903113501472,
          0.0061149754035917,
          null
         ]
        },
        {
         "hoverinfo": "none",
         "line": {
          "color": "#888",
          "width": 8.203619321612765
         },
         "mode": "lines",
         "type": "scatter",
         "x": [
          0.038354719562571304,
          0.05167935923112888,
          null
         ],
         "y": [
          0.004161903113501472,
          0.007531767395388412,
          null
         ]
        },
        {
         "hoverinfo": "none",
         "line": {
          "color": "#888",
          "width": 7.725364138662121
         },
         "mode": "lines",
         "type": "scatter",
         "x": [
          0.038354719562571304,
          0.0640481455889888,
          null
         ],
         "y": [
          0.004161903113501472,
          -0.01616254512433649,
          null
         ]
        },
        {
         "hoverinfo": "none",
         "line": {
          "color": "#888",
          "width": 7.613379796204594
         },
         "mode": "lines",
         "type": "scatter",
         "x": [
          0.038354719562571304,
          0.030192688386252445,
          null
         ],
         "y": [
          0.004161903113501472,
          -0.030085742357227503,
          null
         ]
        },
        {
         "hoverinfo": "none",
         "line": {
          "color": "#888",
          "width": 7.21558555690242
         },
         "mode": "lines",
         "type": "scatter",
         "x": [
          0.038354719562571304,
          0.06387396726476834,
          null
         ],
         "y": [
          0.004161903113501472,
          0.042945063738044145,
          null
         ]
        },
        {
         "hoverinfo": "none",
         "line": {
          "color": "#888",
          "width": 7.496017945614865
         },
         "mode": "lines",
         "type": "scatter",
         "x": [
          0.061321053641733785,
          0.05900785634350229,
          null
         ],
         "y": [
          -0.024536057246514434,
          -0.018136595586441873,
          null
         ]
        },
        {
         "hoverinfo": "none",
         "line": {
          "color": "#888",
          "width": 7.752589311593422
         },
         "mode": "lines",
         "type": "scatter",
         "x": [
          0.061321053641733785,
          0.06446578980483612,
          null
         ],
         "y": [
          -0.024536057246514434,
          -0.010092683244049116,
          null
         ]
        },
        {
         "hoverinfo": "none",
         "line": {
          "color": "#888",
          "width": 7.689942853636258
         },
         "mode": "lines",
         "type": "scatter",
         "x": [
          0.061321053641733785,
          0.05125391663732393,
          null
         ],
         "y": [
          -0.024536057246514434,
          -0.013130951491286513,
          null
         ]
        },
        {
         "hoverinfo": "none",
         "line": {
          "color": "#888",
          "width": 7.008878769429518
         },
         "mode": "lines",
         "type": "scatter",
         "x": [
          0.061321053641733785,
          0.11436319247061712,
          null
         ],
         "y": [
          -0.024536057246514434,
          -0.10329505777182506,
          null
         ]
        },
        {
         "hoverinfo": "none",
         "line": {
          "color": "#888",
          "width": 7.027346868968957
         },
         "mode": "lines",
         "type": "scatter",
         "x": [
          0.061321053641733785,
          0.07386306390893059,
          null
         ],
         "y": [
          -0.024536057246514434,
          -0.027114739899880624,
          null
         ]
        },
        {
         "hoverinfo": "none",
         "line": {
          "color": "#888",
          "width": 7.50943805633559
         },
         "mode": "lines",
         "type": "scatter",
         "x": [
          0.061321053641733785,
          0.06882186507966723,
          null
         ],
         "y": [
          -0.024536057246514434,
          0.004141447594331741,
          null
         ]
        },
        {
         "hoverinfo": "none",
         "line": {
          "color": "#888",
          "width": 8.151353587995898
         },
         "mode": "lines",
         "type": "scatter",
         "x": [
          0.061321053641733785,
          0.03219278187344018,
          null
         ],
         "y": [
          -0.024536057246514434,
          0.0061149754035917,
          null
         ]
        },
        {
         "hoverinfo": "none",
         "line": {
          "color": "#888",
          "width": 7.704588920161449
         },
         "mode": "lines",
         "type": "scatter",
         "x": [
          0.061321053641733785,
          0.0640481455889888,
          null
         ],
         "y": [
          -0.024536057246514434,
          -0.01616254512433649,
          null
         ]
        },
        {
         "hoverinfo": "none",
         "line": {
          "color": "#888",
          "width": 7.5731121743138505
         },
         "mode": "lines",
         "type": "scatter",
         "x": [
          0.061321053641733785,
          0.030192688386252445,
          null
         ],
         "y": [
          -0.024536057246514434,
          -0.030085742357227503,
          null
         ]
        },
        {
         "hoverinfo": "none",
         "line": {
          "color": "#888",
          "width": 7.711432642421613
         },
         "mode": "lines",
         "type": "scatter",
         "x": [
          0.061321053641733785,
          0.054778156576761564,
          null
         ],
         "y": [
          -0.024536057246514434,
          -0.0713119343208115,
          null
         ]
        },
        {
         "hoverinfo": "none",
         "line": {
          "color": "#888",
          "width": 7.22745889272089
         },
         "mode": "lines",
         "type": "scatter",
         "x": [
          0.03219278187344018,
          0.05900785634350229,
          null
         ],
         "y": [
          0.0061149754035917,
          -0.018136595586441873,
          null
         ]
        },
        {
         "hoverinfo": "none",
         "line": {
          "color": "#888",
          "width": 7.223688843053858
         },
         "mode": "lines",
         "type": "scatter",
         "x": [
          0.03219278187344018,
          -0.006214060919075264,
          null
         ],
         "y": [
          0.0061149754035917,
          0.024114674815726177,
          null
         ]
        },
        {
         "hoverinfo": "none",
         "line": {
          "color": "#888",
          "width": 7.0316512181433835
         },
         "mode": "lines",
         "type": "scatter",
         "x": [
          0.03219278187344018,
          0.05125391663732393,
          null
         ],
         "y": [
          0.0061149754035917,
          -0.013130951491286513,
          null
         ]
        },
        {
         "hoverinfo": "none",
         "line": {
          "color": "#888",
          "width": 7.086243648373921
         },
         "mode": "lines",
         "type": "scatter",
         "x": [
          0.03219278187344018,
          0.05167761610956777,
          null
         ],
         "y": [
          0.0061149754035917,
          -0.025632995988194535,
          null
         ]
        },
        {
         "hoverinfo": "none",
         "line": {
          "color": "#888",
          "width": 7.7201097087500425
         },
         "mode": "lines",
         "type": "scatter",
         "x": [
          0.03219278187344018,
          -0.0036638285830947353,
          null
         ],
         "y": [
          0.0061149754035917,
          0.01820132804210753,
          null
         ]
        },
        {
         "hoverinfo": "none",
         "line": {
          "color": "#888",
          "width": 7.28234859233544
         },
         "mode": "lines",
         "type": "scatter",
         "x": [
          0.03219278187344018,
          0.021348718231508915,
          null
         ],
         "y": [
          0.0061149754035917,
          0.012451826275459169,
          null
         ]
        },
        {
         "hoverinfo": "none",
         "line": {
          "color": "#888",
          "width": 7.148231629689584
         },
         "mode": "lines",
         "type": "scatter",
         "x": [
          0.03219278187344018,
          0.05167935923112888,
          null
         ],
         "y": [
          0.0061149754035917,
          0.007531767395388412,
          null
         ]
        },
        {
         "hoverinfo": "none",
         "line": {
          "color": "#888",
          "width": 7.444430532117269
         },
         "mode": "lines",
         "type": "scatter",
         "x": [
          0.03219278187344018,
          0.030192688386252445,
          null
         ],
         "y": [
          0.0061149754035917,
          -0.030085742357227503,
          null
         ]
        },
        {
         "hoverinfo": "none",
         "line": {
          "color": "#888",
          "width": 7.067109210250905
         },
         "mode": "lines",
         "type": "scatter",
         "x": [
          0.030030690307780602,
          0.015405938830662207,
          null
         ],
         "y": [
          0.056510679734903424,
          0.0018236666551723337,
          null
         ]
        },
        {
         "hoverinfo": "none",
         "line": {
          "color": "#888",
          "width": 7.261033907016849
         },
         "mode": "lines",
         "type": "scatter",
         "x": [
          0.030030690307780602,
          0.06387396726476834,
          null
         ],
         "y": [
          0.056510679734903424,
          0.042945063738044145,
          null
         ]
        },
        {
         "hoverinfo": "none",
         "line": {
          "color": "#888",
          "width": 8.078054165439605
         },
         "mode": "lines",
         "type": "scatter",
         "x": [
          0.05167935923112888,
          0.05900785634350229,
          null
         ],
         "y": [
          0.007531767395388412,
          -0.018136595586441873,
          null
         ]
        },
        {
         "hoverinfo": "none",
         "line": {
          "color": "#888",
          "width": 7.383835734809225
         },
         "mode": "lines",
         "type": "scatter",
         "x": [
          0.05167935923112888,
          0.015405938830662207,
          null
         ],
         "y": [
          0.007531767395388412,
          0.0018236666551723337,
          null
         ]
        },
        {
         "hoverinfo": "none",
         "line": {
          "color": "#888",
          "width": 7.471833267575177
         },
         "mode": "lines",
         "type": "scatter",
         "x": [
          0.05167935923112888,
          0.0877252433539372,
          null
         ],
         "y": [
          0.007531767395388412,
          -0.05032673672083707,
          null
         ]
        },
        {
         "hoverinfo": "none",
         "line": {
          "color": "#888",
          "width": 7.133912413123165
         },
         "mode": "lines",
         "type": "scatter",
         "x": [
          0.05167935923112888,
          0.06446578980483612,
          null
         ],
         "y": [
          0.007531767395388412,
          -0.010092683244049116,
          null
         ]
        },
        {
         "hoverinfo": "none",
         "line": {
          "color": "#888",
          "width": 7.135720034874435
         },
         "mode": "lines",
         "type": "scatter",
         "x": [
          0.05167935923112888,
          0.05125391663732393,
          null
         ],
         "y": [
          0.007531767395388412,
          -0.013130951491286513,
          null
         ]
        },
        {
         "hoverinfo": "none",
         "line": {
          "color": "#888",
          "width": 7.419840390768625
         },
         "mode": "lines",
         "type": "scatter",
         "x": [
          0.05167935923112888,
          0.05167761610956777,
          null
         ],
         "y": [
          0.007531767395388412,
          -0.025632995988194535,
          null
         ]
        },
        {
         "hoverinfo": "none",
         "line": {
          "color": "#888",
          "width": 7.184058968882892
         },
         "mode": "lines",
         "type": "scatter",
         "x": [
          0.05167935923112888,
          0.021348718231508915,
          null
         ],
         "y": [
          0.007531767395388412,
          0.012451826275459169,
          null
         ]
        },
        {
         "hoverinfo": "none",
         "line": {
          "color": "#888",
          "width": 7.38418885382344
         },
         "mode": "lines",
         "type": "scatter",
         "x": [
          0.05167935923112888,
          0.06667255485155854,
          null
         ],
         "y": [
          0.007531767395388412,
          -0.03658772066558728,
          null
         ]
        },
        {
         "hoverinfo": "none",
         "line": {
          "color": "#888",
          "width": 7.015952192184014
         },
         "mode": "lines",
         "type": "scatter",
         "x": [
          0.05167935923112888,
          0.07372803158749584,
          null
         ],
         "y": [
          0.007531767395388412,
          -0.021176985729282487,
          null
         ]
        },
        {
         "hoverinfo": "none",
         "line": {
          "color": "#888",
          "width": 7.7398299383310265
         },
         "mode": "lines",
         "type": "scatter",
         "x": [
          0.05167935923112888,
          0.0640481455889888,
          null
         ],
         "y": [
          0.007531767395388412,
          -0.01616254512433649,
          null
         ]
        },
        {
         "hoverinfo": "none",
         "line": {
          "color": "#888",
          "width": 7.040182286364244
         },
         "mode": "lines",
         "type": "scatter",
         "x": [
          0.06387396726476834,
          0.14612348160443794,
          null
         ],
         "y": [
          0.042945063738044145,
          0.08461555236711378,
          null
         ]
        },
        {
         "hoverinfo": "none",
         "line": {
          "color": "#888",
          "width": 7.042455554640102
         },
         "mode": "lines",
         "type": "scatter",
         "x": [
          0.7994904654117551,
          0.7419062093658638,
          null
         ],
         "y": [
          0.29890860776853856,
          0.2698044052045629,
          null
         ]
        },
        {
         "hoverinfo": "none",
         "line": {
          "color": "#888",
          "width": 7.034753517529586
         },
         "mode": "lines",
         "type": "scatter",
         "x": [
          0.7994904654117551,
          0.8087458401095561,
          null
         ],
         "y": [
          0.29890860776853856,
          0.32213507990190676,
          null
         ]
        },
        {
         "hoverinfo": "none",
         "line": {
          "color": "#888",
          "width": 7.382731485815951
         },
         "mode": "lines",
         "type": "scatter",
         "x": [
          0.7994904654117551,
          0.8557025367408652,
          null
         ],
         "y": [
          0.29890860776853856,
          0.32162370028112297,
          null
         ]
        },
        {
         "hoverinfo": "none",
         "line": {
          "color": "#888",
          "width": 7.232396721605686
         },
         "mode": "lines",
         "type": "scatter",
         "x": [
          0.8557025367408652,
          0.8942055136787695,
          null
         ],
         "y": [
          0.32162370028112297,
          0.3357528875781171,
          null
         ]
        },
        {
         "hoverinfo": "none",
         "line": {
          "color": "#888",
          "width": 8.565982273458076
         },
         "mode": "lines",
         "type": "scatter",
         "x": [
          0.05900785634350229,
          0.06446578980483612,
          null
         ],
         "y": [
          -0.018136595586441873,
          -0.010092683244049116,
          null
         ]
        },
        {
         "hoverinfo": "none",
         "line": {
          "color": "#888",
          "width": 8.40706576003298
         },
         "mode": "lines",
         "type": "scatter",
         "x": [
          0.05900785634350229,
          0.05125391663732393,
          null
         ],
         "y": [
          -0.018136595586441873,
          -0.013130951491286513,
          null
         ]
        },
        {
         "hoverinfo": "none",
         "line": {
          "color": "#888",
          "width": 7.320771449824635
         },
         "mode": "lines",
         "type": "scatter",
         "x": [
          0.05900785634350229,
          0.10322922363425956,
          null
         ],
         "y": [
          -0.018136595586441873,
          -0.06635506459826442,
          null
         ]
        },
        {
         "hoverinfo": "none",
         "line": {
          "color": "#888",
          "width": 7.348901063801735
         },
         "mode": "lines",
         "type": "scatter",
         "x": [
          0.05900785634350229,
          0.07386306390893059,
          null
         ],
         "y": [
          -0.018136595586441873,
          -0.027114739899880624,
          null
         ]
        },
        {
         "hoverinfo": "none",
         "line": {
          "color": "#888",
          "width": 7.186875910569004
         },
         "mode": "lines",
         "type": "scatter",
         "x": [
          0.05900785634350229,
          0.06882186507966723,
          null
         ],
         "y": [
          -0.018136595586441873,
          0.004141447594331741,
          null
         ]
        },
        {
         "hoverinfo": "none",
         "line": {
          "color": "#888",
          "width": 9.34424005384902
         },
         "mode": "lines",
         "type": "scatter",
         "x": [
          0.05900785634350229,
          0.06667255485155854,
          null
         ],
         "y": [
          -0.018136595586441873,
          -0.03658772066558728,
          null
         ]
        },
        {
         "hoverinfo": "none",
         "line": {
          "color": "#888",
          "width": 9.57620760715189
         },
         "mode": "lines",
         "type": "scatter",
         "x": [
          0.05900785634350229,
          0.0640481455889888,
          null
         ],
         "y": [
          -0.018136595586441873,
          -0.01616254512433649,
          null
         ]
        },
        {
         "hoverinfo": "none",
         "line": {
          "color": "#888",
          "width": 7.264782404954565
         },
         "mode": "lines",
         "type": "scatter",
         "x": [
          0.06372455829418262,
          0.08332396253443919,
          null
         ],
         "y": [
          0.006396233475824237,
          0.01232482248712961,
          null
         ]
        },
        {
         "hoverinfo": "none",
         "line": {
          "color": "#888",
          "width": 7.074185226771881
         },
         "mode": "lines",
         "type": "scatter",
         "x": [
          0.06372455829418262,
          0.16680531094134884,
          null
         ],
         "y": [
          0.006396233475824237,
          -0.002154692345919679,
          null
         ]
        },
        {
         "hoverinfo": "none",
         "line": {
          "color": "#888",
          "width": 7.056066827406337
         },
         "mode": "lines",
         "type": "scatter",
         "x": [
          0.06372455829418262,
          0.021348718231508915,
          null
         ],
         "y": [
          0.006396233475824237,
          0.012451826275459169,
          null
         ]
        },
        {
         "hoverinfo": "none",
         "line": {
          "color": "#888",
          "width": 7.275086363079372
         },
         "mode": "lines",
         "type": "scatter",
         "x": [
          0.06372455829418262,
          0.013787095809808705,
          null
         ],
         "y": [
          0.006396233475824237,
          0.00563409428498509,
          null
         ]
        },
        {
         "hoverinfo": "none",
         "line": {
          "color": "#888",
          "width": 9.18143274563699
         },
         "mode": "lines",
         "type": "scatter",
         "x": [
          0.06446578980483612,
          0.05125391663732393,
          null
         ],
         "y": [
          -0.010092683244049116,
          -0.013130951491286513,
          null
         ]
        },
        {
         "hoverinfo": "none",
         "line": {
          "color": "#888",
          "width": 7.413495277595836
         },
         "mode": "lines",
         "type": "scatter",
         "x": [
          0.06446578980483612,
          0.07386306390893059,
          null
         ],
         "y": [
          -0.010092683244049116,
          -0.027114739899880624,
          null
         ]
        },
        {
         "hoverinfo": "none",
         "line": {
          "color": "#888",
          "width": 7.324280601060476
         },
         "mode": "lines",
         "type": "scatter",
         "x": [
          0.06446578980483612,
          0.06882186507966723,
          null
         ],
         "y": [
          -0.010092683244049116,
          0.004141447594331741,
          null
         ]
        },
        {
         "hoverinfo": "none",
         "line": {
          "color": "#888",
          "width": 8.287016180683297
         },
         "mode": "lines",
         "type": "scatter",
         "x": [
          0.06446578980483612,
          0.06667255485155854,
          null
         ],
         "y": [
          -0.010092683244049116,
          -0.03658772066558728,
          null
         ]
        },
        {
         "hoverinfo": "none",
         "line": {
          "color": "#888",
          "width": 9.145668224702417
         },
         "mode": "lines",
         "type": "scatter",
         "x": [
          0.06446578980483612,
          0.0640481455889888,
          null
         ],
         "y": [
          -0.010092683244049116,
          -0.01616254512433649,
          null
         ]
        },
        {
         "hoverinfo": "none",
         "line": {
          "color": "#888",
          "width": 7.777414961840496
         },
         "mode": "lines",
         "type": "scatter",
         "x": [
          0.05125391663732393,
          0.07386306390893059,
          null
         ],
         "y": [
          -0.013130951491286513,
          -0.027114739899880624,
          null
         ]
        },
        {
         "hoverinfo": "none",
         "line": {
          "color": "#888",
          "width": 7.259891643090372
         },
         "mode": "lines",
         "type": "scatter",
         "x": [
          0.05125391663732393,
          0.06882186507966723,
          null
         ],
         "y": [
          -0.013130951491286513,
          0.004141447594331741,
          null
         ]
        },
        {
         "hoverinfo": "none",
         "line": {
          "color": "#888",
          "width": 8.526120648092396
         },
         "mode": "lines",
         "type": "scatter",
         "x": [
          0.05125391663732393,
          0.06667255485155854,
          null
         ],
         "y": [
          -0.013130951491286513,
          -0.03658772066558728,
          null
         ]
        },
        {
         "hoverinfo": "none",
         "line": {
          "color": "#888",
          "width": 8.683866907769254
         },
         "mode": "lines",
         "type": "scatter",
         "x": [
          0.05125391663732393,
          0.0640481455889888,
          null
         ],
         "y": [
          -0.013130951491286513,
          -0.01616254512433649,
          null
         ]
        },
        {
         "hoverinfo": "none",
         "line": {
          "color": "#888",
          "width": 8.134279506583859
         },
         "mode": "lines",
         "type": "scatter",
         "x": [
          0.07386306390893059,
          0.06667255485155854,
          null
         ],
         "y": [
          -0.027114739899880624,
          -0.03658772066558728,
          null
         ]
        },
        {
         "hoverinfo": "none",
         "line": {
          "color": "#888",
          "width": 7.615988560022239
         },
         "mode": "lines",
         "type": "scatter",
         "x": [
          0.07386306390893059,
          0.0640481455889888,
          null
         ],
         "y": [
          -0.027114739899880624,
          -0.01616254512433649,
          null
         ]
        },
        {
         "hoverinfo": "none",
         "line": {
          "color": "#888",
          "width": 7.065016867122895
         },
         "mode": "lines",
         "type": "scatter",
         "x": [
          0.06882186507966723,
          0.09216181759457787,
          null
         ],
         "y": [
          0.004141447594331741,
          0.07357703255562317,
          null
         ]
        },
        {
         "hoverinfo": "none",
         "line": {
          "color": "#888",
          "width": 7.229656662503295
         },
         "mode": "lines",
         "type": "scatter",
         "x": [
          0.06882186507966723,
          0.013787095809808705,
          null
         ],
         "y": [
          0.004141447594331741,
          0.00563409428498509,
          null
         ]
        },
        {
         "hoverinfo": "none",
         "line": {
          "color": "#888",
          "width": 7.2667072108291
         },
         "mode": "lines",
         "type": "scatter",
         "x": [
          0.06882186507966723,
          0.0640481455889888,
          null
         ],
         "y": [
          0.004141447594331741,
          -0.01616254512433649,
          null
         ]
        },
        {
         "hoverinfo": "none",
         "line": {
          "color": "#888",
          "width": 9.121479657401263
         },
         "mode": "lines",
         "type": "scatter",
         "x": [
          0.06667255485155854,
          0.0640481455889888,
          null
         ],
         "y": [
          -0.03658772066558728,
          -0.01616254512433649,
          null
         ]
        },
        {
         "hoverinfo": "none",
         "line": {
          "color": "#888",
          "width": 7.105050416041513
         },
         "mode": "lines",
         "type": "scatter",
         "x": [
          0.0640481455889888,
          0.10322922363425956,
          null
         ],
         "y": [
          -0.01616254512433649,
          -0.06635506459826442,
          null
         ]
        },
        {
         "hoverinfo": "none",
         "line": {
          "color": "#888",
          "width": 8.139689877335801
         },
         "mode": "lines",
         "type": "scatter",
         "x": [
          0.030192688386252445,
          0.054778156576761564,
          null
         ],
         "y": [
          -0.030085742357227503,
          -0.0713119343208115,
          null
         ]
        },
        {
         "hoverinfo": "none",
         "line": {
          "color": "#888",
          "width": 7.064144248422584
         },
         "mode": "lines",
         "type": "scatter",
         "x": [
          0.015405938830662207,
          0.08332396253443919,
          null
         ],
         "y": [
          0.0018236666551723337,
          0.01232482248712961,
          null
         ]
        },
        {
         "hoverinfo": "none",
         "line": {
          "color": "#888",
          "width": 7.375172903675388
         },
         "mode": "lines",
         "type": "scatter",
         "x": [
          0.015405938830662207,
          -0.0902186788307068,
          null
         ],
         "y": [
          0.0018236666551723337,
          -0.06894046194564389,
          null
         ]
        },
        {
         "hoverinfo": "none",
         "line": {
          "color": "#888",
          "width": 7.916405377362525
         },
         "mode": "lines",
         "type": "scatter",
         "x": [
          0.08332396253443919,
          0.11194464052597483,
          null
         ],
         "y": [
          0.01232482248712961,
          0.02925174787337331,
          null
         ]
        },
        {
         "hoverinfo": "none",
         "line": {
          "color": "#888",
          "width": 8.805651059439043
         },
         "mode": "lines",
         "type": "scatter",
         "x": [
          0.08332396253443919,
          0.15248073765888975,
          null
         ],
         "y": [
          0.01232482248712961,
          0.059548323510052,
          null
         ]
        },
        {
         "hoverinfo": "none",
         "line": {
          "color": "#888",
          "width": 7.029767949135382
         },
         "mode": "lines",
         "type": "scatter",
         "x": [
          0.08332396253443919,
          0.16673395853582915,
          null
         ],
         "y": [
          0.01232482248712961,
          0.05056714750863779,
          null
         ]
        },
        {
         "hoverinfo": "none",
         "line": {
          "color": "#888",
          "width": 7.2967672731432085
         },
         "mode": "lines",
         "type": "scatter",
         "x": [
          0.08332396253443919,
          0.04047227523908738,
          null
         ],
         "y": [
          0.01232482248712961,
          0.061441597952245686,
          null
         ]
        },
        {
         "hoverinfo": "none",
         "line": {
          "color": "#888",
          "width": 7.990033642815031
         },
         "mode": "lines",
         "type": "scatter",
         "x": [
          0.11194464052597483,
          0.11932999796805098,
          null
         ],
         "y": [
          0.02925174787337331,
          0.04364284320130795,
          null
         ]
        },
        {
         "hoverinfo": "none",
         "line": {
          "color": "#888",
          "width": 7.146296976435648
         },
         "mode": "lines",
         "type": "scatter",
         "x": [
          0.09723806063632065,
          0.1304274871602375,
          null
         ],
         "y": [
          0.013264870685033976,
          -0.023746255263806137,
          null
         ]
        },
        {
         "hoverinfo": "none",
         "line": {
          "color": "#888",
          "width": 7.497109041354475
         },
         "mode": "lines",
         "type": "scatter",
         "x": [
          0.09723806063632065,
          0.11987650421985169,
          null
         ],
         "y": [
          0.013264870685033976,
          -0.015704242855209875,
          null
         ]
        },
        {
         "hoverinfo": "none",
         "line": {
          "color": "#888",
          "width": 7.721512148218875
         },
         "mode": "lines",
         "type": "scatter",
         "x": [
          0.013787095809808705,
          -0.02610107639278104,
          null
         ],
         "y": [
          0.00563409428498509,
          0.025977183162380305,
          null
         ]
        },
        {
         "hoverinfo": "none",
         "line": {
          "color": "#888",
          "width": 7.124327284835884
         },
         "mode": "lines",
         "type": "scatter",
         "x": [
          0.013787095809808705,
          0.05167761610956777,
          null
         ],
         "y": [
          0.00563409428498509,
          -0.025632995988194535,
          null
         ]
        },
        {
         "hoverinfo": "none",
         "line": {
          "color": "#888",
          "width": 7.175693092409157
         },
         "mode": "lines",
         "type": "scatter",
         "x": [
          0.013787095809808705,
          -0.02511074611479498,
          null
         ],
         "y": [
          0.00563409428498509,
          0.004411351306071464,
          null
         ]
        },
        {
         "hoverinfo": "none",
         "line": {
          "color": "#888",
          "width": 7.752650194429477
         },
         "mode": "lines",
         "type": "scatter",
         "x": [
          -0.5978342599774699,
          -0.5785584073353923,
          null
         ],
         "y": [
          -0.07847048797398709,
          -0.05454054773070615,
          null
         ]
        },
        {
         "hoverinfo": "none",
         "line": {
          "color": "#888",
          "width": 7.125058828846349
         },
         "mode": "lines",
         "type": "scatter",
         "x": [
          -0.5785584073353923,
          -0.6009700064149218,
          null
         ],
         "y": [
          -0.05454054773070615,
          -0.05343434976649758,
          null
         ]
        },
        {
         "hoverinfo": "none",
         "line": {
          "color": "#888",
          "width": 7.446554574800817
         },
         "mode": "lines",
         "type": "scatter",
         "x": [
          0.23065037463830892,
          0.21582683510219994,
          null
         ],
         "y": [
          0.8933635449132298,
          0.8944380162895363,
          null
         ]
        },
        {
         "hoverinfo": "none",
         "line": {
          "color": "#888",
          "width": 8.589250944044899
         },
         "mode": "lines",
         "type": "scatter",
         "x": [
          0.23065037463830892,
          0.2140346646224126,
          null
         ],
         "y": [
          0.8933635449132298,
          0.856276052371697,
          null
         ]
        },
        {
         "hoverinfo": "none",
         "line": {
          "color": "#888",
          "width": 7.250888435984281
         },
         "mode": "lines",
         "type": "scatter",
         "x": [
          0.21582683510219994,
          0.2140346646224126,
          null
         ],
         "y": [
          0.8944380162895363,
          0.856276052371697,
          null
         ]
        },
        {
         "hoverinfo": "none",
         "line": {
          "color": "#888",
          "width": 7.0886843662728545
         },
         "mode": "lines",
         "type": "scatter",
         "x": [
          0.05167761610956777,
          0.0877252433539372,
          null
         ],
         "y": [
          -0.025632995988194535,
          -0.05032673672083707,
          null
         ]
        },
        {
         "hoverinfo": "none",
         "line": {
          "color": "#888",
          "width": 8.652738370726404
         },
         "mode": "lines",
         "type": "scatter",
         "x": [
          0.05167761610956777,
          0.021348718231508915,
          null
         ],
         "y": [
          -0.025632995988194535,
          0.012451826275459169,
          null
         ]
        },
        {
         "hoverinfo": "none",
         "line": {
          "color": "#888",
          "width": 7.079830624698253
         },
         "mode": "lines",
         "type": "scatter",
         "x": [
          0.05167761610956777,
          0.08327352008089708,
          null
         ],
         "y": [
          -0.025632995988194535,
          -0.11387827693732344,
          null
         ]
        },
        {
         "hoverinfo": "none",
         "line": {
          "color": "#888",
          "width": 7.053334045914406
         },
         "mode": "lines",
         "type": "scatter",
         "x": [
          0.05167761610956777,
          0.11137539414352951,
          null
         ],
         "y": [
          -0.025632995988194535,
          -0.15010223173221895,
          null
         ]
        },
        {
         "hoverinfo": "none",
         "line": {
          "color": "#888",
          "width": 7.009534186645068
         },
         "mode": "lines",
         "type": "scatter",
         "x": [
          0.017232177533891113,
          0.027369000837700084,
          null
         ],
         "y": [
          0.09131991431884356,
          0.16296818822164114,
          null
         ]
        },
        {
         "hoverinfo": "none",
         "line": {
          "color": "#888",
          "width": 7.144465137325136
         },
         "mode": "lines",
         "type": "scatter",
         "x": [
          0.017232177533891113,
          -0.059662486437798604,
          null
         ],
         "y": [
          0.09131991431884356,
          0.041756604384219756,
          null
         ]
        },
        {
         "hoverinfo": "none",
         "line": {
          "color": "#888",
          "width": 7.4013214928633015
         },
         "mode": "lines",
         "type": "scatter",
         "x": [
          0.017232177533891113,
          0.019746439310005533,
          null
         ],
         "y": [
          0.09131991431884356,
          0.15789752583849637,
          null
         ]
        },
        {
         "hoverinfo": "none",
         "line": {
          "color": "#888",
          "width": 8.561372545125442
         },
         "mode": "lines",
         "type": "scatter",
         "x": [
          0.017232177533891113,
          0.0034714756308578958,
          null
         ],
         "y": [
          0.09131991431884356,
          0.01590469147723787,
          null
         ]
        },
        {
         "hoverinfo": "none",
         "line": {
          "color": "#888",
          "width": 7.922405327100094
         },
         "mode": "lines",
         "type": "scatter",
         "x": [
          0.017232177533891113,
          0.013561862877167664,
          null
         ],
         "y": [
          0.09131991431884356,
          0.17551807275259812,
          null
         ]
        },
        {
         "hoverinfo": "none",
         "line": {
          "color": "#888",
          "width": 7.058198448384624
         },
         "mode": "lines",
         "type": "scatter",
         "x": [
          0.027369000837700084,
          0.019746439310005533,
          null
         ],
         "y": [
          0.16296818822164114,
          0.15789752583849637,
          null
         ]
        },
        {
         "hoverinfo": "none",
         "line": {
          "color": "#888",
          "width": 7.508234839814497
         },
         "mode": "lines",
         "type": "scatter",
         "x": [
          0.027369000837700084,
          0.013561862877167664,
          null
         ],
         "y": [
          0.16296818822164114,
          0.17551807275259812,
          null
         ]
        },
        {
         "hoverinfo": "none",
         "line": {
          "color": "#888",
          "width": 7.450922508905034
         },
         "mode": "lines",
         "type": "scatter",
         "x": [
          0.019746439310005533,
          0.013561862877167664,
          null
         ],
         "y": [
          0.15789752583849637,
          0.17551807275259812,
          null
         ]
        },
        {
         "hoverinfo": "none",
         "line": {
          "color": "#888",
          "width": 7.2063594367585315
         },
         "mode": "lines",
         "type": "scatter",
         "x": [
          0.013561862877167664,
          -0.007399593675171274,
          null
         ],
         "y": [
          0.17551807275259812,
          0.24709306433628725,
          null
         ]
        },
        {
         "hoverinfo": "none",
         "line": {
          "color": "#888",
          "width": 8.546285390054509
         },
         "mode": "lines",
         "type": "scatter",
         "x": [
          -0.015159286895460984,
          -0.006214060919075264,
          null
         ],
         "y": [
          0.022380869498685244,
          0.024114674815726177,
          null
         ]
        },
        {
         "hoverinfo": "none",
         "line": {
          "color": "#888",
          "width": 7.406118721784896
         },
         "mode": "lines",
         "type": "scatter",
         "x": [
          -0.015159286895460984,
          -0.0907198047928281,
          null
         ],
         "y": [
          0.022380869498685244,
          0.020328143964623988,
          null
         ]
        },
        {
         "hoverinfo": "none",
         "line": {
          "color": "#888",
          "width": 8.733482828657026
         },
         "mode": "lines",
         "type": "scatter",
         "x": [
          -0.015159286895460984,
          -0.0036638285830947353,
          null
         ],
         "y": [
          0.022380869498685244,
          0.01820132804210753,
          null
         ]
        },
        {
         "hoverinfo": "none",
         "line": {
          "color": "#888",
          "width": 7.132114863610585
         },
         "mode": "lines",
         "type": "scatter",
         "x": [
          -0.015159286895460984,
          -0.02511074611479498,
          null
         ],
         "y": [
          0.022380869498685244,
          0.004411351306071464,
          null
         ]
        },
        {
         "hoverinfo": "none",
         "line": {
          "color": "#888",
          "width": 7.235719900911236
         },
         "mode": "lines",
         "type": "scatter",
         "x": [
          -0.006214060919075264,
          -0.0907198047928281,
          null
         ],
         "y": [
          0.024114674815726177,
          0.020328143964623988,
          null
         ]
        },
        {
         "hoverinfo": "none",
         "line": {
          "color": "#888",
          "width": 9.7339598847053
         },
         "mode": "lines",
         "type": "scatter",
         "x": [
          -0.006214060919075264,
          -0.0036638285830947353,
          null
         ],
         "y": [
          0.024114674815726177,
          0.01820132804210753,
          null
         ]
        },
        {
         "hoverinfo": "none",
         "line": {
          "color": "#888",
          "width": 7.1152992984499654
         },
         "mode": "lines",
         "type": "scatter",
         "x": [
          -0.006214060919075264,
          0.021348718231508915,
          null
         ],
         "y": [
          0.024114674815726177,
          0.012451826275459169,
          null
         ]
        },
        {
         "hoverinfo": "none",
         "line": {
          "color": "#888",
          "width": 8.379425001005224
         },
         "mode": "lines",
         "type": "scatter",
         "x": [
          -0.006214060919075264,
          -0.02511074611479498,
          null
         ],
         "y": [
          0.024114674815726177,
          0.004411351306071464,
          null
         ]
        },
        {
         "hoverinfo": "none",
         "line": {
          "color": "#888",
          "width": 7.134469821163245
         },
         "mode": "lines",
         "type": "scatter",
         "x": [
          -0.0907198047928281,
          -0.0036638285830947353,
          null
         ],
         "y": [
          0.020328143964623988,
          0.01820132804210753,
          null
         ]
        },
        {
         "hoverinfo": "none",
         "line": {
          "color": "#888",
          "width": 7.322420948261263
         },
         "mode": "lines",
         "type": "scatter",
         "x": [
          -0.0036638285830947353,
          0.021348718231508915,
          null
         ],
         "y": [
          0.01820132804210753,
          0.012451826275459169,
          null
         ]
        },
        {
         "hoverinfo": "none",
         "line": {
          "color": "#888",
          "width": 8.358604543989683
         },
         "mode": "lines",
         "type": "scatter",
         "x": [
          -0.0036638285830947353,
          -0.02511074611479498,
          null
         ],
         "y": [
          0.01820132804210753,
          0.004411351306071464,
          null
         ]
        },
        {
         "hoverinfo": "none",
         "line": {
          "color": "#888",
          "width": 7.000898730692196
         },
         "mode": "lines",
         "type": "scatter",
         "x": [
          -0.02511074611479498,
          0.021348718231508915,
          null
         ],
         "y": [
          0.004411351306071464,
          0.012451826275459169,
          null
         ]
        },
        {
         "hoverinfo": "none",
         "line": {
          "color": "#888",
          "width": 7.515280027811952
         },
         "mode": "lines",
         "type": "scatter",
         "x": [
          0.07372803158749584,
          0.1250936896592054,
          null
         ],
         "y": [
          -0.021176985729282487,
          -0.08027018011768565,
          null
         ]
        },
        {
         "hoverinfo": "none",
         "line": {
          "color": "#888",
          "width": 7.025505767260631
         },
         "mode": "lines",
         "type": "scatter",
         "x": [
          -0.05271699263032195,
          -0.016005473285937384,
          null
         ],
         "y": [
          -0.34356871386408,
          -0.24708661486192482,
          null
         ]
        },
        {
         "hoverinfo": "none",
         "line": {
          "color": "#888",
          "width": 7.322563315922483
         },
         "mode": "lines",
         "type": "scatter",
         "x": [
          -0.05271699263032195,
          -0.07751215224600905,
          null
         ],
         "y": [
          -0.34356871386408,
          -0.39798427995201574,
          null
         ]
        },
        {
         "hoverinfo": "none",
         "line": {
          "color": "#888",
          "width": 8.033713784004755
         },
         "mode": "lines",
         "type": "scatter",
         "x": [
          -0.05271699263032195,
          -0.060175589180662646,
          null
         ],
         "y": [
          -0.34356871386408,
          -0.3993811508686878,
          null
         ]
        },
        {
         "hoverinfo": "none",
         "line": {
          "color": "#888",
          "width": 9.819951320168686
         },
         "mode": "lines",
         "type": "scatter",
         "x": [
          0.1473676009386884,
          0.16680531094134884,
          null
         ],
         "y": [
          0.016997304923182657,
          -0.002154692345919679,
          null
         ]
        },
        {
         "hoverinfo": "none",
         "line": {
          "color": "#888",
          "width": 7.130994966653316
         },
         "mode": "lines",
         "type": "scatter",
         "x": [
          0.16680531094134884,
          0.2745238341092376,
          null
         ],
         "y": [
          -0.002154692345919679,
          -0.02178337081045947,
          null
         ]
        },
        {
         "hoverinfo": "none",
         "line": {
          "color": "#888",
          "width": 7.2384470181281895
         },
         "mode": "lines",
         "type": "scatter",
         "x": [
          0.15920229919148163,
          0.21142857944956822,
          null
         ],
         "y": [
          0.12907592132500653,
          0.18729487721951935,
          null
         ]
        },
        {
         "hoverinfo": "none",
         "line": {
          "color": "#888",
          "width": 7.182081461334352
         },
         "mode": "lines",
         "type": "scatter",
         "x": [
          0.15920229919148163,
          0.20119736356676776,
          null
         ],
         "y": [
          0.12907592132500653,
          0.19555063627600575,
          null
         ]
        },
        {
         "hoverinfo": "none",
         "line": {
          "color": "#888",
          "width": 9.86889924853061
         },
         "mode": "lines",
         "type": "scatter",
         "x": [
          0.17841163453662576,
          0.2330166568479878,
          null
         ],
         "y": [
          -0.04872837995224801,
          -0.09277982169283013,
          null
         ]
        },
        {
         "hoverinfo": "none",
         "line": {
          "color": "#888",
          "width": 7.243921985260727
         },
         "mode": "lines",
         "type": "scatter",
         "x": [
          -0.0902186788307068,
          -0.1662445672256571,
          null
         ],
         "y": [
          -0.06894046194564389,
          -0.12957750438761112,
          null
         ]
        },
        {
         "hoverinfo": "none",
         "line": {
          "color": "#888",
          "width": 7.107001313257745
         },
         "mode": "lines",
         "type": "scatter",
         "x": [
          0.04047227523908738,
          0.031901632187148185,
          null
         ],
         "y": [
          0.061441597952245686,
          0.22486928258249544,
          null
         ]
        },
        {
         "hoverinfo": "none",
         "line": {
          "color": "#888",
          "width": 7.199591590558658
         },
         "mode": "lines",
         "type": "scatter",
         "x": [
          0.8657876724649953,
          0.8771586114550449,
          null
         ],
         "y": [
          0.13268180197014343,
          0.1491829461283446,
          null
         ]
        },
        {
         "hoverinfo": "none",
         "line": {
          "color": "#888",
          "width": 7.446539868523581
         },
         "mode": "lines",
         "type": "scatter",
         "x": [
          -0.48428583471012604,
          -0.44095735335456226,
          null
         ],
         "y": [
          -0.4836707216485004,
          -0.4787773947694099,
          null
         ]
        },
        {
         "hoverinfo": "none",
         "line": {
          "color": "#888",
          "width": 8.035970614133696
         },
         "mode": "lines",
         "type": "scatter",
         "x": [
          -0.48428583471012604,
          -0.47585690860734936,
          null
         ],
         "y": [
          -0.4836707216485004,
          -0.4760794654747431,
          null
         ]
        },
        {
         "hoverinfo": "none",
         "line": {
          "color": "#888",
          "width": 8.353906888978605
         },
         "mode": "lines",
         "type": "scatter",
         "x": [
          -0.44095735335456226,
          -0.47585690860734936,
          null
         ],
         "y": [
          -0.4787773947694099,
          -0.4760794654747431,
          null
         ]
        },
        {
         "hoverinfo": "none",
         "line": {
          "color": "#888",
          "width": 7.0063586709538725
         },
         "mode": "lines",
         "type": "scatter",
         "x": [
          -0.44095735335456226,
          -0.3932057700981637,
          null
         ],
         "y": [
          -0.4787773947694099,
          -0.5193811819053137,
          null
         ]
        },
        {
         "hoverinfo": "none",
         "line": {
          "color": "#888",
          "width": 7.077236732929494
         },
         "mode": "lines",
         "type": "scatter",
         "x": [
          -0.10441125521301167,
          -0.11050627900561603,
          null
         ],
         "y": [
          0.9252696507074646,
          0.9456261510277402,
          null
         ]
        },
        {
         "hoverinfo": "none",
         "line": {
          "color": "#888",
          "width": 7.203154863797449
         },
         "mode": "lines",
         "type": "scatter",
         "x": [
          0.592919407659453,
          0.5641667598000235,
          null
         ],
         "y": [
          -0.6969201502001382,
          -0.6571889708898913,
          null
         ]
        },
        {
         "hoverinfo": "none",
         "line": {
          "color": "#888",
          "width": 8.049322888738136
         },
         "mode": "lines",
         "type": "scatter",
         "x": [
          -0.6446574664515372,
          -0.6009700064149218,
          null
         ],
         "y": [
          -0.057274560098787376,
          -0.05343434976649758,
          null
         ]
        },
        {
         "hoverinfo": "none",
         "line": {
          "color": "#888",
          "width": 7.630471976884909
         },
         "mode": "lines",
         "type": "scatter",
         "x": [
          -0.3932057700981637,
          -0.40728332759325686,
          null
         ],
         "y": [
          -0.5193811819053137,
          -0.5579678452195799,
          null
         ]
        },
        {
         "hoverinfo": "none",
         "line": {
          "color": "#888",
          "width": 7.109414871344032
         },
         "mode": "lines",
         "type": "scatter",
         "x": [
          -0.3932057700981637,
          -0.3621485701345833,
          null
         ],
         "y": [
          -0.5193811819053137,
          -0.5580485549340581,
          null
         ]
        },
        {
         "hoverinfo": "none",
         "line": {
          "color": "#888",
          "width": 7.251313146784848
         },
         "mode": "lines",
         "type": "scatter",
         "x": [
          -0.3932057700981637,
          -0.37525213726228024,
          null
         ],
         "y": [
          -0.5193811819053137,
          -0.5608710555242618,
          null
         ]
        },
        {
         "hoverinfo": "none",
         "line": {
          "color": "#888",
          "width": 7.980427127464588
         },
         "mode": "lines",
         "type": "scatter",
         "x": [
          -0.5546241193404579,
          -0.53930237897625,
          null
         ],
         "y": [
          -0.015677837227325225,
          0.002379649197180163,
          null
         ]
        },
        {
         "hoverinfo": "none",
         "line": {
          "color": "#888",
          "width": 7.710494647894515
         },
         "mode": "lines",
         "type": "scatter",
         "x": [
          -0.5546241193404579,
          -0.5457822868417661,
          null
         ],
         "y": [
          -0.015677837227325225,
          -0.008205080275390693,
          null
         ]
        },
        {
         "hoverinfo": "none",
         "line": {
          "color": "#888",
          "width": 8.095977536652311
         },
         "mode": "lines",
         "type": "scatter",
         "x": [
          -0.5546241193404579,
          -0.49895650687094634,
          null
         ],
         "y": [
          -0.015677837227325225,
          -0.002364891004650718,
          null
         ]
        },
        {
         "hoverinfo": "none",
         "line": {
          "color": "#888",
          "width": 7.408628153772786
         },
         "mode": "lines",
         "type": "scatter",
         "x": [
          -0.5457822868417661,
          -0.53930237897625,
          null
         ],
         "y": [
          -0.008205080275390693,
          0.002379649197180163,
          null
         ]
        },
        {
         "hoverinfo": "none",
         "line": {
          "color": "#888",
          "width": 7.752087136448202
         },
         "mode": "lines",
         "type": "scatter",
         "x": [
          -0.5457822868417661,
          -0.49895650687094634,
          null
         ],
         "y": [
          -0.008205080275390693,
          -0.002364891004650718,
          null
         ]
        },
        {
         "hoverinfo": "none",
         "line": {
          "color": "#888",
          "width": 7.514307670570059
         },
         "mode": "lines",
         "type": "scatter",
         "x": [
          -0.328909438133758,
          -0.3309270090531626,
          null
         ],
         "y": [
          -0.6506641825593339,
          -0.602673662253744,
          null
         ]
        },
        {
         "hoverinfo": "none",
         "line": {
          "color": "#888",
          "width": 7.174076051720279
         },
         "mode": "lines",
         "type": "scatter",
         "x": [
          -0.3309270090531626,
          -0.3621485701345833,
          null
         ],
         "y": [
          -0.602673662253744,
          -0.5580485549340581,
          null
         ]
        },
        {
         "hoverinfo": "none",
         "line": {
          "color": "#888",
          "width": 7.142551986098816
         },
         "mode": "lines",
         "type": "scatter",
         "x": [
          -0.38852237624220864,
          -0.3621485701345833,
          null
         ],
         "y": [
          -0.5931508582058601,
          -0.5580485549340581,
          null
         ]
        },
        {
         "hoverinfo": "none",
         "line": {
          "color": "#888",
          "width": 7.200282956381006
         },
         "mode": "lines",
         "type": "scatter",
         "x": [
          -0.38852237624220864,
          -0.4028071464366801,
          null
         ],
         "y": [
          -0.5931508582058601,
          -0.6088891987685549,
          null
         ]
        },
        {
         "hoverinfo": "none",
         "line": {
          "color": "#888",
          "width": 8.311155102265817
         },
         "mode": "lines",
         "type": "scatter",
         "x": [
          -0.38852237624220864,
          -0.37525213726228024,
          null
         ],
         "y": [
          -0.5931508582058601,
          -0.5608710555242618,
          null
         ]
        },
        {
         "hoverinfo": "none",
         "line": {
          "color": "#888",
          "width": 7.58753959637188
         },
         "mode": "lines",
         "type": "scatter",
         "x": [
          -0.3621485701345833,
          -0.39441681905676107,
          null
         ],
         "y": [
          -0.5580485549340581,
          -0.5752558793089894,
          null
         ]
        },
        {
         "hoverinfo": "none",
         "line": {
          "color": "#888",
          "width": 7.350515559089276
         },
         "mode": "lines",
         "type": "scatter",
         "x": [
          -0.3621485701345833,
          -0.3727545472411554,
          null
         ],
         "y": [
          -0.5580485549340581,
          -0.5930704273857378,
          null
         ]
        },
        {
         "hoverinfo": "none",
         "line": {
          "color": "#888",
          "width": 7.031152088278503
         },
         "mode": "lines",
         "type": "scatter",
         "x": [
          -0.3621485701345833,
          -0.40728332759325686,
          null
         ],
         "y": [
          -0.5580485549340581,
          -0.5579678452195799,
          null
         ]
        },
        {
         "hoverinfo": "none",
         "line": {
          "color": "#888",
          "width": 7.254071822210554
         },
         "mode": "lines",
         "type": "scatter",
         "x": [
          -0.3621485701345833,
          -0.33845980278115484,
          null
         ],
         "y": [
          -0.5580485549340581,
          -0.5787457419835854,
          null
         ]
        },
        {
         "hoverinfo": "none",
         "line": {
          "color": "#888",
          "width": 8.124013369209655
         },
         "mode": "lines",
         "type": "scatter",
         "x": [
          -0.3621485701345833,
          -0.37525213726228024,
          null
         ],
         "y": [
          -0.5580485549340581,
          -0.5608710555242618,
          null
         ]
        },
        {
         "hoverinfo": "none",
         "line": {
          "color": "#888",
          "width": 7.649849260202959
         },
         "mode": "lines",
         "type": "scatter",
         "x": [
          -0.4028071464366801,
          -0.37525213726228024,
          null
         ],
         "y": [
          -0.6088891987685549,
          -0.5608710555242618,
          null
         ]
        },
        {
         "hoverinfo": "none",
         "line": {
          "color": "#888",
          "width": 7.580731720453712
         },
         "mode": "lines",
         "type": "scatter",
         "x": [
          -0.37525213726228024,
          -0.39441681905676107,
          null
         ],
         "y": [
          -0.5608710555242618,
          -0.5752558793089894,
          null
         ]
        },
        {
         "hoverinfo": "none",
         "line": {
          "color": "#888",
          "width": 7.565919089484451
         },
         "mode": "lines",
         "type": "scatter",
         "x": [
          -0.37525213726228024,
          -0.3727545472411554,
          null
         ],
         "y": [
          -0.5608710555242618,
          -0.5930704273857378,
          null
         ]
        },
        {
         "hoverinfo": "none",
         "line": {
          "color": "#888",
          "width": 7.334410771844757
         },
         "mode": "lines",
         "type": "scatter",
         "x": [
          -0.37525213726228024,
          -0.40728332759325686,
          null
         ],
         "y": [
          -0.5608710555242618,
          -0.5579678452195799,
          null
         ]
        },
        {
         "hoverinfo": "none",
         "line": {
          "color": "#888",
          "width": 7.0341427690678815
         },
         "mode": "lines",
         "type": "scatter",
         "x": [
          -0.37525213726228024,
          -0.33845980278115484,
          null
         ],
         "y": [
          -0.5608710555242618,
          -0.5787457419835854,
          null
         ]
        },
        {
         "hoverinfo": "none",
         "line": {
          "color": "#888",
          "width": 7.017315379081057
         },
         "mode": "lines",
         "type": "scatter",
         "x": [
          0.0877252433539372,
          0.1250936896592054,
          null
         ],
         "y": [
          -0.05032673672083707,
          -0.08027018011768565,
          null
         ]
        },
        {
         "hoverinfo": "none",
         "line": {
          "color": "#888",
          "width": 7.546274526088769
         },
         "mode": "lines",
         "type": "scatter",
         "x": [
          0.21166563164756896,
          0.20546922051773506,
          null
         ],
         "y": [
          -0.9101841463547861,
          -0.933901901268917,
          null
         ]
        },
        {
         "hoverinfo": "none",
         "line": {
          "color": "#888",
          "width": 7.525955306892051
         },
         "mode": "lines",
         "type": "scatter",
         "x": [
          0.20546922051773506,
          0.190481045787516,
          null
         ],
         "y": [
          -0.933901901268917,
          -0.8935432935861406,
          null
         ]
        },
        {
         "hoverinfo": "none",
         "line": {
          "color": "#888",
          "width": 7.0713199658809325
         },
         "mode": "lines",
         "type": "scatter",
         "x": [
          -0.1662445672256571,
          -0.2181452906220364,
          null
         ],
         "y": [
          -0.12957750438761112,
          -0.17139105733501173,
          null
         ]
        },
        {
         "hoverinfo": "none",
         "line": {
          "color": "#888",
          "width": 7.637916554602091
         },
         "mode": "lines",
         "type": "scatter",
         "x": [
          0.1509327756768976,
          0.11137539414352951,
          null
         ],
         "y": [
          -0.2140944408226069,
          -0.15010223173221895,
          null
         ]
        },
        {
         "hoverinfo": "none",
         "line": {
          "color": "#888",
          "width": 7.328080999698478
         },
         "mode": "lines",
         "type": "scatter",
         "x": [
          0.11137539414352951,
          0.13784367824894833,
          null
         ],
         "y": [
          -0.15010223173221895,
          -0.22274216446247774,
          null
         ]
        },
        {
         "hoverinfo": "none",
         "line": {
          "color": "#888",
          "width": 7.866355948150764
         },
         "mode": "lines",
         "type": "scatter",
         "x": [
          -0.7508149460898477,
          -0.7645818502586358,
          null
         ],
         "y": [
          -0.3426397419783574,
          -0.35643596213870204,
          null
         ]
        },
        {
         "hoverinfo": "none",
         "line": {
          "color": "#888",
          "width": 7.313221542865787
         },
         "mode": "lines",
         "type": "scatter",
         "x": [
          0.041690933292252146,
          0.027909847362291816,
          null
         ],
         "y": [
          0.2899085123640943,
          0.2912019230095094,
          null
         ]
        },
        {
         "hoverinfo": "none",
         "line": {
          "color": "#888",
          "width": 7.6366696453347185
         },
         "mode": "lines",
         "type": "scatter",
         "x": [
          0.041690933292252146,
          0.020496433717507954,
          null
         ],
         "y": [
          0.2899085123640943,
          0.2948165922690749,
          null
         ]
        },
        {
         "hoverinfo": "none",
         "line": {
          "color": "#888",
          "width": 8.08940537898562
         },
         "mode": "lines",
         "type": "scatter",
         "x": [
          0.041690933292252146,
          0.03570050267235299,
          null
         ],
         "y": [
          0.2899085123640943,
          0.2977064113261726,
          null
         ]
        },
        {
         "hoverinfo": "none",
         "line": {
          "color": "#888",
          "width": 7.979700646802154
         },
         "mode": "lines",
         "type": "scatter",
         "x": [
          0.041690933292252146,
          0.031901632187148185,
          null
         ],
         "y": [
          0.2899085123640943,
          0.22486928258249544,
          null
         ]
        },
        {
         "hoverinfo": "none",
         "line": {
          "color": "#888",
          "width": 7.295680072739161
         },
         "mode": "lines",
         "type": "scatter",
         "x": [
          0.027909847362291816,
          0.020496433717507954,
          null
         ],
         "y": [
          0.2912019230095094,
          0.2948165922690749,
          null
         ]
        },
        {
         "hoverinfo": "none",
         "line": {
          "color": "#888",
          "width": 8.244889250187445
         },
         "mode": "lines",
         "type": "scatter",
         "x": [
          0.027909847362291816,
          0.03570050267235299,
          null
         ],
         "y": [
          0.2912019230095094,
          0.2977064113261726,
          null
         ]
        },
        {
         "hoverinfo": "none",
         "line": {
          "color": "#888",
          "width": 7.31076376021762
         },
         "mode": "lines",
         "type": "scatter",
         "x": [
          0.027909847362291816,
          0.031901632187148185,
          null
         ],
         "y": [
          0.2912019230095094,
          0.22486928258249544,
          null
         ]
        },
        {
         "hoverinfo": "none",
         "line": {
          "color": "#888",
          "width": 7.780723187189537
         },
         "mode": "lines",
         "type": "scatter",
         "x": [
          0.020496433717507954,
          0.03570050267235299,
          null
         ],
         "y": [
          0.2948165922690749,
          0.2977064113261726,
          null
         ]
        },
        {
         "hoverinfo": "none",
         "line": {
          "color": "#888",
          "width": 7.957462638010774
         },
         "mode": "lines",
         "type": "scatter",
         "x": [
          0.020496433717507954,
          0.031901632187148185,
          null
         ],
         "y": [
          0.2948165922690749,
          0.22486928258249544,
          null
         ]
        },
        {
         "hoverinfo": "none",
         "line": {
          "color": "#888",
          "width": 8.139601494225337
         },
         "mode": "lines",
         "type": "scatter",
         "x": [
          0.03570050267235299,
          0.031901632187148185,
          null
         ],
         "y": [
          0.2977064113261726,
          0.22486928258249544,
          null
         ]
        },
        {
         "hoverinfo": "none",
         "line": {
          "color": "#888",
          "width": 7.03964575872101
         },
         "mode": "lines",
         "type": "scatter",
         "x": [
          0.17238479067461893,
          0.11052604308753042,
          null
         ],
         "y": [
          -0.09170918839837777,
          -0.08340930889127908,
          null
         ]
        },
        {
         "hoverinfo": "none",
         "line": {
          "color": "#888",
          "width": 7.100594235775361
         },
         "mode": "lines",
         "type": "scatter",
         "x": [
          0.6624435028726612,
          0.6479536912026435,
          null
         ],
         "y": [
          -0.5747862223353014,
          -0.5648726624148792,
          null
         ]
        },
        {
         "hoverinfo": "none",
         "line": {
          "color": "#888",
          "width": 7.927983124924434
         },
         "mode": "lines",
         "type": "scatter",
         "x": [
          0.6624435028726612,
          0.6345192731197608,
          null
         ],
         "y": [
          -0.5747862223353014,
          -0.5453684776903076,
          null
         ]
        },
        {
         "hoverinfo": "none",
         "line": {
          "color": "#888",
          "width": 8.548335225391888
         },
         "mode": "lines",
         "type": "scatter",
         "x": [
          0.6479536912026435,
          0.6345192731197608,
          null
         ],
         "y": [
          -0.5648726624148792,
          -0.5453684776903076,
          null
         ]
        },
        {
         "hoverinfo": "none",
         "line": {
          "color": "#888",
          "width": 7.084203685999446
         },
         "mode": "lines",
         "type": "scatter",
         "x": [
          0.6345192731197608,
          0.6482355946376294,
          null
         ],
         "y": [
          -0.5453684776903076,
          -0.5269263299894628,
          null
         ]
        },
        {
         "hoverinfo": "none",
         "line": {
          "color": "#888",
          "width": 7.561068261295222
         },
         "mode": "lines",
         "type": "scatter",
         "x": [
          0.2745238341092376,
          0.3452601084640599,
          null
         ],
         "y": [
          -0.02178337081045947,
          -0.03334238447830543,
          null
         ]
        },
        {
         "hoverinfo": "none",
         "line": {
          "color": "#888",
          "width": 7.461702845477572
         },
         "mode": "lines",
         "type": "scatter",
         "x": [
          0.1304274871602375,
          0.11987650421985169,
          null
         ],
         "y": [
          -0.023746255263806137,
          -0.015704242855209875,
          null
         ]
        },
        {
         "hoverinfo": "none",
         "line": {
          "color": "#888",
          "width": 9.04165179348829
         },
         "mode": "lines",
         "type": "scatter",
         "x": [
          -0.25891020494922823,
          -0.3169107950521064,
          null
         ],
         "y": [
          0.03159693717390719,
          0.03978258023829225,
          null
         ]
        },
        {
         "hoverinfo": "none",
         "line": {
          "color": "#888",
          "width": 7.721791365586506
         },
         "mode": "lines",
         "type": "scatter",
         "x": [
          0.1714884830798345,
          0.15181066538329663,
          null
         ],
         "y": [
          -0.734337696613625,
          -0.7001590571564974,
          null
         ]
        },
        {
         "hoverinfo": "none",
         "line": {
          "color": "#888",
          "width": 7.836457795470556
         },
         "mode": "lines",
         "type": "scatter",
         "x": [
          0.1714884830798345,
          0.16285766484164108,
          null
         ],
         "y": [
          -0.734337696613625,
          -0.7461802024515662,
          null
         ]
        },
        {
         "hoverinfo": "none",
         "line": {
          "color": "#888",
          "width": 8.44732116021601
         },
         "mode": "lines",
         "type": "scatter",
         "x": [
          0.1714884830798345,
          0.15107187979363518,
          null
         ],
         "y": [
          -0.734337696613625,
          -0.7377232617796575,
          null
         ]
        },
        {
         "hoverinfo": "none",
         "line": {
          "color": "#888",
          "width": 8.704159762309247
         },
         "mode": "lines",
         "type": "scatter",
         "x": [
          0.1714884830798345,
          0.16034064958970123,
          null
         ],
         "y": [
          -0.734337696613625,
          -0.728975824945138,
          null
         ]
        },
        {
         "hoverinfo": "none",
         "line": {
          "color": "#888",
          "width": 8.00362107716962
         },
         "mode": "lines",
         "type": "scatter",
         "x": [
          0.15181066538329663,
          0.16285766484164108,
          null
         ],
         "y": [
          -0.7001590571564974,
          -0.7461802024515662,
          null
         ]
        },
        {
         "hoverinfo": "none",
         "line": {
          "color": "#888",
          "width": 7.975489796364938
         },
         "mode": "lines",
         "type": "scatter",
         "x": [
          0.15181066538329663,
          0.15107187979363518,
          null
         ],
         "y": [
          -0.7001590571564974,
          -0.7377232617796575,
          null
         ]
        },
        {
         "hoverinfo": "none",
         "line": {
          "color": "#888",
          "width": 7.965653161420372
         },
         "mode": "lines",
         "type": "scatter",
         "x": [
          0.15181066538329663,
          0.16034064958970123,
          null
         ],
         "y": [
          -0.7001590571564974,
          -0.728975824945138,
          null
         ]
        },
        {
         "hoverinfo": "none",
         "line": {
          "color": "#888",
          "width": 8.171924059999267
         },
         "mode": "lines",
         "type": "scatter",
         "x": [
          0.16285766484164108,
          0.15107187979363518,
          null
         ],
         "y": [
          -0.7461802024515662,
          -0.7377232617796575,
          null
         ]
        },
        {
         "hoverinfo": "none",
         "line": {
          "color": "#888",
          "width": 7.6200685836020385
         },
         "mode": "lines",
         "type": "scatter",
         "x": [
          0.16285766484164108,
          0.16034064958970123,
          null
         ],
         "y": [
          -0.7461802024515662,
          -0.728975824945138,
          null
         ]
        },
        {
         "hoverinfo": "none",
         "line": {
          "color": "#888",
          "width": 9.009464176737948
         },
         "mode": "lines",
         "type": "scatter",
         "x": [
          0.15107187979363518,
          0.16034064958970123,
          null
         ],
         "y": [
          -0.7377232617796575,
          -0.728975824945138,
          null
         ]
        },
        {
         "hoverinfo": "none",
         "line": {
          "color": "#888",
          "width": 7.453570220746525
         },
         "mode": "lines",
         "type": "scatter",
         "x": [
          -0.5230256748419099,
          -0.5422044766080485,
          null
         ],
         "y": [
          0.614963297068465,
          0.6108789767913905,
          null
         ]
        },
        {
         "hoverinfo": "none",
         "line": {
          "color": "#888",
          "width": 7.284405815052942
         },
         "mode": "lines",
         "type": "scatter",
         "x": [
          -0.4438264012354623,
          -0.40728332759325686,
          null
         ],
         "y": [
          -0.5618183176163232,
          -0.5579678452195799,
          null
         ]
        },
        {
         "hoverinfo": "none",
         "line": {
          "color": "#888",
          "width": 7.386559783093159
         },
         "mode": "lines",
         "type": "scatter",
         "x": [
          -0.40728332759325686,
          -0.4473258088864855,
          null
         ],
         "y": [
          -0.5579678452195799,
          -0.599053380319727,
          null
         ]
        },
        {
         "hoverinfo": "none",
         "line": {
          "color": "#888",
          "width": 7.222769156311919
         },
         "mode": "lines",
         "type": "scatter",
         "x": [
          -0.40728332759325686,
          -0.39441681905676107,
          null
         ],
         "y": [
          -0.5579678452195799,
          -0.5752558793089894,
          null
         ]
        },
        {
         "hoverinfo": "none",
         "line": {
          "color": "#888",
          "width": 8.745609547305662
         },
         "mode": "lines",
         "type": "scatter",
         "x": [
          -0.43212440104104133,
          -0.4498660274233308,
          null
         ],
         "y": [
          -0.7941068629890953,
          -0.8009446847746987,
          null
         ]
        },
        {
         "hoverinfo": "none",
         "line": {
          "color": "#888",
          "width": 7.276164617072452
         },
         "mode": "lines",
         "type": "scatter",
         "x": [
          0.739877843751382,
          0.7394166058719774,
          null
         ],
         "y": [
          -0.47795287810176507,
          -0.4973942496268902,
          null
         ]
        },
        {
         "hoverinfo": "none",
         "line": {
          "color": "#888",
          "width": 7.1251857048230995
         },
         "mode": "lines",
         "type": "scatter",
         "x": [
          -0.7762006036420374,
          -0.8268641764555945,
          null
         ],
         "y": [
          -0.1598757741306154,
          -0.17329451325506104,
          null
         ]
        },
        {
         "hoverinfo": "none",
         "line": {
          "color": "#888",
          "width": 8.473807817934283
         },
         "mode": "lines",
         "type": "scatter",
         "x": [
          0.4699236976485905,
          0.46131637999165287,
          null
         ],
         "y": [
          0.6864129263530362,
          0.6680201256622587,
          null
         ]
        },
        {
         "hoverinfo": "none",
         "line": {
          "color": "#888",
          "width": 7.336178801234377
         },
         "mode": "lines",
         "type": "scatter",
         "x": [
          -0.025414372932127945,
          -0.02796552927250576,
          null
         ],
         "y": [
          -0.1046952069326291,
          -0.1583348065910387,
          null
         ]
        },
        {
         "hoverinfo": "none",
         "line": {
          "color": "#888",
          "width": 8.019896486282455
         },
         "mode": "lines",
         "type": "scatter",
         "x": [
          -0.53930237897625,
          -0.49895650687094634,
          null
         ],
         "y": [
          0.002379649197180163,
          -0.002364891004650718,
          null
         ]
        },
        {
         "hoverinfo": "none",
         "line": {
          "color": "#888",
          "width": 7.13348952397933
         },
         "mode": "lines",
         "type": "scatter",
         "x": [
          0.7403380417315673,
          0.7264056123969593,
          null
         ],
         "y": [
          -0.3104168314646602,
          -0.3245998767842672,
          null
         ]
        },
        {
         "hoverinfo": "none",
         "line": {
          "color": "#888",
          "width": 7.544328000170766
         },
         "mode": "lines",
         "type": "scatter",
         "x": [
          0.21142857944956822,
          0.20119736356676776,
          null
         ],
         "y": [
          0.18729487721951935,
          0.19555063627600575,
          null
         ]
        },
        {
         "hoverinfo": "none",
         "line": {
          "color": "#888",
          "width": 8.474644513999234
         },
         "mode": "lines",
         "type": "scatter",
         "x": [
          0.8122839519474592,
          0.8179352351875329,
          null
         ],
         "y": [
          0.23654182252428027,
          0.21645057443731983,
          null
         ]
        },
        {
         "hoverinfo": "none",
         "line": {
          "color": "#888",
          "width": 7.00742109950549
         },
         "mode": "lines",
         "type": "scatter",
         "x": [
          0.8179352351875329,
          0.8006739213087011,
          null
         ],
         "y": [
          0.21645057443731983,
          0.19813734630726085,
          null
         ]
        },
        {
         "hoverinfo": "none",
         "line": {
          "color": "#888",
          "width": 8.153268023669746
         },
         "mode": "lines",
         "type": "scatter",
         "x": [
          -0.8285704707212738,
          -0.8705088858702006,
          null
         ],
         "y": [
          0.13606170018357794,
          0.14128153837636986,
          null
         ]
        },
        {
         "hoverinfo": "none",
         "line": {
          "color": "#888",
          "width": 7.09856401415152
         },
         "mode": "lines",
         "type": "scatter",
         "x": [
          0.613065388784225,
          0.6307974473910783,
          null
         ],
         "y": [
          0.5727331348191692,
          0.5906044729226628,
          null
         ]
        },
        {
         "hoverinfo": "none",
         "line": {
          "color": "#888",
          "width": 7.368720161333009
         },
         "mode": "lines",
         "type": "scatter",
         "x": [
          -0.33845980278115484,
          -0.3270107999956545,
          null
         ],
         "y": [
          -0.5787457419835854,
          -0.6219215201636549,
          null
         ]
        },
        {
         "hoverinfo": "none",
         "line": {
          "color": "#888",
          "width": 7.51598836297521
         },
         "mode": "lines",
         "type": "scatter",
         "x": [
          -0.20299548652734573,
          -0.1946988990964369,
          null
         ],
         "y": [
          -0.9209972852620539,
          -0.8739647841564553,
          null
         ]
        },
        {
         "hoverinfo": "none",
         "line": {
          "color": "#888",
          "width": 8.304118193085046
         },
         "mode": "lines",
         "type": "scatter",
         "x": [
          -0.4907444142759362,
          -0.47390246035273,
          null
         ],
         "y": [
          -0.7357788955043694,
          -0.7178109033736942,
          null
         ]
        },
        {
         "hoverinfo": "text",
         "marker": {
          "color": [
           7,
           6,
           28,
           4,
           45,
           30,
           14,
           33,
           4,
           2,
           4,
           5,
           4,
           1,
           2,
           1,
           1,
           4,
           1,
           2,
           2,
           3,
           4,
           9,
           9,
           37,
           26,
           4,
           17,
           5,
           24,
           6,
           1,
           1,
           22,
           10,
           17,
           21,
           17,
           20,
           14,
           19,
           17,
           18,
           8,
           22,
           5,
           21,
           17,
           15,
           17,
           19,
           17,
           21,
           19,
           1,
           1,
           29,
           52,
           6,
           5,
           7,
           2,
           4,
           2,
           13,
           8,
           5,
           61,
           24,
           45,
           19,
           31,
           4,
           4,
           4,
           4,
           7,
           19,
           37,
           30,
           41,
           62,
           32,
           22,
           23,
           44,
           28,
           47,
           27,
           10,
           53,
           4,
           35,
           9,
           14,
           6,
           4,
           1,
           9,
           29,
           37,
           44,
           10,
           26,
           27,
           11,
           5,
           2,
           24,
           3,
           22,
           12,
           14,
           12,
           8,
           6,
           21,
           13,
           11,
           4,
           31,
           3,
           3,
           8,
           13,
           10,
           9,
           10,
           12,
           7,
           13,
           13,
           2,
           2,
           1,
           2,
           5,
           1,
           2,
           4,
           4,
           1,
           1,
           7,
           1,
           1,
           1,
           1,
           4,
           6,
           11,
           7,
           5,
           1,
           1,
           1,
           1,
           37,
           36,
           50,
           13,
           11,
           32,
           36,
           2,
           33,
           62,
           32,
           34,
           27,
           60,
           23,
           36,
           12,
           40,
           24,
           3,
           1,
           1,
           2,
           20,
           22,
           19,
           22,
           11,
           18,
           9,
           20,
           12,
           23,
           20,
           5,
           11,
           15,
           2,
           7,
           1,
           2,
           2,
           2,
           2,
           1,
           23,
           10,
           4,
           4,
           5,
           1,
           11,
           16,
           6,
           17,
           7,
           27,
           9,
           3,
           3,
           2,
           1,
           1,
           3,
           4,
           3,
           2,
           3,
           2,
           1,
           2,
           1,
           12,
           1,
           1,
           2,
           3,
           2,
           1,
           1,
           2,
           2,
           1,
           1,
           2,
           7,
           4,
           7,
           9,
           5,
           1,
           2,
           3,
           8,
           2,
           8,
           4,
           2,
           1,
           2,
           2,
           1,
           1,
           1,
           1,
           3,
           1,
           1,
           1,
           9,
           2,
           2,
           1,
           1,
           4,
           4,
           4,
           4,
           5,
           1,
           2,
           2,
           1,
           2,
           3,
           2,
           2,
           3,
           1,
           3,
           2,
           4,
           5,
           3,
           4,
           4,
           4,
           4,
           4,
           1,
           1,
           1,
           1,
           1,
           6,
           1,
           1,
           1,
           1,
           1,
           1,
           1,
           1,
           1,
           1,
           2,
           3,
           1,
           2,
           3,
           4,
           3,
           2,
           1,
           1,
           2,
           2,
           1,
           1,
           1,
           2,
           1,
           1,
           1,
           2,
           4,
           1,
           1,
           3,
           1,
           2,
           1,
           2,
           1,
           1,
           1,
           1,
           1,
           1,
           1,
           1,
           1
          ],
          "colorbar": {
           "thickness": 15,
           "title": {
            "side": "right",
            "text": "Cluster Group"
           },
           "xanchor": "left"
          },
          "colorscale": [
           [
            0,
            "rgb(255,255,217)"
           ],
           [
            0.125,
            "rgb(237,248,177)"
           ],
           [
            0.25,
            "rgb(199,233,180)"
           ],
           [
            0.375,
            "rgb(127,205,187)"
           ],
           [
            0.5,
            "rgb(65,182,196)"
           ],
           [
            0.625,
            "rgb(29,145,192)"
           ],
           [
            0.75,
            "rgb(34,94,168)"
           ],
           [
            0.875,
            "rgb(37,52,148)"
           ],
           [
            1,
            "rgb(8,29,88)"
           ]
          ],
          "line": {
           "width": 2
          },
          "showscale": true,
          "size": 10
         },
         "mode": "markers+text",
         "text": [
          "AES",
          "AMCR",
          "AWK",
          "BALL",
          "BXP",
          "CZR",
          "DTE",
          "DOC",
          "AFL",
          "AIG",
          "AJG",
          "L",
          "MMC",
          "APD",
          "EMR",
          "ALB",
          "WBA",
          "ALGN",
          "CMCSA",
          "EW",
          "HAS",
          "UPS",
          "ALLE",
          "CARR",
          "FCX",
          "MS",
          "URI",
          "AOS",
          "AMP",
          "EQIX",
          "MAS",
          "RJF",
          "ALL",
          "PGR",
          "LNT",
          "AEE",
          "AEP",
          "CNP",
          "CMS",
          "ED",
          "ETR",
          "DUK",
          "EIX",
          "EVRG",
          "EXC",
          "FE",
          "NEE",
          "NI",
          "PNW",
          "PPL",
          "PEG",
          "SRE",
          "SO",
          "WEC",
          "XEL",
          "AMZN",
          "META",
          "AVY",
          "CE",
          "AAL",
          "CCL",
          "DAL",
          "NCLH",
          "RCL",
          "LUV",
          "UAL",
          "ES",
          "AXP",
          "CFG",
          "IPG",
          "MTB",
          "RF",
          "USB",
          "HIG",
          "AMT",
          "CCI",
          "DLR",
          "SBAC",
          "C",
          "BEN",
          "IQV",
          "KEY",
          "PNC",
          "PFG",
          "PHM",
          "SNA",
          "TFC",
          "VICI",
          "WY",
          "APH",
          "BK",
          "HBAN",
          "IR",
          "NTRS",
          "PH",
          "PRU",
          "QCOM",
          "AME",
          "ETN",
          "OTIS",
          "BLK",
          "GLW",
          "DOV",
          "ITW",
          "KEYS",
          "NDSN",
          "PNR",
          "PPG",
          "ROK",
          "SWKS",
          "SHW",
          "TER",
          "TEL",
          "ADI",
          "CRL",
          "KLAC",
          "LRCX",
          "MCHP",
          "MPWR",
          "NXPI",
          "ON",
          "TXN",
          "AON",
          "BRO",
          "APA",
          "COP",
          "CTRA",
          "FANG",
          "DVN",
          "EOG",
          "XOM",
          "HAL",
          "MRO",
          "AMAT",
          "APTV",
          "BWA",
          "ACGL",
          "CB",
          "EG",
          "AIZ",
          "GRMN",
          "TT",
          "T",
          "VZ",
          "ATO",
          "ADP",
          "PAYX",
          "AZO",
          "ORLY",
          "A",
          "DHR",
          "MTD",
          "TMO",
          "WAT",
          "GOOG",
          "GOOGL",
          "AXON",
          "WST",
          "BAC",
          "AVB",
          "CBRE",
          "SCHW",
          "ENPH",
          "FRT",
          "FITB",
          "GM",
          "GS",
          "IVZ",
          "KIM",
          "MHK",
          "POOL",
          "PLD",
          "REG",
          "SPG",
          "STT",
          "TROW",
          "WFC",
          "BAX",
          "DVA",
          "MDT",
          "ZBH",
          "CPT",
          "KMX",
          "EQR",
          "ESS",
          "INVH",
          "IRM",
          "MAA",
          "UDR",
          "VTR",
          "BX",
          "DOW",
          "EMN",
          "IEX",
          "PSA",
          "BKR",
          "SLB",
          "BIO",
          "TECH",
          "BSX",
          "ISRG",
          "SYK",
          "BBY",
          "HD",
          "SPGI",
          "BR",
          "HWM",
          "TYL",
          "AVGO",
          "BLDR",
          "DHI",
          "GNRC",
          "LEN",
          "NVR",
          "LOW",
          "PYPL",
          "SWK",
          "CDNS",
          "CPRT",
          "INTU",
          "SNPS",
          "FOXA",
          "FOX",
          "MGM",
          "NWS",
          "F",
          "KKR",
          "CAT",
          "CSGP",
          "CDW",
          "ZBRA",
          "CNC",
          "MOH",
          "CPB",
          "CAG",
          "GIS",
          "CF",
          "MOS",
          "TRV",
          "WRB",
          "CSCO",
          "WMT",
          "CVX",
          "HES",
          "K",
          "OXY",
          "OKE",
          "TRGP",
          "STZ",
          "MNST",
          "KO",
          "MDLZ",
          "TAP",
          "PEP",
          "CPAY",
          "GPN",
          "CL",
          "PG",
          "CRWD",
          "NTAP",
          "EQT",
          "CMI",
          "CSX",
          "UNP",
          "DFS",
          "SYF",
          "D",
          "HST",
          "TPR",
          "EFX",
          "LYB",
          "NSC",
          "DD",
          "EL",
          "MTCH",
          "PAYC",
          "TRMB",
          "FSLR",
          "ECL",
          "XYL",
          "PCG",
          "EPAM",
          "EXR",
          "EXPE",
          "IT",
          "GDDY",
          "FIS",
          "WELL",
          "PARA",
          "FTV",
          "TDY",
          "MLM",
          "GD",
          "HII",
          "LHX",
          "LMT",
          "NOC",
          "GL",
          "MSI",
          "GPC",
          "ROL",
          "HSY",
          "MKC",
          "HLT",
          "MAR",
          "HRL",
          "HCA",
          "UHS",
          "TSCO",
          "IDXX",
          "ZTS",
          "IP",
          "PKG",
          "OMC",
          "MET",
          "JBHT",
          "O",
          "KDP",
          "KMI",
          "WMB",
          "KHC",
          "LH",
          "DGX",
          "LVS",
          "WYNN",
          "JPM",
          "KMB",
          "MPC",
          "VLO",
          "VMC",
          "MA",
          "V",
          "PCAR",
          "QRVO",
          "MU",
          "WDC",
          "MCD",
          "YUM",
          "MCO",
          "NWSA",
          "RVTY",
          "PWR",
          "WBD",
          "PSX",
          "NUE",
          "STLD",
          "RSG",
          "WM",
          "SBUX",
          "TFX"
         ],
         "textposition": "bottom center",
         "type": "scatter",
         "x": [
          -0.009689506233767143,
          0.017328021689655585,
          -0.012224861873241396,
          -0.0064009725527065285,
          0.04033819720788994,
          0.0789252522089133,
          -0.10365366952237418,
          0.028306223786916922,
          -0.047232836772141046,
          -0.09051085886133893,
          -0.0018871780350066011,
          -0.11103000679656516,
          -0.008618226023924883,
          0.27582989841243116,
          0.20845668645883203,
          0.9392225079123361,
          0.9475142995723532,
          0.12025639736135385,
          0.10502243549373935,
          0.1253226553253225,
          0.13721549382083134,
          0.1184057720089342,
          0.08489292788234773,
          0.04077202203689936,
          0.10516663722559727,
          0.06219444586665617,
          0.05408129257163386,
          0.12244964705766018,
          0.0737795776743241,
          0.189959709684559,
          0.030382176030538343,
          0.09843232497908064,
          -0.9049029663318878,
          -0.8849665700385562,
          -0.12952753724586755,
          -0.1742328278152644,
          -0.11728740254548076,
          -0.1523380517300346,
          -0.14428112039746577,
          -0.15533172520498428,
          -0.1638887339897438,
          -0.13689780944050867,
          -0.16500634709913684,
          -0.13987314061963524,
          -0.1789666199487809,
          -0.13198502317037067,
          -0.1605197915208082,
          -0.14327665976696743,
          -0.16588389974663478,
          -0.13667925265261593,
          -0.1605583208526066,
          -0.14612759544688866,
          -0.12360927558737468,
          -0.1528544167912979,
          -0.15365576487651394,
          -0.8387696260189463,
          -0.8607331723690358,
          0.056936006808823186,
          0.047788858802087525,
          0.22817491310662766,
          0.2284570490582576,
          0.19379772571483223,
          0.2809715675903671,
          0.21463353076224484,
          0.2646786867450003,
          0.1382099068108629,
          -0.0991643175331902,
          0.0660964933931117,
          0.04970440637929779,
          0.08201774277260196,
          0.04800116693795323,
          0.05559099264036801,
          0.048041473944571596,
          -0.13404681277047256,
          0.20338237806096396,
          0.20862690521711022,
          0.21383540443192287,
          0.12988163645410297,
          0.029012665400372162,
          0.031118990225050696,
          0.0147182191032134,
          0.039847573723061344,
          0.05178108448531763,
          0.04105751892921649,
          0.00287363361652794,
          0.04467832748370658,
          0.038942507500276856,
          0.035170945634905026,
          0.03513349996217932,
          0.09775289659785226,
          0.04435818424278147,
          0.04619599653144016,
          0.09864440142373938,
          0.06082795141898182,
          0.05978222685416067,
          0.06190168719275233,
          0.05729585053501123,
          0.12294680046022576,
          0.1818088262358094,
          0.10226301230966095,
          0.06468537251505271,
          0.05631391082707372,
          0.05677913646293775,
          0.08778325327448383,
          0.035123113123913655,
          0.07240371276515907,
          0.07716961454395974,
          0.1597792388995273,
          0.21351651387203968,
          0.047591032020469465,
          0.0978715356531529,
          0.05797524860978553,
          0.03819669390069439,
          0.03231680787709909,
          0.0028299264442905783,
          0.0279606084171437,
          0.04143915751569503,
          0.06337133714875767,
          0.0338162313079326,
          0.03595241185748016,
          0.011484696322364651,
          0.043365958100558266,
          0.007284319727723009,
          0.01579635659009846,
          -0.5999529206849722,
          -0.574602935184576,
          -0.5900746107493123,
          -0.5804643690591418,
          -0.5826998027435445,
          -0.5871192276039446,
          -0.6064802546497169,
          -0.5734154074121197,
          -0.5699020015945034,
          0.029954769030796965,
          0.30470080784132936,
          0.3626727400508764,
          -0.2019760137069794,
          -0.16242499982893083,
          -0.23171023064993587,
          -0.24089759119454754,
          -0.19341222240644637,
          -0.19488487227616721,
          -0.8556222120254025,
          -0.8410907901876681,
          -0.183437472578963,
          0.874881657449098,
          0.8946531877530179,
          0.02247111285969397,
          0.04209565102791967,
          -0.06996194830230933,
          -0.056591317597199514,
          -0.00895086760387737,
          -0.04653307409866465,
          -0.05455686397424217,
          -0.5017114686322368,
          -0.518641060200555,
          1,
          0.9732244581143065,
          0.057379303598770866,
          0.052206110448011205,
          0.035520716994915845,
          0.051668100730155764,
          0.0617178479758501,
          0.044543130719242284,
          0.05296089611075171,
          0.12455847233791702,
          0.02906045571634478,
          0.04424926983059967,
          0.04221760964270946,
          0.02316199970847503,
          0.025948658291624793,
          0.038354719562571304,
          0.061321053641733785,
          0.03219278187344018,
          0.030030690307780602,
          0.05167935923112888,
          0.06387396726476834,
          0.7994904654117551,
          0.7419062093658638,
          0.8087458401095561,
          0.8557025367408652,
          0.05900785634350229,
          0.06372455829418262,
          0.06446578980483612,
          0.05125391663732393,
          0.07386306390893059,
          0.06882186507966723,
          0.06667255485155854,
          0.0640481455889888,
          0.030192688386252445,
          0.015405938830662207,
          0.08332396253443919,
          0.11194464052597483,
          0.09723806063632065,
          0.013787095809808705,
          -0.5978342599774699,
          -0.5785584073353923,
          -0.0995761117282218,
          -0.02896348654522598,
          0.23065037463830892,
          0.21582683510219994,
          0.2140346646224126,
          0.08825571190945383,
          0.05167761610956777,
          0.017232177533891113,
          0.027369000837700084,
          0.019746439310005533,
          0.013561862877167664,
          0.018710274340425378,
          -0.015159286895460984,
          -0.006214060919075264,
          -0.0907198047928281,
          -0.0036638285830947353,
          -0.02511074611479498,
          0.021348718231508915,
          0.07372803158749584,
          0.11932999796805098,
          -0.05271699263032195,
          -0.016005473285937384,
          -0.07751215224600905,
          -0.060175589180662646,
          0.1473676009386884,
          0.16680531094134884,
          0.15920229919148163,
          0.17841163453662576,
          0.10322922363425956,
          -0.0902186788307068,
          0.06477890867944801,
          0.008617803750345656,
          0.03649057175901194,
          0.04047227523908738,
          0.8657876724649953,
          0.8771586114550449,
          -0.48428583471012604,
          -0.44095735335456226,
          -0.47585690860734936,
          -0.10441125521301167,
          -0.11050627900561603,
          -0.1702733722211188,
          -0.15175405359831404,
          0.592919407659453,
          0.5641667598000235,
          -0.6446574664515372,
          -0.6009700064149218,
          -0.3932057700981637,
          -0.5973074691414231,
          -0.5546241193404579,
          -0.5457822868417661,
          -0.328909438133758,
          -0.3309270090531626,
          -0.38852237624220864,
          -0.3621485701345833,
          -0.4028071464366801,
          -0.37525213726228024,
          0.0877252433539372,
          0.1250936896592054,
          0.21166563164756896,
          0.20546922051773506,
          -0.1662445672256571,
          -0.2181452906220364,
          -0.6498260611467502,
          -0.05907147481650622,
          0.1509327756768976,
          0.11137539414352951,
          -0.7508149460898477,
          -0.7645818502586358,
          -0.12908507553413642,
          0.07496641350674887,
          0.09811073802498937,
          -0.059662486437798604,
          0.15248073765888975,
          0.16673395853582915,
          0.041690933292252146,
          0.027909847362291816,
          0.020496433717507954,
          0.03570050267235299,
          0.031901632187148185,
          0.09723148849148923,
          0.17238479067461893,
          0.11052604308753042,
          -0.2260851943644587,
          -0.01863485886815755,
          -0.02610107639278104,
          0.6624435028726612,
          0.6479536912026435,
          0.6345192731197608,
          0.11436319247061712,
          0.054778156576761564,
          0.2745238341092376,
          0.1304274871602375,
          0.11987650421985169,
          -0.25891020494922823,
          0.1714884830798345,
          0.15181066538329663,
          0.16285766484164108,
          0.15107187979363518,
          0.16034064958970123,
          -0.10461718036947543,
          0.6482355946376294,
          -0.5230256748419099,
          -0.5422044766080485,
          -0.4438264012354623,
          -0.40728332759325686,
          -0.43212440104104133,
          -0.4498660274233308,
          -0.4473258088864855,
          0.739877843751382,
          0.7394166058719774,
          0.08327352008089708,
          -0.7762006036420374,
          -0.8268641764555945,
          0.4699236976485905,
          0.46131637999165287,
          0.12128451975148544,
          0.09216181759457787,
          0.13784367824894833,
          -0.025414372932127945,
          -0.39441681905676107,
          -0.53930237897625,
          -0.49895650687094634,
          -0.3727545472411554,
          0.7403380417315673,
          0.7264056123969593,
          0.21142857944956822,
          0.20119736356676776,
          0.14612348160443794,
          0.190481045787516,
          0.8122839519474592,
          0.8179352351875329,
          -0.3169107950521064,
          -0.8285704707212738,
          -0.8705088858702006,
          0.06648535126664927,
          0.05642282583083528,
          0.613065388784225,
          0.6307974473910783,
          -0.33845980278115484,
          -0.3270107999956545,
          0.0034714756308578958,
          0.2330166568479878,
          -0.02796552927250576,
          0.07227703723636165,
          0.3452601084640599,
          0.8006739213087011,
          -0.20299548652734573,
          -0.1946988990964369,
          -0.4907444142759362,
          -0.47390246035273,
          -0.007399593675171274,
          0.8942055136787695
         ],
         "y": [
          0.06319247901098156,
          0.06523585477015666,
          0.059411937578931026,
          0.08280339275165688,
          0.015239463395919447,
          0.020707607128098302,
          0.11534553755356051,
          0.0018143033370756332,
          0.5832405844439728,
          0.5870068815831102,
          0.6150109532216335,
          0.5496760026080553,
          0.622596700969547,
          -0.07981822043970664,
          -0.04006562423413929,
          0.05478655383698464,
          0.07289258617181163,
          0.6428001974573394,
          0.5684133354313915,
          0.6935421047969366,
          0.6803454392082379,
          0.6749068569802253,
          0.07694962231902117,
          0.051360161624448536,
          0.012898367385214769,
          0.032125151958667275,
          0.04753925674074756,
          0.06624050008423835,
          0.055869186232856936,
          0.050798291719111294,
          0.030926752700534445,
          0.061162624672075366,
          0.17991915152867063,
          0.17503076147380572,
          0.12968811222586454,
          0.14716499419886614,
          0.12871455085397457,
          0.1421055486768911,
          0.15194122784034825,
          0.1314163151783485,
          0.13121110058704255,
          0.14381112618235226,
          0.1567765324688131,
          0.13597998017091042,
          0.13391487928818036,
          0.12556233539898562,
          0.16910459129874333,
          0.1457092303249512,
          0.14014337333941168,
          0.15533931394300962,
          0.14670999288989472,
          0.1365571409183694,
          0.12285263473744726,
          0.13616586845651688,
          0.14954794863941687,
          0.4826825516171786,
          0.4960554859944147,
          0.016111406497531542,
          0.01943922284043798,
          0.041844500596673564,
          0.05170308749973495,
          0.02785887501779817,
          0.05844849269653355,
          0.05380542920059269,
          0.03376971547160917,
          0.034361954867391006,
          0.13843322154091828,
          0.08024250352854398,
          0.025486103291545235,
          0.031007177049165956,
          0.034310508589731406,
          0.04715001178458815,
          0.04026545544474317,
          0.5547953828331511,
          0.03485325845381019,
          0.02449080547974953,
          0.03547019880769442,
          0.03675293578193367,
          0.04189826824538741,
          0.016878798504403318,
          -0.012808506474670344,
          0.022597028620224235,
          0.016646922726216835,
          0.044797353804043524,
          0.019637745264321386,
          -0.003629286852666818,
          0.03078782212668624,
          -0.01053013399832651,
          0.013867105482447939,
          0.02686448843901793,
          0.07208164124493636,
          0.027644664186740022,
          0.10133529571902784,
          0.03833200467566781,
          0.12396345172219234,
          0.058304571013040554,
          -0.04313670291908785,
          0.09037289945844768,
          0.1499187997674967,
          0.030967046761183767,
          0.023662195868131664,
          0.011326749686911029,
          0.024691956360039784,
          0.060562243849421854,
          -0.015184046650287686,
          0.010354016717386371,
          0.04516494341131238,
          -0.018399572795810327,
          0.08200571153532862,
          -0.03311958601746846,
          -0.025254029703898704,
          -0.02918817069244344,
          -0.025877116906488973,
          -0.06235440486400408,
          -0.04951886302089961,
          -0.1326141879330346,
          -0.10792905474903265,
          -0.04631437006244878,
          -0.07176514941812688,
          -0.06510033331754936,
          -0.10860124716192386,
          -0.01113046894597532,
          0.6490983986947488,
          0.6398935735082664,
          -0.028627998876265777,
          -0.02973894305855477,
          -0.011021798479961535,
          -0.03640817270818358,
          -0.021883266153543857,
          -0.03282907142684214,
          -0.04181532978128309,
          -0.04141591781324396,
          -0.021719184947849527,
          -0.17098964642989506,
          0.11860534981430924,
          0.14118269013527335,
          0.4271927234083845,
          0.5146292654398777,
          0.35663304261430545,
          0.016877299381226254,
          0.025774608445603794,
          0.018294597713010653,
          -0.010509160939933425,
          -0.024062128675400914,
          0.1602029555449687,
          -0.36245972785218905,
          -0.3630890785305716,
          -0.9190515647916708,
          -0.9199876221189385,
          -0.06857859203412751,
          -0.03387513185051456,
          -0.031482307904742456,
          -0.07160478533476916,
          -0.06650868810521333,
          0.7857356730048684,
          0.8118737369845699,
          -0.06237429026139997,
          -0.05977118966590192,
          0.019579423949201365,
          0.00015984234615206526,
          0.00029598348700220147,
          0.055343590458516626,
          0.06797352635427499,
          -0.007284453597997196,
          0.0291410783850021,
          -0.04891200652158996,
          0.025702062157286484,
          0.009245192588423365,
          0.003341464908629855,
          0.008806188342982607,
          0.021254089073911894,
          0.004161903113501472,
          -0.024536057246514434,
          0.0061149754035917,
          0.056510679734903424,
          0.007531767395388412,
          0.042945063738044145,
          0.29890860776853856,
          0.2698044052045629,
          0.32213507990190676,
          0.32162370028112297,
          -0.018136595586441873,
          0.006396233475824237,
          -0.010092683244049116,
          -0.013130951491286513,
          -0.027114739899880624,
          0.004141447594331741,
          -0.03658772066558728,
          -0.01616254512433649,
          -0.030085742357227503,
          0.0018236666551723337,
          0.01232482248712961,
          0.02925174787337331,
          0.013264870685033976,
          0.00563409428498509,
          -0.07847048797398709,
          -0.05454054773070615,
          -0.13108883256012305,
          -0.0784650568211268,
          0.8933635449132298,
          0.8944380162895363,
          0.856276052371697,
          0.11567837116969039,
          -0.025632995988194535,
          0.09131991431884356,
          0.16296818822164114,
          0.15789752583849637,
          0.17551807275259812,
          -0.20915747468768583,
          0.022380869498685244,
          0.024114674815726177,
          0.020328143964623988,
          0.01820132804210753,
          0.004411351306071464,
          0.012451826275459169,
          -0.021176985729282487,
          0.04364284320130795,
          -0.34356871386408,
          -0.24708661486192482,
          -0.39798427995201574,
          -0.3993811508686878,
          0.016997304923182657,
          -0.002154692345919679,
          0.12907592132500653,
          -0.04872837995224801,
          -0.06635506459826442,
          -0.06894046194564389,
          0.1362360799424783,
          -0.083907763645105,
          -0.15471429953396865,
          0.061441597952245686,
          0.13268180197014343,
          0.1491829461283446,
          -0.4836707216485004,
          -0.4787773947694099,
          -0.4760794654747431,
          0.9252696507074646,
          0.9456261510277402,
          0.5581264073055443,
          0.5564618730426264,
          -0.6969201502001382,
          -0.6571889708898913,
          -0.057274560098787376,
          -0.05343434976649758,
          -0.5193811819053137,
          -0.018580629973310697,
          -0.015677837227325225,
          -0.008205080275390693,
          -0.6506641825593339,
          -0.602673662253744,
          -0.5931508582058601,
          -0.5580485549340581,
          -0.6088891987685549,
          -0.5608710555242618,
          -0.05032673672083707,
          -0.08027018011768565,
          -0.9101841463547861,
          -0.933901901268917,
          -0.12957750438761112,
          -0.17139105733501173,
          0.0014329145350619066,
          0.014644518502113369,
          -0.2140944408226069,
          -0.15010223173221895,
          -0.3426397419783574,
          -0.35643596213870204,
          0.20640505451562616,
          0.02975290141076397,
          0.08160896415583327,
          0.041756604384219756,
          0.059548323510052,
          0.05056714750863779,
          0.2899085123640943,
          0.2912019230095094,
          0.2948165922690749,
          0.2977064113261726,
          0.22486928258249544,
          0.149043777791332,
          -0.09170918839837777,
          -0.08340930889127908,
          0.19827159334734804,
          -0.05730809112513908,
          0.025977183162380305,
          -0.5747862223353014,
          -0.5648726624148792,
          -0.5453684776903076,
          -0.10329505777182506,
          -0.0713119343208115,
          -0.02178337081045947,
          -0.023746255263806137,
          -0.015704242855209875,
          0.03159693717390719,
          -0.734337696613625,
          -0.7001590571564974,
          -0.7461802024515662,
          -0.7377232617796575,
          -0.728975824945138,
          0.5761497949867245,
          -0.5269263299894628,
          0.614963297068465,
          0.6108789767913905,
          -0.5618183176163232,
          -0.5579678452195799,
          -0.7941068629890953,
          -0.8009446847746987,
          -0.599053380319727,
          -0.47795287810176507,
          -0.4973942496268902,
          -0.11387827693732344,
          -0.1598757741306154,
          -0.17329451325506104,
          0.6864129263530362,
          0.6680201256622587,
          -0.029416386135104795,
          0.07357703255562317,
          -0.22274216446247774,
          -0.1046952069326291,
          -0.5752558793089894,
          0.002379649197180163,
          -0.002364891004650718,
          -0.5930704273857378,
          -0.3104168314646602,
          -0.3245998767842672,
          0.18729487721951935,
          0.19555063627600575,
          0.08461555236711378,
          -0.8935432935861406,
          0.23654182252428027,
          0.21645057443731983,
          0.03978258023829225,
          0.13606170018357794,
          0.14128153837636986,
          -0.10392237069397221,
          -0.08667362641308393,
          0.5727331348191692,
          0.5906044729226628,
          -0.5787457419835854,
          -0.6219215201636549,
          0.01590469147723787,
          -0.09277982169283013,
          -0.1583348065910387,
          0.20121018494883933,
          -0.03334238447830543,
          0.19813734630726085,
          -0.9209972852620539,
          -0.8739647841564553,
          -0.7357788955043694,
          -0.7178109033736942,
          0.24709306433628725,
          0.3357528875781171
         ]
        }
       ],
       "layout": {
        "annotations": [
         {
          "showarrow": false,
          "text": "",
          "xref": "paper",
          "yref": "paper"
         }
        ],
        "height": 1400,
        "hovermode": "closest",
        "margin": {
         "b": 20,
         "l": 5,
         "r": 5,
         "t": 40
        },
        "showlegend": false,
        "template": {
         "data": {
          "bar": [
           {
            "error_x": {
             "color": "#2a3f5f"
            },
            "error_y": {
             "color": "#2a3f5f"
            },
            "marker": {
             "line": {
              "color": "#E5ECF6",
              "width": 0.5
             },
             "pattern": {
              "fillmode": "overlay",
              "size": 10,
              "solidity": 0.2
             }
            },
            "type": "bar"
           }
          ],
          "barpolar": [
           {
            "marker": {
             "line": {
              "color": "#E5ECF6",
              "width": 0.5
             },
             "pattern": {
              "fillmode": "overlay",
              "size": 10,
              "solidity": 0.2
             }
            },
            "type": "barpolar"
           }
          ],
          "carpet": [
           {
            "aaxis": {
             "endlinecolor": "#2a3f5f",
             "gridcolor": "white",
             "linecolor": "white",
             "minorgridcolor": "white",
             "startlinecolor": "#2a3f5f"
            },
            "baxis": {
             "endlinecolor": "#2a3f5f",
             "gridcolor": "white",
             "linecolor": "white",
             "minorgridcolor": "white",
             "startlinecolor": "#2a3f5f"
            },
            "type": "carpet"
           }
          ],
          "choropleth": [
           {
            "colorbar": {
             "outlinewidth": 0,
             "ticks": ""
            },
            "type": "choropleth"
           }
          ],
          "contour": [
           {
            "colorbar": {
             "outlinewidth": 0,
             "ticks": ""
            },
            "colorscale": [
             [
              0,
              "#0d0887"
             ],
             [
              0.1111111111111111,
              "#46039f"
             ],
             [
              0.2222222222222222,
              "#7201a8"
             ],
             [
              0.3333333333333333,
              "#9c179e"
             ],
             [
              0.4444444444444444,
              "#bd3786"
             ],
             [
              0.5555555555555556,
              "#d8576b"
             ],
             [
              0.6666666666666666,
              "#ed7953"
             ],
             [
              0.7777777777777778,
              "#fb9f3a"
             ],
             [
              0.8888888888888888,
              "#fdca26"
             ],
             [
              1,
              "#f0f921"
             ]
            ],
            "type": "contour"
           }
          ],
          "contourcarpet": [
           {
            "colorbar": {
             "outlinewidth": 0,
             "ticks": ""
            },
            "type": "contourcarpet"
           }
          ],
          "heatmap": [
           {
            "colorbar": {
             "outlinewidth": 0,
             "ticks": ""
            },
            "colorscale": [
             [
              0,
              "#0d0887"
             ],
             [
              0.1111111111111111,
              "#46039f"
             ],
             [
              0.2222222222222222,
              "#7201a8"
             ],
             [
              0.3333333333333333,
              "#9c179e"
             ],
             [
              0.4444444444444444,
              "#bd3786"
             ],
             [
              0.5555555555555556,
              "#d8576b"
             ],
             [
              0.6666666666666666,
              "#ed7953"
             ],
             [
              0.7777777777777778,
              "#fb9f3a"
             ],
             [
              0.8888888888888888,
              "#fdca26"
             ],
             [
              1,
              "#f0f921"
             ]
            ],
            "type": "heatmap"
           }
          ],
          "heatmapgl": [
           {
            "colorbar": {
             "outlinewidth": 0,
             "ticks": ""
            },
            "colorscale": [
             [
              0,
              "#0d0887"
             ],
             [
              0.1111111111111111,
              "#46039f"
             ],
             [
              0.2222222222222222,
              "#7201a8"
             ],
             [
              0.3333333333333333,
              "#9c179e"
             ],
             [
              0.4444444444444444,
              "#bd3786"
             ],
             [
              0.5555555555555556,
              "#d8576b"
             ],
             [
              0.6666666666666666,
              "#ed7953"
             ],
             [
              0.7777777777777778,
              "#fb9f3a"
             ],
             [
              0.8888888888888888,
              "#fdca26"
             ],
             [
              1,
              "#f0f921"
             ]
            ],
            "type": "heatmapgl"
           }
          ],
          "histogram": [
           {
            "marker": {
             "pattern": {
              "fillmode": "overlay",
              "size": 10,
              "solidity": 0.2
             }
            },
            "type": "histogram"
           }
          ],
          "histogram2d": [
           {
            "colorbar": {
             "outlinewidth": 0,
             "ticks": ""
            },
            "colorscale": [
             [
              0,
              "#0d0887"
             ],
             [
              0.1111111111111111,
              "#46039f"
             ],
             [
              0.2222222222222222,
              "#7201a8"
             ],
             [
              0.3333333333333333,
              "#9c179e"
             ],
             [
              0.4444444444444444,
              "#bd3786"
             ],
             [
              0.5555555555555556,
              "#d8576b"
             ],
             [
              0.6666666666666666,
              "#ed7953"
             ],
             [
              0.7777777777777778,
              "#fb9f3a"
             ],
             [
              0.8888888888888888,
              "#fdca26"
             ],
             [
              1,
              "#f0f921"
             ]
            ],
            "type": "histogram2d"
           }
          ],
          "histogram2dcontour": [
           {
            "colorbar": {
             "outlinewidth": 0,
             "ticks": ""
            },
            "colorscale": [
             [
              0,
              "#0d0887"
             ],
             [
              0.1111111111111111,
              "#46039f"
             ],
             [
              0.2222222222222222,
              "#7201a8"
             ],
             [
              0.3333333333333333,
              "#9c179e"
             ],
             [
              0.4444444444444444,
              "#bd3786"
             ],
             [
              0.5555555555555556,
              "#d8576b"
             ],
             [
              0.6666666666666666,
              "#ed7953"
             ],
             [
              0.7777777777777778,
              "#fb9f3a"
             ],
             [
              0.8888888888888888,
              "#fdca26"
             ],
             [
              1,
              "#f0f921"
             ]
            ],
            "type": "histogram2dcontour"
           }
          ],
          "mesh3d": [
           {
            "colorbar": {
             "outlinewidth": 0,
             "ticks": ""
            },
            "type": "mesh3d"
           }
          ],
          "parcoords": [
           {
            "line": {
             "colorbar": {
              "outlinewidth": 0,
              "ticks": ""
             }
            },
            "type": "parcoords"
           }
          ],
          "pie": [
           {
            "automargin": true,
            "type": "pie"
           }
          ],
          "scatter": [
           {
            "fillpattern": {
             "fillmode": "overlay",
             "size": 10,
             "solidity": 0.2
            },
            "type": "scatter"
           }
          ],
          "scatter3d": [
           {
            "line": {
             "colorbar": {
              "outlinewidth": 0,
              "ticks": ""
             }
            },
            "marker": {
             "colorbar": {
              "outlinewidth": 0,
              "ticks": ""
             }
            },
            "type": "scatter3d"
           }
          ],
          "scattercarpet": [
           {
            "marker": {
             "colorbar": {
              "outlinewidth": 0,
              "ticks": ""
             }
            },
            "type": "scattercarpet"
           }
          ],
          "scattergeo": [
           {
            "marker": {
             "colorbar": {
              "outlinewidth": 0,
              "ticks": ""
             }
            },
            "type": "scattergeo"
           }
          ],
          "scattergl": [
           {
            "marker": {
             "colorbar": {
              "outlinewidth": 0,
              "ticks": ""
             }
            },
            "type": "scattergl"
           }
          ],
          "scattermapbox": [
           {
            "marker": {
             "colorbar": {
              "outlinewidth": 0,
              "ticks": ""
             }
            },
            "type": "scattermapbox"
           }
          ],
          "scatterpolar": [
           {
            "marker": {
             "colorbar": {
              "outlinewidth": 0,
              "ticks": ""
             }
            },
            "type": "scatterpolar"
           }
          ],
          "scatterpolargl": [
           {
            "marker": {
             "colorbar": {
              "outlinewidth": 0,
              "ticks": ""
             }
            },
            "type": "scatterpolargl"
           }
          ],
          "scatterternary": [
           {
            "marker": {
             "colorbar": {
              "outlinewidth": 0,
              "ticks": ""
             }
            },
            "type": "scatterternary"
           }
          ],
          "surface": [
           {
            "colorbar": {
             "outlinewidth": 0,
             "ticks": ""
            },
            "colorscale": [
             [
              0,
              "#0d0887"
             ],
             [
              0.1111111111111111,
              "#46039f"
             ],
             [
              0.2222222222222222,
              "#7201a8"
             ],
             [
              0.3333333333333333,
              "#9c179e"
             ],
             [
              0.4444444444444444,
              "#bd3786"
             ],
             [
              0.5555555555555556,
              "#d8576b"
             ],
             [
              0.6666666666666666,
              "#ed7953"
             ],
             [
              0.7777777777777778,
              "#fb9f3a"
             ],
             [
              0.8888888888888888,
              "#fdca26"
             ],
             [
              1,
              "#f0f921"
             ]
            ],
            "type": "surface"
           }
          ],
          "table": [
           {
            "cells": {
             "fill": {
              "color": "#EBF0F8"
             },
             "line": {
              "color": "white"
             }
            },
            "header": {
             "fill": {
              "color": "#C8D4E3"
             },
             "line": {
              "color": "white"
             }
            },
            "type": "table"
           }
          ]
         },
         "layout": {
          "annotationdefaults": {
           "arrowcolor": "#2a3f5f",
           "arrowhead": 0,
           "arrowwidth": 1
          },
          "autotypenumbers": "strict",
          "coloraxis": {
           "colorbar": {
            "outlinewidth": 0,
            "ticks": ""
           }
          },
          "colorscale": {
           "diverging": [
            [
             0,
             "#8e0152"
            ],
            [
             0.1,
             "#c51b7d"
            ],
            [
             0.2,
             "#de77ae"
            ],
            [
             0.3,
             "#f1b6da"
            ],
            [
             0.4,
             "#fde0ef"
            ],
            [
             0.5,
             "#f7f7f7"
            ],
            [
             0.6,
             "#e6f5d0"
            ],
            [
             0.7,
             "#b8e186"
            ],
            [
             0.8,
             "#7fbc41"
            ],
            [
             0.9,
             "#4d9221"
            ],
            [
             1,
             "#276419"
            ]
           ],
           "sequential": [
            [
             0,
             "#0d0887"
            ],
            [
             0.1111111111111111,
             "#46039f"
            ],
            [
             0.2222222222222222,
             "#7201a8"
            ],
            [
             0.3333333333333333,
             "#9c179e"
            ],
            [
             0.4444444444444444,
             "#bd3786"
            ],
            [
             0.5555555555555556,
             "#d8576b"
            ],
            [
             0.6666666666666666,
             "#ed7953"
            ],
            [
             0.7777777777777778,
             "#fb9f3a"
            ],
            [
             0.8888888888888888,
             "#fdca26"
            ],
            [
             1,
             "#f0f921"
            ]
           ],
           "sequentialminus": [
            [
             0,
             "#0d0887"
            ],
            [
             0.1111111111111111,
             "#46039f"
            ],
            [
             0.2222222222222222,
             "#7201a8"
            ],
            [
             0.3333333333333333,
             "#9c179e"
            ],
            [
             0.4444444444444444,
             "#bd3786"
            ],
            [
             0.5555555555555556,
             "#d8576b"
            ],
            [
             0.6666666666666666,
             "#ed7953"
            ],
            [
             0.7777777777777778,
             "#fb9f3a"
            ],
            [
             0.8888888888888888,
             "#fdca26"
            ],
            [
             1,
             "#f0f921"
            ]
           ]
          },
          "colorway": [
           "#636efa",
           "#EF553B",
           "#00cc96",
           "#ab63fa",
           "#FFA15A",
           "#19d3f3",
           "#FF6692",
           "#B6E880",
           "#FF97FF",
           "#FECB52"
          ],
          "font": {
           "color": "#2a3f5f"
          },
          "geo": {
           "bgcolor": "white",
           "lakecolor": "white",
           "landcolor": "#E5ECF6",
           "showlakes": true,
           "showland": true,
           "subunitcolor": "white"
          },
          "hoverlabel": {
           "align": "left"
          },
          "hovermode": "closest",
          "mapbox": {
           "style": "light"
          },
          "paper_bgcolor": "white",
          "plot_bgcolor": "#E5ECF6",
          "polar": {
           "angularaxis": {
            "gridcolor": "white",
            "linecolor": "white",
            "ticks": ""
           },
           "bgcolor": "#E5ECF6",
           "radialaxis": {
            "gridcolor": "white",
            "linecolor": "white",
            "ticks": ""
           }
          },
          "scene": {
           "xaxis": {
            "backgroundcolor": "#E5ECF6",
            "gridcolor": "white",
            "gridwidth": 2,
            "linecolor": "white",
            "showbackground": true,
            "ticks": "",
            "zerolinecolor": "white"
           },
           "yaxis": {
            "backgroundcolor": "#E5ECF6",
            "gridcolor": "white",
            "gridwidth": 2,
            "linecolor": "white",
            "showbackground": true,
            "ticks": "",
            "zerolinecolor": "white"
           },
           "zaxis": {
            "backgroundcolor": "#E5ECF6",
            "gridcolor": "white",
            "gridwidth": 2,
            "linecolor": "white",
            "showbackground": true,
            "ticks": "",
            "zerolinecolor": "white"
           }
          },
          "shapedefaults": {
           "line": {
            "color": "#2a3f5f"
           }
          },
          "ternary": {
           "aaxis": {
            "gridcolor": "white",
            "linecolor": "white",
            "ticks": ""
           },
           "baxis": {
            "gridcolor": "white",
            "linecolor": "white",
            "ticks": ""
           },
           "bgcolor": "#E5ECF6",
           "caxis": {
            "gridcolor": "white",
            "linecolor": "white",
            "ticks": ""
           }
          },
          "title": {
           "x": 0.05
          },
          "xaxis": {
           "automargin": true,
           "gridcolor": "white",
           "linecolor": "white",
           "ticks": "",
           "title": {
            "standoff": 15
           },
           "zerolinecolor": "white",
           "zerolinewidth": 2
          },
          "yaxis": {
           "automargin": true,
           "gridcolor": "white",
           "linecolor": "white",
           "ticks": "",
           "title": {
            "standoff": 15
           },
           "zerolinecolor": "white",
           "zerolinewidth": 2
          }
         }
        },
        "title": {
         "font": {
          "size": 16
         },
         "text": "Average Stock Correlation Network (Selected S&P 500 Tickers)"
        },
        "width": 1800,
        "xaxis": {
         "showgrid": false,
         "zeroline": false
        },
        "yaxis": {
         "showgrid": false,
         "zeroline": false
        }
       }
      }
     },
     "metadata": {},
     "output_type": "display_data"
    }
   ],
   "source": [
    "# Create Interactive Network Graph for the Average Correlation Matrix using Plotly\n",
    "def plot_avg_corr_network(correlations, threshold=0.7):\n",
    "    # Filter out rows and columns with NaN values\n",
    "    correlations = correlations.dropna(axis=0, how='any').dropna(axis=1, how='any')\n",
    "    correlations = correlations.applymap(lambda x: x if x > 0 else 0)\n",
    "\n",
    "    G = nx.Graph()\n",
    "    \n",
    "    # Add nodes and edges with weights\n",
    "    for i in correlations.columns:\n",
    "        for j in correlations.columns:\n",
    "            if i != j and correlations.loc[i, j] > threshold:\n",
    "                G.add_edge(i, j, weight=correlations.loc[i, j])\n",
    "    \n",
    "    pos = nx.spring_layout(G)\n",
    "    \n",
    "    # Clustering\n",
    "    clustering = SpectralClustering(n_clusters=10, affinity='precomputed', assign_labels='discretize').fit(correlations)\n",
    "    labels = clustering.labels_\n",
    "    \n",
    "    # Create edge traces\n",
    "    edge_traces = []\n",
    "    for edge in G.edges(data=True):\n",
    "        x0, y0 = pos[edge[0]]\n",
    "        x1, y1 = pos[edge[1]]\n",
    "        trace = go.Scatter(\n",
    "            x=[x0, x1, None], y=[y0, y1, None],\n",
    "            line=dict(width=edge[2]['weight']*5, color='#888'),\n",
    "            hoverinfo='none',\n",
    "            mode='lines')\n",
    "        edge_traces.append(trace)\n",
    "\n",
    "    node_x = []\n",
    "    node_y = []\n",
    "    node_color = []\n",
    "    for i, node in enumerate(G.nodes()):\n",
    "        x, y = pos[node]\n",
    "        node_x.append(x)\n",
    "        node_y.append(y)\n",
    "        node_color.append(labels[i])\n",
    "\n",
    "    node_trace = go.Scatter(\n",
    "        x=node_x, y=node_y,\n",
    "        mode='markers+text',\n",
    "        text=[node for node in G.nodes()],\n",
    "        textposition=\"bottom center\",\n",
    "        hoverinfo='text',\n",
    "        marker=dict(\n",
    "            showscale=True,\n",
    "            colorscale='YlGnBu',\n",
    "            size=10,\n",
    "            color=node_color,\n",
    "            colorbar=dict(\n",
    "                thickness=15,\n",
    "                title='Cluster Group',\n",
    "                xanchor='left',\n",
    "                titleside='right'\n",
    "            ),\n",
    "            line_width=2))\n",
    "\n",
    "    node_adjacencies = []\n",
    "    node_text = []\n",
    "    for node, adjacencies in enumerate(G.adjacency()):\n",
    "        node_adjacencies.append(len(adjacencies[1]))\n",
    "        node_text.append(f'{adjacencies[0]}')\n",
    "\n",
    "    node_trace.marker.color = node_adjacencies\n",
    "    node_trace.text = node_text\n",
    "\n",
    "    fig = go.Figure(data=edge_traces + [node_trace],\n",
    "                    layout=go.Layout(\n",
    "                        title='Average Stock Correlation Network (Selected S&P 500 Tickers)',\n",
    "                        titlefont_size=16,\n",
    "                        width=1800,\n",
    "                        height=1400,\n",
    "                        showlegend=False,\n",
    "                        hovermode='closest',\n",
    "                        margin=dict(b=20,l=5,r=5,t=40),\n",
    "                        annotations=[dict(\n",
    "                            text=\"\",\n",
    "                            showarrow=False,\n",
    "                            xref=\"paper\", yref=\"paper\")],\n",
    "                        xaxis=dict(showgrid=False, zeroline=False),\n",
    "                        yaxis=dict(showgrid=False, zeroline=False))\n",
    "                    )\n",
    "    fig.show()\n",
    "\n",
    "# Plot network for the average correlation matrix\n",
    "plot_avg_corr_network(avg_corr)"
   ]
  }
 ],
 "metadata": {
  "kernelspec": {
   "display_name": "Python 3",
   "language": "python",
   "name": "python3"
  },
  "language_info": {
   "codemirror_mode": {
    "name": "ipython",
    "version": 3
   },
   "file_extension": ".py",
   "mimetype": "text/x-python",
   "name": "python",
   "nbconvert_exporter": "python",
   "pygments_lexer": "ipython3",
   "version": "3.12.0"
  }
 },
 "nbformat": 4,
 "nbformat_minor": 2
}
